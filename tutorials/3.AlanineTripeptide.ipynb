{
 "cells": [
  {
   "cell_type": "code",
   "execution_count": 1,
   "id": "be6c3270-9ef4-4ffa-83a8-ddee1d664b59",
   "metadata": {},
   "outputs": [
    {
     "data": {
      "application/vnd.jupyter.widget-view+json": {
       "model_id": "7e50667ed74442da9515b22104448166",
       "version_major": 2,
       "version_minor": 0
      },
      "text/plain": []
     },
     "metadata": {},
     "output_type": "display_data"
    }
   ],
   "source": [
    "from crimm.Modeller import TopologyGenerator\n",
    "from crimm.Modeller.SeqChainGenerator import SeqChainGenerator\n",
    "from crimm.Modeller.TopoFixer import fix_chain\n",
    "from crimm.Visualization import View, show_nglview_multiple"
   ]
  },
  {
   "cell_type": "markdown",
   "id": "b6c1b2d1-bc9c-4070-98bd-0973056316cb",
   "metadata": {},
   "source": [
    "We define a function to show licorice since the default rendering is \"cartoon\" and does not show the side chains."
   ]
  },
  {
   "cell_type": "code",
   "execution_count": 2,
   "id": "6c19cc9d-e7a0-420d-8b70-7d5b80e80e79",
   "metadata": {},
   "outputs": [],
   "source": [
    "def show_licorice(chain):\n",
    "    view = View()\n",
    "    view.load_entity(chain)\n",
    "    view.clear_representations()\n",
    "    view.add_representation('licorice')\n",
    "    return view\n",
    "\n",
    "def show_licorice_multiple(chains):\n",
    "    view = View()\n",
    "    for chain in chains:\n",
    "        component = view.load_entity(chain)[0]\n",
    "        view.clear_representations(component = component._index)\n",
    "        view.add_representation('licorice', component = component._index)\n",
    "    return view"
   ]
  },
  {
   "cell_type": "markdown",
   "id": "0ed8d95f-01f0-4d7a-a682-65dd5e77f3fd",
   "metadata": {},
   "source": [
    "## Generate a Chain Object from Sequence\n",
    "The `SeqChainGenerator` class is used to construct RNA and polypeptide chain from sequences. The chain will be constructed from the *internal coordinate* (ic) definitions from **CHARMM36** residue topology files (rtf)."
   ]
  },
  {
   "cell_type": "code",
   "execution_count": 3,
   "id": "c0c06d91-d06e-42cf-8194-4e86b73eb297",
   "metadata": {},
   "outputs": [],
   "source": [
    "generator = SeqChainGenerator()"
   ]
  },
  {
   "cell_type": "markdown",
   "id": "9e21ece6-eb0c-43f6-9e85-92b3442d109a",
   "metadata": {},
   "source": [
    "### Chain from One-letter Sequences for a Short RNA\n",
    "\n",
    "The `chain_type` parameter is needed to identify the correct rtf. And of course, protein one-letter sequence is also accepted"
   ]
  },
  {
   "cell_type": "code",
   "execution_count": 4,
   "id": "31ae75a7-f6fc-49ec-9e6f-004747b1ec23",
   "metadata": {},
   "outputs": [
    {
     "data": {
      "application/vnd.jupyter.widget-view+json": {
       "model_id": "00dcca7466034f60824c9d5302fe06d4",
       "version_major": 2,
       "version_minor": 0
      },
      "text/plain": [
       "NGLWidget()"
      ]
     },
     "metadata": {},
     "output_type": "display_data"
    },
    {
     "name": "stdout",
     "output_type": "stream",
     "text": [
      "<Polyribonucleotide id=A Residues=9>\n"
     ]
    }
   ],
   "source": [
    "# chain_type is not case sensitive. RNA or polyribonucleotide can also be accepted\n",
    "generator.set_sequence('CUCGAAUCA', chain_type = 'rna') \n",
    "rna_chain = generator.create_chain()\n",
    "rna_chain"
   ]
  },
  {
   "cell_type": "code",
   "execution_count": 5,
   "id": "47e79f38-5500-464d-8683-6b3581f107b5",
   "metadata": {},
   "outputs": [
    {
     "data": {
      "application/vnd.jupyter.widget-view+json": {
       "model_id": "a80977cf55234311b2f46e81cfdaadce",
       "version_major": 2,
       "version_minor": 0
      },
      "text/plain": [
       "View()"
      ]
     },
     "metadata": {},
     "output_type": "display_data"
    }
   ],
   "source": [
    "show_licorice(rna_chain)"
   ]
  },
  {
   "cell_type": "markdown",
   "id": "ea315259-fba1-4383-b08a-e94dd99216c7",
   "metadata": {},
   "source": [
    "### Chain from Three-letter Sequece for ADA Tripeptide\n",
    "\n",
    "The residue names in the three-letter sequences need to be separated by white spaces."
   ]
  },
  {
   "cell_type": "code",
   "execution_count": 6,
   "id": "6f535b19-e5ba-4839-a7e4-4311ae252be1",
   "metadata": {},
   "outputs": [
    {
     "data": {
      "application/vnd.jupyter.widget-view+json": {
       "model_id": "83ce51d7a2844facb724d0c6c6ce6267",
       "version_major": 2,
       "version_minor": 0
      },
      "text/plain": [
       "NGLWidget()"
      ]
     },
     "metadata": {},
     "output_type": "display_data"
    },
    {
     "name": "stdout",
     "output_type": "stream",
     "text": [
      "<Polypeptide(L) id=A Residues=2>\n"
     ]
    }
   ],
   "source": [
    "# Protein or Polypeptide(L) is also accepted\n",
    "# Since we will patch the chain to make ALA ADA ALA tripeptide, we start with only two residues here\n",
    "generator.set_three_letter_sequence('ASP ALA', chain_type = 'polypeptide')\n",
    "peptide_chain = generator.create_chain()\n",
    "peptide_chain"
   ]
  },
  {
   "cell_type": "code",
   "execution_count": 7,
   "id": "bd4f8513-fe1d-48a5-9d97-9edd01dceb8d",
   "metadata": {},
   "outputs": [
    {
     "data": {
      "application/vnd.jupyter.widget-view+json": {
       "model_id": "26f27f05f70b4854b6af78c5e46f0689",
       "version_major": 2,
       "version_minor": 0
      },
      "text/plain": [
       "View()"
      ]
     },
     "metadata": {},
     "output_type": "display_data"
    }
   ],
   "source": [
    "show_licorice(peptide_chain)"
   ]
  },
  {
   "cell_type": "markdown",
   "id": "7ed4f631-2c85-416d-bd56-013199afc932",
   "metadata": {},
   "source": [
    "## Minimize the Structure\n",
    "\n",
    "We can load the constructed chain into pyCHARMM by `load_chain` function in `crimm.Adaptors.pyCHARMMAdaptors`. Once it's loaded, all pyCHARMM functions can be called and applied to the loaded chain, just like it was loaded from pdb and psf files."
   ]
  },
  {
   "cell_type": "code",
   "execution_count": 8,
   "id": "fd0b3859-a31e-4a37-a505-9d29dc8199e4",
   "metadata": {},
   "outputs": [],
   "source": [
    "from crimm.Adaptors.pyCHARMMAdaptors import load_chain, load_topology\n",
    "from crimm.Adaptors.pyCHARMMAdaptors import minimize, sync_coords, empty_charmm\n",
    "from pycharmm.psf import delete_atoms, get_natom\n",
    "from pycharmm.settings import set_verbosity"
   ]
  },
  {
   "cell_type": "markdown",
   "id": "3c80fb3a-53ff-44c9-a018-86fc54af3ca1",
   "metadata": {},
   "source": [
    "## Generate the Topology and Apply Parameters from crimm\n",
    "\n",
    "Before we can load the chain, the **topology** and **parameter** definitions need to be generated on the chain we just constructed. Currently, we still need to specify the `chain_type` for our chain, but it will become automated soon. The generation routine will be simplified very soon."
   ]
  },
  {
   "cell_type": "markdown",
   "id": "9b0a9335-2d87-48a6-b8f0-045516d56720",
   "metadata": {},
   "source": [
    "Here, we make a copy of the original chain for the structure comparison purposes"
   ]
  },
  {
   "cell_type": "code",
   "execution_count": 9,
   "id": "b72ff640-964f-40b4-bc2d-01d6af7c0873",
   "metadata": {},
   "outputs": [],
   "source": [
    "minimized_chain = peptide_chain.copy()"
   ]
  },
  {
   "cell_type": "markdown",
   "id": "a375818f-4f72-44eb-a73e-0d0d69d46dba",
   "metadata": {},
   "source": [
    "Currently, default terminal patches have not been implemented (since they need to be looked up from rtf files for different residues). We still need to specify patches when we generate the topology"
   ]
  },
  {
   "cell_type": "code",
   "execution_count": 10,
   "id": "f6caa78d-a6da-4a9d-9250-78b682584e6f",
   "metadata": {},
   "outputs": [
    {
     "name": "stderr",
     "output_type": "stream",
     "text": [
      "/home/truman/crimm/crimm/Modeller/TopoLoader.py:537: UserWarning: No cmap found in <Polypeptide(L) id=A Residues=2>.\n",
      "  warnings.warn(\n"
     ]
    },
    {
     "data": {
      "text/plain": [
       "<TopologyElementContainer for <Polypeptide(L) id=A Residues=2> with bonds=33, angles=57, dihedrals=72, impropers=7, cmap=0>"
      ]
     },
     "execution_count": 10,
     "metadata": {},
     "output_type": "execute_result"
    }
   ],
   "source": [
    "topo = TopologyGenerator()\n",
    "topo.generate(minimized_chain, first_patch='ACE', last_patch='CT3')"
   ]
  },
  {
   "cell_type": "markdown",
   "id": "7bcbf306-3037-4fc6-b6a4-b15022e1ede8",
   "metadata": {},
   "source": [
    "Here, again we need to fill the ic table, since we just generated new residue definition with terminal patches, and these patch definitions' ic need to be filled from parameter files."
   ]
  },
  {
   "cell_type": "code",
   "execution_count": 11,
   "id": "4a68e288-b925-40dc-a1d3-6c90b20363ce",
   "metadata": {},
   "outputs": [],
   "source": [
    "fixed_atoms = fix_chain(minimized_chain)"
   ]
  },
  {
   "cell_type": "code",
   "execution_count": 12,
   "id": "17bc1a5d-44b4-4521-95ad-8b92f382ff96",
   "metadata": {},
   "outputs": [
    {
     "data": {
      "application/vnd.jupyter.widget-view+json": {
       "model_id": "a4137c6422a640bdb76977822e790283",
       "version_major": 2,
       "version_minor": 0
      },
      "text/plain": [
       "NGLWidget()"
      ]
     },
     "metadata": {},
     "output_type": "display_data"
    },
    {
     "name": "stdout",
     "output_type": "stream",
     "text": [
      "<Polypeptide(L) id=A Residues=2>\n"
     ]
    }
   ],
   "source": [
    "minimized_chain"
   ]
  },
  {
   "cell_type": "markdown",
   "id": "47bc0aed-7672-4d2e-af66-4ae432c0f72d",
   "metadata": {},
   "source": [
    "### Load Parameter and Topology Files\n",
    "Before we can load the chain, the correct rtf and parameter files have to be loaded. We have utility function `load_topology` and `load_parameters` in the `pyCHARMMAdaptors` to help load the rtf and prm files correctly."
   ]
  },
  {
   "cell_type": "code",
   "execution_count": 13,
   "id": "81a26171-8fca-4203-973d-8b27d2f0dda9",
   "metadata": {
    "tags": []
   },
   "outputs": [
    {
     "name": "stdout",
     "output_type": "stream",
     "text": [
      "  \n",
      " CHARMM>     read rtf card -\n",
      " CHARMM>     name /tmp/tmpeazqn18j\n",
      " VOPEN> Attempting to open::/tmp/tmpeazqn18j::\n",
      " MAINIO> Residue topology file being read from unit  91.\n",
      " TITLE> *RTF LOADED FROM CRIMM\n",
      " TITLE> 36  2\n",
      " VCLOSE: Closing unit   91 with status \"KEEP\"\n",
      "  \n",
      " CHARMM>     \n",
      "  \n",
      "  \n",
      " CHARMM>     read param card -\n",
      " CHARMM>     name /tmp/tmprm2pijvc -\n",
      " CHARMM>     flex\n",
      " VOPEN> Attempting to open::/tmp/tmprm2pijvc::\n",
      "\n",
      "          PARAMETER FILE BEING READ FROM UNIT 91\n",
      " TITLE> *PRM LOADED FROM CRIMM\n",
      " TITLE> *>>>> CHARMM36 ALL-HYDROGEN PARAMETER FILE FOR PROTEINS <<<<<<<<<<\n",
      " TITLE> *>>>>> INCLUDES PHI, PSI CROSS TERM MAP (CMAP) CORRECTION <<<<<<<<\n",
      " TITLE> *>>>>>>>>>>>>>>>>>>>>>>>>>> JAN. 2016 <<<<<<<<<<<<<<<<<<<<<<<<<<<<\n",
      " TITLE> * ALL COMMENTS TO THE CHARMM WEB SITE: WWW.CHARMM.ORG\n",
      " TITLE> *             PARAMETER SET DISCUSSION FORUM\n",
      " TITLE> *\n",
      " PARMIO> NONBOND, HBOND lists and IMAGE atoms cleared.\n",
      " VCLOSE: Closing unit   91 with status \"KEEP\"\n",
      "  \n",
      " CHARMM>     \n",
      "  \n"
     ]
    }
   ],
   "source": [
    "load_topology(topo)"
   ]
  },
  {
   "cell_type": "markdown",
   "id": "fdb223cb-c57d-4596-ab0c-c05fe4390b5d",
   "metadata": {},
   "source": [
    "A wrapper function to delete all atoms in pyCHARMM. If there is no atom exists, an error will be raised."
   ]
  },
  {
   "cell_type": "code",
   "execution_count": 14,
   "id": "b440c5d2-b524-4d8c-8fb4-a8e319abca9e",
   "metadata": {
    "tags": []
   },
   "outputs": [
    {
     "name": "stdout",
     "output_type": "stream",
     "text": [
      "  \n",
      " CHARMM>     read sequence pdb -\n",
      " CHARMM>     name /tmp/tmp4agrceav\n",
      " VOPEN> Attempting to open::/tmp/tmp4agrceav::\n",
      " MAINIO> Sequence information being read from unit  91.\n",
      " TITLE>  *\n",
      "\n",
      "          RESIDUE SEQUENCE --     2 RESIDUES\n",
      "          ASP ALA \n",
      " ***** Message from SEQRDR ***** THE SYSTEM CONTAINS  1 TITRATABLE GROUPS\n",
      " THE USER MUST PREDETERMINE THE PROTONATION STATE THROUGH THE SEQUENCE AND RTF\n",
      " HIS -  0  HSD -  0  HSE -  0  HSP -  0  ASP -  1  GLU -  0  LYS -  0  TYR -  0\n",
      " VCLOSE: Closing unit   91 with status \"KEEP\"\n",
      "  \n",
      " CHARMM>     \n",
      "  \n",
      " THE PATCH 'ACE' WILL BE USED FOR THE FIRST RESIDUE\n",
      " THE PATCH 'CT3' WILL BE USED FOR THE LAST  RESIDUE\n",
      " AUTGEN: Autogenerating specified angles and dihedrals.\n",
      " GENPSF> Segment   1 has been generated. Its identifier is PROA.\n",
      " PSFSUM> PSF modified: NONBOND lists and IMAGE atoms cleared.\n",
      " PSFSUM> Summary of the structure file counters :\n",
      "         Number of segments      =        1   Number of residues   =        2\n",
      "         Number of atoms         =       34   Number of groups     =        9\n",
      "         Number of bonds         =       33   Number of angles     =       57\n",
      "         Number of dihedrals     =       72   Number of impropers  =        7\n",
      "         Number of cross-terms   =        2   Number of autogens   =        0\n",
      "         Number of HB acceptors  =        5   Number of HB donors  =        3\n",
      "         Number of NB exclusions =        0   Total charge =   -1.00000\n",
      "  \n",
      " CHARMM>     read coor pdb -\n",
      " CHARMM>     name /tmp/tmp4agrceav -\n",
      " CHARMM>     resi\n",
      " VOPEN> Attempting to open::/tmp/tmp4agrceav::\n",
      "  read CHARMM-pdb format\n",
      "          SPATIAL COORDINATES BEING READ FROM UNIT 91\n",
      " TITLE>  *\n",
      " VCLOSE: Closing unit   91 with status \"KEEP\"\n",
      "  \n",
      " CHARMM>     \n",
      "  \n"
     ]
    }
   ],
   "source": [
    "empty_charmm() # if there is anything in charmm, delete it\n",
    "load_chain(minimized_chain)"
   ]
  },
  {
   "cell_type": "markdown",
   "id": "39110263-b274-430d-95b5-454a81252eee",
   "metadata": {},
   "source": [
    "There is a wrapper function for steepest descend and adopted basis Newton-Raphson minimization method."
   ]
  },
  {
   "cell_type": "code",
   "execution_count": 15,
   "id": "bee0be8d-03bf-4630-b207-393402a6ed02",
   "metadata": {
    "tags": []
   },
   "outputs": [
    {
     "name": "stdout",
     "output_type": "stream",
     "text": [
      "Adopted Basis Newton-Raphson minimization not performed\n"
     ]
    },
    {
     "data": {
      "text/plain": [
       "0"
      ]
     },
     "execution_count": 15,
     "metadata": {},
     "output_type": "execute_result"
    }
   ],
   "source": [
    "# set verbosity to zero to reduce output from minimization steps\n",
    "prev_level = set_verbosity(0)\n",
    "minimize(sd_nstep=200, abnr_nstep=0)\n",
    "set_verbosity(prev_level)"
   ]
  },
  {
   "cell_type": "markdown",
   "id": "1f3d160f-c025-474b-ac90-52d79213a502",
   "metadata": {},
   "source": [
    "## Synchronize the Structure with pyCHARMM\n",
    "Since the coordinates are minimized in pyCHARMM, we need to update the coords in our chain object by calling `sync_coords` function. This need to be called whenenver a computation is done and you want to update the structure on crimm side. \n",
    "\n",
    "**Note**: if there is any structure descripency between the pyCHARMM and crimm chain, the synchronization will be aborted. This is likely due to modification of the crimm chain after it was loaded, or a wrong chain is supplied as the function argument."
   ]
  },
  {
   "cell_type": "code",
   "execution_count": 16,
   "id": "6eb2e8e3-ddd1-4971-8847-d0a5a6223b5f",
   "metadata": {},
   "outputs": [
    {
     "name": "stdout",
     "output_type": "stream",
     "text": [
      "Synchronized: <Polypeptide(L) id=A Residues=2>\n"
     ]
    }
   ],
   "source": [
    "sync_coords(minimized_chain)"
   ]
  },
  {
   "cell_type": "code",
   "execution_count": 17,
   "id": "15f94369-4c6a-4635-bf7b-24292e3dbd90",
   "metadata": {},
   "outputs": [
    {
     "data": {
      "application/vnd.jupyter.widget-view+json": {
       "model_id": "760cc1698b054d98a87df7e4f4a2b49a",
       "version_major": 2,
       "version_minor": 0
      },
      "text/plain": [
       "NGLWidget()"
      ]
     },
     "metadata": {},
     "output_type": "display_data"
    },
    {
     "name": "stdout",
     "output_type": "stream",
     "text": [
      "<Polypeptide(L) id=A Residues=2>\n"
     ]
    }
   ],
   "source": [
    "minimized_chain"
   ]
  },
  {
   "cell_type": "markdown",
   "id": "ffada02b-e1a3-4af9-9e76-8f8502ad0eab",
   "metadata": {},
   "source": [
    "### Compare the Minimized Structure and the Original"
   ]
  },
  {
   "cell_type": "code",
   "execution_count": 18,
   "id": "2c14f430-78a7-477a-b1b5-a7b52e8ce310",
   "metadata": {},
   "outputs": [
    {
     "data": {
      "application/vnd.jupyter.widget-view+json": {
       "model_id": "f45f8740ae834a3ea329bf3818cbdd63",
       "version_major": 2,
       "version_minor": 0
      },
      "text/plain": [
       "View()"
      ]
     },
     "metadata": {},
     "output_type": "display_data"
    }
   ],
   "source": [
    "show_licorice_multiple([minimized_chain, peptide_chain])"
   ]
  },
  {
   "cell_type": "code",
   "execution_count": null,
   "id": "39a88dc3-8398-4440-9c61-16524b43f378",
   "metadata": {},
   "outputs": [],
   "source": []
  }
 ],
 "metadata": {
  "kernelspec": {
   "display_name": "pcm-devel",
   "language": "python",
   "name": "pcm-devel"
  },
  "language_info": {
   "codemirror_mode": {
    "name": "ipython",
    "version": 3
   },
   "file_extension": ".py",
   "mimetype": "text/x-python",
   "name": "python",
   "nbconvert_exporter": "python",
   "pygments_lexer": "ipython3",
   "version": "3.10.11"
  }
 },
 "nbformat": 4,
 "nbformat_minor": 5
}

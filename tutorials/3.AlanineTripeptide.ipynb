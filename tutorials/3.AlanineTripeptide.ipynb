{
 "cells": [
  {
   "cell_type": "code",
   "execution_count": 1,
   "id": "be6c3270-9ef4-4ffa-83a8-ddee1d664b59",
   "metadata": {},
   "outputs": [
    {
     "data": {
      "application/vnd.jupyter.widget-view+json": {
       "model_id": "77a6878e4b5d4cb9ab335a912e724db9",
       "version_major": 2,
       "version_minor": 0
      },
      "text/plain": []
     },
     "metadata": {},
     "output_type": "display_data"
    }
   ],
   "source": [
    "from crimm.Modeller import TopologyLoader, ParameterLoader\n",
    "from crimm.Modeller.SeqChainGenerator import SeqChainGenerator\n",
    "from crimm.Visualization import View, show_nglview_multiple"
   ]
  },
  {
   "cell_type": "markdown",
   "id": "b6c1b2d1-bc9c-4070-98bd-0973056316cb",
   "metadata": {},
   "source": [
    "We define a function to show licorice since the default rendering is \"cartoon\" and does not show the side chains."
   ]
  },
  {
   "cell_type": "code",
   "execution_count": 23,
   "id": "6c19cc9d-e7a0-420d-8b70-7d5b80e80e79",
   "metadata": {},
   "outputs": [],
   "source": [
    "def show_licorice(chain):\n",
    "    view = View()\n",
    "    view.load_entity(chain)\n",
    "    view.clear_representations()\n",
    "    view.add_representation('licorice')\n",
    "    return view\n",
    "\n",
    "def show_licorice_multiple(chains):\n",
    "    view = View()\n",
    "    for chain in chains:\n",
    "        component = view.load_entity(chain)[0]\n",
    "        view.clear_representations(component = component._index)\n",
    "        view.add_representation('licorice', component = component._index)\n",
    "    return view"
   ]
  },
  {
   "cell_type": "markdown",
   "id": "0ed8d95f-01f0-4d7a-a682-65dd5e77f3fd",
   "metadata": {},
   "source": [
    "## Generate a Chain Object from Sequence\n",
    "The `SeqChainGenerator` class is used to construct RNA and polypeptide chain from sequences. The chain will be constructed from the *internal coordinate* (ic) definitions from **CHARMM36** residue topology files (rtf)."
   ]
  },
  {
   "cell_type": "code",
   "execution_count": 3,
   "id": "c0c06d91-d06e-42cf-8194-4e86b73eb297",
   "metadata": {},
   "outputs": [],
   "source": [
    "generator = SeqChainGenerator()"
   ]
  },
  {
   "cell_type": "markdown",
   "id": "9e21ece6-eb0c-43f6-9e85-92b3442d109a",
   "metadata": {},
   "source": [
    "### Chain from One-letter Sequences for a Short RNA\n",
    "\n",
    "The `chain_type` parameter is needed to identify the correct rtf. And of course, protein one-letter sequence is also accepted"
   ]
  },
  {
   "cell_type": "code",
   "execution_count": 4,
   "id": "31ae75a7-f6fc-49ec-9e6f-004747b1ec23",
   "metadata": {},
   "outputs": [
    {
     "data": {
      "application/vnd.jupyter.widget-view+json": {
       "model_id": "a8ca659f3ded482f87ac379fdb2a016f",
       "version_major": 2,
       "version_minor": 0
      },
      "text/plain": [
       "NGLWidget()"
      ]
     },
     "metadata": {},
     "output_type": "display_data"
    },
    {
     "name": "stdout",
     "output_type": "stream",
     "text": [
      "<Polyribonucleotide id=A Residues=9>\n"
     ]
    }
   ],
   "source": [
    "# chain_type is case insensitive. RNA or polyribonucleotide can also be accepted\n",
    "generator.set_sequence('CUCGAAUCA', chain_type = 'rna') \n",
    "rna_chain = generator.create_chain()\n",
    "rna_chain"
   ]
  },
  {
   "cell_type": "code",
   "execution_count": 5,
   "id": "47e79f38-5500-464d-8683-6b3581f107b5",
   "metadata": {},
   "outputs": [
    {
     "data": {
      "application/vnd.jupyter.widget-view+json": {
       "model_id": "02a2d040452f49abb92ec51721f44968",
       "version_major": 2,
       "version_minor": 0
      },
      "text/plain": [
       "View()"
      ]
     },
     "metadata": {},
     "output_type": "display_data"
    }
   ],
   "source": [
    "show_licorice(rna_chain)"
   ]
  },
  {
   "cell_type": "markdown",
   "id": "ea315259-fba1-4383-b08a-e94dd99216c7",
   "metadata": {},
   "source": [
    "### Chain from Three-letter Sequece for ADA Tripeptide\n",
    "\n",
    "The residue names in the three-letter sequences need to be separated by white spaces."
   ]
  },
  {
   "cell_type": "code",
   "execution_count": 7,
   "id": "6f535b19-e5ba-4839-a7e4-4311ae252be1",
   "metadata": {},
   "outputs": [
    {
     "data": {
      "application/vnd.jupyter.widget-view+json": {
       "model_id": "8cfd6ec3e73140dead8cada6a7f6cff0",
       "version_major": 2,
       "version_minor": 0
      },
      "text/plain": [
       "NGLWidget()"
      ]
     },
     "metadata": {},
     "output_type": "display_data"
    },
    {
     "name": "stdout",
     "output_type": "stream",
     "text": [
      "<Polypeptide(L) id=A Residues=3>\n"
     ]
    }
   ],
   "source": [
    "# Protein or Polypeptide(L) is also accepted\n",
    "generator.set_three_letter_sequence('ALA ASP ALA', chain_type = 'polypeptide')\n",
    "peptide_chain = generator.create_chain()\n",
    "peptide_chain"
   ]
  },
  {
   "cell_type": "code",
   "execution_count": 8,
   "id": "bd4f8513-fe1d-48a5-9d97-9edd01dceb8d",
   "metadata": {},
   "outputs": [
    {
     "data": {
      "application/vnd.jupyter.widget-view+json": {
       "model_id": "727d732049d44b19b24f50a0dda1e3f2",
       "version_major": 2,
       "version_minor": 0
      },
      "text/plain": [
       "View()"
      ]
     },
     "metadata": {},
     "output_type": "display_data"
    }
   ],
   "source": [
    "show_licorice(peptide_chain)"
   ]
  },
  {
   "cell_type": "markdown",
   "id": "7ed4f631-2c85-416d-bd56-013199afc932",
   "metadata": {},
   "source": [
    "## Minimize the Structure\n",
    "\n",
    "We can load the constructed chain into pyCHARMM by `load_chain` function in `crimm.Adaptors.pyCHARMMAdaptors`. Once it's loaded, all pyCHARMM functions can be called and applied to the loaded chain, just like it was loaded from pdb and psf files."
   ]
  },
  {
   "cell_type": "code",
   "execution_count": 9,
   "id": "fd0b3859-a31e-4a37-a505-9d29dc8199e4",
   "metadata": {},
   "outputs": [],
   "source": [
    "from crimm.Adaptors.pyCHARMMAdaptors import load_chain, load_parameters, load_topology\n",
    "from crimm.Adaptors.pyCHARMMAdaptors import minimize, sync_coords, delete_atoms"
   ]
  },
  {
   "cell_type": "markdown",
   "id": "3c80fb3a-53ff-44c9-a018-86fc54af3ca1",
   "metadata": {},
   "source": [
    "## Generate the Topology and Apply Parameters from crimm\n",
    "\n",
    "Before we can load the chain, the **topology** and **parameter** definitions need to be generated on the chain we just constructed. Currently, we still need to specify the `chain_type` for our chain, but it will become automated soon. The generation routine will be simplified very soon."
   ]
  },
  {
   "cell_type": "code",
   "execution_count": 10,
   "id": "ab69723e-6918-4a7a-9584-dc90a1eb9718",
   "metadata": {},
   "outputs": [],
   "source": [
    "chain_type = 'protein'\n",
    "topo = TopologyLoader(chain_type)\n",
    "param = ParameterLoader(chain_type)\n",
    "# We need to fill the ic table on the topology definitions, since \n",
    "# certain residue definitions will have empty tables to be filled by the parameter files\n",
    "param.fill_ic(topo, preserve = True) # Preserve is TRUE by default"
   ]
  },
  {
   "cell_type": "markdown",
   "id": "9b0a9335-2d87-48a6-b8f0-045516d56720",
   "metadata": {},
   "source": [
    "Here, we make a copy of the original chain for the structure comparison purposes"
   ]
  },
  {
   "cell_type": "code",
   "execution_count": 11,
   "id": "b72ff640-964f-40b4-bc2d-01d6af7c0873",
   "metadata": {},
   "outputs": [],
   "source": [
    "minimized_chain = peptide_chain.copy()"
   ]
  },
  {
   "cell_type": "markdown",
   "id": "a375818f-4f72-44eb-a73e-0d0d69d46dba",
   "metadata": {},
   "source": [
    "Currently, default terminal patches have not been implemented (since they need to be looked up from rtf files for different residues). We still need to specify patches when we generate the topology"
   ]
  },
  {
   "cell_type": "code",
   "execution_count": 12,
   "id": "f6caa78d-a6da-4a9d-9250-78b682584e6f",
   "metadata": {},
   "outputs": [],
   "source": [
    "topo.generate_chain_topology(minimized_chain, first_patch='ACE', last_patch='CT3')"
   ]
  },
  {
   "cell_type": "markdown",
   "id": "7bcbf306-3037-4fc6-b6a4-b15022e1ede8",
   "metadata": {},
   "source": [
    "Here, again we need to fill the ic table, since we just generated new residue definition with terminal patches, and these patch definitions' ic need to be filled from parameter files."
   ]
  },
  {
   "cell_type": "code",
   "execution_count": 13,
   "id": "22890702-d2b9-4ec2-b671-d98ba9ff7d08",
   "metadata": {},
   "outputs": [],
   "source": [
    "param.fill_ic(topo)"
   ]
  },
  {
   "cell_type": "markdown",
   "id": "47bc0aed-7672-4d2e-af66-4ae432c0f72d",
   "metadata": {},
   "source": [
    "### Load Parameter and Topology Files\n",
    "Before we can load the chain, the correct rtf and parameter files have to be loaded. We have utility function `load_topology` and `load_parameters` in the `pyCHARMMAdaptors` to help load the rtf and prm files correctly."
   ]
  },
  {
   "cell_type": "code",
   "execution_count": 14,
   "id": "81a26171-8fca-4203-973d-8b27d2f0dda9",
   "metadata": {
    "collapsed": true,
    "jupyter": {
     "outputs_hidden": true
    },
    "tags": []
   },
   "outputs": [
    {
     "name": "stdout",
     "output_type": "stream",
     "text": [
      "  \n",
      " CHARMM>     read rtf card -\n",
      " CHARMM>     name /tmp/tmpztue_g40\n",
      " VOPEN> Attempting to open::/tmp/tmpztue_g40::\n",
      " MAINIO> Residue topology file being read from unit  91.\n",
      " TITLE> *RTF LOADED FROM CRIMM\n",
      " TITLE> 36  2\n",
      " VCLOSE: Closing unit   91 with status \"KEEP\"\n",
      "  \n",
      " CHARMM>     \n",
      "  \n",
      "  \n",
      " CHARMM>     read param card -\n",
      " CHARMM>     name /tmp/tmp7ppigpea -\n",
      " CHARMM>     flex\n",
      " VOPEN> Attempting to open::/tmp/tmp7ppigpea::\n",
      "\n",
      "          PARAMETER FILE BEING READ FROM UNIT 91\n",
      " TITLE> *PRM LOADED FROM CRIMM\n",
      " TITLE> *>>>> CHARMM36 ALL-HYDROGEN PARAMETER FILE FOR PROTEINS <<<<<<<<<<\n",
      " TITLE> *>>>>> INCLUDES PHI, PSI CROSS TERM MAP (CMAP) CORRECTION <<<<<<<<\n",
      " TITLE> *>>>>>>>>>>>>>>>>>>>>>>>>>> JAN. 2016 <<<<<<<<<<<<<<<<<<<<<<<<<<<<\n",
      " TITLE> * ALL COMMENTS TO THE CHARMM WEB SITE: WWW.CHARMM.ORG\n",
      " TITLE> *             PARAMETER SET DISCUSSION FORUM\n",
      " TITLE> *\n",
      " PARMIO> NONBOND, HBOND lists and IMAGE atoms cleared.\n",
      " VCLOSE: Closing unit   91 with status \"KEEP\"\n",
      "  \n",
      " CHARMM>     \n",
      "  \n"
     ]
    }
   ],
   "source": [
    "load_topology(topo)\n",
    "load_parameters(param)"
   ]
  },
  {
   "cell_type": "markdown",
   "id": "fdb223cb-c57d-4596-ab0c-c05fe4390b5d",
   "metadata": {},
   "source": [
    "A wrapper function to delete all atoms in pyCHARMM. If there is not atom exists, an error will be raised."
   ]
  },
  {
   "cell_type": "code",
   "execution_count": 64,
   "id": "157236a0-1ab2-46d0-8a38-34794d218194",
   "metadata": {
    "collapsed": true,
    "jupyter": {
     "outputs_hidden": true
    },
    "tags": []
   },
   "outputs": [
    {
     "name": "stdout",
     "output_type": "stream",
     "text": [
      "\n",
      " Message from MAPIC: Atom numbers are changed.\n"
     ]
    },
    {
     "data": {
      "text/plain": [
       "True"
      ]
     },
     "execution_count": 64,
     "metadata": {},
     "output_type": "execute_result"
    },
    {
     "name": "stdout",
     "output_type": "stream",
     "text": [
      "\n",
      " Message from MAPIC:          6 residues deleted.\n",
      "\n",
      " Message from MAPIC:          1 segments deleted.\n",
      " DELTIC:        82 bonds deleted\n",
      " DELTIC:       142 angles deleted\n",
      " DELTIC:       195 dihedrals deleted\n",
      " DELTIC:        25 improper dihedrals deleted\n",
      " DELTIC:         6 crossterm maps deleted\n",
      " DELTIC:        10 donors deleted\n",
      " DELTIC:        11 acceptors deleted\n"
     ]
    }
   ],
   "source": [
    "delete_atoms()"
   ]
  },
  {
   "cell_type": "code",
   "execution_count": 15,
   "id": "b440c5d2-b524-4d8c-8fb4-a8e319abca9e",
   "metadata": {
    "tags": []
   },
   "outputs": [
    {
     "name": "stdout",
     "output_type": "stream",
     "text": [
      "  \n",
      " CHARMM>     read sequence pdb -\n",
      " CHARMM>     name /tmp/tmpxuxezq9t\n",
      " VOPEN> Attempting to open::/tmp/tmpxuxezq9t::\n",
      " MAINIO> Sequence information being read from unit  91.\n",
      " TITLE>  *\n",
      "\n",
      "          RESIDUE SEQUENCE --     3 RESIDUES\n",
      "          ALA ASP ALA \n",
      " ***** Message from SEQRDR ***** THE SYSTEM CONTAINS  1 TITRATABLE GROUPS\n",
      " THE USER MUST PREDETERMINE THE PROTONATION STATE THROUGH THE SEQUENCE AND RTF\n",
      " HIS -  0  HSD -  0  HSE -  0  HSP -  0  ASP -  1  GLU -  0  LYS -  0  TYR -  0\n",
      " VCLOSE: Closing unit   91 with status \"KEEP\"\n",
      "  \n",
      " CHARMM>     \n",
      "  \n",
      " THE PATCH 'ACE' WILL BE USED FOR THE FIRST RESIDUE\n",
      " THE PATCH 'CT3' WILL BE USED FOR THE LAST  RESIDUE\n",
      " AUTGEN: Autogenerating specified angles and dihedrals.\n",
      " GENPSF> Segment   1 has been generated. Its identifier is PROA.\n",
      " PSFSUM> PSF modified: NONBOND lists and IMAGE atoms cleared.\n",
      " PSFSUM> Summary of the structure file counters :\n",
      "         Number of segments      =        1   Number of residues   =        3\n",
      "         Number of atoms         =       44   Number of groups     =       12\n",
      "         Number of bonds         =       43   Number of angles     =       75\n",
      "         Number of dihedrals     =       97   Number of impropers  =        9\n",
      "         Number of cross-terms   =        3   Number of autogens   =        0\n",
      "         Number of HB acceptors  =        6   Number of HB donors  =        4\n",
      "         Number of NB exclusions =        0   Total charge =   -1.00000\n",
      "  \n",
      " CHARMM>     read coor pdb -\n",
      " CHARMM>     name /tmp/tmpxuxezq9t -\n",
      " CHARMM>     resi\n",
      " VOPEN> Attempting to open::/tmp/tmpxuxezq9t::\n",
      "  read CHARMM-pdb format\n",
      "          SPATIAL COORDINATES BEING READ FROM UNIT 91\n",
      " TITLE>  *\n",
      " ** WARNING ** After reading, there are no coordinates for selected atom:     1     1 ALA  CAY \n",
      " ** WARNING ** After reading, there are no coordinates for selected atom:     2     1 ALA  HY1 \n",
      " ** WARNING ** After reading, there are no coordinates for selected atom:     3     1 ALA  HY2 \n",
      " ** WARNING ** After reading, there are no coordinates for selected atom:     4     1 ALA  HY3 \n",
      " ** WARNING ** After reading, there are no coordinates for selected atom:     5     1 ALA  CY  \n",
      " ** WARNING ** After reading, there are no coordinates for selected atom:     6     1 ALA  OY  \n",
      " ** WARNING ** After reading, there are no coordinates for selected atom:    39     3 ALA  NT  \n",
      " ** WARNING ** After reading, there are no coordinates for selected atom:    40     3 ALA  HNT \n",
      " ** WARNING ** After reading, there are no coordinates for selected atom:    41     3 ALA  CAT \n",
      " ** WARNING ** After reading, there are no coordinates for selected atom:    42     3 ALA  HT1 \n",
      "\n",
      " ** A total of    12 selected atoms have no coordinates\n",
      " *** LEVEL  2 WARNING *** BOMLEV IS    0\n",
      " VCLOSE: Closing unit   91 with status \"KEEP\"\n",
      "  \n",
      " CHARMM>     \n",
      "  \n"
     ]
    }
   ],
   "source": [
    "load_chain(minimized_chain)"
   ]
  },
  {
   "cell_type": "markdown",
   "id": "39110263-b274-430d-95b5-454a81252eee",
   "metadata": {},
   "source": [
    "There is a wrapper function for steepest descend and adopted basis Newton-Raphson minimization method."
   ]
  },
  {
   "cell_type": "code",
   "execution_count": 16,
   "id": "bee0be8d-03bf-4630-b207-393402a6ed02",
   "metadata": {
    "collapsed": true,
    "jupyter": {
     "outputs_hidden": true
    },
    "tags": []
   },
   "outputs": [
    {
     "name": "stdout",
     "output_type": "stream",
     "text": [
      " CSTRAN: Harmonic Restraints\n",
      "          ABSOlute type as set number  1.  Number of selected atoms:      3\n",
      "          Reference coordinates set to main coordinates.\n",
      "          Mass weighting will NOT be used for new restraints.\n",
      "          The force constant of       0.00000 will be used.\n",
      "          An exponent of  2 will be used.\n",
      "          The XYZ scale factors are:       1.00000       1.00000       1.00000\n",
      "          A total of      0 atoms are restrained.\n",
      "\n",
      " NONBOND OPTION FLAGS: \n",
      "     ELEC     VDW      ATOMs    CDIElec  FSHIft   VATOm    VFSWIt  \n",
      "     BYGRoup  NOEXtnd  NOEWald \n",
      " CUTNB  = 14.000 CTEXNB =999.000 CTONNB = 10.000 CTOFNB = 12.000\n",
      " CGONNB =  0.000 CGOFNB = 10.000\n",
      " WMIN   =  1.500 WRNMXD =  0.500 E14FAC =  1.000 EPS    =  1.000\n",
      " NBXMOD =      5\n",
      " There are        0 atom  pairs and        0 atom  exclusions.\n",
      " There are        0 group pairs and        0 group exclusions.\n",
      " <MAKINB> with mode   5 found    118 exclusions and     97 interactions(1-4)\n",
      " <MAKGRP> found     27 group exclusions.\n",
      " Generating nonbond list with Exclusion mode = 5\n",
      " == PRIMARY == SPACE FOR      925 ATOM PAIRS AND        0 GROUP PAIRS\n",
      "\n",
      " General atom nonbond list generation found:\n",
      "      806 ATOM PAIRS WERE FOUND FOR ATOM LIST\n",
      "        2 GROUP PAIRS REQUIRED ATOM SEARCHES\n",
      "\n",
      " PRNHBD: CUToff Hydrogen Bond  distance =    0.5000   Angle =   90.0000\n",
      "         CuT switching ON HB dist. =     3.5000  OFf HB dist. =    4.0000\n",
      "         CuT switching ON Hb Angle =    50.0000  OFf Hb Angle =   70.0000\n",
      "         ACCEptor antecedents included\n",
      "         All hydrogen bonds for each hydrogen will be found\n",
      "         Hydrogen bonds between excluded atoms will be kept\n",
      "\n",
      "\n",
      "\n",
      " STEEPD> An energy minimization has been requested.\n",
      "\n",
      " NSTEP  =          200   NPRINT =           10\n",
      " STEP   =    0.0200000   TOLFUN =    0.0000000\n",
      " TOLGRD =    0.0000000   TOLSTP =    0.0000000\n",
      "\n",
      "MINI MIN: Cycle      ENERgy      Delta-E         GRMS    Step-size\n",
      "MINI INTERN:          BONDs       ANGLes       UREY-b    DIHEdrals    IMPRopers\n",
      "MINI CROSS:           CMAPs        PMF1D        PMF2D        PRIMO\n",
      "MINI EXTERN:        VDWaals         ELEC       HBONds          ASP         USER\n",
      " ----------       ---------    ---------    ---------    ---------    ---------\n",
      "MINI>        0     32.74575      0.00000     15.13689      0.02000\n",
      "MINI INTERN>        2.58921      7.06668      0.22946     21.45929      0.89825\n",
      "MINI CROSS>         0.39000      0.00000      0.00000      0.00000\n",
      "MINI EXTERN>       33.75372    -33.64087      0.00000      0.00000      0.00000\n",
      " ----------       ---------    ---------    ---------    ---------    ---------\n",
      "MINI>       10     10.02273     22.72302      3.59065      0.00373\n",
      "MINI INTERN>        3.23306      8.03573      0.38418     21.81440      0.16092\n",
      "MINI CROSS>         0.33349      0.00000      0.00000      0.00000\n",
      "MINI EXTERN>        5.86676    -29.80580      0.00000      0.00000      0.00000\n",
      " ----------       ---------    ---------    ---------    ---------    ---------\n",
      "MINI>       20      7.62932      2.39340      1.75857      0.00167\n",
      "MINI INTERN>        2.53785      7.22127      0.33735     21.83852      0.15208\n",
      "MINI CROSS>         0.28744      0.00000      0.00000      0.00000\n",
      "MINI EXTERN>        3.92005    -28.66523      0.00000      0.00000      0.00000\n",
      " ----------       ---------    ---------    ---------    ---------    ---------\n",
      "MINI>       30      6.49730      1.13202      2.76605      0.00180\n",
      "MINI INTERN>        2.50548      7.05092      0.30508     21.84556      0.16654\n",
      "MINI CROSS>         0.20109      0.00000      0.00000      0.00000\n",
      "MINI EXTERN>        2.76957    -28.34693      0.00000      0.00000      0.00000\n",
      " ----------       ---------    ---------    ---------    ---------    ---------\n",
      "MINI>       40      5.63441      0.86289      2.95886      0.00193\n",
      "MINI INTERN>        2.83538      6.11748      0.27169     21.85831      0.18462\n",
      "MINI CROSS>         0.07813      0.00000      0.00000      0.00000\n",
      "MINI EXTERN>        2.15017    -27.86138      0.00000      0.00000      0.00000\n",
      " ----------       ---------    ---------    ---------    ---------    ---------\n",
      " UPDECI: Nonbond update at step        50\n",
      " Generating nonbond list with Exclusion mode = 5\n",
      " == PRIMARY == SPACE FOR      925 ATOM PAIRS AND        0 GROUP PAIRS\n",
      "\n",
      " General atom nonbond list generation found:\n",
      "      807 ATOM PAIRS WERE FOUND FOR ATOM LIST\n",
      "        2 GROUP PAIRS REQUIRED ATOM SEARCHES\n",
      "\n",
      "MINI>       50      4.92354      0.71087      3.00729      0.00208\n",
      "MINI INTERN>        2.73895      5.99510      0.25429     21.84226      0.21318\n",
      "MINI CROSS>        -0.08787      0.00000      0.00000      0.00000\n",
      "MINI EXTERN>        1.72341    -27.75576      0.00000      0.00000      0.00000\n",
      " ----------       ---------    ---------    ---------    ---------    ---------\n",
      "MINI>       60      4.28933      0.63421      3.36506      0.00223\n",
      "MINI INTERN>        2.45784      6.46385      0.25023     21.80836      0.25250\n",
      "MINI CROSS>        -0.30211      0.00000      0.00000      0.00000\n",
      "MINI EXTERN>        1.31977    -27.96112      0.00000      0.00000      0.00000\n",
      " ----------       ---------    ---------    ---------    ---------    ---------\n",
      "MINI>       70      3.43277      0.85656      0.83458      0.00100\n",
      "MINI INTERN>        2.40349      6.14248      0.24929     21.80573      0.28333\n",
      "MINI CROSS>        -0.52161      0.00000      0.00000      0.00000\n",
      "MINI EXTERN>        0.96087    -27.89082      0.00000      0.00000      0.00000\n",
      " ----------       ---------    ---------    ---------    ---------    ---------\n",
      "MINI>       80      2.80932      0.62345      1.11614      0.00107\n",
      "MINI INTERN>        2.36088      6.05282      0.24395     21.78816      0.31637\n",
      "MINI CROSS>        -0.78929      0.00000      0.00000      0.00000\n",
      "MINI EXTERN>        0.71855    -27.88212      0.00000      0.00000      0.00000\n",
      " ----------       ---------    ---------    ---------    ---------    ---------\n",
      "MINI>       90      2.23420      0.57512      1.26653      0.00116\n",
      "MINI INTERN>        2.33024      5.93148      0.23920     21.77274      0.34324\n",
      "MINI CROSS>        -1.05581      0.00000      0.00000      0.00000\n",
      "MINI EXTERN>        0.53264    -27.85954      0.00000      0.00000      0.00000\n",
      " ----------       ---------    ---------    ---------    ---------    ---------\n",
      " UPDECI: Nonbond update at step       100\n",
      " Generating nonbond list with Exclusion mode = 5\n",
      " == PRIMARY == SPACE FOR      925 ATOM PAIRS AND        0 GROUP PAIRS\n",
      "\n",
      " General atom nonbond list generation found:\n",
      "      808 ATOM PAIRS WERE FOUND FOR ATOM LIST\n",
      "        2 GROUP PAIRS REQUIRED ATOM SEARCHES\n",
      "\n",
      "MINI>      100      1.70830      0.52590      1.64413      0.00124\n",
      "MINI INTERN>        2.32508      5.81921      0.23653     21.75942      0.36467\n",
      "MINI CROSS>        -1.32137      0.00000      0.00000      0.00000\n",
      "MINI EXTERN>        0.36515    -27.84037      0.00000      0.00000      0.00000\n",
      " ----------       ---------    ---------    ---------    ---------    ---------\n",
      "MINI>      110      1.15552      0.55278      1.76984      0.00133\n",
      "MINI INTERN>        2.26602      5.73946      0.23448     21.74534      0.38125\n",
      "MINI CROSS>        -1.59976      0.00000      0.00000      0.00000\n",
      "MINI EXTERN>        0.21514    -27.82640      0.00000      0.00000      0.00000\n",
      " ----------       ---------    ---------    ---------    ---------    ---------\n",
      "MINI>      120      0.75343      0.40208      2.40454      0.00144\n",
      "MINI INTERN>        2.40251      5.34024      0.22291     21.73492      0.38350\n",
      "MINI CROSS>        -1.80736      0.00000      0.00000      0.00000\n",
      "MINI EXTERN>        0.15076    -27.67404      0.00000      0.00000      0.00000\n",
      " ----------       ---------    ---------    ---------    ---------    ---------\n",
      "MINI>      130      0.32753      0.42590      2.14142      0.00154\n",
      "MINI INTERN>        2.27592      5.45467      0.22914     21.72577      0.39049\n",
      "MINI CROSS>        -2.02058      0.00000      0.00000      0.00000\n",
      "MINI EXTERN>        0.01715    -27.74502      0.00000      0.00000      0.00000\n",
      " ----------       ---------    ---------    ---------    ---------    ---------\n",
      "MINI>      140     -0.13332      0.46086      0.61088      0.00069\n",
      "MINI INTERN>        2.09298      5.28809      0.22225     21.71688      0.38688\n",
      "MINI CROSS>        -2.19219      0.00000      0.00000      0.00000\n",
      "MINI EXTERN>        0.00588    -27.65409      0.00000      0.00000      0.00000\n",
      " ----------       ---------    ---------    ---------    ---------    ---------\n",
      " UPDECI: Nonbond update at step       150\n",
      " Generating nonbond list with Exclusion mode = 5\n",
      " == PRIMARY == SPACE FOR      925 ATOM PAIRS AND        0 GROUP PAIRS\n",
      "\n",
      " General atom nonbond list generation found:\n",
      "      809 ATOM PAIRS WERE FOUND FOR ATOM LIST\n",
      "        2 GROUP PAIRS REQUIRED ATOM SEARCHES\n",
      "\n",
      "MINI>      150     -0.46721      0.33389      0.60831      0.00074\n",
      "MINI INTERN>        2.06358      5.17557      0.22103     21.71221      0.38220\n",
      "MINI CROSS>        -2.34954      0.00000      0.00000      0.00000\n",
      "MINI EXTERN>       -0.06034    -27.61193      0.00000      0.00000      0.00000\n",
      " ----------       ---------    ---------    ---------    ---------    ---------\n",
      "MINI>      160     -0.77142      0.30421      1.09193      0.00080\n",
      "MINI INTERN>        2.05511      5.01617      0.21736     21.70897      0.37365\n",
      "MINI CROSS>        -2.49735      0.00000      0.00000      0.00000\n",
      "MINI EXTERN>       -0.10603    -27.53931      0.00000      0.00000      0.00000\n",
      " ----------       ---------    ---------    ---------    ---------    ---------\n",
      "MINI>      170     -1.04326      0.27184      1.00415      0.00086\n",
      "MINI INTERN>        2.02300      4.91369      0.21748     21.70986      0.36547\n",
      "MINI CROSS>        -2.61762      0.00000      0.00000      0.00000\n",
      "MINI EXTERN>       -0.15773    -27.49742      0.00000      0.00000      0.00000\n",
      " ----------       ---------    ---------    ---------    ---------    ---------\n",
      "MINI>      180     -1.25723      0.21396      1.56367      0.00092\n",
      "MINI INTERN>        2.05895      4.72796      0.21480     21.71335      0.35499\n",
      "MINI CROSS>        -2.72212      0.00000      0.00000      0.00000\n",
      "MINI EXTERN>       -0.19165    -27.41350      0.00000      0.00000      0.00000\n",
      " ----------       ---------    ---------    ---------    ---------    ---------\n",
      "MINI>      190     -1.47585      0.21863      1.38315      0.00099\n",
      "MINI INTERN>        1.99366      4.69613      0.21485     21.71573      0.34784\n",
      "MINI CROSS>        -2.81523      0.00000      0.00000      0.00000\n",
      "MINI EXTERN>       -0.22728    -27.40154      0.00000      0.00000      0.00000\n",
      " ----------       ---------    ---------    ---------    ---------    ---------\n",
      " UPDECI: Nonbond update at step       200\n",
      " Generating nonbond list with Exclusion mode = 5\n",
      " == PRIMARY == SPACE FOR      925 ATOM PAIRS AND        0 GROUP PAIRS\n",
      "\n",
      " General atom nonbond list generation found:\n",
      "      810 ATOM PAIRS WERE FOUND FOR ATOM LIST\n",
      "        2 GROUP PAIRS REQUIRED ATOM SEARCHES\n",
      "\n",
      "MINI>      200     -1.70723      0.23138      0.45543      0.00044\n",
      "MINI INTERN>        1.91055      4.74950      0.22201     21.72114      0.34284\n",
      "MINI CROSS>        -2.90043      0.00000      0.00000      0.00000\n",
      "MINI EXTERN>       -0.29983    -27.45300      0.00000      0.00000      0.00000\n",
      " ----------       ---------    ---------    ---------    ---------    ---------\n",
      "\n",
      " STEEPD> Minimization exiting with number of steps limit (       200) exceeded.\n",
      "\n",
      "STPD MIN: Cycle      ENERgy      Delta-E         GRMS    Step-size\n",
      "STPD INTERN:          BONDs       ANGLes       UREY-b    DIHEdrals    IMPRopers\n",
      "STPD CROSS:           CMAPs        PMF1D        PMF2D        PRIMO\n",
      "STPD EXTERN:        VDWaals         ELEC       HBONds          ASP         USER\n",
      " ----------       ---------    ---------    ---------    ---------    ---------\n",
      "STPD>      200     -1.70723      0.23138      0.45543      0.00053\n",
      "STPD INTERN>        1.91055      4.74950      0.22201     21.72114      0.34284\n",
      "STPD CROSS>        -2.90043      0.00000      0.00000      0.00000\n",
      "Adopted Basis Newton-Raphson minimization not performed\n",
      "STPD EXTERN>       -0.29983    -27.45300      0.00000      0.00000      0.00000\n",
      " ----------       ---------    ---------    ---------    ---------    ---------\n"
     ]
    }
   ],
   "source": [
    "minimize(sd_nstep=200, abnr_nstep=0)"
   ]
  },
  {
   "cell_type": "markdown",
   "id": "1f3d160f-c025-474b-ac90-52d79213a502",
   "metadata": {},
   "source": [
    "## Synchronize the Structure with pyCHARMM\n",
    "Since the coordinates are minimized in pyCHARMM, we need to update the coords in our chain object by calling `sync_coords` function. This need to be called whenenver a computation is done and you want to update the structure on crimm side. \n",
    "\n",
    "**Note**: if there is any structure descripency between the pyCHARMM and crimm chain, the synchronization will be aborted. This is likely due to modification of the crimm chain after it was loaded, or a wrong chain is supplied as the function argument."
   ]
  },
  {
   "cell_type": "code",
   "execution_count": 17,
   "id": "6eb2e8e3-ddd1-4971-8847-d0a5a6223b5f",
   "metadata": {},
   "outputs": [
    {
     "name": "stdout",
     "output_type": "stream",
     "text": [
      "Synchronized: <Polypeptide(L) id=A Residues=3>\n"
     ]
    }
   ],
   "source": [
    "sync_coords(minimized_chain)"
   ]
  },
  {
   "cell_type": "code",
   "execution_count": 18,
   "id": "15f94369-4c6a-4635-bf7b-24292e3dbd90",
   "metadata": {},
   "outputs": [
    {
     "data": {
      "application/vnd.jupyter.widget-view+json": {
       "model_id": "eee000b8416944a69ea94ef7d96d1b29",
       "version_major": 2,
       "version_minor": 0
      },
      "text/plain": [
       "NGLWidget()"
      ]
     },
     "metadata": {},
     "output_type": "display_data"
    },
    {
     "name": "stdout",
     "output_type": "stream",
     "text": [
      "<Polypeptide(L) id=A Residues=3>\n"
     ]
    }
   ],
   "source": [
    "minimized_chain"
   ]
  },
  {
   "cell_type": "markdown",
   "id": "ffada02b-e1a3-4af9-9e76-8f8502ad0eab",
   "metadata": {},
   "source": [
    "### Compare the Minimized Structure and the Original"
   ]
  },
  {
   "cell_type": "code",
   "execution_count": 24,
   "id": "2c14f430-78a7-477a-b1b5-a7b52e8ce310",
   "metadata": {},
   "outputs": [
    {
     "data": {
      "application/vnd.jupyter.widget-view+json": {
       "model_id": "bf11cf48358d41be80c05845e991d9e6",
       "version_major": 2,
       "version_minor": 0
      },
      "text/plain": [
       "View()"
      ]
     },
     "metadata": {},
     "output_type": "display_data"
    }
   ],
   "source": [
    "show_licorice_multiple([minimized_chain, peptide_chain])"
   ]
  },
  {
   "cell_type": "code",
   "execution_count": null,
   "id": "39a88dc3-8398-4440-9c61-16524b43f378",
   "metadata": {},
   "outputs": [],
   "source": []
  }
 ],
 "metadata": {
  "kernelspec": {
   "display_name": "pcm-devel",
   "language": "python",
   "name": "pcm-devel"
  },
  "language_info": {
   "codemirror_mode": {
    "name": "ipython",
    "version": 3
   },
   "file_extension": ".py",
   "mimetype": "text/x-python",
   "name": "python",
   "nbconvert_exporter": "python",
   "pygments_lexer": "ipython3",
   "version": "3.10.6"
  }
 },
 "nbformat": 4,
 "nbformat_minor": 5
}

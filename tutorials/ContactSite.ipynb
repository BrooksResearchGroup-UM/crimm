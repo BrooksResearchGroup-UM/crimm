{
 "cells": [
  {
   "cell_type": "markdown",
   "id": "9c540690-2484-42d0-9701-aef7b417e33c",
   "metadata": {},
   "source": [
    "# Contact sites of protein-DNA interaction\n",
    "\n",
    "This example is a reproduction of this [Biotite's Example](https://www.biotite-python.org/examples/gallery/structure/contact_sites.html#sphx-glr-examples-gallery-structure-contact-sites-py)"
   ]
  },
  {
   "cell_type": "code",
   "execution_count": 1,
   "id": "50715a76-25b5-44b5-a12a-347a06aaf836",
   "metadata": {},
   "outputs": [
    {
     "data": {
      "application/vnd.jupyter.widget-view+json": {
       "model_id": "b90775ce016c4b008a0f0a29ab772829",
       "version_major": 2,
       "version_minor": 0
      },
      "text/plain": []
     },
     "metadata": {},
     "output_type": "display_data"
    }
   ],
   "source": [
    "from crimm.Fetchers import fetch_rcsb\n",
    "from crimm.Visualization import View\n",
    "from Bio.PDB import NeighborSearch\n",
    "from Bio.PDB.Selection import unfold_entities"
   ]
  },
  {
   "cell_type": "code",
   "execution_count": 2,
   "id": "579377f9-6e3b-4a18-be8d-009d428c212b",
   "metadata": {},
   "outputs": [],
   "source": [
    "structure = fetch_rcsb('2or1', include_solvent=False)"
   ]
  },
  {
   "cell_type": "code",
   "execution_count": 3,
   "id": "11dbeaed-5a56-4b47-9a18-767c7f9ce35f",
   "metadata": {},
   "outputs": [
    {
     "data": {
      "application/vnd.jupyter.widget-view+json": {
       "model_id": "1b7d0023238046ea92f7058c95ce49c5",
       "version_major": 2,
       "version_minor": 0
      },
      "text/plain": [
       "NGLWidget()"
      ]
     },
     "metadata": {},
     "output_type": "display_data"
    },
    {
     "name": "stdout",
     "output_type": "stream",
     "text": [
      "<Structure id=2OR1 Models=1>\n",
      "│\n",
      "├───<Model id=1 Chains=4>\n",
      "\t│\n",
      "\t├───<Polydeoxyribonucleotide id=A Residues=20>\n",
      "\t├──────Description: DNA (5'-D(*AP*AP*GP*TP*AP*CP*AP*AP*AP*CP*TP*TP*TP*CP*TP*TP*G P*TP*AP*T)-3')\n",
      "\t│\n",
      "\t├───<Polydeoxyribonucleotide id=B Residues=20>\n",
      "\t├──────Description: DNA (5'-D(*TP*AP*TP*AP*CP*AP*AP*GP*AP*AP*AP*GP*TP*TP*TP*GP*T P*AP*CP*T)-3')\n",
      "\t│\n",
      "\t├───<Polypeptide(L) id=C Residues=63>\n",
      "\t├──────Description: 434 REPRESSOR\n",
      "\t│\n",
      "\t├───<Polypeptide(L) id=D Residues=63>\n",
      "\t├──────Description: 434 REPRESSOR\n"
     ]
    }
   ],
   "source": [
    "structure"
   ]
  },
  {
   "cell_type": "code",
   "execution_count": 4,
   "id": "204f5cdc-278d-4cfe-a011-41691bbd6a94",
   "metadata": {},
   "outputs": [],
   "source": [
    "# Get the first model\n",
    "model = structure.models[0]\n",
    "dnas = []\n",
    "proteins = []\n",
    "for chain in model:\n",
    "    if chain.chain_type == 'Polydeoxyribonucleotide':\n",
    "        dnas.append(chain)\n",
    "    elif chain.chain_type == 'Polypeptide(L)':\n",
    "        proteins.append(chain)"
   ]
  },
  {
   "cell_type": "code",
   "execution_count": 5,
   "id": "fab31d6d-0a21-4a6a-b846-f56f5ec80c20",
   "metadata": {},
   "outputs": [],
   "source": [
    "# Quick check if the two protein chains are really identical\n",
    "assert proteins[0].masked_seq == proteins[1].masked_seq"
   ]
  },
  {
   "cell_type": "code",
   "execution_count": 6,
   "id": "11961c66-ad4b-410b-be91-1f9f5adf4ea4",
   "metadata": {},
   "outputs": [],
   "source": [
    "# The maximum distance between an atom in the repressor and an atom in\n",
    "# the DNA for them to be considered 'in contact'\n",
    "THRESHOLD_DISTANCE = 4.0"
   ]
  },
  {
   "cell_type": "code",
   "execution_count": 7,
   "id": "ec66709a-5e31-4660-87d4-f0e947bd8472",
   "metadata": {},
   "outputs": [],
   "source": [
    "# Fast identification of contacts via NeighborSearch (KDTree):\n",
    "# NeighborSearch is initiliazed with the coordinates of the Repressor\n",
    "# and later provided with the atom coordinates of the two DNA chains\n",
    "repressor_atoms = unfold_entities(proteins, 'A')\n",
    "selector = NeighborSearch(repressor_atoms)"
   ]
  },
  {
   "cell_type": "code",
   "execution_count": 8,
   "id": "7f8ea553-f954-4602-8376-38a7a46027e8",
   "metadata": {},
   "outputs": [],
   "source": [
    "selected_atoms = []\n",
    "selected_res_l = set()\n",
    "selected_res_r = set()\n",
    "for atom in unfold_entities(dnas, 'A'):\n",
    "    if cur_selected := selector.search(atom.coord, THRESHOLD_DISTANCE):\n",
    "        selected_atoms.extend(cur_selected)"
   ]
  },
  {
   "cell_type": "code",
   "execution_count": 9,
   "id": "92225352-4a03-4e7f-82ab-7c8249c3ef41",
   "metadata": {},
   "outputs": [],
   "source": [
    "contact_residues = unfold_entities(selected_atoms, 'R')"
   ]
  },
  {
   "cell_type": "code",
   "execution_count": 10,
   "id": "a8c03dc9-f39f-47d1-afba-1b702bc3ba06",
   "metadata": {},
   "outputs": [],
   "source": [
    "# Find the common residues between the two chains\n",
    "all_res_id = [res.id for res in contact_residues]\n",
    "duplicates = [resid for resid in all_res_id if all_res_id.count(resid) > 1]\n",
    "common_res_id = list(set(duplicates))\n",
    "common_res = []\n",
    "for res in contact_residues:\n",
    "    if res.id in common_res_id:\n",
    "        common_res.append(res)"
   ]
  },
  {
   "cell_type": "code",
   "execution_count": 11,
   "id": "b3ced020-6102-4d53-9e3c-3759ae78fad8",
   "metadata": {},
   "outputs": [
    {
     "data": {
      "application/vnd.jupyter.widget-view+json": {
       "model_id": "8a4a92d8beed4eeb97554b0212fd8ecd",
       "version_major": 2,
       "version_minor": 0
      },
      "text/plain": [
       "View()"
      ]
     },
     "metadata": {},
     "output_type": "display_data"
    }
   ],
   "source": [
    "view = View()\n",
    "view.load_entity(model)\n",
    "view.highlight_residues(common_res, add_licorice=True)\n",
    "view"
   ]
  },
  {
   "cell_type": "code",
   "execution_count": null,
   "id": "7e179379-b462-4e6e-ad58-d458710e1746",
   "metadata": {},
   "outputs": [],
   "source": []
  }
 ],
 "metadata": {
  "kernelspec": {
   "display_name": "pcm-devel",
   "language": "python",
   "name": "pcm-devel"
  },
  "language_info": {
   "codemirror_mode": {
    "name": "ipython",
    "version": 3
   },
   "file_extension": ".py",
   "mimetype": "text/x-python",
   "name": "python",
   "nbconvert_exporter": "python",
   "pygments_lexer": "ipython3",
   "version": "3.10.11"
  }
 },
 "nbformat": 4,
 "nbformat_minor": 5
}

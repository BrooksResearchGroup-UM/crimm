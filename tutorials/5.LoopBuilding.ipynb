{
 "cells": [
  {
   "cell_type": "code",
   "execution_count": 32,
   "id": "cfd71e5b-5e12-49f5-aa80-807ea62d6875",
   "metadata": {},
   "outputs": [],
   "source": [
    "from pycharmm.psf import delete_atoms\n",
    "from pycharmm.settings import set_verbosity\n",
    "\n",
    "from crimm.Adaptors.pyCHARMMAdaptors import load_chain, load_topology, load_parameters\n",
    "from crimm.Adaptors.pyCHARMMAdaptors import minimize, sync_coords\n",
    "from crimm.Modeller.LoopBuilder import ChainLoopBuilder\n",
    "from crimm.Modeller import TopologyLoader, ParameterLoader\n",
    "from crimm.Modeller.TopoFixer import fix_chain\n",
    "from crimm.Fetchers import (\n",
    "    fetch_rcsb, fetch_alphafold, uniprot_id_query, fetch_swiss_model\n",
    ")"
   ]
  },
  {
   "cell_type": "markdown",
   "id": "eae642f6-e240-4a14-aab8-b71c95474fe1",
   "metadata": {},
   "source": [
    "## Fetch a Structure with Missing Loops from RCSB"
   ]
  },
  {
   "cell_type": "code",
   "execution_count": 40,
   "id": "a49d9f37-99e8-4f36-9d9b-746e8270e00c",
   "metadata": {},
   "outputs": [],
   "source": [
    "struct = fetch_rcsb('4BBY')\n",
    "chain = struct[1]['A']"
   ]
  },
  {
   "cell_type": "markdown",
   "id": "2cffcd41-8c9e-4ad2-9245-4e38aa3b4e1b",
   "metadata": {},
   "source": [
    "canonical sequence has all the residue identities for the chain"
   ]
  },
  {
   "cell_type": "code",
   "execution_count": 41,
   "id": "61314dee-a744-4459-81b6-e601673f2874",
   "metadata": {},
   "outputs": [
    {
     "data": {
      "text/plain": [
       "658"
      ]
     },
     "execution_count": 41,
     "metadata": {},
     "output_type": "execute_result"
    }
   ],
   "source": [
    "len(chain.can_seq)"
   ]
  },
  {
   "cell_type": "code",
   "execution_count": 42,
   "id": "5e022cda-ee29-4a51-aef9-bd10c4b13136",
   "metadata": {},
   "outputs": [
    {
     "data": {
      "application/vnd.jupyter.widget-view+json": {
       "model_id": "a7a8d21f20234ba291f1752498b79189",
       "version_major": 2,
       "version_minor": 0
      },
      "text/plain": [
       "NGLWidget()"
      ]
     },
     "metadata": {},
     "output_type": "display_data"
    },
    {
     "name": "stdout",
     "output_type": "stream",
     "text": [
      "<Polypeptide(L) id=A Residues=555>\n",
      "  Description: ALKYLDIHYDROXYACETONEPHOSPHATE SYNTHASE, PEROXISOMAL\n"
     ]
    }
   ],
   "source": [
    "chain"
   ]
  },
  {
   "cell_type": "markdown",
   "id": "b25be084-ff37-46a5-a901-1368c8c8a544",
   "metadata": {},
   "source": [
    "The masked sequence `masked_seq` displays the missing residues and their identities"
   ]
  },
  {
   "cell_type": "code",
   "execution_count": 43,
   "id": "b6e05b18-2ecc-4a71-bf4e-6ad171535b26",
   "metadata": {},
   "outputs": [
    {
     "name": "stdout",
     "output_type": "stream",
     "text": [
      "\u001b[91mM\u001b[0m\u001b[91mA\u001b[0m\u001b[91mE\u001b[0m\u001b[91mA\u001b[0m\u001b[91mA\u001b[0m\u001b[91mA\u001b[0m\u001b[91mA\u001b[0m\u001b[91mA\u001b[0m\u001b[91mA\u001b[0m\u001b[91mA\u001b[0m\u001b[91mA\u001b[0m\u001b[91mA\u001b[0m\u001b[91mA\u001b[0m\u001b[91mA\u001b[0m\u001b[91mG\u001b[0m\u001b[91mE\u001b[0m\u001b[91mT\u001b[0m\u001b[91mS\u001b[0m\u001b[91mA\u001b[0m\u001b[91mS\u001b[0m\u001b[91mS\u001b[0m\u001b[91mG\u001b[0m\u001b[91mS\u001b[0m\u001b[91mA\u001b[0m\u001b[91mA\u001b[0m\u001b[91mE\u001b[0m\u001b[91mR\u001b[0m\u001b[91mD\u001b[0m\u001b[91mP\u001b[0m\u001b[91mD\u001b[0m\u001b[91mQ\u001b[0m\u001b[91mD\u001b[0m\u001b[91mR\u001b[0m\u001b[91mA\u001b[0m\u001b[91mG\u001b[0m\u001b[91mR\u001b[0m\u001b[91mR\u001b[0m\u001b[91mL\u001b[0m\u001b[91mR\u001b[0m\u001b[91mV\u001b[0m\u001b[91mL\u001b[0m\u001b[91mS\u001b[0m\u001b[91mG\u001b[0m\u001b[91mH\u001b[0m\u001b[91mL\u001b[0m\u001b[91mL\u001b[0m\u001b[91mG\u001b[0m\u001b[91mR\u001b[0m\u001b[91mP\u001b[0m\u001b[91mQ\u001b[0m\u001b[91mE\u001b[0m\u001b[91mA\u001b[0m\u001b[91mL\u001b[0m\u001b[91mS\u001b[0m\u001b[91mT\u001b[0m\u001b[91mN\u001b[0m\u001b[91mE\u001b[0m\u001b[91mC\u001b[0m\u001b[91mK\u001b[0m\u001b[91mA\u001b[0m\u001b[91mR\u001b[0m\u001b[91mR\u001b[0m\u001b[91mA\u001b[0m\u001b[91mA\u001b[0m\u001b[91mS\u001b[0m\u001b[91mA\u001b[0m\u001b[91mA\u001b[0m\u001b[91mT\u001b[0m\u001b[91mA\u001b[0m\u001b[91mA\u001b[0m\u001b[91mP\u001b[0m\u001b[91mT\u001b[0m\u001b[91mA\u001b[0m\u001b[91mT\u001b[0m\u001b[91mP\u001b[0m\u001b[91mA\u001b[0m\u001b[91mA\u001b[0m\u001b[91mP\u001b[0m\u001b[91mE\u001b[0m\u001b[91mS\u001b[0mGIIPKKRQELMKWNGWGYNDSKFFLNKKGQLELTGKRYPLSGVALPTFKDWIQNTFGINLDHKT\u001b[91mT\u001b[0m\u001b[91mS\u001b[0m\u001b[91mK\u001b[0m\u001b[91mA\u001b[0m\u001b[91mS\u001b[0m\u001b[91mL\u001b[0m\u001b[91mN\u001b[0m\u001b[91mP\u001b[0m\u001b[91mS\u001b[0mDTPPSIVNEDFLHELKKTNISYSQEADDRVFRAHGHCLHEIFLLREGMFERIPDIVLWPTCHDDVVKIVNLACKYNLCIIPIGGGTSVSYGLMCPADETRTIISLDTSQMNRILWVDENNLTAHVEAGITGQELERQLKESGYCTGHEPDSLEFSTVGGWISTRASGMKKNIYGNIEDLVVHMKVVTPRGVIEKSCQGPRMSTGPDIHHFIMGSEGTLGVITEATIKIRPTPEYQKYGSVAFPNFEQGVACLREIAKQRCAPASIRLMDNQQFQFGHALKPQVSSIFTS\u001b[91mF\u001b[0m\u001b[91mL\u001b[0m\u001b[91mD\u001b[0m\u001b[91mG\u001b[0m\u001b[91mL\u001b[0m\u001b[91mK\u001b[0m\u001b[91mK\u001b[0m\u001b[91mF\u001b[0m\u001b[91mY\u001b[0m\u001b[91mI\u001b[0m\u001b[91mT\u001b[0m\u001b[91mK\u001b[0m\u001b[91mF\u001b[0m\u001b[91mK\u001b[0mGFDPNQLSVATLLFEGDREKVLQHEKQVYDIAAKFGGLAAGEDNGQRGYLLTYVIAYMRDLGLEYYIIGESFETSAPWDRVVDLCRNVKERIRRECKEKGVQFPPLSTCRVTQTYDAGACIYFYFAFNYRGISDPLAVFEQTEAAAREEILANGGSLSHHHGVGKLRKQWLKESISDVGFGMLKSVKDYVDPTNIFGNRNLL\n"
     ]
    }
   ],
   "source": [
    "chain.masked_seq.show()"
   ]
  },
  {
   "cell_type": "markdown",
   "id": "0ee32595-c3d0-47ed-a06b-561c8bc66122",
   "metadata": {},
   "source": [
    "Alternatively, the `missing_res` attribute also shows the missing residues' sequence number and resname"
   ]
  },
  {
   "cell_type": "code",
   "execution_count": 44,
   "id": "9b6654d1-5d9a-4fe7-ba70-0809b7702b04",
   "metadata": {
    "collapsed": true,
    "jupyter": {
     "outputs_hidden": true
    },
    "tags": []
   },
   "outputs": [
    {
     "data": {
      "text/plain": [
       "[(1, 'MET'),\n",
       " (2, 'ALA'),\n",
       " (3, 'GLU'),\n",
       " (4, 'ALA'),\n",
       " (5, 'ALA'),\n",
       " (6, 'ALA'),\n",
       " (7, 'ALA'),\n",
       " (8, 'ALA'),\n",
       " (9, 'ALA'),\n",
       " (10, 'ALA'),\n",
       " (11, 'ALA'),\n",
       " (12, 'ALA'),\n",
       " (13, 'ALA'),\n",
       " (14, 'ALA'),\n",
       " (15, 'GLY'),\n",
       " (16, 'GLU'),\n",
       " (17, 'THR'),\n",
       " (18, 'SER'),\n",
       " (19, 'ALA'),\n",
       " (20, 'SER'),\n",
       " (21, 'SER'),\n",
       " (22, 'GLY'),\n",
       " (23, 'SER'),\n",
       " (24, 'ALA'),\n",
       " (25, 'ALA'),\n",
       " (26, 'GLU'),\n",
       " (27, 'ARG'),\n",
       " (28, 'ASP'),\n",
       " (29, 'PRO'),\n",
       " (30, 'ASP'),\n",
       " (31, 'GLN'),\n",
       " (32, 'ASP'),\n",
       " (33, 'ARG'),\n",
       " (34, 'ALA'),\n",
       " (35, 'GLY'),\n",
       " (36, 'ARG'),\n",
       " (37, 'ARG'),\n",
       " (38, 'LEU'),\n",
       " (39, 'ARG'),\n",
       " (40, 'VAL'),\n",
       " (41, 'LEU'),\n",
       " (42, 'SER'),\n",
       " (43, 'GLY'),\n",
       " (44, 'HIS'),\n",
       " (45, 'LEU'),\n",
       " (46, 'LEU'),\n",
       " (47, 'GLY'),\n",
       " (48, 'ARG'),\n",
       " (49, 'PRO'),\n",
       " (50, 'GLN'),\n",
       " (51, 'GLU'),\n",
       " (52, 'ALA'),\n",
       " (53, 'LEU'),\n",
       " (54, 'SER'),\n",
       " (55, 'THR'),\n",
       " (56, 'ASN'),\n",
       " (57, 'GLU'),\n",
       " (58, 'CYS'),\n",
       " (59, 'LYS'),\n",
       " (60, 'ALA'),\n",
       " (61, 'ARG'),\n",
       " (62, 'ARG'),\n",
       " (63, 'ALA'),\n",
       " (64, 'ALA'),\n",
       " (65, 'SER'),\n",
       " (66, 'ALA'),\n",
       " (67, 'ALA'),\n",
       " (68, 'THR'),\n",
       " (69, 'ALA'),\n",
       " (70, 'ALA'),\n",
       " (71, 'PRO'),\n",
       " (72, 'THR'),\n",
       " (73, 'ALA'),\n",
       " (74, 'THR'),\n",
       " (75, 'PRO'),\n",
       " (76, 'ALA'),\n",
       " (77, 'ALA'),\n",
       " (78, 'PRO'),\n",
       " (79, 'GLU'),\n",
       " (80, 'SER'),\n",
       " (145, 'THR'),\n",
       " (146, 'SER'),\n",
       " (147, 'LYS'),\n",
       " (148, 'ALA'),\n",
       " (149, 'SER'),\n",
       " (150, 'LEU'),\n",
       " (151, 'ASN'),\n",
       " (152, 'PRO'),\n",
       " (153, 'SER'),\n",
       " (443, 'PHE'),\n",
       " (444, 'LEU'),\n",
       " (445, 'ASP'),\n",
       " (446, 'GLY'),\n",
       " (447, 'LEU'),\n",
       " (448, 'LYS'),\n",
       " (449, 'LYS'),\n",
       " (450, 'PHE'),\n",
       " (451, 'TYR'),\n",
       " (452, 'ILE'),\n",
       " (453, 'THR'),\n",
       " (454, 'LYS'),\n",
       " (455, 'PHE'),\n",
       " (456, 'LYS')]"
      ]
     },
     "execution_count": 44,
     "metadata": {},
     "output_type": "execute_result"
    }
   ],
   "source": [
    "chain.missing_res"
   ]
  },
  {
   "cell_type": "markdown",
   "id": "0e88e7c5-39a1-4ff2-acc7-8096389e0b0d",
   "metadata": {},
   "source": [
    "`ChainLoopBuilder` is the class that facilitate the loop building using homology models or Alphafold structure. It will query RCSB for sequence search with an identity score cutoff to find the homology models, and if any model contains the loop structure, it will be superimposed and transfer these loop residues to the chain being fixed.\n",
    "\n",
    "If no homology models available for fixing the chain, AlphaFold structure can also be used."
   ]
  },
  {
   "cell_type": "code",
   "execution_count": 6,
   "id": "8d15a0d3-9a94-4eae-91e7-b7f0c782f719",
   "metadata": {},
   "outputs": [],
   "source": [
    "looper = ChainLoopBuilder(chain)\n",
    "looper.build_from_homology(\n",
    "    max_num_match = 10, identity_score_cutoff = 0.95\n",
    ")"
   ]
  },
  {
   "cell_type": "code",
   "execution_count": 7,
   "id": "1e7bdba2-1bcd-4280-a47d-a207756c7eef",
   "metadata": {},
   "outputs": [
    {
     "name": "stdout",
     "output_type": "stream",
     "text": [
      "\u001b[91mM\u001b[0m\u001b[91mA\u001b[0m\u001b[91mE\u001b[0m\u001b[91mA\u001b[0m\u001b[91mA\u001b[0m\u001b[91mA\u001b[0m\u001b[91mA\u001b[0m\u001b[91mA\u001b[0m\u001b[91mA\u001b[0m\u001b[91mA\u001b[0m\u001b[91mA\u001b[0m\u001b[91mA\u001b[0m\u001b[91mA\u001b[0m\u001b[91mA\u001b[0m\u001b[91mG\u001b[0m\u001b[91mE\u001b[0m\u001b[91mT\u001b[0m\u001b[91mS\u001b[0m\u001b[91mA\u001b[0m\u001b[91mS\u001b[0m\u001b[91mS\u001b[0m\u001b[91mG\u001b[0m\u001b[91mS\u001b[0m\u001b[91mA\u001b[0m\u001b[91mA\u001b[0m\u001b[91mE\u001b[0m\u001b[91mR\u001b[0m\u001b[91mD\u001b[0m\u001b[91mP\u001b[0m\u001b[91mD\u001b[0m\u001b[91mQ\u001b[0m\u001b[91mD\u001b[0m\u001b[91mR\u001b[0m\u001b[91mA\u001b[0m\u001b[91mG\u001b[0m\u001b[91mR\u001b[0m\u001b[91mR\u001b[0m\u001b[91mL\u001b[0m\u001b[91mR\u001b[0m\u001b[91mV\u001b[0m\u001b[91mL\u001b[0m\u001b[91mS\u001b[0m\u001b[91mG\u001b[0m\u001b[91mH\u001b[0m\u001b[91mL\u001b[0m\u001b[91mL\u001b[0m\u001b[91mG\u001b[0m\u001b[91mR\u001b[0m\u001b[91mP\u001b[0m\u001b[91mQ\u001b[0m\u001b[91mE\u001b[0m\u001b[91mA\u001b[0m\u001b[91mL\u001b[0m\u001b[91mS\u001b[0m\u001b[91mT\u001b[0m\u001b[91mN\u001b[0m\u001b[91mE\u001b[0m\u001b[91mC\u001b[0m\u001b[91mK\u001b[0m\u001b[91mA\u001b[0m\u001b[91mR\u001b[0m\u001b[91mR\u001b[0m\u001b[91mA\u001b[0m\u001b[91mA\u001b[0m\u001b[91mS\u001b[0m\u001b[91mA\u001b[0m\u001b[91mA\u001b[0m\u001b[91mT\u001b[0m\u001b[91mA\u001b[0m\u001b[91mA\u001b[0m\u001b[91mP\u001b[0m\u001b[91mT\u001b[0m\u001b[91mA\u001b[0m\u001b[91mT\u001b[0m\u001b[91mP\u001b[0m\u001b[91mA\u001b[0m\u001b[91mA\u001b[0m\u001b[91mP\u001b[0m\u001b[91mE\u001b[0m\u001b[91mS\u001b[0mGIIPKKRQELMKWNGWGYNDSKFFLNKKGQLELTGKRYPLSGVALPTFKDWIQNTFGINLDHKTTSKASLNPSDTPPSIVNEDFLHELKKTNISYSQEADDRVFRAHGHCLHEIFLLREGMFERIPDIVLWPTCHDDVVKIVNLACKYNLCIIPIGGGTSVSYGLMCPADETRTIISLDTSQMNRILWVDENNLTAHVEAGITGQELERQLKESGYCTGHEPDSLEFSTVGGWISTRASGMKKNIYGNIEDLVVHMKVVTPRGVIEKSCQGPRMSTGPDIHHFIMGSEGTLGVITEATIKIRPTPEYQKYGSVAFPNFEQGVACLREIAKQRCAPASIRLMDNQQFQFGHALKPQVSSIFTSFLDGLKKFYITKFKGFDPNQLSVATLLFEGDREKVLQHEKQVYDIAAKFGGLAAGEDNGQRGYLLTYVIAYMRDLGLEYYIIGESFETSAPWDRVVDLCRNVKERIRRECKEKGVQFPPLSTCRVTQTYDAGACIYFYFAFNYRGISDPLAVFEQTEAAAREEILANGGSLSHHHGVGKLRKQWLKESISDVGFGMLKSVKDYVDPTNIFGNRNLL\n"
     ]
    }
   ],
   "source": [
    "final_chain = looper.get_chain()\n",
    "final_chain.masked_seq.show()"
   ]
  },
  {
   "cell_type": "code",
   "execution_count": 8,
   "id": "43e0508a-2592-44bf-b874-be24de790b8d",
   "metadata": {},
   "outputs": [],
   "source": [
    "looper = ChainLoopBuilder(chain)\n",
    "# missing terminals will also be built if `include_terminal = True`\n",
    "looper.build_from_alphafold(include_terminal = False)"
   ]
  },
  {
   "cell_type": "code",
   "execution_count": 9,
   "id": "4e94de6f-5c41-4302-b95d-b0d161d99e46",
   "metadata": {},
   "outputs": [
    {
     "name": "stdout",
     "output_type": "stream",
     "text": [
      "\u001b[91mM\u001b[0m\u001b[91mA\u001b[0m\u001b[91mE\u001b[0m\u001b[91mA\u001b[0m\u001b[91mA\u001b[0m\u001b[91mA\u001b[0m\u001b[91mA\u001b[0m\u001b[91mA\u001b[0m\u001b[91mA\u001b[0m\u001b[91mA\u001b[0m\u001b[91mA\u001b[0m\u001b[91mA\u001b[0m\u001b[91mA\u001b[0m\u001b[91mA\u001b[0m\u001b[91mG\u001b[0m\u001b[91mE\u001b[0m\u001b[91mT\u001b[0m\u001b[91mS\u001b[0m\u001b[91mA\u001b[0m\u001b[91mS\u001b[0m\u001b[91mS\u001b[0m\u001b[91mG\u001b[0m\u001b[91mS\u001b[0m\u001b[91mA\u001b[0m\u001b[91mA\u001b[0m\u001b[91mE\u001b[0m\u001b[91mR\u001b[0m\u001b[91mD\u001b[0m\u001b[91mP\u001b[0m\u001b[91mD\u001b[0m\u001b[91mQ\u001b[0m\u001b[91mD\u001b[0m\u001b[91mR\u001b[0m\u001b[91mA\u001b[0m\u001b[91mG\u001b[0m\u001b[91mR\u001b[0m\u001b[91mR\u001b[0m\u001b[91mL\u001b[0m\u001b[91mR\u001b[0m\u001b[91mV\u001b[0m\u001b[91mL\u001b[0m\u001b[91mS\u001b[0m\u001b[91mG\u001b[0m\u001b[91mH\u001b[0m\u001b[91mL\u001b[0m\u001b[91mL\u001b[0m\u001b[91mG\u001b[0m\u001b[91mR\u001b[0m\u001b[91mP\u001b[0m\u001b[91mQ\u001b[0m\u001b[91mE\u001b[0m\u001b[91mA\u001b[0m\u001b[91mL\u001b[0m\u001b[91mS\u001b[0m\u001b[91mT\u001b[0m\u001b[91mN\u001b[0m\u001b[91mE\u001b[0m\u001b[91mC\u001b[0m\u001b[91mK\u001b[0m\u001b[91mA\u001b[0m\u001b[91mR\u001b[0m\u001b[91mR\u001b[0m\u001b[91mA\u001b[0m\u001b[91mA\u001b[0m\u001b[91mS\u001b[0m\u001b[91mA\u001b[0m\u001b[91mA\u001b[0m\u001b[91mT\u001b[0m\u001b[91mA\u001b[0m\u001b[91mA\u001b[0m\u001b[91mP\u001b[0m\u001b[91mT\u001b[0m\u001b[91mA\u001b[0m\u001b[91mT\u001b[0m\u001b[91mP\u001b[0m\u001b[91mA\u001b[0m\u001b[91mA\u001b[0m\u001b[91mP\u001b[0m\u001b[91mE\u001b[0m\u001b[91mS\u001b[0mGIIPKKRQELMKWNGWGYNDSKFFLNKKGQLELTGKRYPLSGVALPTFKDWIQNTFGINLDHKTTSKASLNPSDTPPSIVNEDFLHELKKTNISYSQEADDRVFRAHGHCLHEIFLLREGMFERIPDIVLWPTCHDDVVKIVNLACKYNLCIIPIGGGTSVSYGLMCPADETRTIISLDTSQMNRILWVDENNLTAHVEAGITGQELERQLKESGYCTGHEPDSLEFSTVGGWISTRASGMKKNIYGNIEDLVVHMKVVTPRGVIEKSCQGPRMSTGPDIHHFIMGSEGTLGVITEATIKIRPTPEYQKYGSVAFPNFEQGVACLREIAKQRCAPASIRLMDNQQFQFGHALKPQVSSIFTSFLDGLKKFYITKFKGFDPNQLSVATLLFEGDREKVLQHEKQVYDIAAKFGGLAAGEDNGQRGYLLTYVIAYMRDLGLEYYIIGESFETSAPWDRVVDLCRNVKERIRRECKEKGVQFPPLSTCRVTQTYDAGACIYFYFAFNYRGISDPLAVFEQTEAAAREEILANGGSLSHHHGVGKLRKQWLKESISDVGFGMLKSVKDYVDPTNIFGNRNLL\n"
     ]
    }
   ],
   "source": [
    "final_chain = looper.get_chain()\n",
    "final_chain.masked_seq.show()"
   ]
  },
  {
   "cell_type": "markdown",
   "id": "baebca79-9c03-4c85-8267-82a234eba864",
   "metadata": {},
   "source": [
    "The `highlight_repaired_gaps()` method will visualize what the repaired loop. However, as you can see in the example below, the loops are not connected to the chain, and structure minimization is needed. For this, we will use pyCHARMM's minimization routine."
   ]
  },
  {
   "cell_type": "code",
   "execution_count": 10,
   "id": "75ad81c7-7b2d-4984-9a06-7f468833071e",
   "metadata": {},
   "outputs": [
    {
     "data": {
      "application/vnd.jupyter.widget-view+json": {
       "model_id": "e7b8279160574470ad4a1d61fa118c45",
       "version_major": 2,
       "version_minor": 0
      },
      "text/plain": [
       "View()"
      ]
     },
     "metadata": {},
     "output_type": "display_data"
    }
   ],
   "source": [
    "looper.highlight_repaired_gaps()"
   ]
  },
  {
   "cell_type": "markdown",
   "id": "fb189e3a-a4be-44bd-9267-ab414e130063",
   "metadata": {},
   "source": [
    "## Generate Topology and Load Parameter for the Chain\n",
    "\n",
    "Before we load any chain into pyCHARM, the topology and parameter need to be generated"
   ]
  },
  {
   "cell_type": "code",
   "execution_count": 19,
   "id": "86b5c665-69d8-436d-9f75-ebbfa1386e5b",
   "metadata": {
    "collapsed": true,
    "jupyter": {
     "outputs_hidden": true
    },
    "tags": []
   },
   "outputs": [
    {
     "name": "stdout",
     "output_type": "stream",
     "text": [
      "  \n",
      " CHARMM>     read rtf card -\n",
      " CHARMM>     name /tmp/tmpisnfjxj3\n",
      " VOPEN> Attempting to open::/tmp/tmpisnfjxj3::\n",
      " MAINIO> Residue topology file being read from unit  91.\n",
      " TITLE> *RTF LOADED FROM CRIMM\n",
      " TITLE> 36  2\n",
      " VCLOSE: Closing unit   91 with status \"KEEP\"\n",
      "  \n",
      " CHARMM>     \n",
      "  \n",
      "  \n",
      " CHARMM>     read param card -\n",
      " CHARMM>     name /tmp/tmpl79xk_jt -\n",
      " CHARMM>     flex\n",
      " VOPEN> Attempting to open::/tmp/tmpl79xk_jt::\n",
      "\n",
      "          PARAMETER FILE BEING READ FROM UNIT 91\n",
      " TITLE> *PRM LOADED FROM CRIMM\n",
      " TITLE> *>>>> CHARMM36 ALL-HYDROGEN PARAMETER FILE FOR PROTEINS <<<<<<<<<<\n",
      " TITLE> *>>>>> INCLUDES PHI, PSI CROSS TERM MAP (CMAP) CORRECTION <<<<<<<<\n",
      " TITLE> *>>>>>>>>>>>>>>>>>>>>>>>>>> JAN. 2016 <<<<<<<<<<<<<<<<<<<<<<<<<<<<\n",
      " TITLE> * ALL COMMENTS TO THE CHARMM WEB SITE: WWW.CHARMM.ORG\n",
      " TITLE> *             PARAMETER SET DISCUSSION FORUM\n",
      " TITLE> *\n",
      " PARMIO> NONBOND, HBOND lists and IMAGE atoms cleared.\n",
      " VCLOSE: Closing unit   91 with status \"KEEP\"\n",
      "  \n",
      " CHARMM>     \n",
      "  \n"
     ]
    }
   ],
   "source": [
    "# get residue topology definitions for protein\n",
    "topo = TopologyLoader('protein')\n",
    "param = ParameterLoader('protein')\n",
    "param.fill_ic(topo)\n",
    "\n",
    "# load these rtf and param files into pyCHARMM too\n",
    "load_topology(topo)\n",
    "load_parameters(param)"
   ]
  },
  {
   "cell_type": "code",
   "execution_count": 12,
   "id": "bdfe4696-2b05-4e07-a57e-80d33edcb7dd",
   "metadata": {},
   "outputs": [
    {
     "name": "stderr",
     "output_type": "stream",
     "text": [
      "/home/truman/crimm/crimm/Modeller/ParamLoader.py:167: UserWarning: No cmap found in <Polypeptide(L) id=A Residues=578>.\n",
      "  warnings.warn(\n"
     ]
    }
   ],
   "source": [
    "topo.generate_chain_topology(\n",
    "    final_chain, first_patch = 'ACE', last_patch = 'CT3', coerce = True\n",
    ")\n",
    "param.fill_ic(topo)\n",
    "param.apply(final_chain.topo_elements)\n",
    "built_atoms = fix_chain(final_chain)"
   ]
  },
  {
   "cell_type": "markdown",
   "id": "beb38296-a49b-4d86-8aa2-afa46b7ca987",
   "metadata": {},
   "source": [
    "## Load Chain and Minimize in pyCHARMM"
   ]
  },
  {
   "cell_type": "code",
   "execution_count": 13,
   "id": "5c213453-8f27-455f-8a04-c9a0946a31b6",
   "metadata": {
    "collapsed": true,
    "jupyter": {
     "outputs_hidden": true
    },
    "tags": []
   },
   "outputs": [
    {
     "name": "stdout",
     "output_type": "stream",
     "text": [
      "  \n",
      " CHARMM>     read sequence pdb -\n",
      " CHARMM>     name /tmp/tmpq8_ihzlh\n",
      " VOPEN> Attempting to open::/tmp/tmpq8_ihzlh::\n",
      " MAINIO> Sequence information being read from unit  91.\n",
      " TITLE>  *\n",
      "\n",
      "          RESIDUE SEQUENCE --   578 RESIDUES\n",
      "          GLY ILE ILE PRO LYS LYS ARG GLN GLU LEU MET LYS TRP ASN GLY TRP GLY TYR ASN ASP \n",
      "          SER LYS PHE PHE LEU ASN LYS LYS GLY GLN LEU GLU LEU THR GLY LYS ARG TYR PRO LEU \n",
      "          SER GLY VAL ALA LEU PRO THR PHE LYS ASP TRP ILE GLN ASN THR PHE GLY ILE ASN LEU \n",
      "          ASP HSD LYS THR THR SER LYS ALA SER LEU ASN PRO SER ASP THR PRO PRO SER ILE VAL \n",
      "          ASN GLU ASP PHE LEU HSD GLU LEU LYS LYS THR ASN ILE SER TYR SER GLN GLU ALA ASP \n",
      "          ASP ARG VAL PHE ARG ALA HSD GLY HSD CYS LEU HSD GLU ILE PHE LEU LEU ARG GLU GLY \n",
      "          MET PHE GLU ARG ILE PRO ASP ILE VAL LEU TRP PRO THR CYS HSD ASP ASP VAL VAL LYS \n",
      "          ILE VAL ASN LEU ALA CYS LYS TYR ASN LEU CYS ILE ILE PRO ILE GLY GLY GLY THR SER \n",
      "          VAL SER TYR GLY LEU MET CYS PRO ALA ASP GLU THR ARG THR ILE ILE SER LEU ASP THR \n",
      "          SER GLN MET ASN ARG ILE LEU TRP VAL ASP GLU ASN ASN LEU THR ALA HSD VAL GLU ALA \n",
      "          GLY ILE THR GLY GLN GLU LEU GLU ARG GLN LEU LYS GLU SER GLY TYR CYS THR GLY HSD \n",
      "          GLU PRO ASP SER LEU GLU PHE SER THR VAL GLY GLY TRP ILE SER THR ARG ALA SER GLY \n",
      "          MET LYS LYS ASN ILE TYR GLY ASN ILE GLU ASP LEU VAL VAL HSD MET LYS VAL VAL THR \n",
      "          PRO ARG GLY VAL ILE GLU LYS SER CYS GLN GLY PRO ARG MET SER THR GLY PRO ASP ILE \n",
      "          HSD HSD PHE ILE MET GLY SER GLU GLY THR LEU GLY VAL ILE THR GLU ALA THR ILE LYS \n",
      "          ILE ARG PRO THR PRO GLU TYR GLN LYS TYR GLY SER VAL ALA PHE PRO ASN PHE GLU GLN \n",
      "          GLY VAL ALA CYS LEU ARG GLU ILE ALA LYS GLN ARG CYS ALA PRO ALA SER ILE ARG LEU \n",
      "          MET ASP ASN GLN GLN PHE GLN PHE GLY HSD ALA LEU LYS PRO GLN VAL SER SER ILE PHE \n",
      "          THR SER PHE LEU ASP GLY LEU LYS LYS PHE TYR ILE THR LYS PHE LYS GLY PHE ASP PRO \n",
      "          ASN GLN LEU SER VAL ALA THR LEU LEU PHE GLU GLY ASP ARG GLU LYS VAL LEU GLN HSD \n",
      "          GLU LYS GLN VAL TYR ASP ILE ALA ALA LYS PHE GLY GLY LEU ALA ALA GLY GLU ASP ASN \n",
      "          GLY GLN ARG GLY TYR LEU LEU THR TYR VAL ILE ALA TYR MET ARG ASP LEU GLY LEU GLU \n",
      "          TYR TYR ILE ILE GLY GLU SER PHE GLU THR SER ALA PRO TRP ASP ARG VAL VAL ASP LEU \n",
      "          CYS ARG ASN VAL LYS GLU ARG ILE ARG ARG GLU CYS LYS GLU LYS GLY VAL GLN PHE PRO \n",
      "          PRO LEU SER THR CYS ARG VAL THR GLN THR TYR ASP ALA GLY ALA CYS ILE TYR PHE TYR \n",
      "          PHE ALA PHE ASN TYR ARG GLY ILE SER ASP PRO LEU ALA VAL PHE GLU GLN THR GLU ALA \n",
      "          ALA ALA ARG GLU GLU ILE LEU ALA ASN GLY GLY SER LEU SER HSD HSD HSD GLY VAL GLY \n",
      "          LYS LEU ARG LYS GLN TRP LEU LYS GLU SER ILE SER ASP VAL GLY PHE GLY MET LEU LYS \n",
      "          SER VAL LYS ASP TYR VAL ASP PRO THR ASN ILE PHE GLY ASN ARG ASN LEU LEU \n",
      " ***** Message from SEQRDR ***** THE SYSTEM CONTAINS143 TITRATABLE GROUPS\n",
      " THE USER MUST PREDETERMINE THE PROTONATION STATE THROUGH THE SEQUENCE AND RTF\n",
      " HIS -  0  HSD - 16  HSE -  0  HSP -  0  ASP - 30  GLU - 38  LYS - 38  TYR - 21\n",
      " VCLOSE: Closing unit   91 with status \"KEEP\"\n",
      "  \n",
      " CHARMM>     \n",
      "  \n",
      " THE PATCH 'ACE' WILL BE USED FOR THE FIRST RESIDUE\n",
      " THE PATCH 'CT3' WILL BE USED FOR THE LAST  RESIDUE\n",
      " AUTGEN: Autogenerating specified angles and dihedrals.\n",
      " GENPSF> Segment   1 has been generated. Its identifier is PROA.\n",
      " PSFSUM> PSF modified: NONBOND lists and IMAGE atoms cleared.\n",
      " PSFSUM> Summary of the structure file counters :\n",
      "         Number of segments      =        1   Number of residues   =      578\n",
      "         Number of atoms         =     9122   Number of groups     =     2744\n",
      "         Number of bonds         =     9228   Number of angles     =    16665\n",
      "         Number of dihedrals     =    24447   Number of impropers  =     1601\n",
      "         Number of cross-terms   =      578   Number of autogens   =        0\n",
      "         Number of HB acceptors  =      868   Number of HB donors  =     1035\n",
      "         Number of NB exclusions =        0   Total charge =   -1.00000\n",
      "  \n",
      " CHARMM>     read coor pdb -\n",
      " CHARMM>     name /tmp/tmpq8_ihzlh -\n",
      " CHARMM>     resi\n",
      " VOPEN> Attempting to open::/tmp/tmpq8_ihzlh::\n",
      "  read CHARMM-pdb format\n",
      "          SPATIAL COORDINATES BEING READ FROM UNIT 91\n",
      " TITLE>  *\n",
      " VCLOSE: Closing unit   91 with status \"KEEP\"\n",
      "  \n",
      " CHARMM>     \n",
      "  \n"
     ]
    }
   ],
   "source": [
    "load_chain(final_chain)"
   ]
  },
  {
   "cell_type": "code",
   "execution_count": 14,
   "id": "5676b7d1-2f09-411e-81e2-b0773cfc701c",
   "metadata": {
    "collapsed": true,
    "jupyter": {
     "outputs_hidden": true
    },
    "tags": []
   },
   "outputs": [
    {
     "name": "stdout",
     "output_type": "stream",
     "text": [
      " CSTRAN: Harmonic Restraints\n",
      "          ABSOlute type as set number  1.  Number of selected atoms:    578\n",
      "          Reference coordinates set to main coordinates.\n",
      "          Mass weighting will NOT be used for new restraints.\n",
      "          The force constant of       0.00000 will be used.\n",
      "          An exponent of  2 will be used.\n",
      "          The XYZ scale factors are:       1.00000       1.00000       1.00000\n",
      "          A total of      0 atoms are restrained.\n",
      "\n",
      " NONBOND OPTION FLAGS: \n",
      "     ELEC     VDW      ATOMs    CDIElec  FSHIft   VATOm    VFSWIt  \n",
      "     BYGRoup  NOEXtnd  NOEWald \n",
      " CUTNB  = 14.000 CTEXNB =999.000 CTONNB = 10.000 CTOFNB = 12.000\n",
      " CGONNB =  0.000 CGOFNB = 10.000\n",
      " WMIN   =  1.500 WRNMXD =  0.500 E14FAC =  1.000 EPS    =  1.000\n",
      " NBXMOD =      5\n",
      " There are        0 atom  pairs and        0 atom  exclusions.\n",
      " There are        0 group pairs and        0 group exclusions.\n",
      " <MAKINB> with mode   5 found  25893 exclusions and  24028 interactions(1-4)\n",
      " <MAKGRP> found   8070 group exclusions.\n",
      " Generating nonbond list with Exclusion mode = 5\n",
      " == PRIMARY == SPACE FOR  2621221 ATOM PAIRS AND        0 GROUP PAIRS\n",
      " == PRIMARY == SPACE FOR  3931851 ATOM PAIRS AND        0 GROUP PAIRS\n",
      "\n",
      " General atom nonbond list generation found:\n",
      "  3239450 ATOM PAIRS WERE FOUND FOR ATOM LIST\n",
      "   183298 GROUP PAIRS REQUIRED ATOM SEARCHES\n",
      "\n",
      " PRNHBD: CUToff Hydrogen Bond  distance =    0.5000   Angle =   90.0000\n",
      "         CuT switching ON HB dist. =     3.5000  OFf HB dist. =    4.0000\n",
      "         CuT switching ON Hb Angle =    50.0000  OFf Hb Angle =   70.0000\n",
      "         ACCEptor antecedents included\n",
      "         All hydrogen bonds for each hydrogen will be found\n",
      "         Hydrogen bonds between excluded atoms will be kept\n",
      "\n",
      "\n",
      "\n",
      " STEEPD> An energy minimization has been requested.\n",
      "\n",
      " NSTEP  =          300   NPRINT =           10\n",
      " STEP   =    0.0200000   TOLFUN =    0.0000000\n",
      " TOLGRD =    0.0000000   TOLSTP =    0.0000000\n",
      "\n",
      "MINI MIN: Cycle      ENERgy      Delta-E         GRMS    Step-size\n",
      "MINI INTERN:          BONDs       ANGLes       UREY-b    DIHEdrals    IMPRopers\n",
      "MINI CROSS:           CMAPs        PMF1D        PMF2D        PRIMO\n",
      "MINI EXTERN:        VDWaals         ELEC       HBONds          ASP         USER\n",
      " ----------       ---------    ---------    ---------    ---------    ---------\n",
      "MINI>        0 94540201.331        0.000 15095161.312        0.020\n",
      "MINI INTERN>     6757.94972   2974.07467    389.67334   5567.64201    551.00977\n",
      "MINI CROSS>      -145.45488      0.00000      0.00000      0.00000\n",
      "MINI EXTERN>   94531758.818    -7652.382        0.000        0.000        0.000\n",
      " ----------       ---------    ---------    ---------    ---------    ---------\n",
      " EPHI: WARNING. bent improper torsion angle is \n",
      "\n",
      "far from minimum for;\n",
      "    IPHI= 1018  with deltaPHI=  93.6707 MIN=   0.0000 ATOMS: 5717 5715 5719 5718\n",
      " EPHI: WARNING. bent improper torsion angle is \n",
      "\n",
      "far from minimum for;\n",
      "    IPHI= 1018  with deltaPHI=  92.1273 MIN=   0.0000 ATOMS: 5717 5715 5719 5718\n",
      " EPHI: WARNING. bent improper torsion angle is \n",
      "\n",
      "far from minimum for;\n",
      "    IPHI= 1014  with deltaPHI= 122.0244 MIN=   0.0000 ATOMS: 5678 5676 5680 5679\n",
      "MINI>       10     6900.992 94533300.339       21.877        0.009\n",
      "MINI INTERN>     5504.98511   3094.87133    326.48750   5585.99789    480.30974\n",
      "MINI CROSS>      -164.77334      0.00000      0.00000      0.00000\n",
      "MINI EXTERN>     -321.84534  -7605.04109      0.00000      0.00000      0.00000\n",
      " ----------       ---------    ---------    ---------    ---------    ---------\n",
      " EPHI: WARNING. bent improper torsion angle is \n",
      "\n",
      "far from minimum for;\n",
      "    IPHI= 1014  with deltaPHI=  91.4986 MIN=   0.0000 ATOMS: 5678 5676 5680 5679\n",
      "MINI>       20   -787.43764   7688.42942      3.14290      0.00401\n",
      "MINI INTERN>      724.54817   2045.95203    169.79380   5496.30571    142.04784\n",
      "MINI CROSS>      -204.29655      0.00000      0.00000      0.00000\n",
      "MINI EXTERN>    -1391.69590  -7770.09275      0.00000      0.00000      0.00000\n",
      " ----------       ---------    ---------    ---------    ---------    ---------\n",
      "MINI>       30  -1836.69923   1049.26159      7.41026      0.00431\n",
      "MINI INTERN>      689.64982   1768.73651    137.87154   5447.43695    118.81408\n",
      "MINI CROSS>      -226.68691      0.00000      0.00000      0.00000\n",
      "MINI EXTERN>    -1802.70279  -7969.81844      0.00000      0.00000      0.00000\n",
      " ----------       ---------    ---------    ---------    ---------    ---------\n",
      "MINI>       40  -2535.27431    698.57508      1.34694      0.00193\n",
      "MINI INTERN>      525.75601   1622.85904    125.47860   5420.44895     92.02595\n",
      "MINI CROSS>      -239.00522      0.00000      0.00000      0.00000\n",
      "MINI EXTERN>    -1967.54718  -8115.29047      0.00000      0.00000      0.00000\n",
      " ----------       ---------    ---------    ---------    ---------    ---------\n",
      " UPDECI: Nonbond update at step        50\n",
      " Generating nonbond list with Exclusion mode = 5\n",
      " == PRIMARY == SPACE FOR  3931851 ATOM PAIRS AND        0 GROUP PAIRS\n",
      "\n",
      " General atom nonbond list generation found:\n",
      "  3238007 ATOM PAIRS WERE FOUND FOR ATOM LIST\n",
      "   183143 GROUP PAIRS REQUIRED ATOM SEARCHES\n",
      "\n",
      "MINI>       50  -2822.13790    286.86359      3.38756      0.00208\n",
      "MINI INTERN>      541.28279   1591.39226    117.97019   5403.39567     87.69862\n",
      "MINI CROSS>      -248.48034      0.00000      0.00000      0.00000\n",
      "MINI EXTERN>    -2074.73673  -8240.66036      0.00000      0.00000      0.00000\n",
      " ----------       ---------    ---------    ---------    ---------    ---------\n",
      "MINI>       60  -3077.18121    255.04331      1.00131      0.00093\n",
      "MINI INTERN>      513.82208   1565.74110    112.99691   5391.51230     82.72696\n",
      "MINI CROSS>      -253.67847      0.00000      0.00000      0.00000\n",
      "MINI EXTERN>    -2153.57738  -8336.72471      0.00000      0.00000      0.00000\n",
      " ----------       ---------    ---------    ---------    ---------    ---------\n",
      "MINI>       70  -3242.75821    165.57700      1.13880      0.00100\n",
      "MINI INTERN>      515.26724   1555.68719    109.92299   5383.31555     81.16000\n",
      "MINI CROSS>      -258.01191      0.00000      0.00000      0.00000\n",
      "MINI EXTERN>    -2206.48946  -8423.60982      0.00000      0.00000      0.00000\n",
      " ----------       ---------    ---------    ---------    ---------    ---------\n",
      "MINI>       80  -3375.45674    132.69853      1.44997      0.00107\n",
      "MINI INTERN>      521.45132   1549.59338    107.75230   5377.05960     79.93205\n",
      "MINI CROSS>      -261.51044      0.00000      0.00000      0.00000\n",
      "MINI EXTERN>    -2248.32552  -8501.40943      0.00000      0.00000      0.00000\n",
      " ----------       ---------    ---------    ---------    ---------    ---------\n",
      "MINI>       90  -3484.07292    108.61618      1.63928      0.00116\n",
      "MINI INTERN>      524.69695   1546.68287    106.17698   5372.05033     79.30996\n",
      "MINI CROSS>      -264.20388      0.00000      0.00000      0.00000\n",
      "MINI EXTERN>    -2279.30989  -8569.47623      0.00000      0.00000      0.00000\n",
      " ----------       ---------    ---------    ---------    ---------    ---------\n",
      " UPDECI: Nonbond update at step       100\n",
      " Generating nonbond list with Exclusion mode = 5\n",
      " == PRIMARY == SPACE FOR  3931851 ATOM PAIRS AND        0 GROUP PAIRS\n",
      "\n",
      " General atom nonbond list generation found:\n",
      "  3237716 ATOM PAIRS WERE FOUND FOR ATOM LIST\n",
      "   183144 GROUP PAIRS REQUIRED ATOM SEARCHES\n",
      "\n",
      "MINI>      100  -3577.33518     93.26226      1.73528      0.00124\n",
      "MINI INTERN>      527.79152   1544.92597    105.04675   5367.67537     78.65529\n",
      "MINI CROSS>      -266.54598      0.00000      0.00000      0.00000\n",
      "MINI EXTERN>    -2303.88687  -8630.99723      0.00000      0.00000      0.00000\n",
      " ----------       ---------    ---------    ---------    ---------    ---------\n",
      "MINI>      110  -3659.89487     82.55969      1.93483      0.00133\n",
      "MINI INTERN>      529.61696   1545.64342    104.12181   5363.25787     78.66113\n",
      "MINI CROSS>      -268.63906      0.00000      0.00000      0.00000\n",
      "MINI EXTERN>    -2323.93072  -8688.62629      0.00000      0.00000      0.00000\n",
      " ----------       ---------    ---------    ---------    ---------    ---------\n",
      "MINI>      120  -3734.53453     74.63966      2.04258      0.00144\n",
      "MINI INTERN>      536.25908   1544.67535    103.40445   5358.92422     77.80077\n",
      "MINI CROSS>      -270.66720      0.00000      0.00000      0.00000\n",
      "MINI EXTERN>    -2341.95050  -8742.98071      0.00000      0.00000      0.00000\n",
      " ----------       ---------    ---------    ---------    ---------    ---------\n",
      "MINI>      130  -3824.67158     90.13705      0.68907      0.00064\n",
      "MINI INTERN>      516.71498   1540.23088    103.08745   5354.99767     78.06886\n",
      "MINI CROSS>      -272.88543      0.00000      0.00000      0.00000\n",
      "MINI EXTERN>    -2353.36580  -8791.52019      0.00000      0.00000      0.00000\n",
      " ----------       ---------    ---------    ---------    ---------    ---------\n",
      "MINI>      140  -3885.10207     60.43049      0.58578      0.00069\n",
      "MINI INTERN>      517.56201   1540.97518    102.66448   5350.68561     77.54656\n",
      "MINI CROSS>      -274.74905      0.00000      0.00000      0.00000\n",
      "MINI EXTERN>    -2365.70036  -8834.08650      0.00000      0.00000      0.00000\n",
      " ----------       ---------    ---------    ---------    ---------    ---------\n",
      " UPDECI: Nonbond update at step       150\n",
      " Generating nonbond list with Exclusion mode = 5\n",
      " == PRIMARY == SPACE FOR  3931851 ATOM PAIRS AND        0 GROUP PAIRS\n",
      "\n",
      " General atom nonbond list generation found:\n",
      "  3238028 ATOM PAIRS WERE FOUND FOR ATOM LIST\n",
      "   183103 GROUP PAIRS REQUIRED ATOM SEARCHES\n",
      "\n",
      "MINI>      150  -3946.80866     61.70658      1.01392      0.00074\n",
      "MINI INTERN>      521.52720   1541.45227    102.35428   5345.52987     77.32101\n",
      "MINI CROSS>      -277.17115      0.00000      0.00000      0.00000\n",
      "MINI EXTERN>    -2377.51861  -8880.30352      0.00000      0.00000      0.00000\n",
      " ----------       ---------    ---------    ---------    ---------    ---------\n",
      "MINI>      160  -3999.47368     52.66502      1.12648      0.00080\n",
      "MINI INTERN>      523.36026   1541.79720    102.08000   5340.85069     77.22206\n",
      "MINI CROSS>      -279.02610      0.00000      0.00000      0.00000\n",
      "MINI EXTERN>    -2386.97938  -8918.77840      0.00000      0.00000      0.00000\n",
      " ----------       ---------    ---------    ---------    ---------    ---------\n",
      "MINI>      170  -4051.77309     52.29941      1.19757      0.00086\n",
      "MINI INTERN>      525.64258   1541.82898    101.83721   5336.06995     77.01009\n",
      "MINI CROSS>      -280.75875      0.00000      0.00000      0.00000\n",
      "MINI EXTERN>    -2396.36816  -8957.03500      0.00000      0.00000      0.00000\n",
      " ----------       ---------    ---------    ---------    ---------    ---------\n",
      "MINI>      180  -4100.02171     48.24862      1.41015      0.00092\n",
      "MINI INTERN>      528.01174   1542.80199    101.64705   5331.38217     77.08740\n",
      "MINI CROSS>      -282.42265      0.00000      0.00000      0.00000\n",
      "MINI EXTERN>    -2404.72138  -8993.80804      0.00000      0.00000      0.00000\n",
      " ----------       ---------    ---------    ---------    ---------    ---------\n",
      "MINI>      190  -4150.85670     50.83499      0.46918      0.00041\n",
      "MINI INTERN>      523.55571   1543.23736    101.34392   5327.28092     76.46993\n",
      "MINI CROSS>      -283.53388      0.00000      0.00000      0.00000\n",
      "MINI EXTERN>    -2413.53237  -9025.67830      0.00000      0.00000      0.00000\n",
      " ----------       ---------    ---------    ---------    ---------    ---------\n",
      " UPDECI: Nonbond update at step       200\n",
      " Generating nonbond list with Exclusion mode = 5\n",
      " == PRIMARY == SPACE FOR  3931851 ATOM PAIRS AND        0 GROUP PAIRS\n",
      "\n",
      " General atom nonbond list generation found:\n",
      "  3238455 ATOM PAIRS WERE FOUND FOR ATOM LIST\n",
      "   183102 GROUP PAIRS REQUIRED ATOM SEARCHES\n",
      "\n",
      "MINI>      200  -4192.65593     41.79923      0.49576      0.00044\n",
      "MINI INTERN>      524.67004   1543.30722    101.18785   5323.53712     76.35579\n",
      "MINI CROSS>      -284.80866      0.00000      0.00000      0.00000\n",
      "MINI EXTERN>    -2420.02423  -9056.88106      0.00000      0.00000      0.00000\n",
      " ----------       ---------    ---------    ---------    ---------    ---------\n",
      "MINI>      210  -4218.85822     26.20228      1.70997      0.00115\n",
      "MINI INTERN>      535.64491   1542.50054    101.19802   5320.40449     76.50156\n",
      "MINI CROSS>      -286.03705      0.00000      0.00000      0.00000\n",
      "MINI EXTERN>    -2423.90473  -9085.16594      0.00000      0.00000      0.00000\n",
      " ----------       ---------    ---------    ---------    ---------    ---------\n",
      "MINI>      220  -4266.44480     47.58659      0.43594      0.00051\n",
      "MINI INTERN>      525.81073   1542.96167    100.94660   5317.28110     76.29386\n",
      "MINI CROSS>      -287.07049      0.00000      0.00000      0.00000\n",
      "MINI EXTERN>    -2429.94461  -9112.72367      0.00000      0.00000      0.00000\n",
      " ----------       ---------    ---------    ---------    ---------    ---------\n",
      "MINI>      230  -4302.08374     35.63894      0.41183      0.00055\n",
      "MINI INTERN>      526.41003   1542.77333    100.84318   5314.32676     76.28268\n",
      "MINI CROSS>      -288.13224      0.00000      0.00000      0.00000\n",
      "MINI EXTERN>    -2434.25664  -9140.33082      0.00000      0.00000      0.00000\n",
      " ----------       ---------    ---------    ---------    ---------    ---------\n",
      "MINI>      240  -4337.39719     35.31345      0.66174      0.00059\n",
      "MINI INTERN>      528.40574   1543.18071    100.72999   5311.28633     76.26418\n",
      "MINI CROSS>      -289.20004      0.00000      0.00000      0.00000\n",
      "MINI EXTERN>    -2438.46362  -9169.60047      0.00000      0.00000      0.00000\n",
      " ----------       ---------    ---------    ---------    ---------    ---------\n",
      " UPDECI: Nonbond update at step       250\n",
      " Generating nonbond list with Exclusion mode = 5\n",
      " == PRIMARY == SPACE FOR  3931851 ATOM PAIRS AND        0 GROUP PAIRS\n",
      "\n",
      " General atom nonbond list generation found:\n",
      "  3239008 ATOM PAIRS WERE FOUND FOR ATOM LIST\n",
      "   183223 GROUP PAIRS REQUIRED ATOM SEARCHES\n",
      "\n",
      "MINI>      250  -4367.04375     29.64656      1.02763      0.00064\n",
      "MINI INTERN>      531.31460   1543.78355    100.64130   5308.64469     76.27746\n",
      "MINI CROSS>      -290.14328      0.00000      0.00000      0.00000\n",
      "MINI EXTERN>    -2441.77602  -9195.78604      0.00000      0.00000      0.00000\n",
      " ----------       ---------    ---------    ---------    ---------    ---------\n",
      "MINI>      260  -4396.91277     29.86901      0.94898      0.00069\n",
      "MINI INTERN>      532.28572   1543.39453    100.57116   5306.16199     76.12975\n",
      "MINI CROSS>      -290.84790      0.00000      0.00000      0.00000\n",
      "MINI EXTERN>    -2444.84645  -9219.76156      0.00000      0.00000      0.00000\n",
      " ----------       ---------    ---------    ---------    ---------    ---------\n",
      "MINI>      270  -4427.38764     30.47488      1.12415      0.00074\n",
      "MINI INTERN>      534.03163   1543.85430    100.49888   5303.54106     76.17731\n",
      "MINI CROSS>      -291.74027      0.00000      0.00000      0.00000\n",
      "MINI EXTERN>    -2447.50404  -9246.24652      0.00000      0.00000      0.00000\n",
      " ----------       ---------    ---------    ---------    ---------    ---------\n",
      "MINI>      280  -4456.04959     28.66194      1.11358      0.00079\n",
      "MINI INTERN>      534.20392   1543.48288    100.44701   5301.31403     76.21370\n",
      "MINI CROSS>      -292.51735      0.00000      0.00000      0.00000\n",
      "MINI EXTERN>    -2449.56993  -9269.62384      0.00000      0.00000      0.00000\n",
      " ----------       ---------    ---------    ---------    ---------    ---------\n",
      "MINI>      290  -4480.60866     24.55907      1.40269      0.00085\n",
      "MINI INTERN>      536.13613   1543.93018    100.39930   5299.20642     76.34128\n",
      "MINI CROSS>      -293.26777      0.00000      0.00000      0.00000\n",
      "MINI EXTERN>    -2451.07051  -9292.28371      0.00000      0.00000      0.00000\n",
      " ----------       ---------    ---------    ---------    ---------    ---------\n",
      " UPDECI: Nonbond update at step       300\n",
      " Generating nonbond list with Exclusion mode = 5\n",
      " == PRIMARY == SPACE FOR  3931851 ATOM PAIRS AND        0 GROUP PAIRS\n",
      "\n",
      " General atom nonbond list generation found:\n",
      "  3239535 ATOM PAIRS WERE FOUND FOR ATOM LIST\n",
      "   183198 GROUP PAIRS REQUIRED ATOM SEARCHES\n",
      "\n",
      "MINI>      300  -4507.57025     26.96159      1.48439      0.00092\n",
      "MINI INTERN>      538.11290   1543.91959    100.33796   5296.92362     76.22474\n",
      "MINI CROSS>      -293.94480      0.00000      0.00000      0.00000\n",
      "MINI EXTERN>    -2452.90681  -9316.23746      0.00000      0.00000      0.00000\n",
      " ----------       ---------    ---------    ---------    ---------    ---------\n",
      "\n",
      " STEEPD> Minimization exiting with number of steps limit (       300) exceeded.\n",
      "\n",
      "STPD MIN: Cycle      ENERgy      Delta-E         GRMS    Step-size\n",
      "STPD INTERN:          BONDs       ANGLes       UREY-b    DIHEdrals    IMPRopers\n",
      "STPD CROSS:           CMAPs        PMF1D        PMF2D        PRIMO\n",
      "STPD EXTERN:        VDWaals         ELEC       HBONds          ASP         USER\n",
      " ----------       ---------    ---------    ---------    ---------    ---------\n",
      "STPD>      300  -4507.57025     26.96159      1.48439      0.00046\n",
      "STPD INTERN>      538.11290   1543.91959    100.33796   5296.92362     76.22474\n",
      "STPD CROSS>      -293.94480      0.00000      0.00000      0.00000\n",
      "STPD EXTERN>    -2452.90681  -9316.23746      0.00000      0.00000      0.00000\n",
      " ----------       ---------    ---------    ---------    ---------    ---------\n",
      "Adopted Basis Newton-Raphson minimization not performed\n"
     ]
    }
   ],
   "source": [
    "# set verbosity to zero to reduce output from minimization steps\n",
    "prev_level = set_verbosity(0)\n",
    "minimize(sd_nstep=300, abnr_nstep=0)\n",
    "set_verbosity(prev_level)"
   ]
  },
  {
   "cell_type": "markdown",
   "id": "ce97efd3-a008-4871-b578-b4cfefd2d283",
   "metadata": {},
   "source": [
    "Since the coordinates were calculated in pyCHARMM, we need to copy these coord from pyCHARMM to crimm. There is a function provided `sync_coords` for synchronize the structures from both side."
   ]
  },
  {
   "cell_type": "code",
   "execution_count": 15,
   "id": "27c5ad6e-db12-4246-a161-ea61ab4a62db",
   "metadata": {},
   "outputs": [
    {
     "name": "stdout",
     "output_type": "stream",
     "text": [
      "Synchronized: <Polypeptide(L) id=A Residues=578>\n"
     ]
    }
   ],
   "source": [
    "sync_coords(final_chain)"
   ]
  },
  {
   "cell_type": "markdown",
   "id": "d65c3a32-8db4-4d91-a934-8a4b625bcd38",
   "metadata": {},
   "source": [
    "We can visualize again to see if the strcuture looks reasonable"
   ]
  },
  {
   "cell_type": "code",
   "execution_count": 16,
   "id": "59360e16-2492-49a2-b2cd-a4d81075cdbd",
   "metadata": {},
   "outputs": [
    {
     "data": {
      "application/vnd.jupyter.widget-view+json": {
       "model_id": "3e86c0ca7a954ff48829b4473f98eb1e",
       "version_major": 2,
       "version_minor": 0
      },
      "text/plain": [
       "View()"
      ]
     },
     "metadata": {},
     "output_type": "display_data"
    }
   ],
   "source": [
    "looper.highlight_repaired_gaps()"
   ]
  },
  {
   "cell_type": "markdown",
   "id": "aa6d22e6-f6a2-4e76-817d-9085fa28379e",
   "metadata": {},
   "source": [
    "## Working on Multiple Structures\n",
    "\n",
    "Below is an example for working on multiple strcutures with missing loop regions"
   ]
  },
  {
   "cell_type": "code",
   "execution_count": 3,
   "id": "78fbb087-8e4a-4d7b-9c42-8b66697935ed",
   "metadata": {},
   "outputs": [
    {
     "name": "stderr",
     "output_type": "stream",
     "text": [
      "/home/truman/crimm/crimm/StructEntities/Model.py:87: UserWarning: Chain O not found in model 1\n",
      "  warnings.warn(\n",
      "/home/truman/crimm/crimm/StructEntities/Model.py:72: UserWarning: Insufficient atoms for connect record metalc\n",
      "  warnings.warn(\n",
      "/home/truman/crimm/crimm/StructEntities/Model.py:87: UserWarning: Chain R not found in model 1\n",
      "  warnings.warn(\n",
      "/home/truman/crimm/crimm/StructEntities/Model.py:87: UserWarning: Chain S not found in model 1\n",
      "  warnings.warn(\n",
      "/home/truman/crimm/crimm/StructEntities/Model.py:87: UserWarning: Chain B not found in model 1\n",
      "  warnings.warn(\n",
      "/home/truman/crimm/crimm/StructEntities/Model.py:87: UserWarning: Chain G not found in model 1\n",
      "  warnings.warn(\n",
      "/home/truman/crimm/crimm/StructEntities/Model.py:72: UserWarning: Insufficient atoms for connect record metalc\n",
      "  warnings.warn(\n"
     ]
    }
   ],
   "source": [
    "test_cases = ['3Q4K','5IEV','4BBY',\"6FGQ\",\"7M0C\",'6UDL','5VQA','6SSV']\n",
    "structures = [fetch_rcsb(pdbid, include_solvent = False) for pdbid in test_cases]"
   ]
  },
  {
   "cell_type": "code",
   "execution_count": 5,
   "id": "d8b543db-f975-4270-a37f-08064953cb33",
   "metadata": {},
   "outputs": [
    {
     "data": {
      "text/plain": [
       "[<Polypeptide(L) id=A Residues=356>,\n",
       " <Polypeptide(L) id=B Residues=360>,\n",
       " <Polypeptide(L) id=A Residues=284>,\n",
       " <Polypeptide(L) id=A Residues=555>,\n",
       " <Polypeptide(L) id=B Residues=543>,\n",
       " <Polypeptide(L) id=A Residues=229>,\n",
       " <Polypeptide(L) id=A Residues=332>,\n",
       " <Polypeptide(L) id=A Residues=469>,\n",
       " <Polypeptide(L) id=A Residues=368>,\n",
       " <Polypeptide(L) id=A Residues=365>]"
      ]
     },
     "execution_count": 5,
     "metadata": {},
     "output_type": "execute_result"
    }
   ],
   "source": [
    "broken_chains = []\n",
    "for structure in structures:\n",
    "    for chain in structure.models[0]:\n",
    "        if chain.chain_type == 'Polypeptide(L)' and not chain.is_continuous():\n",
    "            broken_chains.append(chain)\n",
    "broken_chains"
   ]
  },
  {
   "cell_type": "code",
   "execution_count": 9,
   "id": "df9e2e73-939c-4b26-8c91-ad6e63aec047",
   "metadata": {},
   "outputs": [
    {
     "name": "stdout",
     "output_type": "stream",
     "text": [
      "3Q4K <Polypeptide(L) id=A Residues=356>\n",
      "3Q4K <Polypeptide(L) id=B Residues=360>\n",
      "5IEV <Polypeptide(L) id=A Residues=284>\n"
     ]
    },
    {
     "name": "stderr",
     "output_type": "stream",
     "text": [
      "/home/truman/crimm/crimm/StructEntities/Model.py:87: UserWarning: Chain D not found in model 1\n",
      "  warnings.warn(\n",
      "/home/truman/crimm/crimm/StructEntities/Model.py:72: UserWarning: Insufficient atoms for connect record metalc\n",
      "  warnings.warn(\n",
      "/home/truman/crimm/crimm/StructEntities/Model.py:87: UserWarning: Chain D not found in model 1\n",
      "  warnings.warn(\n",
      "/home/truman/crimm/crimm/StructEntities/Model.py:72: UserWarning: Insufficient atoms for connect record metalc\n",
      "  warnings.warn(\n"
     ]
    },
    {
     "name": "stdout",
     "output_type": "stream",
     "text": [
      "4BBY <Polypeptide(L) id=A Residues=555>\n",
      "4BBY <Polypeptide(L) id=B Residues=543>\n",
      "6FGQ <Polypeptide(L) id=A Residues=229>\n"
     ]
    },
    {
     "name": "stderr",
     "output_type": "stream",
     "text": [
      "/home/truman/crimm/crimm/StructEntities/Model.py:87: UserWarning: Chain E not found in model 1\n",
      "  warnings.warn(\n",
      "/home/truman/crimm/crimm/StructEntities/Model.py:72: UserWarning: Insufficient atoms for connect record metalc\n",
      "  warnings.warn(\n",
      "/home/truman/crimm/crimm/StructEntities/Model.py:87: UserWarning: Chain E not found in model 1\n",
      "  warnings.warn(\n",
      "/home/truman/crimm/crimm/StructEntities/Model.py:72: UserWarning: Insufficient atoms for connect record metalc\n",
      "  warnings.warn(\n",
      "/home/truman/crimm/crimm/StructEntities/Model.py:87: UserWarning: Chain F not found in model 1\n",
      "  warnings.warn(\n",
      "/home/truman/crimm/crimm/StructEntities/Model.py:72: UserWarning: Insufficient atoms for connect record metalc\n",
      "  warnings.warn(\n",
      "/home/truman/crimm/crimm/StructEntities/Model.py:87: UserWarning: Chain E not found in model 1\n",
      "  warnings.warn(\n",
      "/home/truman/crimm/crimm/StructEntities/Model.py:72: UserWarning: Insufficient atoms for connect record metalc\n",
      "  warnings.warn(\n",
      "/home/truman/crimm/crimm/StructEntities/Model.py:87: UserWarning: Chain E not found in model 1\n",
      "  warnings.warn(\n",
      "/home/truman/crimm/crimm/StructEntities/Model.py:72: UserWarning: Insufficient atoms for connect record metalc\n",
      "  warnings.warn(\n"
     ]
    },
    {
     "name": "stdout",
     "output_type": "stream",
     "text": [
      "7M0C <Polypeptide(L) id=A Residues=332>\n"
     ]
    },
    {
     "name": "stderr",
     "output_type": "stream",
     "text": [
      "/home/truman/crimm/crimm/StructEntities/Model.py:87: UserWarning: Chain R not found in model 1\n",
      "  warnings.warn(\n",
      "/home/truman/crimm/crimm/StructEntities/Model.py:72: UserWarning: Insufficient atoms for connect record metalc\n",
      "  warnings.warn(\n",
      "/home/truman/crimm/crimm/StructEntities/Model.py:87: UserWarning: Chain T not found in model 1\n",
      "  warnings.warn(\n",
      "/home/truman/crimm/crimm/StructEntities/Model.py:87: UserWarning: Chain S not found in model 1\n",
      "  warnings.warn(\n",
      "/home/truman/crimm/crimm/StructEntities/Model.py:87: UserWarning: Chain M not found in model 1\n",
      "  warnings.warn(\n",
      "/home/truman/crimm/crimm/StructEntities/Model.py:72: UserWarning: Insufficient atoms for connect record metalc\n",
      "  warnings.warn(\n",
      "/home/truman/crimm/crimm/StructEntities/Model.py:87: UserWarning: Chain O not found in model 1\n",
      "  warnings.warn(\n",
      "/home/truman/crimm/crimm/StructEntities/Model.py:87: UserWarning: Chain Q not found in model 1\n",
      "  warnings.warn(\n",
      "/home/truman/crimm/crimm/StructEntities/Model.py:72: UserWarning: Insufficient atoms for connect record metalc\n",
      "  warnings.warn(\n",
      "/home/truman/crimm/crimm/StructEntities/Model.py:87: UserWarning: Chain S not found in model 1\n",
      "  warnings.warn(\n",
      "/home/truman/crimm/crimm/StructEntities/Model.py:87: UserWarning: Chain T not found in model 1\n",
      "  warnings.warn(\n",
      "/home/truman/crimm/crimm/StructEntities/Model.py:87: UserWarning: Chain R not found in model 1\n",
      "  warnings.warn(\n",
      "/home/truman/crimm/crimm/StructEntities/Model.py:72: UserWarning: Insufficient atoms for connect record metalc\n",
      "  warnings.warn(\n",
      "/home/truman/crimm/crimm/StructEntities/Model.py:87: UserWarning: Chain T not found in model 1\n",
      "  warnings.warn(\n",
      "/home/truman/crimm/crimm/StructEntities/Model.py:87: UserWarning: Chain U not found in model 1\n",
      "  warnings.warn(\n",
      "/home/truman/crimm/crimm/StructEntities/Model.py:87: UserWarning: Chain R not found in model 1\n",
      "  warnings.warn(\n",
      "/home/truman/crimm/crimm/StructEntities/Model.py:72: UserWarning: Insufficient atoms for connect record metalc\n",
      "  warnings.warn(\n",
      "/home/truman/crimm/crimm/StructEntities/Model.py:87: UserWarning: Chain T not found in model 1\n",
      "  warnings.warn(\n",
      "/home/truman/crimm/crimm/StructEntities/Model.py:87: UserWarning: Chain U not found in model 1\n",
      "  warnings.warn(\n",
      "/home/truman/crimm/crimm/StructEntities/Model.py:87: UserWarning: Chain QA not found in model 1\n",
      "  warnings.warn(\n",
      "/home/truman/crimm/crimm/StructEntities/Model.py:72: UserWarning: Insufficient atoms for connect record metalc\n",
      "  warnings.warn(\n",
      "/home/truman/crimm/crimm/StructEntities/Model.py:87: UserWarning: Chain SA not found in model 1\n",
      "  warnings.warn(\n",
      "/home/truman/crimm/crimm/StructEntities/Model.py:87: UserWarning: Chain TA not found in model 1\n",
      "  warnings.warn(\n",
      "/home/truman/crimm/crimm/StructEntities/Model.py:87: UserWarning: Chain UA not found in model 1\n",
      "  warnings.warn(\n",
      "/home/truman/crimm/crimm/StructEntities/Model.py:87: UserWarning: Chain WA not found in model 1\n",
      "  warnings.warn(\n",
      "/home/truman/crimm/crimm/StructEntities/Model.py:87: UserWarning: Chain XA not found in model 1\n",
      "  warnings.warn(\n",
      "/home/truman/crimm/crimm/StructEntities/Model.py:87: UserWarning: Chain VA not found in model 1\n",
      "  warnings.warn(\n",
      "/home/truman/crimm/crimm/StructEntities/Model.py:87: UserWarning: Chain IA not found in model 1\n",
      "  warnings.warn(\n",
      "/home/truman/crimm/crimm/StructEntities/Model.py:72: UserWarning: Insufficient atoms for connect record metalc\n",
      "  warnings.warn(\n",
      "/home/truman/crimm/crimm/StructEntities/Model.py:87: UserWarning: Chain KA not found in model 1\n",
      "  warnings.warn(\n",
      "/home/truman/crimm/crimm/StructEntities/Model.py:87: UserWarning: Chain OA not found in model 1\n",
      "  warnings.warn(\n",
      "/home/truman/crimm/crimm/StructEntities/Model.py:87: UserWarning: Chain MA not found in model 1\n",
      "  warnings.warn(\n",
      "/home/truman/crimm/crimm/StructEntities/Model.py:87: UserWarning: Chain QA not found in model 1\n",
      "  warnings.warn(\n",
      "/home/truman/crimm/crimm/StructEntities/Model.py:87: UserWarning: Chain SA not found in model 1\n",
      "  warnings.warn(\n",
      "/home/truman/crimm/crimm/StructEntities/Model.py:87: UserWarning: Chain VA not found in model 1\n",
      "  warnings.warn(\n",
      "/home/truman/crimm/crimm/StructEntities/Model.py:87: UserWarning: Chain TA not found in model 1\n",
      "  warnings.warn(\n"
     ]
    },
    {
     "name": "stdout",
     "output_type": "stream",
     "text": [
      "6UDL <Polypeptide(L) id=A Residues=469>\n",
      "5VQA <Polypeptide(L) id=A Residues=368>\n",
      "Building from AlphaFold model\n"
     ]
    },
    {
     "name": "stderr",
     "output_type": "stream",
     "text": [
      "/home/truman/crimm/crimm/Superimpose/ChainSuperimposer.py:68: UserWarning: Residues are not identical at model chain: GLN-253 and template chain: GLU-253\n",
      "  warnings.warn(\n"
     ]
    },
    {
     "name": "stdout",
     "output_type": "stream",
     "text": [
      "6SSV <Polypeptide(L) id=A Residues=365>\n"
     ]
    },
    {
     "name": "stderr",
     "output_type": "stream",
     "text": [
      "/home/truman/crimm/crimm/Modeller/LoopBuilder.py:434: UserWarning: No homology model found for 6SSV-A from sequence search!\n",
      "  warnings.warn(\n"
     ]
    },
    {
     "name": "stdout",
     "output_type": "stream",
     "text": [
      "Building from AlphaFold model\n"
     ]
    },
    {
     "name": "stderr",
     "output_type": "stream",
     "text": [
      "/home/truman/crimm/crimm/Superimpose/ChainSuperimposer.py:68: UserWarning: Residues are not identical at model chain: HIS-108 and template chain: TYR-127\n",
      "  warnings.warn(\n"
     ]
    }
   ],
   "source": [
    "complete_chains = {}\n",
    "incomplete_chains = {}\n",
    "for chain in broken_chains:\n",
    "    pdbid = chain.parent.parent.id\n",
    "    print(pdbid, chain)\n",
    "    looper = ChainLoopBuilder(chain)\n",
    "    looper.build_from_homology(\n",
    "        max_num_match = 10, identity_score_cutoff = 0.95,\n",
    "    )\n",
    "    if not looper.model_chain.is_continuous():\n",
    "        print('Building from AlphaFold model')\n",
    "        looper.build_from_alphafold(include_terminal = False)\n",
    "    fixed_chain = looper.get_chain()\n",
    "    if fixed_chain.is_continuous():\n",
    "        if pdbid not in complete_chains:\n",
    "            complete_chains[pdbid] = {}\n",
    "        complete_chains[pdbid][chain.id] = fixed_chain\n",
    "    else:\n",
    "        if pdbid not in incomplete_chains:\n",
    "            incomplete_chains[pdbid] = {}\n",
    "        incomplete_chains[pdbid][chain.id] = fixed_chain"
   ]
  },
  {
   "cell_type": "code",
   "execution_count": 10,
   "id": "47bc4700-6c97-4cc3-8f79-a20d3eac126c",
   "metadata": {},
   "outputs": [
    {
     "data": {
      "text/plain": [
       "{'3Q4K': {'A': <Polypeptide(L) id=A Residues=366>,\n",
       "  'B': <Polypeptide(L) id=B Residues=366>},\n",
       " '5IEV': {'A': <Polypeptide(L) id=A Residues=298>},\n",
       " '4BBY': {'A': <Polypeptide(L) id=A Residues=578>,\n",
       "  'B': <Polypeptide(L) id=B Residues=578>},\n",
       " '6FGQ': {'A': <Polypeptide(L) id=A Residues=245>},\n",
       " '7M0C': {'A': <Polypeptide(L) id=A Residues=340>},\n",
       " '6UDL': {'A': <Polypeptide(L) id=A Residues=477>},\n",
       " '5VQA': {'A': <Polypeptide(L) id=A Residues=412>},\n",
       " '6SSV': {'A': <Polypeptide(L) id=A Residues=383>}}"
      ]
     },
     "execution_count": 10,
     "metadata": {},
     "output_type": "execute_result"
    }
   ],
   "source": [
    "complete_chains"
   ]
  },
  {
   "cell_type": "code",
   "execution_count": 20,
   "id": "d6e9f411-7094-4569-9581-5dd876286b1e",
   "metadata": {
    "collapsed": true,
    "jupyter": {
     "outputs_hidden": true
    },
    "tags": []
   },
   "outputs": [
    {
     "name": "stderr",
     "output_type": "stream",
     "text": [
      "/home/truman/crimm/crimm/Modeller/ParamLoader.py:167: UserWarning: No cmap found in <Polypeptide(L) id=A Residues=366>.\n",
      "  warnings.warn(\n",
      "/home/truman/crimm/crimm/Modeller/ParamLoader.py:167: UserWarning: No cmap found in <Polypeptide(L) id=B Residues=366>.\n",
      "  warnings.warn(\n",
      "/home/truman/crimm/crimm/Modeller/TopoLoader.py:363: UserWarning: Atom NT from (298, 'LEU') is not defined in the topology file!\n",
      "  warnings.warn(\n",
      "/home/truman/crimm/crimm/Modeller/TopoLoader.py:363: UserWarning: Atom CAT from (298, 'LEU') is not defined in the topology file!\n",
      "  warnings.warn(\n",
      "/home/truman/crimm/crimm/Modeller/TopoLoader.py:363: UserWarning: Atom HNT from (298, 'LEU') is not defined in the topology file!\n",
      "  warnings.warn(\n",
      "/home/truman/crimm/crimm/Modeller/TopoLoader.py:363: UserWarning: Atom HT1 from (298, 'LEU') is not defined in the topology file!\n",
      "  warnings.warn(\n",
      "/home/truman/crimm/crimm/Modeller/TopoLoader.py:363: UserWarning: Atom HT2 from (298, 'LEU') is not defined in the topology file!\n",
      "  warnings.warn(\n",
      "/home/truman/crimm/crimm/Modeller/TopoLoader.py:363: UserWarning: Atom HT3 from (298, 'LEU') is not defined in the topology file!\n",
      "  warnings.warn(\n",
      "/home/truman/crimm/crimm/Modeller/ParamLoader.py:167: UserWarning: No cmap found in <Polypeptide(L) id=A Residues=298>.\n",
      "  warnings.warn(\n",
      "/home/truman/crimm/crimm/Modeller/TopoLoader.py:363: UserWarning: Atom CY from (81, 'GLY') is not defined in the topology file!\n",
      "  warnings.warn(\n",
      "/home/truman/crimm/crimm/Modeller/TopoLoader.py:363: UserWarning: Atom CAY from (81, 'GLY') is not defined in the topology file!\n",
      "  warnings.warn(\n",
      "/home/truman/crimm/crimm/Modeller/TopoLoader.py:363: UserWarning: Atom OY from (81, 'GLY') is not defined in the topology file!\n",
      "  warnings.warn(\n",
      "/home/truman/crimm/crimm/Modeller/TopoLoader.py:363: UserWarning: Atom HY1 from (81, 'GLY') is not defined in the topology file!\n",
      "  warnings.warn(\n",
      "/home/truman/crimm/crimm/Modeller/TopoLoader.py:363: UserWarning: Atom HY2 from (81, 'GLY') is not defined in the topology file!\n",
      "  warnings.warn(\n",
      "/home/truman/crimm/crimm/Modeller/TopoLoader.py:363: UserWarning: Atom HY3 from (81, 'GLY') is not defined in the topology file!\n",
      "  warnings.warn(\n",
      "/home/truman/crimm/crimm/Modeller/TopoLoader.py:363: UserWarning: Atom NT from (658, 'LEU') is not defined in the topology file!\n",
      "  warnings.warn(\n",
      "/home/truman/crimm/crimm/Modeller/TopoLoader.py:363: UserWarning: Atom CAT from (658, 'LEU') is not defined in the topology file!\n",
      "  warnings.warn(\n",
      "/home/truman/crimm/crimm/Modeller/TopoLoader.py:363: UserWarning: Atom HNT from (658, 'LEU') is not defined in the topology file!\n",
      "  warnings.warn(\n",
      "/home/truman/crimm/crimm/Modeller/TopoLoader.py:363: UserWarning: Atom HT1 from (658, 'LEU') is not defined in the topology file!\n",
      "  warnings.warn(\n",
      "/home/truman/crimm/crimm/Modeller/TopoLoader.py:363: UserWarning: Atom HT2 from (658, 'LEU') is not defined in the topology file!\n",
      "  warnings.warn(\n",
      "/home/truman/crimm/crimm/Modeller/TopoLoader.py:363: UserWarning: Atom HT3 from (658, 'LEU') is not defined in the topology file!\n",
      "  warnings.warn(\n",
      "/home/truman/crimm/crimm/Modeller/ParamLoader.py:167: UserWarning: No cmap found in <Polypeptide(L) id=A Residues=578>.\n",
      "  warnings.warn(\n",
      "/home/truman/crimm/crimm/Modeller/ParamLoader.py:167: UserWarning: No cmap found in <Polypeptide(L) id=B Residues=578>.\n",
      "  warnings.warn(\n",
      "/home/truman/crimm/crimm/Modeller/TopoLoader.py:363: UserWarning: Atom CY from (21, 'GLN') is not defined in the topology file!\n",
      "  warnings.warn(\n",
      "/home/truman/crimm/crimm/Modeller/TopoLoader.py:363: UserWarning: Atom CAY from (21, 'GLN') is not defined in the topology file!\n",
      "  warnings.warn(\n",
      "/home/truman/crimm/crimm/Modeller/TopoLoader.py:363: UserWarning: Atom OY from (21, 'GLN') is not defined in the topology file!\n",
      "  warnings.warn(\n",
      "/home/truman/crimm/crimm/Modeller/TopoLoader.py:363: UserWarning: Atom HY1 from (21, 'GLN') is not defined in the topology file!\n",
      "  warnings.warn(\n",
      "/home/truman/crimm/crimm/Modeller/TopoLoader.py:363: UserWarning: Atom HY2 from (21, 'GLN') is not defined in the topology file!\n",
      "  warnings.warn(\n",
      "/home/truman/crimm/crimm/Modeller/TopoLoader.py:363: UserWarning: Atom HY3 from (21, 'GLN') is not defined in the topology file!\n",
      "  warnings.warn(\n",
      "/home/truman/crimm/crimm/Modeller/TopoLoader.py:363: UserWarning: Atom NT from (265, 'SER') is not defined in the topology file!\n",
      "  warnings.warn(\n",
      "/home/truman/crimm/crimm/Modeller/TopoLoader.py:363: UserWarning: Atom CAT from (265, 'SER') is not defined in the topology file!\n",
      "  warnings.warn(\n",
      "/home/truman/crimm/crimm/Modeller/TopoLoader.py:363: UserWarning: Atom HNT from (265, 'SER') is not defined in the topology file!\n",
      "  warnings.warn(\n",
      "/home/truman/crimm/crimm/Modeller/TopoLoader.py:363: UserWarning: Atom HT1 from (265, 'SER') is not defined in the topology file!\n",
      "  warnings.warn(\n",
      "/home/truman/crimm/crimm/Modeller/TopoLoader.py:363: UserWarning: Atom HT2 from (265, 'SER') is not defined in the topology file!\n",
      "  warnings.warn(\n",
      "/home/truman/crimm/crimm/Modeller/TopoLoader.py:363: UserWarning: Atom HT3 from (265, 'SER') is not defined in the topology file!\n",
      "  warnings.warn(\n",
      "/home/truman/crimm/crimm/Modeller/ParamLoader.py:167: UserWarning: No cmap found in <Polypeptide(L) id=A Residues=245>.\n",
      "  warnings.warn(\n",
      "/home/truman/crimm/crimm/Modeller/TopoLoader.py:363: UserWarning: Atom CY from (7, 'LEU') is not defined in the topology file!\n",
      "  warnings.warn(\n",
      "/home/truman/crimm/crimm/Modeller/TopoLoader.py:363: UserWarning: Atom CAY from (7, 'LEU') is not defined in the topology file!\n",
      "  warnings.warn(\n",
      "/home/truman/crimm/crimm/Modeller/TopoLoader.py:363: UserWarning: Atom OY from (7, 'LEU') is not defined in the topology file!\n",
      "  warnings.warn(\n",
      "/home/truman/crimm/crimm/Modeller/TopoLoader.py:363: UserWarning: Atom HY1 from (7, 'LEU') is not defined in the topology file!\n",
      "  warnings.warn(\n",
      "/home/truman/crimm/crimm/Modeller/TopoLoader.py:363: UserWarning: Atom HY2 from (7, 'LEU') is not defined in the topology file!\n",
      "  warnings.warn(\n",
      "/home/truman/crimm/crimm/Modeller/TopoLoader.py:363: UserWarning: Atom HY3 from (7, 'LEU') is not defined in the topology file!\n",
      "  warnings.warn(\n",
      "/home/truman/crimm/crimm/Modeller/TopoLoader.py:363: UserWarning: Atom NT from (346, 'TRP') is not defined in the topology file!\n",
      "  warnings.warn(\n",
      "/home/truman/crimm/crimm/Modeller/TopoLoader.py:363: UserWarning: Atom CAT from (346, 'TRP') is not defined in the topology file!\n",
      "  warnings.warn(\n",
      "/home/truman/crimm/crimm/Modeller/TopoLoader.py:363: UserWarning: Atom HNT from (346, 'TRP') is not defined in the topology file!\n",
      "  warnings.warn(\n",
      "/home/truman/crimm/crimm/Modeller/TopoLoader.py:363: UserWarning: Atom HT1 from (346, 'TRP') is not defined in the topology file!\n",
      "  warnings.warn(\n",
      "/home/truman/crimm/crimm/Modeller/TopoLoader.py:363: UserWarning: Atom HT2 from (346, 'TRP') is not defined in the topology file!\n",
      "  warnings.warn(\n",
      "/home/truman/crimm/crimm/Modeller/TopoLoader.py:363: UserWarning: Atom HT3 from (346, 'TRP') is not defined in the topology file!\n",
      "  warnings.warn(\n",
      "/home/truman/crimm/crimm/Modeller/ParamLoader.py:167: UserWarning: No cmap found in <Polypeptide(L) id=A Residues=340>.\n",
      "  warnings.warn(\n",
      "/home/truman/crimm/crimm/Modeller/TopoLoader.py:363: UserWarning: Atom CY from (9, 'GLY') is not defined in the topology file!\n",
      "  warnings.warn(\n",
      "/home/truman/crimm/crimm/Modeller/TopoLoader.py:363: UserWarning: Atom CAY from (9, 'GLY') is not defined in the topology file!\n",
      "  warnings.warn(\n",
      "/home/truman/crimm/crimm/Modeller/TopoLoader.py:363: UserWarning: Atom OY from (9, 'GLY') is not defined in the topology file!\n",
      "  warnings.warn(\n",
      "/home/truman/crimm/crimm/Modeller/TopoLoader.py:363: UserWarning: Atom HY1 from (9, 'GLY') is not defined in the topology file!\n",
      "  warnings.warn(\n",
      "/home/truman/crimm/crimm/Modeller/TopoLoader.py:363: UserWarning: Atom HY2 from (9, 'GLY') is not defined in the topology file!\n",
      "  warnings.warn(\n",
      "/home/truman/crimm/crimm/Modeller/TopoLoader.py:363: UserWarning: Atom HY3 from (9, 'GLY') is not defined in the topology file!\n",
      "  warnings.warn(\n",
      "/home/truman/crimm/crimm/Modeller/TopoLoader.py:363: UserWarning: Atom NT from (485, 'SER') is not defined in the topology file!\n",
      "  warnings.warn(\n",
      "/home/truman/crimm/crimm/Modeller/TopoLoader.py:363: UserWarning: Atom CAT from (485, 'SER') is not defined in the topology file!\n",
      "  warnings.warn(\n",
      "/home/truman/crimm/crimm/Modeller/TopoLoader.py:363: UserWarning: Atom HNT from (485, 'SER') is not defined in the topology file!\n",
      "  warnings.warn(\n",
      "/home/truman/crimm/crimm/Modeller/TopoLoader.py:363: UserWarning: Atom HT1 from (485, 'SER') is not defined in the topology file!\n",
      "  warnings.warn(\n",
      "/home/truman/crimm/crimm/Modeller/TopoLoader.py:363: UserWarning: Atom HT2 from (485, 'SER') is not defined in the topology file!\n",
      "  warnings.warn(\n",
      "/home/truman/crimm/crimm/Modeller/TopoLoader.py:363: UserWarning: Atom HT3 from (485, 'SER') is not defined in the topology file!\n",
      "  warnings.warn(\n",
      "/home/truman/crimm/crimm/Modeller/ParamLoader.py:167: UserWarning: No cmap found in <Polypeptide(L) id=A Residues=477>.\n",
      "  warnings.warn(\n",
      "/home/truman/crimm/crimm/Modeller/ParamLoader.py:167: UserWarning: No cmap found in <Polypeptide(L) id=A Residues=412>.\n",
      "  warnings.warn(\n",
      "/home/truman/crimm/crimm/Modeller/ParamLoader.py:167: UserWarning: No cmap found in <Polypeptide(L) id=A Residues=383>.\n",
      "  warnings.warn(\n"
     ]
    }
   ],
   "source": [
    "for pdbid, chain_dict in complete_chains.items():\n",
    "    for chain_id, chain in chain_dict.items():\n",
    "        # PRO and GLY need special treatment when patched at the N-terminus \n",
    "        first_resname = chain.residues[0].resname\n",
    "        if first_resname == 'PRO':\n",
    "            first_patch = 'PROP'\n",
    "        elif first_resname == 'GLY':\n",
    "            first_patch = 'GLYP'\n",
    "        else:\n",
    "            first_patch = 'ACE'\n",
    "        topo.generate_chain_topology(\n",
    "            chain, first_patch=first_patch, last_patch='CT3', coerce=True\n",
    "        )\n",
    "        param.fill_ic(topo)\n",
    "        param.apply(chain.topo_elements)\n",
    "        built_atoms = fix_chain(chain)"
   ]
  },
  {
   "cell_type": "code",
   "execution_count": 23,
   "id": "033c1b0f-dbc4-4ec5-b332-26ced9bb255d",
   "metadata": {},
   "outputs": [
    {
     "data": {
      "application/vnd.jupyter.widget-view+json": {
       "model_id": "14c788b757c24c20966c54c4677faf3f",
       "version_major": 2,
       "version_minor": 0
      },
      "text/plain": [
       "NGLWidget()"
      ]
     },
     "metadata": {},
     "output_type": "display_data"
    },
    {
     "name": "stdout",
     "output_type": "stream",
     "text": [
      "<Polypeptide(L) id=A Residues=578>\n",
      "  Description: ALKYLDIHYDROXYACETONEPHOSPHATE SYNTHASE, PEROXISOMAL\n"
     ]
    }
   ],
   "source": [
    "complete_chains['4BBY']['A']"
   ]
  },
  {
   "cell_type": "code",
   "execution_count": 26,
   "id": "dca27082-6f90-4bdb-9cfb-0e813ac194d3",
   "metadata": {},
   "outputs": [
    {
     "name": "stdout",
     "output_type": "stream",
     "text": [
      "3Q4K A\n",
      " ***** Message from SEQRDR ***** THE SYSTEM CONTAINS 74 TITRATABLE GROUPS\n",
      " THE USER MUST PREDETERMINE THE PROTONATION STATE THROUGH THE SEQUENCE AND RTF\n",
      " HIS -  0  HSD -  7  HSE -  0  HSP -  0  ASP - 19  GLU - 29  LYS - 12  TYR -  7\n",
      "Adopted Basis Newton-Raphson minimization not performed\n",
      "Synchronized: <Polypeptide(L) id=A Residues=366>\n",
      "3Q4K B\n",
      " ***** Message from SEQRDR ***** THE SYSTEM CONTAINS 74 TITRATABLE GROUPS\n",
      " THE USER MUST PREDETERMINE THE PROTONATION STATE THROUGH THE SEQUENCE AND RTF\n",
      " HIS -  0  HSD -  7  HSE -  0  HSP -  0  ASP - 19  GLU - 29  LYS - 12  TYR -  7\n",
      "Adopted Basis Newton-Raphson minimization not performed\n",
      "Synchronized: <Polypeptide(L) id=B Residues=366>\n",
      "5IEV A\n",
      " ***** Message from SEQRDR ***** THE SYSTEM CONTAINS 74 TITRATABLE GROUPS\n",
      " THE USER MUST PREDETERMINE THE PROTONATION STATE THROUGH THE SEQUENCE AND RTF\n",
      " HIS -  0  HSD - 10  HSE -  0  HSP -  0  ASP - 16  GLU - 17  LYS - 21  TYR - 10\n",
      "Adopted Basis Newton-Raphson minimization not performed\n",
      "Synchronized: <Polypeptide(L) id=A Residues=298>\n",
      "4BBY A\n",
      " ***** Message from SEQRDR ***** THE SYSTEM CONTAINS143 TITRATABLE GROUPS\n",
      " THE USER MUST PREDETERMINE THE PROTONATION STATE THROUGH THE SEQUENCE AND RTF\n",
      " HIS -  0  HSD - 16  HSE -  0  HSP -  0  ASP - 30  GLU - 38  LYS - 38  TYR - 21\n",
      "Adopted Basis Newton-Raphson minimization not performed\n",
      "Synchronized: <Polypeptide(L) id=A Residues=578>\n",
      "4BBY B\n",
      " ***** Message from SEQRDR ***** THE SYSTEM CONTAINS143 TITRATABLE GROUPS\n",
      " THE USER MUST PREDETERMINE THE PROTONATION STATE THROUGH THE SEQUENCE AND RTF\n",
      " HIS -  0  HSD - 16  HSE -  0  HSP -  0  ASP - 30  GLU - 38  LYS - 38  TYR - 21\n",
      "Adopted Basis Newton-Raphson minimization not performed\n",
      "Synchronized: <Polypeptide(L) id=B Residues=578>\n",
      "6FGQ A\n",
      " ***** Message from SEQRDR ***** THE SYSTEM CONTAINS 60 TITRATABLE GROUPS\n",
      " THE USER MUST PREDETERMINE THE PROTONATION STATE THROUGH THE SEQUENCE AND RTF\n",
      " HIS -  0  HSD - 13  HSE -  0  HSP -  0  ASP -  5  GLU - 22  LYS - 12  TYR -  8\n",
      "Adopted Basis Newton-Raphson minimization not performed\n",
      "Synchronized: <Polypeptide(L) id=A Residues=245>\n",
      "7M0C A\n",
      " ***** Message from SEQRDR ***** THE SYSTEM CONTAINS 78 TITRATABLE GROUPS\n",
      " THE USER MUST PREDETERMINE THE PROTONATION STATE THROUGH THE SEQUENCE AND RTF\n",
      " HIS -  0  HSD - 12  HSE -  0  HSP -  0  ASP - 14  GLU - 22  LYS - 20  TYR - 10\n",
      "Adopted Basis Newton-Raphson minimization not performed\n",
      "Synchronized: <Polypeptide(L) id=A Residues=340>\n",
      "6UDL A\n",
      " ***** Message from SEQRDR ***** THE SYSTEM CONTAINS 99 TITRATABLE GROUPS\n",
      " THE USER MUST PREDETERMINE THE PROTONATION STATE THROUGH THE SEQUENCE AND RTF\n",
      " HIS -  0  HSD - 15  HSE -  0  HSP -  0  ASP - 23  GLU - 25  LYS - 23  TYR - 13\n",
      "Adopted Basis Newton-Raphson minimization not performed\n",
      "Synchronized: <Polypeptide(L) id=A Residues=477>\n",
      "5VQA A\n",
      " ***** Message from SEQRDR ***** THE SYSTEM CONTAINS 96 TITRATABLE GROUPS\n",
      " THE USER MUST PREDETERMINE THE PROTONATION STATE THROUGH THE SEQUENCE AND RTF\n",
      " HIS -  0  HSD - 11  HSE -  0  HSP -  0  ASP - 23  GLU - 27  LYS - 26  TYR -  9\n",
      "Adopted Basis Newton-Raphson minimization not performed\n",
      "Synchronized: <Polypeptide(L) id=A Residues=412>\n",
      "6SSV A\n",
      " ***** Message from SEQRDR ***** THE SYSTEM CONTAINS 87 TITRATABLE GROUPS\n",
      " THE USER MUST PREDETERMINE THE PROTONATION STATE THROUGH THE SEQUENCE AND RTF\n",
      " HIS -  0  HSD -  7  HSE -  0  HSP -  0  ASP - 19  GLU - 26  LYS - 28  TYR -  7\n",
      "Adopted Basis Newton-Raphson minimization not performed\n",
      "Synchronized: <Polypeptide(L) id=A Residues=383>\n"
     ]
    },
    {
     "data": {
      "text/plain": [
       "0"
      ]
     },
     "execution_count": 26,
     "metadata": {},
     "output_type": "execute_result"
    }
   ],
   "source": [
    "prev_level = set_verbosity(0)\n",
    "for pdbid, chain_dict in complete_chains.items():\n",
    "    for chain_id, chain in chain_dict.items():\n",
    "        print(pdbid, chain_id)\n",
    "        load_chain(chain)\n",
    "        minimize(sd_nstep=300, abnr_nstep=0)\n",
    "        sync_coords(chain)\n",
    "        delete_atoms()\n",
    "        print('---'*20)\n",
    "set_verbosity(prev_level)"
   ]
  },
  {
   "cell_type": "markdown",
   "id": "3bad7584-833b-49c5-ae14-b1001fa47206",
   "metadata": {},
   "source": [
    "## Important Notes\n",
    "\n",
    "This method **does not guarantee** a correct final structure! Always inspect the complete chain visually and identify any artifacts. For example, the loop in Chain A of 5VQA shown below actually is crossed into the alpha helix, and no amount of minimization would fix this issue. You will need to either manually fix it or just use the SwissModel or Alphafold structure directly."
   ]
  },
  {
   "cell_type": "code",
   "execution_count": 29,
   "id": "6b95c64e-9141-401c-8ccf-96dc9d59b9e1",
   "metadata": {},
   "outputs": [
    {
     "data": {
      "application/vnd.jupyter.widget-view+json": {
       "model_id": "0c860f7947bb4d5a987b1903aec9f292",
       "version_major": 2,
       "version_minor": 0
      },
      "text/plain": [
       "NGLWidget()"
      ]
     },
     "metadata": {},
     "output_type": "display_data"
    },
    {
     "name": "stdout",
     "output_type": "stream",
     "text": [
      "<Polypeptide(L) id=A Residues=412>\n",
      "  Description: Pachytene checkpoint protein 2 homolog\n"
     ]
    }
   ],
   "source": [
    "complete_chains['5VQA']['A']"
   ]
  },
  {
   "cell_type": "markdown",
   "id": "aeef40b1-7d30-469c-a871-f37cb1c99802",
   "metadata": {},
   "source": [
    "## Fetch Swiss Model or AlphaFold structure for Problematic Chains"
   ]
  },
  {
   "cell_type": "code",
   "execution_count": 34,
   "id": "3bf8ce9f-81f1-4875-b25e-316666f389ab",
   "metadata": {},
   "outputs": [],
   "source": [
    "entity_id = complete_chains['5VQA']['A'].entity_id\n",
    "uniprot_id = uniprot_id_query('5VQA', entity_id)\n",
    "\n",
    "sw_struct = fetch_swiss_model(uniprot_id)"
   ]
  },
  {
   "cell_type": "code",
   "execution_count": 36,
   "id": "42588018-e0ce-48ab-898f-7a0cbb375b9c",
   "metadata": {},
   "outputs": [
    {
     "data": {
      "application/vnd.jupyter.widget-view+json": {
       "model_id": "69e2c722d8954524aa52c9af2089fca3",
       "version_major": 2,
       "version_minor": 0
      },
      "text/plain": [
       "NGLWidget()"
      ]
     },
     "metadata": {},
     "output_type": "display_data"
    },
    {
     "name": "stdout",
     "output_type": "stream",
     "text": [
      "<Structure id=Q15645-SwissModel Models=1>\n",
      "│\n",
      "├───<Model id=0 Chains=1>\n",
      "\t│\n",
      "\t├───<Polypeptide(L) id=A Residues=412>\n",
      "\t├──────Description: Pachytene checkpoint protein 2 homolog\n"
     ]
    }
   ],
   "source": [
    "sw_struct"
   ]
  },
  {
   "cell_type": "code",
   "execution_count": 37,
   "id": "595dbd84-683e-42b8-8b17-40e445f21a52",
   "metadata": {},
   "outputs": [],
   "source": [
    "af_struct = fetch_alphafold(uniprot_id)"
   ]
  },
  {
   "cell_type": "code",
   "execution_count": 38,
   "id": "861434b7-0742-442a-b755-7b15e93b7795",
   "metadata": {},
   "outputs": [
    {
     "data": {
      "application/vnd.jupyter.widget-view+json": {
       "model_id": "e8608ba5356b400f9ce84be61ba62561",
       "version_major": 2,
       "version_minor": 0
      },
      "text/plain": [
       "NGLWidget()"
      ]
     },
     "metadata": {},
     "output_type": "display_data"
    },
    {
     "name": "stdout",
     "output_type": "stream",
     "text": [
      "<Structure id=AF-Q15645-F1 Models=1>\n",
      "│\n",
      "├───<Model id=1 Chains=1>\n",
      "\t│\n",
      "\t├───<Polypeptide(L) id=A Residues=432>\n",
      "\t├──────Description: Pachytene checkpoint protein 2 homolog\n"
     ]
    }
   ],
   "source": [
    "af_struct"
   ]
  },
  {
   "cell_type": "code",
   "execution_count": null,
   "id": "87a0a56d-1aec-459a-8b56-10e1103f9fc4",
   "metadata": {},
   "outputs": [],
   "source": []
  }
 ],
 "metadata": {
  "kernelspec": {
   "display_name": "pcm-devel",
   "language": "python",
   "name": "pcm-devel"
  },
  "language_info": {
   "codemirror_mode": {
    "name": "ipython",
    "version": 3
   },
   "file_extension": ".py",
   "mimetype": "text/x-python",
   "name": "python",
   "nbconvert_exporter": "python",
   "pygments_lexer": "ipython3",
   "version": "3.10.6"
  }
 },
 "nbformat": 4,
 "nbformat_minor": 5
}

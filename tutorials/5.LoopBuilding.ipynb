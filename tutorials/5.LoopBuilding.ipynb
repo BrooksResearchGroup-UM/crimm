{
 "cells": [
  {
   "cell_type": "code",
   "execution_count": 1,
   "id": "cfd71e5b-5e12-49f5-aa80-807ea62d6875",
   "metadata": {},
   "outputs": [
    {
     "data": {
      "application/vnd.jupyter.widget-view+json": {
       "model_id": "b81a5eb41b9d4a26bec4323214b26eb6",
       "version_major": 2,
       "version_minor": 0
      },
      "text/plain": []
     },
     "metadata": {},
     "output_type": "display_data"
    }
   ],
   "source": [
    "from pycharmm.psf import delete_atoms\n",
    "from pycharmm.settings import set_verbosity\n",
    "\n",
    "from crimm.Adaptors.pyCHARMMAdaptors import load_chain, load_topology, load_parameters\n",
    "from crimm.Adaptors.pyCHARMMAdaptors import minimize, sync_coords\n",
    "from crimm.Modeller.LoopBuilder import ChainLoopBuilder\n",
    "from crimm.Modeller import TopologyLoader, ParameterLoader\n",
    "from crimm.Modeller.TopoFixer import fix_chain\n",
    "from crimm.Fetchers import (\n",
    "    fetch_rcsb, fetch_alphafold, uniprot_id_query, fetch_swiss_model\n",
    ")"
   ]
  },
  {
   "cell_type": "markdown",
   "id": "eae642f6-e240-4a14-aab8-b71c95474fe1",
   "metadata": {},
   "source": [
    "## Fetch a Structure with Missing Loops from RCSB"
   ]
  },
  {
   "cell_type": "code",
   "execution_count": 2,
   "id": "a49d9f37-99e8-4f36-9d9b-746e8270e00c",
   "metadata": {},
   "outputs": [],
   "source": [
    "struct = fetch_rcsb('4BBY')\n",
    "chain = struct[1]['A']"
   ]
  },
  {
   "cell_type": "markdown",
   "id": "2cffcd41-8c9e-4ad2-9245-4e38aa3b4e1b",
   "metadata": {},
   "source": [
    "canonical sequence has all the residue identities for the chain"
   ]
  },
  {
   "cell_type": "code",
   "execution_count": 3,
   "id": "61314dee-a744-4459-81b6-e601673f2874",
   "metadata": {},
   "outputs": [
    {
     "data": {
      "text/plain": [
       "658"
      ]
     },
     "execution_count": 3,
     "metadata": {},
     "output_type": "execute_result"
    }
   ],
   "source": [
    "len(chain.can_seq)"
   ]
  },
  {
   "cell_type": "code",
   "execution_count": 4,
   "id": "5e022cda-ee29-4a51-aef9-bd10c4b13136",
   "metadata": {},
   "outputs": [
    {
     "data": {
      "application/vnd.jupyter.widget-view+json": {
       "model_id": "85eef0b36fae4d14a18937029509f723",
       "version_major": 2,
       "version_minor": 0
      },
      "text/plain": [
       "NGLWidget()"
      ]
     },
     "metadata": {},
     "output_type": "display_data"
    },
    {
     "name": "stdout",
     "output_type": "stream",
     "text": [
      "<Polypeptide(L) id=A Residues=555>\n",
      "  Description: ALKYLDIHYDROXYACETONEPHOSPHATE SYNTHASE, PEROXISOMAL\n"
     ]
    }
   ],
   "source": [
    "chain"
   ]
  },
  {
   "cell_type": "markdown",
   "id": "b25be084-ff37-46a5-a901-1368c8c8a544",
   "metadata": {},
   "source": [
    "The masked sequence `masked_seq` displays the missing residues and their identities"
   ]
  },
  {
   "cell_type": "code",
   "execution_count": 5,
   "id": "b6e05b18-2ecc-4a71-bf4e-6ad171535b26",
   "metadata": {},
   "outputs": [
    {
     "name": "stdout",
     "output_type": "stream",
     "text": [
      "\u001b[91mM\u001b[0m\u001b[91mA\u001b[0m\u001b[91mE\u001b[0m\u001b[91mA\u001b[0m\u001b[91mA\u001b[0m\u001b[91mA\u001b[0m\u001b[91mA\u001b[0m\u001b[91mA\u001b[0m\u001b[91mA\u001b[0m\u001b[91mA\u001b[0m\u001b[91mA\u001b[0m\u001b[91mA\u001b[0m\u001b[91mA\u001b[0m\u001b[91mA\u001b[0m\u001b[91mG\u001b[0m\u001b[91mE\u001b[0m\u001b[91mT\u001b[0m\u001b[91mS\u001b[0m\u001b[91mA\u001b[0m\u001b[91mS\u001b[0m\u001b[91mS\u001b[0m\u001b[91mG\u001b[0m\u001b[91mS\u001b[0m\u001b[91mA\u001b[0m\u001b[91mA\u001b[0m\u001b[91mE\u001b[0m\u001b[91mR\u001b[0m\u001b[91mD\u001b[0m\u001b[91mP\u001b[0m\u001b[91mD\u001b[0m\u001b[91mQ\u001b[0m\u001b[91mD\u001b[0m\u001b[91mR\u001b[0m\u001b[91mA\u001b[0m\u001b[91mG\u001b[0m\u001b[91mR\u001b[0m\u001b[91mR\u001b[0m\u001b[91mL\u001b[0m\u001b[91mR\u001b[0m\u001b[91mV\u001b[0m\u001b[91mL\u001b[0m\u001b[91mS\u001b[0m\u001b[91mG\u001b[0m\u001b[91mH\u001b[0m\u001b[91mL\u001b[0m\u001b[91mL\u001b[0m\u001b[91mG\u001b[0m\u001b[91mR\u001b[0m\u001b[91mP\u001b[0m\u001b[91mQ\u001b[0m\u001b[91mE\u001b[0m\u001b[91mA\u001b[0m\u001b[91mL\u001b[0m\u001b[91mS\u001b[0m\u001b[91mT\u001b[0m\u001b[91mN\u001b[0m\u001b[91mE\u001b[0m\u001b[91mC\u001b[0m\u001b[91mK\u001b[0m\u001b[91mA\u001b[0m\u001b[91mR\u001b[0m\u001b[91mR\u001b[0m\u001b[91mA\u001b[0m\u001b[91mA\u001b[0m\u001b[91mS\u001b[0m\u001b[91mA\u001b[0m\u001b[91mA\u001b[0m\u001b[91mT\u001b[0m\u001b[91mA\u001b[0m\u001b[91mA\u001b[0m\u001b[91mP\u001b[0m\u001b[91mT\u001b[0m\u001b[91mA\u001b[0m\u001b[91mT\u001b[0m\u001b[91mP\u001b[0m\u001b[91mA\u001b[0m\u001b[91mA\u001b[0m\u001b[91mP\u001b[0m\u001b[91mE\u001b[0m\u001b[91mS\u001b[0mGIIPKKRQELMKWNGWGYNDSKFFLNKKGQLELTGKRYPLSGVALPTFKDWIQNTFGINLDHKT\u001b[91mT\u001b[0m\u001b[91mS\u001b[0m\u001b[91mK\u001b[0m\u001b[91mA\u001b[0m\u001b[91mS\u001b[0m\u001b[91mL\u001b[0m\u001b[91mN\u001b[0m\u001b[91mP\u001b[0m\u001b[91mS\u001b[0mDTPPSIVNEDFLHELKKTNISYSQEADDRVFRAHGHCLHEIFLLREGMFERIPDIVLWPTCHDDVVKIVNLACKYNLCIIPIGGGTSVSYGLMCPADETRTIISLDTSQMNRILWVDENNLTAHVEAGITGQELERQLKESGYCTGHEPDSLEFSTVGGWISTRASGMKKNIYGNIEDLVVHMKVVTPRGVIEKSCQGPRMSTGPDIHHFIMGSEGTLGVITEATIKIRPTPEYQKYGSVAFPNFEQGVACLREIAKQRCAPASIRLMDNQQFQFGHALKPQVSSIFTS\u001b[91mF\u001b[0m\u001b[91mL\u001b[0m\u001b[91mD\u001b[0m\u001b[91mG\u001b[0m\u001b[91mL\u001b[0m\u001b[91mK\u001b[0m\u001b[91mK\u001b[0m\u001b[91mF\u001b[0m\u001b[91mY\u001b[0m\u001b[91mI\u001b[0m\u001b[91mT\u001b[0m\u001b[91mK\u001b[0m\u001b[91mF\u001b[0m\u001b[91mK\u001b[0mGFDPNQLSVATLLFEGDREKVLQHEKQVYDIAAKFGGLAAGEDNGQRGYLLTYVIAYMRDLGLEYYIIGESFETSAPWDRVVDLCRNVKERIRRECKEKGVQFPPLSTCRVTQTYDAGACIYFYFAFNYRGISDPLAVFEQTEAAAREEILANGGSLSHHHGVGKLRKQWLKESISDVGFGMLKSVKDYVDPTNIFGNRNLL\n"
     ]
    }
   ],
   "source": [
    "chain.masked_seq.show()"
   ]
  },
  {
   "cell_type": "markdown",
   "id": "0ee32595-c3d0-47ed-a06b-561c8bc66122",
   "metadata": {},
   "source": [
    "Alternatively, the `missing_res` attribute also shows the missing residues' sequence number and resname"
   ]
  },
  {
   "cell_type": "code",
   "execution_count": 6,
   "id": "9b6654d1-5d9a-4fe7-ba70-0809b7702b04",
   "metadata": {
    "tags": []
   },
   "outputs": [
    {
     "data": {
      "text/plain": [
       "[(1, 'MET'),\n",
       " (2, 'ALA'),\n",
       " (3, 'GLU'),\n",
       " (4, 'ALA'),\n",
       " (5, 'ALA'),\n",
       " (6, 'ALA'),\n",
       " (7, 'ALA'),\n",
       " (8, 'ALA'),\n",
       " (9, 'ALA'),\n",
       " (10, 'ALA'),\n",
       " (11, 'ALA'),\n",
       " (12, 'ALA'),\n",
       " (13, 'ALA'),\n",
       " (14, 'ALA'),\n",
       " (15, 'GLY'),\n",
       " (16, 'GLU'),\n",
       " (17, 'THR'),\n",
       " (18, 'SER'),\n",
       " (19, 'ALA'),\n",
       " (20, 'SER'),\n",
       " (21, 'SER'),\n",
       " (22, 'GLY'),\n",
       " (23, 'SER'),\n",
       " (24, 'ALA'),\n",
       " (25, 'ALA'),\n",
       " (26, 'GLU'),\n",
       " (27, 'ARG'),\n",
       " (28, 'ASP'),\n",
       " (29, 'PRO'),\n",
       " (30, 'ASP'),\n",
       " (31, 'GLN'),\n",
       " (32, 'ASP'),\n",
       " (33, 'ARG'),\n",
       " (34, 'ALA'),\n",
       " (35, 'GLY'),\n",
       " (36, 'ARG'),\n",
       " (37, 'ARG'),\n",
       " (38, 'LEU'),\n",
       " (39, 'ARG'),\n",
       " (40, 'VAL'),\n",
       " (41, 'LEU'),\n",
       " (42, 'SER'),\n",
       " (43, 'GLY'),\n",
       " (44, 'HIS'),\n",
       " (45, 'LEU'),\n",
       " (46, 'LEU'),\n",
       " (47, 'GLY'),\n",
       " (48, 'ARG'),\n",
       " (49, 'PRO'),\n",
       " (50, 'GLN'),\n",
       " (51, 'GLU'),\n",
       " (52, 'ALA'),\n",
       " (53, 'LEU'),\n",
       " (54, 'SER'),\n",
       " (55, 'THR'),\n",
       " (56, 'ASN'),\n",
       " (57, 'GLU'),\n",
       " (58, 'CYS'),\n",
       " (59, 'LYS'),\n",
       " (60, 'ALA'),\n",
       " (61, 'ARG'),\n",
       " (62, 'ARG'),\n",
       " (63, 'ALA'),\n",
       " (64, 'ALA'),\n",
       " (65, 'SER'),\n",
       " (66, 'ALA'),\n",
       " (67, 'ALA'),\n",
       " (68, 'THR'),\n",
       " (69, 'ALA'),\n",
       " (70, 'ALA'),\n",
       " (71, 'PRO'),\n",
       " (72, 'THR'),\n",
       " (73, 'ALA'),\n",
       " (74, 'THR'),\n",
       " (75, 'PRO'),\n",
       " (76, 'ALA'),\n",
       " (77, 'ALA'),\n",
       " (78, 'PRO'),\n",
       " (79, 'GLU'),\n",
       " (80, 'SER'),\n",
       " (145, 'THR'),\n",
       " (146, 'SER'),\n",
       " (147, 'LYS'),\n",
       " (148, 'ALA'),\n",
       " (149, 'SER'),\n",
       " (150, 'LEU'),\n",
       " (151, 'ASN'),\n",
       " (152, 'PRO'),\n",
       " (153, 'SER'),\n",
       " (443, 'PHE'),\n",
       " (444, 'LEU'),\n",
       " (445, 'ASP'),\n",
       " (446, 'GLY'),\n",
       " (447, 'LEU'),\n",
       " (448, 'LYS'),\n",
       " (449, 'LYS'),\n",
       " (450, 'PHE'),\n",
       " (451, 'TYR'),\n",
       " (452, 'ILE'),\n",
       " (453, 'THR'),\n",
       " (454, 'LYS'),\n",
       " (455, 'PHE'),\n",
       " (456, 'LYS')]"
      ]
     },
     "execution_count": 6,
     "metadata": {},
     "output_type": "execute_result"
    }
   ],
   "source": [
    "chain.missing_res"
   ]
  },
  {
   "cell_type": "markdown",
   "id": "0e88e7c5-39a1-4ff2-acc7-8096389e0b0d",
   "metadata": {},
   "source": [
    "`ChainLoopBuilder` is the class that facilitate the loop building using homology models or Alphafold structure. It will query RCSB for sequence search with an identity score cutoff to find the homology models, and if any model contains the loop structure, it will be superimposed and transfer these loop residues to the chain being fixed.\n",
    "\n",
    "If no homology models available for fixing the chain, AlphaFold structure can also be used."
   ]
  },
  {
   "cell_type": "code",
   "execution_count": 7,
   "id": "8d15a0d3-9a94-4eae-91e7-b7f0c782f719",
   "metadata": {},
   "outputs": [],
   "source": [
    "looper = ChainLoopBuilder(chain)\n",
    "looper.build_from_homology(\n",
    "    max_num_match = 10, identity_score_cutoff = 0.95\n",
    ")"
   ]
  },
  {
   "cell_type": "code",
   "execution_count": 8,
   "id": "1e7bdba2-1bcd-4280-a47d-a207756c7eef",
   "metadata": {},
   "outputs": [
    {
     "name": "stdout",
     "output_type": "stream",
     "text": [
      "\u001b[91mM\u001b[0m\u001b[91mA\u001b[0m\u001b[91mE\u001b[0m\u001b[91mA\u001b[0m\u001b[91mA\u001b[0m\u001b[91mA\u001b[0m\u001b[91mA\u001b[0m\u001b[91mA\u001b[0m\u001b[91mA\u001b[0m\u001b[91mA\u001b[0m\u001b[91mA\u001b[0m\u001b[91mA\u001b[0m\u001b[91mA\u001b[0m\u001b[91mA\u001b[0m\u001b[91mG\u001b[0m\u001b[91mE\u001b[0m\u001b[91mT\u001b[0m\u001b[91mS\u001b[0m\u001b[91mA\u001b[0m\u001b[91mS\u001b[0m\u001b[91mS\u001b[0m\u001b[91mG\u001b[0m\u001b[91mS\u001b[0m\u001b[91mA\u001b[0m\u001b[91mA\u001b[0m\u001b[91mE\u001b[0m\u001b[91mR\u001b[0m\u001b[91mD\u001b[0m\u001b[91mP\u001b[0m\u001b[91mD\u001b[0m\u001b[91mQ\u001b[0m\u001b[91mD\u001b[0m\u001b[91mR\u001b[0m\u001b[91mA\u001b[0m\u001b[91mG\u001b[0m\u001b[91mR\u001b[0m\u001b[91mR\u001b[0m\u001b[91mL\u001b[0m\u001b[91mR\u001b[0m\u001b[91mV\u001b[0m\u001b[91mL\u001b[0m\u001b[91mS\u001b[0m\u001b[91mG\u001b[0m\u001b[91mH\u001b[0m\u001b[91mL\u001b[0m\u001b[91mL\u001b[0m\u001b[91mG\u001b[0m\u001b[91mR\u001b[0m\u001b[91mP\u001b[0m\u001b[91mQ\u001b[0m\u001b[91mE\u001b[0m\u001b[91mA\u001b[0m\u001b[91mL\u001b[0m\u001b[91mS\u001b[0m\u001b[91mT\u001b[0m\u001b[91mN\u001b[0m\u001b[91mE\u001b[0m\u001b[91mC\u001b[0m\u001b[91mK\u001b[0m\u001b[91mA\u001b[0m\u001b[91mR\u001b[0m\u001b[91mR\u001b[0m\u001b[91mA\u001b[0m\u001b[91mA\u001b[0m\u001b[91mS\u001b[0m\u001b[91mA\u001b[0m\u001b[91mA\u001b[0m\u001b[91mT\u001b[0m\u001b[91mA\u001b[0m\u001b[91mA\u001b[0m\u001b[91mP\u001b[0m\u001b[91mT\u001b[0m\u001b[91mA\u001b[0m\u001b[91mT\u001b[0m\u001b[91mP\u001b[0m\u001b[91mA\u001b[0m\u001b[91mA\u001b[0m\u001b[91mP\u001b[0m\u001b[91mE\u001b[0m\u001b[91mS\u001b[0mGIIPKKRQELMKWNGWGYNDSKFFLNKKGQLELTGKRYPLSGVALPTFKDWIQNTFGINLDHKTTSKASLNPSDTPPSIVNEDFLHELKKTNISYSQEADDRVFRAHGHCLHEIFLLREGMFERIPDIVLWPTCHDDVVKIVNLACKYNLCIIPIGGGTSVSYGLMCPADETRTIISLDTSQMNRILWVDENNLTAHVEAGITGQELERQLKESGYCTGHEPDSLEFSTVGGWISTRASGMKKNIYGNIEDLVVHMKVVTPRGVIEKSCQGPRMSTGPDIHHFIMGSEGTLGVITEATIKIRPTPEYQKYGSVAFPNFEQGVACLREIAKQRCAPASIRLMDNQQFQFGHALKPQVSSIFTSFLDGLKKFYITKFKGFDPNQLSVATLLFEGDREKVLQHEKQVYDIAAKFGGLAAGEDNGQRGYLLTYVIAYMRDLGLEYYIIGESFETSAPWDRVVDLCRNVKERIRRECKEKGVQFPPLSTCRVTQTYDAGACIYFYFAFNYRGISDPLAVFEQTEAAAREEILANGGSLSHHHGVGKLRKQWLKESISDVGFGMLKSVKDYVDPTNIFGNRNLL\n"
     ]
    }
   ],
   "source": [
    "final_chain = looper.get_chain()\n",
    "final_chain.masked_seq.show()"
   ]
  },
  {
   "cell_type": "code",
   "execution_count": 9,
   "id": "43e0508a-2592-44bf-b874-be24de790b8d",
   "metadata": {},
   "outputs": [],
   "source": [
    "looper = ChainLoopBuilder(chain)\n",
    "# missing terminals will also be built if `include_terminal = True`\n",
    "looper.build_from_alphafold(include_terminal = False)"
   ]
  },
  {
   "cell_type": "code",
   "execution_count": 10,
   "id": "4e94de6f-5c41-4302-b95d-b0d161d99e46",
   "metadata": {},
   "outputs": [
    {
     "name": "stdout",
     "output_type": "stream",
     "text": [
      "\u001b[91mM\u001b[0m\u001b[91mA\u001b[0m\u001b[91mE\u001b[0m\u001b[91mA\u001b[0m\u001b[91mA\u001b[0m\u001b[91mA\u001b[0m\u001b[91mA\u001b[0m\u001b[91mA\u001b[0m\u001b[91mA\u001b[0m\u001b[91mA\u001b[0m\u001b[91mA\u001b[0m\u001b[91mA\u001b[0m\u001b[91mA\u001b[0m\u001b[91mA\u001b[0m\u001b[91mG\u001b[0m\u001b[91mE\u001b[0m\u001b[91mT\u001b[0m\u001b[91mS\u001b[0m\u001b[91mA\u001b[0m\u001b[91mS\u001b[0m\u001b[91mS\u001b[0m\u001b[91mG\u001b[0m\u001b[91mS\u001b[0m\u001b[91mA\u001b[0m\u001b[91mA\u001b[0m\u001b[91mE\u001b[0m\u001b[91mR\u001b[0m\u001b[91mD\u001b[0m\u001b[91mP\u001b[0m\u001b[91mD\u001b[0m\u001b[91mQ\u001b[0m\u001b[91mD\u001b[0m\u001b[91mR\u001b[0m\u001b[91mA\u001b[0m\u001b[91mG\u001b[0m\u001b[91mR\u001b[0m\u001b[91mR\u001b[0m\u001b[91mL\u001b[0m\u001b[91mR\u001b[0m\u001b[91mV\u001b[0m\u001b[91mL\u001b[0m\u001b[91mS\u001b[0m\u001b[91mG\u001b[0m\u001b[91mH\u001b[0m\u001b[91mL\u001b[0m\u001b[91mL\u001b[0m\u001b[91mG\u001b[0m\u001b[91mR\u001b[0m\u001b[91mP\u001b[0m\u001b[91mQ\u001b[0m\u001b[91mE\u001b[0m\u001b[91mA\u001b[0m\u001b[91mL\u001b[0m\u001b[91mS\u001b[0m\u001b[91mT\u001b[0m\u001b[91mN\u001b[0m\u001b[91mE\u001b[0m\u001b[91mC\u001b[0m\u001b[91mK\u001b[0m\u001b[91mA\u001b[0m\u001b[91mR\u001b[0m\u001b[91mR\u001b[0m\u001b[91mA\u001b[0m\u001b[91mA\u001b[0m\u001b[91mS\u001b[0m\u001b[91mA\u001b[0m\u001b[91mA\u001b[0m\u001b[91mT\u001b[0m\u001b[91mA\u001b[0m\u001b[91mA\u001b[0m\u001b[91mP\u001b[0m\u001b[91mT\u001b[0m\u001b[91mA\u001b[0m\u001b[91mT\u001b[0m\u001b[91mP\u001b[0m\u001b[91mA\u001b[0m\u001b[91mA\u001b[0m\u001b[91mP\u001b[0m\u001b[91mE\u001b[0m\u001b[91mS\u001b[0mGIIPKKRQELMKWNGWGYNDSKFFLNKKGQLELTGKRYPLSGVALPTFKDWIQNTFGINLDHKTTSKASLNPSDTPPSIVNEDFLHELKKTNISYSQEADDRVFRAHGHCLHEIFLLREGMFERIPDIVLWPTCHDDVVKIVNLACKYNLCIIPIGGGTSVSYGLMCPADETRTIISLDTSQMNRILWVDENNLTAHVEAGITGQELERQLKESGYCTGHEPDSLEFSTVGGWISTRASGMKKNIYGNIEDLVVHMKVVTPRGVIEKSCQGPRMSTGPDIHHFIMGSEGTLGVITEATIKIRPTPEYQKYGSVAFPNFEQGVACLREIAKQRCAPASIRLMDNQQFQFGHALKPQVSSIFTSFLDGLKKFYITKFKGFDPNQLSVATLLFEGDREKVLQHEKQVYDIAAKFGGLAAGEDNGQRGYLLTYVIAYMRDLGLEYYIIGESFETSAPWDRVVDLCRNVKERIRRECKEKGVQFPPLSTCRVTQTYDAGACIYFYFAFNYRGISDPLAVFEQTEAAAREEILANGGSLSHHHGVGKLRKQWLKESISDVGFGMLKSVKDYVDPTNIFGNRNLL\n"
     ]
    }
   ],
   "source": [
    "final_chain = looper.get_chain()\n",
    "final_chain.masked_seq.show()"
   ]
  },
  {
   "cell_type": "markdown",
   "id": "baebca79-9c03-4c85-8267-82a234eba864",
   "metadata": {},
   "source": [
    "The `highlight_repaired_gaps()` method will visualize what the repaired loop. However, as you can see in the example below, the loops are not connected to the chain, and structure minimization is needed. For this, we will use pyCHARMM's minimization routine."
   ]
  },
  {
   "cell_type": "code",
   "execution_count": 11,
   "id": "75ad81c7-7b2d-4984-9a06-7f468833071e",
   "metadata": {},
   "outputs": [
    {
     "data": {
      "application/vnd.jupyter.widget-view+json": {
       "model_id": "70172862a1ca4af6b804c29c6d140aff",
       "version_major": 2,
       "version_minor": 0
      },
      "text/plain": [
       "View()"
      ]
     },
     "metadata": {},
     "output_type": "display_data"
    }
   ],
   "source": [
    "looper.highlight_repaired_gaps()"
   ]
  },
  {
   "cell_type": "markdown",
   "id": "fb189e3a-a4be-44bd-9267-ab414e130063",
   "metadata": {},
   "source": [
    "## Generate Topology and Load Parameter for the Chain\n",
    "\n",
    "Before we load any chain into pyCHARM, the topology and parameter need to be generated"
   ]
  },
  {
   "cell_type": "code",
   "execution_count": 12,
   "id": "86b5c665-69d8-436d-9f75-ebbfa1386e5b",
   "metadata": {
    "tags": []
   },
   "outputs": [
    {
     "name": "stdout",
     "output_type": "stream",
     "text": [
      "  \n",
      " CHARMM>     read rtf card -\n",
      " CHARMM>     name /tmp/tmpjmzfpppc\n",
      " VOPEN> Attempting to open::/tmp/tmpjmzfpppc::\n",
      " MAINIO> Residue topology file being read from unit  91.\n",
      " TITLE> *RTF LOADED FROM CRIMM\n",
      " TITLE> 36  2\n",
      " VCLOSE: Closing unit   91 with status \"KEEP\"\n",
      "  \n",
      " CHARMM>     \n",
      "  \n",
      "  \n",
      " CHARMM>     read param card -\n",
      " CHARMM>     name /tmp/tmprlfq261w -\n",
      " CHARMM>     flex\n",
      " VOPEN> Attempting to open::/tmp/tmprlfq261w::\n",
      "\n",
      "          PARAMETER FILE BEING READ FROM UNIT 91\n",
      " TITLE> *PRM LOADED FROM CRIMM\n",
      " TITLE> *>>>> CHARMM36 ALL-HYDROGEN PARAMETER FILE FOR PROTEINS <<<<<<<<<<\n",
      " TITLE> *>>>>> INCLUDES PHI, PSI CROSS TERM MAP (CMAP) CORRECTION <<<<<<<<\n",
      " TITLE> *>>>>>>>>>>>>>>>>>>>>>>>>>> JAN. 2016 <<<<<<<<<<<<<<<<<<<<<<<<<<<<\n",
      " TITLE> * ALL COMMENTS TO THE CHARMM WEB SITE: WWW.CHARMM.ORG\n",
      " TITLE> *             PARAMETER SET DISCUSSION FORUM\n",
      " TITLE> *\n",
      " PARMIO> NONBOND, HBOND lists and IMAGE atoms cleared.\n",
      " VCLOSE: Closing unit   91 with status \"KEEP\"\n",
      "  \n",
      " CHARMM>     \n",
      "  \n"
     ]
    }
   ],
   "source": [
    "# get residue topology definitions for protein\n",
    "topo = TopologyLoader('protein')\n",
    "param = ParameterLoader('protein')\n",
    "param.fill_ic(topo)\n",
    "\n",
    "# load these rtf and param files into pyCHARMM too\n",
    "load_topology(topo)\n",
    "load_parameters(param)"
   ]
  },
  {
   "cell_type": "code",
   "execution_count": 13,
   "id": "bdfe4696-2b05-4e07-a57e-80d33edcb7dd",
   "metadata": {},
   "outputs": [
    {
     "name": "stderr",
     "output_type": "stream",
     "text": [
      "/home/truman/.conda/envs/crimm-conda/lib/python3.9/site-packages/crimm/Modeller/ParamLoader.py:167: UserWarning: No cmap found in <Polypeptide(L) id=A Residues=578>.\n",
      "  warnings.warn(\n"
     ]
    }
   ],
   "source": [
    "topo.generate_chain_topology(\n",
    "    final_chain, first_patch = 'ACE', last_patch = 'CT3', coerce = True\n",
    ")\n",
    "param.fill_ic(topo)\n",
    "param.apply(final_chain.topo_elements)\n",
    "built_atoms = fix_chain(final_chain)"
   ]
  },
  {
   "cell_type": "markdown",
   "id": "beb38296-a49b-4d86-8aa2-afa46b7ca987",
   "metadata": {},
   "source": [
    "## Load Chain and Minimize in pyCHARMM"
   ]
  },
  {
   "cell_type": "code",
   "execution_count": 14,
   "id": "5c213453-8f27-455f-8a04-c9a0946a31b6",
   "metadata": {
    "tags": []
   },
   "outputs": [
    {
     "name": "stdout",
     "output_type": "stream",
     "text": [
      "  \n",
      " CHARMM>     read sequence pdb -\n",
      " CHARMM>     name /tmp/tmpmu_ft6mz\n",
      " VOPEN> Attempting to open::/tmp/tmpmu_ft6mz::\n",
      " MAINIO> Sequence information being read from unit  91.\n",
      " TITLE>  *\n",
      "\n",
      "          RESIDUE SEQUENCE --   578 RESIDUES\n",
      "          GLY ILE ILE PRO LYS LYS ARG GLN GLU LEU MET LYS TRP ASN GLY TRP GLY TYR ASN ASP \n",
      "          SER LYS PHE PHE LEU ASN LYS LYS GLY GLN LEU GLU LEU THR GLY LYS ARG TYR PRO LEU \n",
      "          SER GLY VAL ALA LEU PRO THR PHE LYS ASP TRP ILE GLN ASN THR PHE GLY ILE ASN LEU \n",
      "          ASP HSD LYS THR THR SER LYS ALA SER LEU ASN PRO SER ASP THR PRO PRO SER ILE VAL \n",
      "          ASN GLU ASP PHE LEU HSD GLU LEU LYS LYS THR ASN ILE SER TYR SER GLN GLU ALA ASP \n",
      "          ASP ARG VAL PHE ARG ALA HSD GLY HSD CYS LEU HSD GLU ILE PHE LEU LEU ARG GLU GLY \n",
      "          MET PHE GLU ARG ILE PRO ASP ILE VAL LEU TRP PRO THR CYS HSD ASP ASP VAL VAL LYS \n",
      "          ILE VAL ASN LEU ALA CYS LYS TYR ASN LEU CYS ILE ILE PRO ILE GLY GLY GLY THR SER \n",
      "          VAL SER TYR GLY LEU MET CYS PRO ALA ASP GLU THR ARG THR ILE ILE SER LEU ASP THR \n",
      "          SER GLN MET ASN ARG ILE LEU TRP VAL ASP GLU ASN ASN LEU THR ALA HSD VAL GLU ALA \n",
      "          GLY ILE THR GLY GLN GLU LEU GLU ARG GLN LEU LYS GLU SER GLY TYR CYS THR GLY HSD \n",
      "          GLU PRO ASP SER LEU GLU PHE SER THR VAL GLY GLY TRP ILE SER THR ARG ALA SER GLY \n",
      "          MET LYS LYS ASN ILE TYR GLY ASN ILE GLU ASP LEU VAL VAL HSD MET LYS VAL VAL THR \n",
      "          PRO ARG GLY VAL ILE GLU LYS SER CYS GLN GLY PRO ARG MET SER THR GLY PRO ASP ILE \n",
      "          HSD HSD PHE ILE MET GLY SER GLU GLY THR LEU GLY VAL ILE THR GLU ALA THR ILE LYS \n",
      "          ILE ARG PRO THR PRO GLU TYR GLN LYS TYR GLY SER VAL ALA PHE PRO ASN PHE GLU GLN \n",
      "          GLY VAL ALA CYS LEU ARG GLU ILE ALA LYS GLN ARG CYS ALA PRO ALA SER ILE ARG LEU \n",
      "          MET ASP ASN GLN GLN PHE GLN PHE GLY HSD ALA LEU LYS PRO GLN VAL SER SER ILE PHE \n",
      "          THR SER PHE LEU ASP GLY LEU LYS LYS PHE TYR ILE THR LYS PHE LYS GLY PHE ASP PRO \n",
      "          ASN GLN LEU SER VAL ALA THR LEU LEU PHE GLU GLY ASP ARG GLU LYS VAL LEU GLN HSD \n",
      "          GLU LYS GLN VAL TYR ASP ILE ALA ALA LYS PHE GLY GLY LEU ALA ALA GLY GLU ASP ASN \n",
      "          GLY GLN ARG GLY TYR LEU LEU THR TYR VAL ILE ALA TYR MET ARG ASP LEU GLY LEU GLU \n",
      "          TYR TYR ILE ILE GLY GLU SER PHE GLU THR SER ALA PRO TRP ASP ARG VAL VAL ASP LEU \n",
      "          CYS ARG ASN VAL LYS GLU ARG ILE ARG ARG GLU CYS LYS GLU LYS GLY VAL GLN PHE PRO \n",
      "          PRO LEU SER THR CYS ARG VAL THR GLN THR TYR ASP ALA GLY ALA CYS ILE TYR PHE TYR \n",
      "          PHE ALA PHE ASN TYR ARG GLY ILE SER ASP PRO LEU ALA VAL PHE GLU GLN THR GLU ALA \n",
      "          ALA ALA ARG GLU GLU ILE LEU ALA ASN GLY GLY SER LEU SER HSD HSD HSD GLY VAL GLY \n",
      "          LYS LEU ARG LYS GLN TRP LEU LYS GLU SER ILE SER ASP VAL GLY PHE GLY MET LEU LYS \n",
      "          SER VAL LYS ASP TYR VAL ASP PRO THR ASN ILE PHE GLY ASN ARG ASN LEU LEU \n",
      " ***** Message from SEQRDR ***** THE SYSTEM CONTAINS143 TITRATABLE GROUPS\n",
      " THE USER MUST PREDETERMINE THE PROTONATION STATE THROUGH THE SEQUENCE AND RTF\n",
      " HIS -  0  HSD - 16  HSE -  0  HSP -  0  ASP - 30  GLU - 38  LYS - 38  TYR - 21\n",
      " VCLOSE: Closing unit   91 with status \"KEEP\"\n",
      "  \n",
      " CHARMM>     \n",
      "  \n",
      " THE PATCH 'ACE' WILL BE USED FOR THE FIRST RESIDUE\n",
      " THE PATCH 'CT3' WILL BE USED FOR THE LAST  RESIDUE\n",
      " AUTGEN: Autogenerating specified angles and dihedrals.\n",
      " GENPSF> Segment   1 has been generated. Its identifier is PROA.\n",
      " PSFSUM> PSF modified: NONBOND lists and IMAGE atoms cleared.\n",
      " PSFSUM> Summary of the structure file counters :\n",
      "         Number of segments      =        1   Number of residues   =      578\n",
      "         Number of atoms         =     9122   Number of groups     =     2744\n",
      "         Number of bonds         =     9228   Number of angles     =    16665\n",
      "         Number of dihedrals     =    24447   Number of impropers  =     1601\n",
      "         Number of cross-terms   =      578   Number of autogens   =        0\n",
      "         Number of HB acceptors  =      868   Number of HB donors  =     1035\n",
      "         Number of NB exclusions =        0   Total charge =   -1.00000\n",
      "  \n",
      " CHARMM>     read coor pdb -\n",
      " CHARMM>     name /tmp/tmpmu_ft6mz -\n",
      " CHARMM>     resi\n",
      " VOPEN> Attempting to open::/tmp/tmpmu_ft6mz::\n",
      "  read CHARMM-pdb format\n",
      "          SPATIAL COORDINATES BEING READ FROM UNIT 91\n",
      " TITLE>  *\n",
      " VCLOSE: Closing unit   91 with status \"KEEP\"\n",
      "  \n",
      " CHARMM>     \n",
      "  \n"
     ]
    }
   ],
   "source": [
    "load_chain(final_chain)"
   ]
  },
  {
   "cell_type": "code",
   "execution_count": 15,
   "id": "5676b7d1-2f09-411e-81e2-b0773cfc701c",
   "metadata": {
    "tags": []
   },
   "outputs": [
    {
     "name": "stdout",
     "output_type": "stream",
     "text": [
      " EPHI: WARNING. bent improper torsion angle is \n",
      "\n",
      "far from minimum for;\n",
      "    IPHI= 1018  with deltaPHI=  93.6707 MIN=   0.0000 ATOMS: 5717 5715 5719 5718\n",
      " EPHI: WARNING. bent improper torsion angle is \n",
      "\n",
      "far from minimum for;\n",
      "    IPHI= 1018  with deltaPHI=  92.1273 MIN=   0.0000 ATOMS: 5717 5715 5719 5718\n",
      " EPHI: WARNING. bent improper torsion angle is \n",
      "\n",
      "far from minimum for;\n",
      "    IPHI= 1014  with deltaPHI= 122.0244 MIN=   0.0000 ATOMS: 5678 5676 5680 5679\n",
      " EPHI: WARNING. bent improper torsion angle is \n",
      "\n",
      "far from minimum for;\n",
      "    IPHI= 1014  with deltaPHI=  91.4986 MIN=   0.0000 ATOMS: 5678 5676 5680 5679\n",
      "Adopted Basis Newton-Raphson minimization not performed\n"
     ]
    },
    {
     "data": {
      "text/plain": [
       "0"
      ]
     },
     "execution_count": 15,
     "metadata": {},
     "output_type": "execute_result"
    }
   ],
   "source": [
    "# set verbosity to zero to reduce output from minimization steps\n",
    "prev_level = set_verbosity(0)\n",
    "minimize(sd_nstep=300, abnr_nstep=0)\n",
    "set_verbosity(prev_level)"
   ]
  },
  {
   "cell_type": "markdown",
   "id": "ce97efd3-a008-4871-b578-b4cfefd2d283",
   "metadata": {},
   "source": [
    "Since the coordinates were calculated in pyCHARMM, we need to copy these coord from pyCHARMM to crimm. There is a function provided `sync_coords` for synchronize the structures from both side."
   ]
  },
  {
   "cell_type": "code",
   "execution_count": 16,
   "id": "27c5ad6e-db12-4246-a161-ea61ab4a62db",
   "metadata": {},
   "outputs": [
    {
     "name": "stdout",
     "output_type": "stream",
     "text": [
      "Synchronized: <Polypeptide(L) id=A Residues=578>\n"
     ]
    }
   ],
   "source": [
    "sync_coords(final_chain)"
   ]
  },
  {
   "cell_type": "markdown",
   "id": "d65c3a32-8db4-4d91-a934-8a4b625bcd38",
   "metadata": {},
   "source": [
    "We can visualize again to see if the strcuture looks reasonable"
   ]
  },
  {
   "cell_type": "code",
   "execution_count": 17,
   "id": "59360e16-2492-49a2-b2cd-a4d81075cdbd",
   "metadata": {},
   "outputs": [
    {
     "data": {
      "application/vnd.jupyter.widget-view+json": {
       "model_id": "816c6d916c974a4d9d7d39a7ae4901a3",
       "version_major": 2,
       "version_minor": 0
      },
      "text/plain": [
       "View()"
      ]
     },
     "metadata": {},
     "output_type": "display_data"
    }
   ],
   "source": [
    "looper.highlight_repaired_gaps()"
   ]
  },
  {
   "cell_type": "markdown",
   "id": "aa6d22e6-f6a2-4e76-817d-9085fa28379e",
   "metadata": {},
   "source": [
    "## Working on Multiple Structures\n",
    "\n",
    "Below is an example for working on multiple strcutures with missing loop regions"
   ]
  },
  {
   "cell_type": "code",
   "execution_count": 18,
   "id": "78fbb087-8e4a-4d7b-9c42-8b66697935ed",
   "metadata": {},
   "outputs": [
    {
     "name": "stderr",
     "output_type": "stream",
     "text": [
      "/home/truman/.conda/envs/crimm-conda/lib/python3.9/site-packages/crimm/StructEntities/Model.py:87: UserWarning: Chain O not found in model 1\n",
      "  warnings.warn(\n",
      "/home/truman/.conda/envs/crimm-conda/lib/python3.9/site-packages/crimm/StructEntities/Model.py:72: UserWarning: Insufficient atoms for connect record metalc\n",
      "  warnings.warn(\n",
      "/home/truman/.conda/envs/crimm-conda/lib/python3.9/site-packages/crimm/StructEntities/Model.py:87: UserWarning: Chain R not found in model 1\n",
      "  warnings.warn(\n",
      "/home/truman/.conda/envs/crimm-conda/lib/python3.9/site-packages/crimm/StructEntities/Model.py:87: UserWarning: Chain S not found in model 1\n",
      "  warnings.warn(\n",
      "/home/truman/.conda/envs/crimm-conda/lib/python3.9/site-packages/crimm/StructEntities/Model.py:87: UserWarning: Chain B not found in model 1\n",
      "  warnings.warn(\n",
      "/home/truman/.conda/envs/crimm-conda/lib/python3.9/site-packages/crimm/StructEntities/Model.py:87: UserWarning: Chain G not found in model 1\n",
      "  warnings.warn(\n",
      "/home/truman/.conda/envs/crimm-conda/lib/python3.9/site-packages/crimm/StructEntities/Model.py:72: UserWarning: Insufficient atoms for connect record metalc\n",
      "  warnings.warn(\n"
     ]
    }
   ],
   "source": [
    "test_cases = ['3Q4K','5IEV','4BBY',\"6FGQ\",\"7M0C\",'6UDL','5VQA','6SSV']\n",
    "structures = [fetch_rcsb(pdbid, include_solvent = False) for pdbid in test_cases]"
   ]
  },
  {
   "cell_type": "code",
   "execution_count": 19,
   "id": "d8b543db-f975-4270-a37f-08064953cb33",
   "metadata": {},
   "outputs": [
    {
     "data": {
      "text/plain": [
       "[<Polypeptide(L) id=A Residues=356>,\n",
       " <Polypeptide(L) id=B Residues=360>,\n",
       " <Polypeptide(L) id=A Residues=284>,\n",
       " <Polypeptide(L) id=A Residues=555>,\n",
       " <Polypeptide(L) id=B Residues=543>,\n",
       " <Polypeptide(L) id=A Residues=229>,\n",
       " <Polypeptide(L) id=A Residues=332>,\n",
       " <Polypeptide(L) id=A Residues=469>,\n",
       " <Polypeptide(L) id=A Residues=368>,\n",
       " <Polypeptide(L) id=A Residues=365>]"
      ]
     },
     "execution_count": 19,
     "metadata": {},
     "output_type": "execute_result"
    }
   ],
   "source": [
    "broken_chains = []\n",
    "for structure in structures:\n",
    "    for chain in structure.models[0]:\n",
    "        if chain.chain_type == 'Polypeptide(L)' and not chain.is_continuous():\n",
    "            broken_chains.append(chain)\n",
    "broken_chains"
   ]
  },
  {
   "cell_type": "code",
   "execution_count": 20,
   "id": "df9e2e73-939c-4b26-8c91-ad6e63aec047",
   "metadata": {},
   "outputs": [
    {
     "name": "stdout",
     "output_type": "stream",
     "text": [
      "3Q4K <Polypeptide(L) id=A Residues=356>\n",
      "3Q4K <Polypeptide(L) id=B Residues=360>\n",
      "5IEV <Polypeptide(L) id=A Residues=284>\n"
     ]
    },
    {
     "name": "stderr",
     "output_type": "stream",
     "text": [
      "/home/truman/.conda/envs/crimm-conda/lib/python3.9/site-packages/crimm/StructEntities/Model.py:87: UserWarning: Chain D not found in model 1\n",
      "  warnings.warn(\n",
      "/home/truman/.conda/envs/crimm-conda/lib/python3.9/site-packages/crimm/StructEntities/Model.py:72: UserWarning: Insufficient atoms for connect record metalc\n",
      "  warnings.warn(\n",
      "/home/truman/.conda/envs/crimm-conda/lib/python3.9/site-packages/crimm/StructEntities/Model.py:87: UserWarning: Chain D not found in model 1\n",
      "  warnings.warn(\n",
      "/home/truman/.conda/envs/crimm-conda/lib/python3.9/site-packages/crimm/StructEntities/Model.py:72: UserWarning: Insufficient atoms for connect record metalc\n",
      "  warnings.warn(\n"
     ]
    },
    {
     "name": "stdout",
     "output_type": "stream",
     "text": [
      "4BBY <Polypeptide(L) id=A Residues=555>\n",
      "4BBY <Polypeptide(L) id=B Residues=543>\n",
      "6FGQ <Polypeptide(L) id=A Residues=229>\n"
     ]
    },
    {
     "name": "stderr",
     "output_type": "stream",
     "text": [
      "/home/truman/.conda/envs/crimm-conda/lib/python3.9/site-packages/crimm/StructEntities/Model.py:87: UserWarning: Chain E not found in model 1\n",
      "  warnings.warn(\n",
      "/home/truman/.conda/envs/crimm-conda/lib/python3.9/site-packages/crimm/StructEntities/Model.py:72: UserWarning: Insufficient atoms for connect record metalc\n",
      "  warnings.warn(\n",
      "/home/truman/.conda/envs/crimm-conda/lib/python3.9/site-packages/crimm/StructEntities/Model.py:87: UserWarning: Chain E not found in model 1\n",
      "  warnings.warn(\n",
      "/home/truman/.conda/envs/crimm-conda/lib/python3.9/site-packages/crimm/StructEntities/Model.py:72: UserWarning: Insufficient atoms for connect record metalc\n",
      "  warnings.warn(\n",
      "/home/truman/.conda/envs/crimm-conda/lib/python3.9/site-packages/crimm/StructEntities/Model.py:87: UserWarning: Chain F not found in model 1\n",
      "  warnings.warn(\n",
      "/home/truman/.conda/envs/crimm-conda/lib/python3.9/site-packages/crimm/StructEntities/Model.py:72: UserWarning: Insufficient atoms for connect record metalc\n",
      "  warnings.warn(\n",
      "/home/truman/.conda/envs/crimm-conda/lib/python3.9/site-packages/crimm/StructEntities/Model.py:87: UserWarning: Chain E not found in model 1\n",
      "  warnings.warn(\n",
      "/home/truman/.conda/envs/crimm-conda/lib/python3.9/site-packages/crimm/StructEntities/Model.py:72: UserWarning: Insufficient atoms for connect record metalc\n",
      "  warnings.warn(\n",
      "/home/truman/.conda/envs/crimm-conda/lib/python3.9/site-packages/crimm/StructEntities/Model.py:87: UserWarning: Chain E not found in model 1\n",
      "  warnings.warn(\n",
      "/home/truman/.conda/envs/crimm-conda/lib/python3.9/site-packages/crimm/StructEntities/Model.py:72: UserWarning: Insufficient atoms for connect record metalc\n",
      "  warnings.warn(\n"
     ]
    },
    {
     "name": "stdout",
     "output_type": "stream",
     "text": [
      "7M0C <Polypeptide(L) id=A Residues=332>\n"
     ]
    },
    {
     "name": "stderr",
     "output_type": "stream",
     "text": [
      "/home/truman/.conda/envs/crimm-conda/lib/python3.9/site-packages/crimm/StructEntities/Model.py:87: UserWarning: Chain R not found in model 1\n",
      "  warnings.warn(\n",
      "/home/truman/.conda/envs/crimm-conda/lib/python3.9/site-packages/crimm/StructEntities/Model.py:72: UserWarning: Insufficient atoms for connect record metalc\n",
      "  warnings.warn(\n",
      "/home/truman/.conda/envs/crimm-conda/lib/python3.9/site-packages/crimm/StructEntities/Model.py:87: UserWarning: Chain T not found in model 1\n",
      "  warnings.warn(\n",
      "/home/truman/.conda/envs/crimm-conda/lib/python3.9/site-packages/crimm/StructEntities/Model.py:87: UserWarning: Chain S not found in model 1\n",
      "  warnings.warn(\n",
      "/home/truman/.conda/envs/crimm-conda/lib/python3.9/site-packages/crimm/StructEntities/Model.py:87: UserWarning: Chain M not found in model 1\n",
      "  warnings.warn(\n",
      "/home/truman/.conda/envs/crimm-conda/lib/python3.9/site-packages/crimm/StructEntities/Model.py:72: UserWarning: Insufficient atoms for connect record metalc\n",
      "  warnings.warn(\n",
      "/home/truman/.conda/envs/crimm-conda/lib/python3.9/site-packages/crimm/StructEntities/Model.py:87: UserWarning: Chain O not found in model 1\n",
      "  warnings.warn(\n",
      "/home/truman/.conda/envs/crimm-conda/lib/python3.9/site-packages/crimm/StructEntities/Model.py:87: UserWarning: Chain Q not found in model 1\n",
      "  warnings.warn(\n",
      "/home/truman/.conda/envs/crimm-conda/lib/python3.9/site-packages/crimm/StructEntities/Model.py:72: UserWarning: Insufficient atoms for connect record metalc\n",
      "  warnings.warn(\n",
      "/home/truman/.conda/envs/crimm-conda/lib/python3.9/site-packages/crimm/StructEntities/Model.py:87: UserWarning: Chain S not found in model 1\n",
      "  warnings.warn(\n",
      "/home/truman/.conda/envs/crimm-conda/lib/python3.9/site-packages/crimm/StructEntities/Model.py:87: UserWarning: Chain T not found in model 1\n",
      "  warnings.warn(\n",
      "/home/truman/.conda/envs/crimm-conda/lib/python3.9/site-packages/crimm/StructEntities/Model.py:87: UserWarning: Chain R not found in model 1\n",
      "  warnings.warn(\n",
      "/home/truman/.conda/envs/crimm-conda/lib/python3.9/site-packages/crimm/StructEntities/Model.py:72: UserWarning: Insufficient atoms for connect record metalc\n",
      "  warnings.warn(\n",
      "/home/truman/.conda/envs/crimm-conda/lib/python3.9/site-packages/crimm/StructEntities/Model.py:87: UserWarning: Chain T not found in model 1\n",
      "  warnings.warn(\n",
      "/home/truman/.conda/envs/crimm-conda/lib/python3.9/site-packages/crimm/StructEntities/Model.py:87: UserWarning: Chain U not found in model 1\n",
      "  warnings.warn(\n",
      "/home/truman/.conda/envs/crimm-conda/lib/python3.9/site-packages/crimm/StructEntities/Model.py:87: UserWarning: Chain R not found in model 1\n",
      "  warnings.warn(\n",
      "/home/truman/.conda/envs/crimm-conda/lib/python3.9/site-packages/crimm/StructEntities/Model.py:72: UserWarning: Insufficient atoms for connect record metalc\n",
      "  warnings.warn(\n",
      "/home/truman/.conda/envs/crimm-conda/lib/python3.9/site-packages/crimm/StructEntities/Model.py:87: UserWarning: Chain T not found in model 1\n",
      "  warnings.warn(\n",
      "/home/truman/.conda/envs/crimm-conda/lib/python3.9/site-packages/crimm/StructEntities/Model.py:87: UserWarning: Chain U not found in model 1\n",
      "  warnings.warn(\n",
      "/home/truman/.conda/envs/crimm-conda/lib/python3.9/site-packages/crimm/StructEntities/Model.py:87: UserWarning: Chain QA not found in model 1\n",
      "  warnings.warn(\n",
      "/home/truman/.conda/envs/crimm-conda/lib/python3.9/site-packages/crimm/StructEntities/Model.py:72: UserWarning: Insufficient atoms for connect record metalc\n",
      "  warnings.warn(\n",
      "/home/truman/.conda/envs/crimm-conda/lib/python3.9/site-packages/crimm/StructEntities/Model.py:87: UserWarning: Chain SA not found in model 1\n",
      "  warnings.warn(\n",
      "/home/truman/.conda/envs/crimm-conda/lib/python3.9/site-packages/crimm/StructEntities/Model.py:87: UserWarning: Chain TA not found in model 1\n",
      "  warnings.warn(\n",
      "/home/truman/.conda/envs/crimm-conda/lib/python3.9/site-packages/crimm/StructEntities/Model.py:87: UserWarning: Chain UA not found in model 1\n",
      "  warnings.warn(\n",
      "/home/truman/.conda/envs/crimm-conda/lib/python3.9/site-packages/crimm/StructEntities/Model.py:87: UserWarning: Chain WA not found in model 1\n",
      "  warnings.warn(\n",
      "/home/truman/.conda/envs/crimm-conda/lib/python3.9/site-packages/crimm/StructEntities/Model.py:87: UserWarning: Chain XA not found in model 1\n",
      "  warnings.warn(\n",
      "/home/truman/.conda/envs/crimm-conda/lib/python3.9/site-packages/crimm/StructEntities/Model.py:87: UserWarning: Chain VA not found in model 1\n",
      "  warnings.warn(\n",
      "/home/truman/.conda/envs/crimm-conda/lib/python3.9/site-packages/crimm/StructEntities/Model.py:87: UserWarning: Chain IA not found in model 1\n",
      "  warnings.warn(\n",
      "/home/truman/.conda/envs/crimm-conda/lib/python3.9/site-packages/crimm/StructEntities/Model.py:72: UserWarning: Insufficient atoms for connect record metalc\n",
      "  warnings.warn(\n",
      "/home/truman/.conda/envs/crimm-conda/lib/python3.9/site-packages/crimm/StructEntities/Model.py:87: UserWarning: Chain KA not found in model 1\n",
      "  warnings.warn(\n",
      "/home/truman/.conda/envs/crimm-conda/lib/python3.9/site-packages/crimm/StructEntities/Model.py:87: UserWarning: Chain OA not found in model 1\n",
      "  warnings.warn(\n",
      "/home/truman/.conda/envs/crimm-conda/lib/python3.9/site-packages/crimm/StructEntities/Model.py:87: UserWarning: Chain MA not found in model 1\n",
      "  warnings.warn(\n",
      "/home/truman/.conda/envs/crimm-conda/lib/python3.9/site-packages/crimm/StructEntities/Model.py:87: UserWarning: Chain QA not found in model 1\n",
      "  warnings.warn(\n",
      "/home/truman/.conda/envs/crimm-conda/lib/python3.9/site-packages/crimm/StructEntities/Model.py:87: UserWarning: Chain SA not found in model 1\n",
      "  warnings.warn(\n",
      "/home/truman/.conda/envs/crimm-conda/lib/python3.9/site-packages/crimm/StructEntities/Model.py:87: UserWarning: Chain VA not found in model 1\n",
      "  warnings.warn(\n",
      "/home/truman/.conda/envs/crimm-conda/lib/python3.9/site-packages/crimm/StructEntities/Model.py:87: UserWarning: Chain TA not found in model 1\n",
      "  warnings.warn(\n"
     ]
    },
    {
     "name": "stdout",
     "output_type": "stream",
     "text": [
      "6UDL <Polypeptide(L) id=A Residues=469>\n",
      "5VQA <Polypeptide(L) id=A Residues=368>\n",
      "Building from AlphaFold model\n"
     ]
    },
    {
     "name": "stderr",
     "output_type": "stream",
     "text": [
      "/home/truman/.conda/envs/crimm-conda/lib/python3.9/site-packages/crimm/Superimpose/ChainSuperimposer.py:68: UserWarning: Residues are not identical at model chain: GLN-253 and template chain: GLU-253\n",
      "  warnings.warn(\n"
     ]
    },
    {
     "name": "stdout",
     "output_type": "stream",
     "text": [
      "6SSV <Polypeptide(L) id=A Residues=365>\n"
     ]
    },
    {
     "name": "stderr",
     "output_type": "stream",
     "text": [
      "/home/truman/.conda/envs/crimm-conda/lib/python3.9/site-packages/crimm/Modeller/LoopBuilder.py:434: UserWarning: No homology model found for 6SSV-A from sequence search!\n",
      "  warnings.warn(\n"
     ]
    },
    {
     "name": "stdout",
     "output_type": "stream",
     "text": [
      "Building from AlphaFold model\n"
     ]
    },
    {
     "name": "stderr",
     "output_type": "stream",
     "text": [
      "/home/truman/.conda/envs/crimm-conda/lib/python3.9/site-packages/crimm/Superimpose/ChainSuperimposer.py:68: UserWarning: Residues are not identical at model chain: HIS-108 and template chain: TYR-127\n",
      "  warnings.warn(\n"
     ]
    }
   ],
   "source": [
    "complete_chains = {}\n",
    "incomplete_chains = {}\n",
    "for chain in broken_chains:\n",
    "    pdbid = chain.parent.parent.id\n",
    "    print(pdbid, chain)\n",
    "    looper = ChainLoopBuilder(chain)\n",
    "    looper.build_from_homology(\n",
    "        max_num_match = 10, identity_score_cutoff = 0.95,\n",
    "    )\n",
    "    if not looper.model_chain.is_continuous():\n",
    "        print('Building from AlphaFold model')\n",
    "        looper.build_from_alphafold(include_terminal = False)\n",
    "    fixed_chain = looper.get_chain()\n",
    "    if fixed_chain.is_continuous():\n",
    "        if pdbid not in complete_chains:\n",
    "            complete_chains[pdbid] = {}\n",
    "        complete_chains[pdbid][chain.id] = fixed_chain\n",
    "    else:\n",
    "        if pdbid not in incomplete_chains:\n",
    "            incomplete_chains[pdbid] = {}\n",
    "        incomplete_chains[pdbid][chain.id] = fixed_chain"
   ]
  },
  {
   "cell_type": "code",
   "execution_count": 21,
   "id": "47bc4700-6c97-4cc3-8f79-a20d3eac126c",
   "metadata": {},
   "outputs": [
    {
     "data": {
      "text/plain": [
       "{'3Q4K': {'A': <Polypeptide(L) id=A Residues=366>,\n",
       "  'B': <Polypeptide(L) id=B Residues=366>},\n",
       " '5IEV': {'A': <Polypeptide(L) id=A Residues=298>},\n",
       " '4BBY': {'A': <Polypeptide(L) id=A Residues=578>,\n",
       "  'B': <Polypeptide(L) id=B Residues=578>},\n",
       " '6FGQ': {'A': <Polypeptide(L) id=A Residues=245>},\n",
       " '7M0C': {'A': <Polypeptide(L) id=A Residues=340>},\n",
       " '6UDL': {'A': <Polypeptide(L) id=A Residues=477>},\n",
       " '5VQA': {'A': <Polypeptide(L) id=A Residues=412>},\n",
       " '6SSV': {'A': <Polypeptide(L) id=A Residues=383>}}"
      ]
     },
     "execution_count": 21,
     "metadata": {},
     "output_type": "execute_result"
    }
   ],
   "source": [
    "complete_chains"
   ]
  },
  {
   "cell_type": "code",
   "execution_count": 22,
   "id": "d6e9f411-7094-4569-9581-5dd876286b1e",
   "metadata": {
    "tags": []
   },
   "outputs": [
    {
     "name": "stderr",
     "output_type": "stream",
     "text": [
      "/home/truman/.conda/envs/crimm-conda/lib/python3.9/site-packages/crimm/Modeller/TopoLoader.py:370: UserWarning: Atom OXT from (366, 'LEU') is not defined in the topology file!\n",
      "  warnings.warn(\n",
      "/home/truman/.conda/envs/crimm-conda/lib/python3.9/site-packages/crimm/Modeller/ParamLoader.py:167: UserWarning: No cmap found in <Polypeptide(L) id=A Residues=366>.\n",
      "  warnings.warn(\n",
      "/home/truman/.conda/envs/crimm-conda/lib/python3.9/site-packages/crimm/Modeller/ParamLoader.py:167: UserWarning: No cmap found in <Polypeptide(L) id=B Residues=366>.\n",
      "  warnings.warn(\n",
      "/home/truman/.conda/envs/crimm-conda/lib/python3.9/site-packages/crimm/Modeller/TopoLoader.py:370: UserWarning: Atom OXT from (298, 'LEU') is not defined in the topology file!\n",
      "  warnings.warn(\n",
      "/home/truman/.conda/envs/crimm-conda/lib/python3.9/site-packages/crimm/Modeller/ParamLoader.py:167: UserWarning: No cmap found in <Polypeptide(L) id=A Residues=298>.\n",
      "  warnings.warn(\n",
      "/home/truman/.conda/envs/crimm-conda/lib/python3.9/site-packages/crimm/Modeller/ParamLoader.py:167: UserWarning: No cmap found in <Polypeptide(L) id=A Residues=578>.\n",
      "  warnings.warn(\n",
      "/home/truman/.conda/envs/crimm-conda/lib/python3.9/site-packages/crimm/Modeller/ParamLoader.py:167: UserWarning: No cmap found in <Polypeptide(L) id=B Residues=578>.\n",
      "  warnings.warn(\n",
      "/home/truman/.conda/envs/crimm-conda/lib/python3.9/site-packages/crimm/Modeller/ParamLoader.py:167: UserWarning: No cmap found in <Polypeptide(L) id=A Residues=245>.\n",
      "  warnings.warn(\n",
      "/home/truman/.conda/envs/crimm-conda/lib/python3.9/site-packages/crimm/Modeller/TopoLoader.py:370: UserWarning: Atom OXT from (346, 'TRP') is not defined in the topology file!\n",
      "  warnings.warn(\n",
      "/home/truman/.conda/envs/crimm-conda/lib/python3.9/site-packages/crimm/Modeller/ParamLoader.py:167: UserWarning: No cmap found in <Polypeptide(L) id=A Residues=340>.\n",
      "  warnings.warn(\n",
      "/home/truman/.conda/envs/crimm-conda/lib/python3.9/site-packages/crimm/Modeller/ParamLoader.py:167: UserWarning: No cmap found in <Polypeptide(L) id=A Residues=477>.\n",
      "  warnings.warn(\n",
      "/home/truman/.conda/envs/crimm-conda/lib/python3.9/site-packages/crimm/Modeller/ParamLoader.py:167: UserWarning: No cmap found in <Polypeptide(L) id=A Residues=412>.\n",
      "  warnings.warn(\n",
      "/home/truman/.conda/envs/crimm-conda/lib/python3.9/site-packages/crimm/Modeller/ParamLoader.py:167: UserWarning: No cmap found in <Polypeptide(L) id=A Residues=383>.\n",
      "  warnings.warn(\n"
     ]
    }
   ],
   "source": [
    "for pdbid, chain_dict in complete_chains.items():\n",
    "    for chain_id, chain in chain_dict.items():\n",
    "        # PRO and GLY need special treatment when patched at the N-terminus \n",
    "        first_resname = chain.residues[0].resname\n",
    "        if first_resname == 'PRO':\n",
    "            first_patch = 'PROP'\n",
    "        elif first_resname == 'GLY':\n",
    "            first_patch = 'GLYP'\n",
    "        else:\n",
    "            first_patch = 'ACE'\n",
    "        topo.generate_chain_topology(\n",
    "            chain, first_patch=first_patch, last_patch='CT3', coerce=True\n",
    "        )\n",
    "        param.fill_ic(topo)\n",
    "        param.apply(chain.topo_elements)\n",
    "        built_atoms = fix_chain(chain)"
   ]
  },
  {
   "cell_type": "code",
   "execution_count": 23,
   "id": "033c1b0f-dbc4-4ec5-b332-26ced9bb255d",
   "metadata": {},
   "outputs": [
    {
     "data": {
      "application/vnd.jupyter.widget-view+json": {
       "model_id": "e5b607eb7fcb4944995b66c35347a79b",
       "version_major": 2,
       "version_minor": 0
      },
      "text/plain": [
       "NGLWidget()"
      ]
     },
     "metadata": {},
     "output_type": "display_data"
    },
    {
     "name": "stdout",
     "output_type": "stream",
     "text": [
      "<Polypeptide(L) id=A Residues=578>\n",
      "  Description: ALKYLDIHYDROXYACETONEPHOSPHATE SYNTHASE, PEROXISOMAL\n"
     ]
    }
   ],
   "source": [
    "complete_chains['4BBY']['A']"
   ]
  },
  {
   "cell_type": "code",
   "execution_count": null,
   "id": "dca27082-6f90-4bdb-9cfb-0e813ac194d3",
   "metadata": {},
   "outputs": [],
   "source": [
    "prev_level = set_verbosity(0)\n",
    "for pdbid, chain_dict in complete_chains.items():\n",
    "    for chain_id, chain in chain_dict.items():\n",
    "        print(pdbid, chain_id)\n",
    "        load_chain(chain)\n",
    "        minimize(sd_nstep=300, abnr_nstep=0)\n",
    "        sync_coords(chain)\n",
    "        delete_atoms()\n",
    "        print('---'*20)\n",
    "set_verbosity(prev_level)"
   ]
  },
  {
   "cell_type": "markdown",
   "id": "3bad7584-833b-49c5-ae14-b1001fa47206",
   "metadata": {},
   "source": [
    "## Important Notes\n",
    "\n",
    "This method **does not guarantee** a correct final structure! Always inspect the complete chain visually and identify any artifacts. For example, the loop in Chain A of 5VQA shown below actually is crossed into the alpha helix, and no amount of minimization would fix this issue. You will need to either manually fix it or just use the SwissModel or Alphafold structure directly."
   ]
  },
  {
   "cell_type": "code",
   "execution_count": null,
   "id": "6b95c64e-9141-401c-8ccf-96dc9d59b9e1",
   "metadata": {},
   "outputs": [],
   "source": [
    "complete_chains['5VQA']['A']"
   ]
  },
  {
   "cell_type": "markdown",
   "id": "aeef40b1-7d30-469c-a871-f37cb1c99802",
   "metadata": {},
   "source": [
    "## Fetch Swiss Model or AlphaFold structure for Problematic Chains"
   ]
  },
  {
   "cell_type": "code",
   "execution_count": null,
   "id": "3bf8ce9f-81f1-4875-b25e-316666f389ab",
   "metadata": {},
   "outputs": [],
   "source": [
    "entity_id = complete_chains['5VQA']['A'].entity_id\n",
    "uniprot_id = uniprot_id_query('5VQA', entity_id)\n",
    "\n",
    "sw_struct = fetch_swiss_model(uniprot_id)"
   ]
  },
  {
   "cell_type": "code",
   "execution_count": null,
   "id": "42588018-e0ce-48ab-898f-7a0cbb375b9c",
   "metadata": {},
   "outputs": [],
   "source": [
    "sw_struct"
   ]
  },
  {
   "cell_type": "code",
   "execution_count": null,
   "id": "595dbd84-683e-42b8-8b17-40e445f21a52",
   "metadata": {},
   "outputs": [],
   "source": [
    "af_struct = fetch_alphafold(uniprot_id)"
   ]
  },
  {
   "cell_type": "code",
   "execution_count": null,
   "id": "861434b7-0742-442a-b755-7b15e93b7795",
   "metadata": {},
   "outputs": [],
   "source": [
    "af_struct"
   ]
  },
  {
   "cell_type": "code",
   "execution_count": null,
   "id": "87a0a56d-1aec-459a-8b56-10e1103f9fc4",
   "metadata": {},
   "outputs": [],
   "source": []
  }
 ],
 "metadata": {
  "kernelspec": {
   "display_name": "crimm-test",
   "language": "python",
   "name": "crimm-conda"
  },
  "language_info": {
   "codemirror_mode": {
    "name": "ipython",
    "version": 3
   },
   "file_extension": ".py",
   "mimetype": "text/x-python",
   "name": "python",
   "nbconvert_exporter": "python",
   "pygments_lexer": "ipython3",
   "version": "3.9.16"
  }
 },
 "nbformat": 4,
 "nbformat_minor": 5
}

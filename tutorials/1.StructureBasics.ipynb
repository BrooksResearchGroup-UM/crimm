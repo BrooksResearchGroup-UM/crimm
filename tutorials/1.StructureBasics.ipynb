{
 "cells": [
  {
   "cell_type": "code",
   "execution_count": 1,
   "id": "e2d532e8-d97b-40ff-9c4f-6653f48fd7dd",
   "metadata": {},
   "outputs": [
    {
     "data": {
      "application/vnd.jupyter.widget-view+json": {
       "model_id": "39afa74b97c44935933ee2755771ca21",
       "version_major": 2,
       "version_minor": 0
      },
      "text/plain": []
     },
     "metadata": {},
     "output_type": "display_data"
    }
   ],
   "source": [
    "from crimm import fetch_rcsb\n",
    "from crimm.IO import MMCIFParser, PDBParser, get_pdb_str\n",
    "from Bio.PDB import PDBParser as PPDBParser"
   ]
  },
  {
   "cell_type": "markdown",
   "id": "2aba44cd-730c-4de7-be9c-70d6b69bad9e",
   "metadata": {},
   "source": [
    "## From Local File Path\n",
    "For this tutorial, we will first download a MMCIF file and a PDB file on the current working directory using wget"
   ]
  },
  {
   "cell_type": "code",
   "execution_count": 4,
   "id": "d76d4ac3-eb9a-4122-9892-b85e315d1ae5",
   "metadata": {
    "collapsed": true,
    "jupyter": {
     "outputs_hidden": true
    },
    "tags": []
   },
   "outputs": [
    {
     "name": "stdout",
     "output_type": "stream",
     "text": [
      "--2023-05-10 11:20:30--  https://files.rcsb.org/download/2AKA.cif\n",
      "Resolving files.rcsb.org (files.rcsb.org)... 128.6.158.70\n",
      "Connecting to files.rcsb.org (files.rcsb.org)|128.6.158.70|:443... connected.\n",
      "HTTP request sent, awaiting response... 200 OK\n",
      "Length: unspecified [application/octet-stream]\n",
      "Saving to: ‘2AKA.cif.1’\n",
      "\n",
      "2AKA.cif.1              [ <=>                ] 940.29K  --.-KB/s    in 0.1s    \n",
      "\n",
      "2023-05-10 11:20:31 (6.13 MB/s) - ‘2AKA.cif.1’ saved [962859]\n",
      "\n",
      "--2023-05-10 11:20:31--  https://files.rcsb.org/download/2AKA.pdb\n",
      "Resolving files.rcsb.org (files.rcsb.org)... 128.6.158.70\n",
      "Connecting to files.rcsb.org (files.rcsb.org)|128.6.158.70|:443... connected.\n",
      "HTTP request sent, awaiting response... 200 OK\n",
      "Length: unspecified [application/octet-stream]\n",
      "Saving to: ‘2AKA.pdb’\n",
      "\n",
      "2AKA.pdb                [ <=>                ] 786.74K  --.-KB/s    in 0.1s    \n",
      "\n",
      "2023-05-10 11:20:31 (6.05 MB/s) - ‘2AKA.pdb’ saved [805626]\n",
      "\n"
     ]
    }
   ],
   "source": [
    "!wget https://files.rcsb.org/download/2AKA.cif\n",
    "!wget https://files.rcsb.org/download/2AKA.pdb"
   ]
  },
  {
   "cell_type": "markdown",
   "id": "91989a27-a102-4278-9120-2e588b8ea6e5",
   "metadata": {},
   "source": [
    "## MMCIF Parser\n",
    "For `crimm`, the preferred structure file format is **MMCIF**, since it has more rigorous file standard defined by wwPDB and the information contained is much more reliable and consistent.\n",
    "\n",
    "The `MMCIFParser` is a supercharged version of Biopython's `MMCIFParser`. It adds more information to the constructed structure for modeling purposes (such as identity and type of each chain, canonical sequence, disulfide bonds, etc) while still maintaining the Biopython's API compatibility.\n",
    "\n",
    "Cell below shows the default arguments to the parameters accepted in the `MMCIFParser`"
   ]
  },
  {
   "cell_type": "code",
   "execution_count": 2,
   "id": "f60ee9ce-ff30-4bfe-9894-3d92c3f5b605",
   "metadata": {},
   "outputs": [
    {
     "data": {
      "application/vnd.jupyter.widget-view+json": {
       "model_id": "4a8add5bf27d470ba5ad67310c1ef6e0",
       "version_major": 2,
       "version_minor": 0
      },
      "text/plain": [
       "NGLWidget()"
      ]
     },
     "metadata": {},
     "output_type": "display_data"
    },
    {
     "name": "stdout",
     "output_type": "stream",
     "text": [
      "<Structure id=2AKA Models=1>\n",
      "│\n",
      "├───<Model id=1 Chains=5>\n",
      "\t│\n",
      "\t├───<Polypeptide(L) id=A Residues=764>\n",
      "\t├──────Description: myosin II heavy chain\n",
      "\t│\n",
      "\t├───<Polypeptide(L) id=B Residues=6>\n",
      "\t├──────Description: LINKER\n",
      "\t│\n",
      "\t├───<Polypeptide(L) id=C Residues=299>\n",
      "\t├──────Description: Dynamin-1\n",
      "\t│\n",
      "\t├───<Solvent id=D Residues=584>\n",
      "\t├──────Description: water\n",
      "\t│\n",
      "\t├───<Solvent id=E Residues=170>\n",
      "\t├──────Description: water\n"
     ]
    }
   ],
   "source": [
    "path = './2AKA.cif'\n",
    "parser = MMCIFParser(\n",
    "    first_assembly_only=True,\n",
    "    first_model_only=True,\n",
    "    include_hydrogens=False,\n",
    "    include_solvent=True,\n",
    "    strict_parser = True,\n",
    "    QUIET = False\n",
    ")\n",
    "structure = parser.get_structure(path)\n",
    "structure"
   ]
  },
  {
   "cell_type": "markdown",
   "id": "b9dd9636-960c-48ed-83a6-0a336f873962",
   "metadata": {},
   "source": [
    "## PDBParser\n",
    "The `PDBParser` class provides limited information about a structure. The primary use of PDB parser is to accommodate structure sources from other software package/pipeline/webservices who does not produce MMCIF file. The PDBParser is built upon biopython's PDBParser with additonal functions to distinguish chain types and rename chain id to conform with MMCIF chain naming style.\n",
    "\n",
    "For the example below, we show the same structure parsed using pdb file format, notice the missing description and missing water chains (even though we specified `include_solvent=True`, the missing water is actually due to Biopython's PDBParser). \n",
    "\n",
    "Moreover, the information guaranteed in MMCIF structures such as identity and type of each chain, canonical sequence, disulfide bonds, etc will not be present here, since they are not required and likely missing in many pdb files."
   ]
  },
  {
   "cell_type": "code",
   "execution_count": 3,
   "id": "b8d1ac17-e485-4aac-8907-7f3a81b0af88",
   "metadata": {},
   "outputs": [
    {
     "name": "stderr",
     "output_type": "stream",
     "text": [
      "/home/truman/crimm/crimm/IO/StructureBuilder.py:109: ChainConstructionWarning: WARNING: Chain A is discontinuous at line 9189.\n",
      "  warnings.warn(\n",
      "/home/truman/crimm/crimm/IO/StructureBuilder.py:109: ChainConstructionWarning: WARNING: Chain B is discontinuous at line 9773.\n",
      "  warnings.warn(\n"
     ]
    },
    {
     "data": {
      "application/vnd.jupyter.widget-view+json": {
       "model_id": "35bdf50bbb3e4beebccfbde8ec17ff8b",
       "version_major": 2,
       "version_minor": 0
      },
      "text/plain": [
       "NGLWidget()"
      ]
     },
     "metadata": {},
     "output_type": "display_data"
    },
    {
     "name": "stdout",
     "output_type": "stream",
     "text": [
      "<Structure id=2AKA Models=1>\n",
      "│\n",
      "├───<Model id=0 Chains=3>\n",
      "\t│\n",
      "\t├───<Polypeptide(L) id=A Residues=764>\n",
      "\t│\n",
      "\t├───<Polypeptide(L) id=B Residues=6>\n",
      "\t│\n",
      "\t├───<Polypeptide(L) id=C Residues=299>\n"
     ]
    }
   ],
   "source": [
    "pdb_path = './2AKA.pdb'\n",
    "pdb_parser = PDBParser(\n",
    "    first_model_only=True,\n",
    "    include_solvent =True,\n",
    "    strict_parser=True, \n",
    "    get_header=False, \n",
    "    QUIET=False\n",
    ")\n",
    "pdb_structure = pdb_parser.get_structure(pdb_path)\n",
    "pdb_structure"
   ]
  },
  {
   "cell_type": "markdown",
   "id": "2d25cdfa-ec2c-4573-9b21-d2096cc96f4e",
   "metadata": {},
   "source": [
    "## Fetch directly from RCSB\n",
    "\n",
    "Since we recommend so strongly of using MMCIF file format, we provide the utility to download structures direcly from RCSB by PDB IDs. There are many more fetching utilities for other databases introduced in the `FetchStructures.ipynb` tutorial. All entity types should be parsed without problem from MMCIF (RNA, DNA, Macrolite, Oligosaccharide, small molecules)\n",
    "\n",
    "Note: unlike wget, this fetcher will not save any file to your local drive. You will need to save the structure explicitly if you want a local copy. Unfortunately, MMCIF wirter has not been implemented yet, and pickling on structure object also has a problem (pickle problem will be addressed very soon); the only support so far is, ironically, the pdb file format."
   ]
  },
  {
   "cell_type": "code",
   "execution_count": 4,
   "id": "56724a05-4529-496b-8c2e-f50b5ee51774",
   "metadata": {},
   "outputs": [
    {
     "data": {
      "application/vnd.jupyter.widget-view+json": {
       "model_id": "7b7975f8d847413c91a2453e1584344a",
       "version_major": 2,
       "version_minor": 0
      },
      "text/plain": [
       "NGLWidget()"
      ]
     },
     "metadata": {},
     "output_type": "display_data"
    },
    {
     "name": "stdout",
     "output_type": "stream",
     "text": [
      "<Structure id=2OR1 Models=1>\n",
      "│\n",
      "├───<Model id=1 Chains=4>\n",
      "\t│\n",
      "\t├───<Polydeoxyribonucleotide id=A Residues=20>\n",
      "\t├──────Description: DNA (5'-D(*AP*AP*GP*TP*AP*CP*AP*AP*AP*CP*TP*TP*TP*CP*TP*TP*G P*TP*AP*T)-3')\n",
      "\t│\n",
      "\t├───<Polydeoxyribonucleotide id=B Residues=20>\n",
      "\t├──────Description: DNA (5'-D(*TP*AP*TP*AP*CP*AP*AP*GP*AP*AP*AP*GP*TP*TP*TP*GP*T P*AP*CP*T)-3')\n",
      "\t│\n",
      "\t├───<Polypeptide(L) id=C Residues=63>\n",
      "\t├──────Description: 434 REPRESSOR\n",
      "\t│\n",
      "\t├───<Polypeptide(L) id=D Residues=63>\n",
      "\t├──────Description: 434 REPRESSOR\n"
     ]
    }
   ],
   "source": [
    "pdbid = '2or1' \n",
    "rcsb_fetched = fetch_rcsb(\n",
    "    pdbid,\n",
    "    first_assembly_only=True,\n",
    "    first_model_only=True,\n",
    "    include_hydrogens=False,\n",
    "    include_solvent=False\n",
    ")\n",
    "rcsb_fetched"
   ]
  },
  {
   "cell_type": "markdown",
   "id": "6d9cef7a-7518-4f9e-998f-9b28fdfd4995",
   "metadata": {},
   "source": [
    "## Object Getter and Handles for Entities\n",
    "To get a handle of chain in the structure, two types of getter methods can be used:\n",
    "\n",
    "1. Since we derive our structure classes from the respective [Biopython entities](https://github.com/biopython/biopython/blob/master/Bio/PDB/Entity.py), all Biopython getter method will work. That is, if you know their ids, you can use\n",
    "\n",
    "```python\n",
    "chain = structure[model_id][chain_id]\n",
    "# for example, model 1, chain A\n",
    "chainA = structure[1]['A']\n",
    "```\n",
    "\n",
    "2. Or we can use the list index of `child_list` from each entity level. Moreover, the `child_list` attributes are aliased as *models*, *chains*, *residues*, and *atoms* from their respective parent entities. e.g. the first chain of the first model would be\n",
    "\n",
    "```python\n",
    "chain = structure.models[0].chains[0]\n",
    "```\n",
    "\n",
    "3. Mismatch of the two method above is allowed. e.g. CA atom on the last residue of chain A from the first model\n",
    "\n",
    "```python\n",
    "atom = structure.models[0]['A'].residues[-1]['CA']\n",
    "```"
   ]
  },
  {
   "cell_type": "code",
   "execution_count": 5,
   "id": "a905c396-38e7-4638-b914-d33bab3d2d52",
   "metadata": {},
   "outputs": [],
   "source": [
    "chainA = structure[1]['A'] # the equivalent would be struct.models[0].chains[0]"
   ]
  },
  {
   "cell_type": "code",
   "execution_count": 6,
   "id": "4bc994ef-a938-4c6f-bd98-667dd50c5ff6",
   "metadata": {},
   "outputs": [
    {
     "data": {
      "application/vnd.jupyter.widget-view+json": {
       "model_id": "d6ff6915c9fd4414913d25b82c810528",
       "version_major": 2,
       "version_minor": 0
      },
      "text/plain": [
       "NGLWidget()"
      ]
     },
     "metadata": {},
     "output_type": "display_data"
    },
    {
     "name": "stdout",
     "output_type": "stream",
     "text": [
      "<Polypeptide(L) id=A Residues=764>\n",
      "  Description: myosin II heavy chain\n"
     ]
    }
   ],
   "source": [
    "chainA # notice only one polymer chain shows up in the window"
   ]
  },
  {
   "cell_type": "markdown",
   "id": "641e9fd2-00ba-428b-ae0c-8fe0597f9df3",
   "metadata": {},
   "source": [
    "## Get Residues and Atoms\n",
    "\n",
    "Residues are store as lists in chains, and atoms in residues. For a single residue, the `resseq` (residue sequence id, aka residue number) can be used to get the residue object in a chain. \n",
    "\n",
    "**Note**: the `resseq` used here is the one that standardized by PDBx not the author assigned ones! This ensures that the `resseq` of the present residues is consistent with the missing residues' `resseq`."
   ]
  },
  {
   "cell_type": "code",
   "execution_count": 7,
   "id": "2b98ec8d-658a-4a91-8600-a1986d6eceb1",
   "metadata": {},
   "outputs": [
    {
     "data": {
      "application/vnd.jupyter.widget-view+json": {
       "model_id": "30fe269d974c449880072fc10e11cdb1",
       "version_major": 2,
       "version_minor": 0
      },
      "text/plain": [
       "NGLWidget()"
      ]
     },
     "metadata": {},
     "output_type": "display_data"
    },
    {
     "name": "stdout",
     "output_type": "stream",
     "text": [
      "<Residue TYR het=  resseq=22 icode= >\n"
     ]
    }
   ],
   "source": [
    "res = chainA[22]\n",
    "res"
   ]
  },
  {
   "cell_type": "code",
   "execution_count": 8,
   "id": "d5afd055-efd4-49ef-94e2-6433e21c8fca",
   "metadata": {},
   "outputs": [
    {
     "data": {
      "text/plain": [
       "<Atom CA>"
      ]
     },
     "execution_count": 8,
     "metadata": {},
     "output_type": "execute_result"
    }
   ],
   "source": [
    "# Get the CA carbon\n",
    "atom = res['CA']\n",
    "atom"
   ]
  },
  {
   "cell_type": "markdown",
   "id": "8cad3e74-3e03-4795-94b4-6ce7dbb41bde",
   "metadata": {},
   "source": [
    "## Iterating over Entities\n",
    "Iterations follows Biopython's convention, that is, at each level, for-loop will iterate on the `child_list` directly"
   ]
  },
  {
   "cell_type": "code",
   "execution_count": 31,
   "id": "e42b53be-8437-457a-8b1c-45e1620d2d7e",
   "metadata": {},
   "outputs": [
    {
     "name": "stdout",
     "output_type": "stream",
     "text": [
      "<Polypeptide(L) id=A Residues=764>\n",
      "<Polypeptide(L) id=B Residues=6>\n",
      "<Polypeptide(L) id=C Residues=299>\n",
      "<Solvent id=D Residues=584>\n",
      "<Solvent id=E Residues=170>\n"
     ]
    }
   ],
   "source": [
    "for model in structure:\n",
    "    for chain in model:\n",
    "        print(chain)"
   ]
  },
  {
   "cell_type": "markdown",
   "id": "9a4426b0-d043-48d4-a005-5a1e0cdd1fee",
   "metadata": {},
   "source": [
    "Additionally, each level also has a method called `get_atoms()` to get all the atoms belong to this entity. The `include_alt` flag will determine if all alternative locations of disordered residues or atoms will be expanded. The default is `include_alt=False`, which only return the first alternative location if any. "
   ]
  },
  {
   "cell_type": "code",
   "execution_count": null,
   "id": "0c6156a3-55a9-408a-9a81-c3c2ea0321c1",
   "metadata": {},
   "outputs": [],
   "source": [
    "# get_atom returns an iterator, explicit conversion is needed to get a list\n",
    "struct_atoms = list(structure.get_atoms(include_alt=False))\n",
    "print(f'{structure} has {len(struct_atoms)} atoms')\n",
    "\n",
    "first_chain = structure[1]['A']\n",
    "chain_atoms = list(first_chain.get_atoms())\n",
    "print(f'{first_chain} has {len(chain_atoms)} atoms')"
   ]
  },
  {
   "cell_type": "markdown",
   "id": "06f21dee-ab75-490b-b5c6-22e751b35589",
   "metadata": {},
   "source": [
    "## Get PDB string\n",
    "To quickly generate a PDB string bloc for a selected entity, there is a utility function `get_pdb_str` from `crimm.IO`"
   ]
  },
  {
   "cell_type": "code",
   "execution_count": 25,
   "id": "92209f96-edf1-446a-88e1-3a90f9698b5a",
   "metadata": {},
   "outputs": [],
   "source": [
    "res_str = get_pdb_str(structure.models[0].chains[0].residues[0])\n",
    "linker_str = get_pdb_str(structure.models[0].chains[1])\n",
    "water_str = get_pdb_str(structure.models[0].chains[-1])"
   ]
  },
  {
   "cell_type": "code",
   "execution_count": 26,
   "id": "47afa772-25a8-4d0e-a251-f770cf7dd78c",
   "metadata": {},
   "outputs": [
    {
     "name": "stdout",
     "output_type": "stream",
     "text": [
      "ATOM      1  N   ASN A  13      39.446   3.950  -4.560  1.00 47.45           N  \n",
      "ATOM      2  CA  ASN A  13      38.996   4.455  -3.232  1.00 45.96           C  \n",
      "ATOM      3  C   ASN A  13      40.209   5.016  -2.503  1.00 44.11           C  \n",
      "ATOM      4  O   ASN A  13      40.969   4.271  -1.869  1.00 43.34           O  \n",
      "ATOM      5  CB  ASN A  13      38.379   3.312  -2.414  1.00 48.51           C  \n",
      "ATOM      6  CG  ASN A  13      37.622   3.809  -1.190  1.00 50.52           C  \n",
      "ATOM      7  OD1 ASN A  13      37.018   3.009  -0.424  1.00 50.46           O  \n",
      "ATOM      8  ND2 ASN A  13      37.640   5.134  -0.993  1.00 49.70           N  \n",
      "TER       8      ASN A  13                                                       \n",
      "END\n",
      "\n"
     ]
    }
   ],
   "source": [
    "print(res_str)"
   ]
  },
  {
   "cell_type": "code",
   "execution_count": 27,
   "id": "e16c70cc-6216-4fac-8098-844c17e95bec",
   "metadata": {},
   "outputs": [
    {
     "name": "stdout",
     "output_type": "stream",
     "text": [
      "ATOM   6140  N   THR B   1      61.682 -14.602  19.611  1.00 37.90           N  \n",
      "ATOM   6141  CA  THR B   1      62.570 -14.306  18.506  1.00 40.00           C  \n",
      "ATOM   6142  C   THR B   1      64.034 -14.546  18.842  1.00 40.43           C  \n",
      "ATOM   6143  O   THR B   1      64.814 -14.913  17.963  1.00 41.22           O  \n",
      "ATOM   6144  CB  THR B   1      62.397 -12.867  18.028  1.00 41.11           C  \n",
      "ATOM   6145  OG1 THR B   1      62.744 -11.974  19.087  1.00 41.07           O  \n",
      "ATOM   6146  CG2 THR B   1      60.953 -12.626  17.597  1.00 41.16           C  \n",
      "ATOM   6147  N   ARG B   2      64.419 -14.347  20.096  1.00 40.53           N  \n",
      "ATOM   6148  CA  ARG B   2      65.807 -14.571  20.488  1.00 42.82           C  \n",
      "ATOM   6149  C   ARG B   2      66.225 -16.063  20.431  1.00 43.11           C  \n",
      "ATOM   6150  O   ARG B   2      67.421 -16.383  20.494  1.00 41.98           O  \n",
      "ATOM   6151  CB  ARG B   2      66.047 -13.980  21.891  1.00 45.45           C  \n",
      "ATOM   6152  CG  ARG B   2      66.320 -12.449  21.881  1.00 48.96           C  \n",
      "ATOM   6153  CD  ARG B   2      66.136 -11.783  23.270  1.00 52.90           C  \n",
      "ATOM   6154  NE  ARG B   2      66.276 -12.754  24.359  1.00 56.28           N  \n",
      "ATOM   6155  CZ  ARG B   2      65.546 -12.752  25.480  1.00 58.06           C  \n",
      "ATOM   6156  NH1 ARG B   2      65.755 -13.691  26.401  1.00 57.13           N  \n",
      "ATOM   6157  NH2 ARG B   2      64.611 -11.816  25.685  1.00 58.21           N  \n",
      "ATOM   6158  N   LEU B   3      65.250 -16.969  20.318  1.00 40.68           N  \n",
      "ATOM   6159  CA  LEU B   3      65.548 -18.396  20.233  1.00 41.41           C  \n",
      "ATOM   6160  C   LEU B   3      66.114 -18.754  18.854  1.00 41.27           C  \n",
      "ATOM   6161  O   LEU B   3      66.727 -19.802  18.695  1.00 40.38           O  \n",
      "ATOM   6162  CB  LEU B   3      64.286 -19.245  20.453  1.00 40.62           C  \n",
      "ATOM   6163  CG  LEU B   3      63.582 -19.103  21.800  1.00 41.32           C  \n",
      "ATOM   6164  CD1 LEU B   3      62.461 -20.112  21.878  1.00 39.24           C  \n",
      "ATOM   6165  CD2 LEU B   3      64.577 -19.305  22.933  1.00 41.82           C  \n",
      "ATOM   6166  N   VAL B   4      65.890 -17.888  17.877  1.00 41.67           N  \n",
      "ATOM   6167  CA  VAL B   4      66.357 -18.118  16.514  1.00 45.45           C  \n",
      "ATOM   6168  C   VAL B   4      67.652 -17.319  16.198  1.00 48.09           C  \n",
      "ATOM   6169  O   VAL B   4      67.644 -16.090  16.186  1.00 46.63           O  \n",
      "ATOM   6170  CB  VAL B   4      65.250 -17.722  15.509  1.00 45.38           C  \n",
      "ATOM   6171  CG1 VAL B   4      65.714 -17.981  14.094  1.00 46.71           C  \n",
      "ATOM   6172  CG2 VAL B   4      63.972 -18.493  15.802  1.00 44.89           C  \n",
      "ATOM   6173  N   PRO B   5      68.775 -18.018  15.942  1.00 50.72           N  \n",
      "ATOM   6174  CA  PRO B   5      70.014 -17.287  15.641  1.00 53.65           C  \n",
      "ATOM   6175  C   PRO B   5      69.767 -16.447  14.385  1.00 55.56           C  \n",
      "ATOM   6176  O   PRO B   5      69.056 -16.875  13.474  1.00 55.41           O  \n",
      "ATOM   6177  CB  PRO B   5      71.040 -18.403  15.393  1.00 53.58           C  \n",
      "ATOM   6178  CG  PRO B   5      70.365 -19.667  15.905  1.00 52.94           C  \n",
      "ATOM   6179  CD  PRO B   5      68.921 -19.444  15.614  1.00 51.55           C  \n",
      "ATOM   6180  N   ARG B   6      70.315 -15.238  14.341  1.00 58.97           N  \n",
      "ATOM   6181  CA  ARG B   6      70.111 -14.398  13.159  1.00 61.62           C  \n",
      "ATOM   6182  C   ARG B   6      71.248 -14.602  12.141  1.00 62.04           C  \n",
      "ATOM   6183  O   ARG B   6      72.180 -15.386  12.449  1.00 62.86           O  \n",
      "ATOM   6184  CB  ARG B   6      70.006 -12.919  13.562  1.00 63.68           C  \n",
      "ATOM   6185  CG  ARG B   6      69.514 -12.010  12.441  1.00 66.01           C  \n",
      "ATOM   6186  CD  ARG B   6      68.219 -12.549  11.834  1.00 67.92           C  \n",
      "ATOM   6187  NE  ARG B   6      67.840 -11.823  10.623  1.00 70.66           N  \n",
      "ATOM   6188  CZ  ARG B   6      68.510 -11.868   9.469  1.00 71.71           C  \n",
      "ATOM   6189  NH1 ARG B   6      69.608 -12.610   9.353  1.00 71.93           N  \n",
      "ATOM   6190  NH2 ARG B   6      68.081 -11.168   8.421  1.00 72.11           N  \n",
      "TER    6190      ARG B   6                                                       \n",
      "END\n",
      "\n"
     ]
    }
   ],
   "source": [
    "print(linker_str)"
   ]
  },
  {
   "cell_type": "code",
   "execution_count": 24,
   "id": "09af61bd-fd00-47b1-b52d-c9d40bc63c38",
   "metadata": {},
   "outputs": [
    {
     "name": "stdout",
     "output_type": "stream",
     "text": [
      "HETATM 9104  O   HOH E   1      45.278 -42.289  15.608  1.00 22.31           O  \n",
      "HETATM 9105  O   HOH E   2      66.552 -31.419  21.150  1.00 31.82           O  \n",
      "HETATM 9106  O   HOH E   3      53.985 -32.150  27.103  1.00 23.84           O  \n",
      "HETATM 9107  O   HOH E   4      60.986 -30.158  13.061  1.00 20.69           O  \n",
      "HETATM 9108  O   HOH E   5      57.383 -35.166  -2.294  1.00 23.39           O  \n",
      "HETATM 9109  O   HOH E   6      45.522 -58.423   3.753  1.00 28.60           O  \n",
      "HETATM 9110  O   HOH E   7      51.661 -43.659   1.747  1.00 23.64           O  \n",
      "HETATM 9111  O   HOH E   8      58.313 -32.721  22.100  1.00 23.56           O  \n",
      "HETATM 9112  O   HOH E   9      64.279 -31.748   2.523  1.00 25.55           O  \n",
      "HETATM 9113  O   HOH E  10      64.834 -53.658   9.258  1.00 28.16           O  \n",
      "HETATM 9114  O   HOH E  11      49.745 -37.628  -2.187  1.00 27.66           O  \n",
      "HETATM 9115  O   HOH E  12      59.752 -44.806  34.254  1.00 31.74           O  \n",
      "HETATM 9116  O   HOH E  13      46.203 -43.564   5.001  1.00 23.84           O  \n",
      "HETATM 9117  O   HOH E  14      54.180 -57.376  -0.517  1.00 23.00           O  \n",
      "HETATM 9118  O   HOH E  15      55.053 -27.183  16.381  1.00 31.96           O  \n",
      "HETATM 9119  O   HOH E  16      46.594 -56.931  -1.038  1.00 29.41           O  \n",
      "HETATM 9120  O   HOH E  17      48.830 -37.694  21.690  1.00 24.95           O  \n",
      "HETATM 9121  O   HOH E  18      46.871 -38.682  10.831  1.00 24.21           O  \n",
      "HETATM 9122  O   HOH E  19      66.409 -50.296   6.303  1.00 28.17           O  \n",
      "HETATM 9123  O   HOH E  20      43.964 -63.097  -0.185  1.00 24.28           O  \n",
      "HETATM 9124  O   HOH E  21      47.855 -27.707  17.646  1.00 34.91           O  \n",
      "HETATM 9125  O   HOH E  22      64.609 -34.523  17.760  1.00 23.43           O  \n",
      "HETATM 9126  O   HOH E  23      46.407 -38.369  22.704  1.00 28.60           O  \n",
      "HETATM 9127  O   HOH E  24      59.098 -32.199  12.732  1.00 21.14           O  \n",
      "HETATM 9128  O   HOH E  25      54.276 -44.397  -6.712  1.00 34.55           O  \n",
      "HETATM 9129  O   HOH E  26      49.970 -49.820  14.309  1.00 30.17           O  \n",
      "HETATM 9130  O   HOH E  27      62.414 -30.131  15.243  1.00 27.36           O  \n",
      "HETATM 9131  O   HOH E  28      53.258 -29.636  26.866  1.00 39.88           O  \n",
      "HETATM 9132  O   HOH E  29      50.447 -39.728  -3.881  1.00 31.76           O  \n",
      "HETATM 9133  O   HOH E  30      62.671 -46.034  -1.070  1.00 29.21           O  \n",
      "HETATM 9134  O   HOH E  31      52.355 -27.182  10.413  1.00 29.64           O  \n",
      "HETATM 9135  O   HOH E  32      64.622 -48.652  15.581  1.00 30.02           O  \n",
      "HETATM 9136  O   HOH E  33      51.965 -28.586  -4.382  1.00 36.88           O  \n",
      "HETATM 9137  O   HOH E  34      69.803 -31.683  12.396  1.00 31.15           O  \n",
      "HETATM 9138  O   HOH E  35      50.735 -25.753  12.565  1.00 35.47           O  \n",
      "HETATM 9139  O   HOH E  36      53.528 -52.615   8.845  1.00 24.20           O  \n",
      "HETATM 9140  O   HOH E  37      43.854 -58.780   1.502  1.00 31.17           O  \n",
      "HETATM 9141  O   HOH E  38      60.170 -44.054  -4.045  1.00 34.91           O  \n",
      "HETATM 9142  O   HOH E  39      64.170 -46.604  22.887  1.00 36.85           O  \n",
      "HETATM 9143  O   HOH E  40      59.134 -35.526  31.938  1.00 28.12           O  \n",
      "HETATM 9144  O   HOH E  41      54.440 -25.726   9.671  1.00 32.08           O  \n",
      "HETATM 9145  O   HOH E  42      48.111 -46.459  14.518  1.00 39.18           O  \n",
      "HETATM 9146  O   HOH E  43      50.074 -61.854   2.952  1.00 28.14           O  \n",
      "HETATM 9147  O   HOH E  44      47.183 -45.381  11.347  1.00 33.57           O  \n",
      "HETATM 9148  O   HOH E  45      49.645 -43.038  15.976  1.00 39.02           O  \n",
      "HETATM 9149  O   HOH E  46      60.450 -32.269  29.705  1.00 42.94           O  \n",
      "HETATM 9150  O   HOH E  47      43.723 -37.842  33.626  1.00 35.46           O  \n",
      "HETATM 9151  O   HOH E  48      62.769 -53.690  22.031  1.00 39.61           O  \n",
      "HETATM 9152  O   HOH E  49      54.657 -27.663  20.065  1.00 35.96           O  \n",
      "HETATM 9153  O   HOH E  50      71.327 -35.411  12.788  1.00 42.46           O  \n",
      "HETATM 9154  O   HOH E  51      53.687 -51.540  17.422  1.00 42.18           O  \n",
      "HETATM 9155  O   HOH E  52      54.974 -50.923  10.381  1.00 32.86           O  \n",
      "HETATM 9156  O   HOH E  53      66.792 -28.727  21.708  1.00 31.99           O  \n",
      "HETATM 9157  O   HOH E  54      58.010 -52.405  24.676  1.00 37.40           O  \n",
      "HETATM 9158  O   HOH E  55      58.146 -29.913  21.416  1.00 31.54           O  \n",
      "HETATM 9159  O   HOH E  56      66.343 -33.159   1.139  1.00 33.42           O  \n",
      "HETATM 9160  O   HOH E  57      54.002 -24.229  13.053  1.00 37.86           O  \n",
      "HETATM 9161  O   HOH E  58      57.538 -50.539  10.980  1.00 32.23           O  \n",
      "HETATM 9162  O   HOH E  59      63.052 -34.247  32.403  1.00 40.26           O  \n",
      "HETATM 9163  O   HOH E  60      70.943 -33.404  11.337  1.00 79.19           O  \n",
      "HETATM 9164  O   HOH E  61      31.992 -38.395  11.581  1.00 43.93           O  \n",
      "HETATM 9165  O   HOH E  62      72.982 -45.233  18.412  1.00 36.36           O  \n",
      "HETATM 9166  O   HOH E  63      49.642 -40.258  20.647  1.00 37.23           O  \n",
      "HETATM 9167  O   HOH E  64      46.699 -56.582  -3.524  1.00 43.26           O  \n",
      "HETATM 9168  O   HOH E  65      53.416 -59.767  -1.902  1.00 31.27           O  \n",
      "HETATM 9169  O   HOH E  66      62.504 -38.555  37.410  1.00 36.01           O  \n",
      "HETATM 9170  O   HOH E  67      63.319 -26.678  24.826  1.00 41.85           O  \n",
      "HETATM 9171  O   HOH E  68      53.400 -55.619   8.981  1.00 33.76           O  \n",
      "HETATM 9172  O   HOH E  69      46.977 -51.283  11.941  1.00 53.51           O  \n",
      "HETATM 9173  O   HOH E  70      44.765 -47.228   1.179  1.00 39.57           O  \n",
      "HETATM 9174  O   HOH E  71      51.156 -35.077  -2.276  1.00 28.87           O  \n",
      "HETATM 9175  O   HOH E  72      41.144 -50.337   0.215  1.00 38.50           O  \n",
      "HETATM 9176  O   HOH E  73      50.017 -26.509  18.084  1.00 39.34           O  \n",
      "HETATM 9177  O   HOH E  74      48.337 -52.044  -2.802  1.00 40.95           O  \n",
      "HETATM 9178  O   HOH E  75      65.191 -28.023  23.765  1.00 42.66           O  \n",
      "HETATM 9179  O   HOH E  76      50.415 -56.708  -7.764  1.00 34.91           O  \n",
      "HETATM 9180  O   HOH E  77      71.908 -36.925  19.526  1.00 35.97           O  \n",
      "HETATM 9181  O   HOH E  78      51.113 -38.849  -6.452  1.00 37.33           O  \n",
      "HETATM 9182  O   HOH E  79      69.152 -49.902   5.143  1.00 51.16           O  \n",
      "HETATM 9183  O   HOH E  80      68.384 -56.345  13.874  1.00 39.83           O  \n",
      "HETATM 9184  O   HOH E  81      65.880 -53.911   4.391  1.00 31.24           O  \n",
      "HETATM 9185  O   HOH E  82      69.217 -27.424   2.460  1.00 40.86           O  \n",
      "HETATM 9186  O   HOH E  83      71.204 -38.866  14.059  1.00 36.92           O  \n",
      "HETATM 9187  O   HOH E  84      62.555 -27.495   1.951  1.00 45.10           O  \n",
      "HETATM 9188  O   HOH E  85      53.136 -58.725  10.206  1.00 44.82           O  \n",
      "HETATM 9189  O   HOH E  86      53.285 -18.400   7.292  1.00 44.73           O  \n",
      "HETATM 9190  O   HOH E  87      41.907 -63.977  -1.584  1.00 36.79           O  \n",
      "HETATM 9191  O   HOH E  88      44.088 -56.328   0.370  1.00 39.13           O  \n",
      "HETATM 9192  O   HOH E  89      64.290 -43.367  -0.966  1.00 44.88           O  \n",
      "HETATM 9193  O   HOH E  90      56.702 -18.880  10.149  1.00 51.88           O  \n",
      "HETATM 9194  O   HOH E  91      48.815 -47.724  19.407  1.00 44.82           O  \n",
      "HETATM 9195  O   HOH E  92      49.992 -25.080  20.574  1.00 34.60           O  \n",
      "HETATM 9196  O   HOH E  93      53.199 -27.710  17.472  1.00 49.33           O  \n",
      "HETATM 9197  O   HOH E  94      44.901 -23.837  19.553  1.00 42.61           O  \n",
      "HETATM 9198  O   HOH E  95      45.099 -52.554   6.357  1.00 34.98           O  \n",
      "HETATM 9199  O   HOH E  96      68.678 -56.126  11.106  1.00 45.91           O  \n",
      "HETATM 9200  O   HOH E  97      74.122 -45.164  20.878  1.00 43.34           O  \n",
      "HETATM 9201  O   HOH E  98      50.696 -49.278  19.251  1.00 45.80           O  \n",
      "HETATM 9202  O   HOH E  99      46.725 -23.502   9.500  1.00 42.68           O  \n",
      "HETATM 9203  O   HOH E 100      41.534 -38.277   2.809  1.00 35.33           O  \n",
      "HETATM 9204  O   HOH E 101      39.353 -29.794  14.825  1.00 34.80           O  \n",
      "HETATM 9205  O   HOH E 102      45.733 -45.037  14.108  1.00 43.01           O  \n",
      "HETATM 9206  O   HOH E 103      65.785 -52.994   6.907  1.00 42.89           O  \n",
      "HETATM 9207  O   HOH E 104      60.496 -31.220  -3.198  1.00 39.68           O  \n",
      "HETATM 9208  O   HOH E 105      51.770 -21.483   4.770  1.00 40.76           O  \n",
      "HETATM 9209  O   HOH E 106      51.390 -54.604  12.946  1.00 52.52           O  \n",
      "HETATM 9210  O   HOH E 107      51.465 -51.985  10.556  1.00 42.08           O  \n",
      "HETATM 9211  O   HOH E 108      42.058 -46.236   7.794  1.00 44.39           O  \n",
      "HETATM 9212  O   HOH E 109      59.941 -62.402   1.709  1.00 39.26           O  \n",
      "HETATM 9213  O   HOH E 110      41.762 -58.997  -1.289  1.00 38.45           O  \n",
      "HETATM 9214  O   HOH E 111      51.402 -56.165  10.504  1.00 39.26           O  \n",
      "HETATM 9215  O   HOH E 112      40.439 -65.375   0.131  1.00 39.85           O  \n",
      "HETATM 9216  O   HOH E 113      45.092 -56.209   8.079  1.00 44.82           O  \n",
      "HETATM 9217  O   HOH E 114      44.981 -44.873  31.291  1.00 40.90           O  \n",
      "HETATM 9218  O   HOH E 115      52.489 -42.813  33.944  1.00 43.18           O  \n",
      "HETATM 9219  O   HOH E 116      44.429 -45.312   4.177  1.00 39.26           O  \n",
      "HETATM 9220  O   HOH E 117      67.240 -50.147  16.777  1.00 41.78           O  \n",
      "HETATM 9221  O   HOH E 118      66.491 -16.518  10.999  1.00 45.32           O  \n",
      "HETATM 9222  O   HOH E 119      46.345 -48.724  12.640  1.00 42.69           O  \n",
      "HETATM 9223  O   HOH E 120      42.785 -24.283  17.266  1.00 39.96           O  \n",
      "HETATM 9224  O   HOH E 121      60.252 -50.024  29.127  1.00 44.65           O  \n",
      "HETATM 9225  O   HOH E 122      37.949 -64.038   1.183  1.00 50.79           O  \n",
      "HETATM 9226  O   HOH E 123      69.802 -47.094   6.065  1.00 42.20           O  \n",
      "HETATM 9227  O   HOH E 124      71.303 -35.144   8.575  1.00 45.47           O  \n",
      "HETATM 9228  O   HOH E 125      49.996 -30.364  27.860  1.00 50.05           O  \n",
      "HETATM 9229  O   HOH E 126      54.464 -22.091  24.749  1.00 48.57           O  \n",
      "HETATM 9230  O   HOH E 127      59.374 -29.017  -0.037  1.00 49.88           O  \n",
      "HETATM 9231  O   HOH E 128      45.481 -40.965  23.398  1.00 44.78           O  \n",
      "HETATM 9232  O   HOH E 129      55.892 -56.962  -9.621  1.00 42.01           O  \n",
      "HETATM 9233  O   HOH E 130      52.385 -61.463  -0.684  1.00 43.13           O  \n",
      "HETATM 9234  O   HOH E 131      63.251 -41.352  -0.405  1.00 53.42           O  \n",
      "HETATM 9235  O   HOH E 132      38.864 -37.947   9.280  1.00 35.98           O  \n",
      "HETATM 9236  O   HOH E 133      62.519 -47.043  -3.584  1.00 54.93           O  \n",
      "HETATM 9237  O   HOH E 134      50.371 -21.285  16.840  1.00 49.64           O  \n",
      "HETATM 9238  O   HOH E 135      58.864 -47.995  11.368  1.00 43.84           O  \n",
      "HETATM 9239  O   HOH E 136      53.393 -60.041  -7.568  1.00 43.48           O  \n",
      "HETATM 9240  O   HOH E 137      59.938 -29.115  31.568  1.00 49.36           O  \n",
      "HETATM 9241  O   HOH E 138      60.614 -63.691   5.119  1.00 52.34           O  \n",
      "HETATM 9242  O   HOH E 139      53.909 -27.754  28.728  1.00 38.80           O  \n",
      "HETATM 9243  O   HOH E 140      51.705 -23.132  17.684  1.00 48.46           O  \n",
      "HETATM 9244  O   HOH E 141      65.671 -48.455  13.068  1.00 45.32           O  \n",
      "HETATM 9245  O   HOH E 142      56.904 -27.794  -1.374  1.00 41.40           O  \n",
      "HETATM 9246  O   HOH E 143      51.483 -49.550  22.127  1.00 41.02           O  \n",
      "HETATM 9247  O   HOH E 144      60.689 -61.972   8.011  1.00 41.84           O  \n",
      "HETATM 9248  O   HOH E 145      66.349 -35.665  36.116  1.00 46.37           O  \n",
      "HETATM 9249  O   HOH E 146      44.402 -57.914  -4.492  1.00 46.56           O  \n",
      "HETATM 9250  O   HOH E 147      48.989 -35.076  32.964  1.00 45.01           O  \n",
      "HETATM 9251  O   HOH E 148      64.051 -34.718  -1.774  1.00 40.65           O  \n",
      "HETATM 9252  O   HOH E 149      42.061 -28.297  15.908  1.00 48.26           O  \n",
      "HETATM 9253  O   HOH E 150      58.462 -57.928  -9.611  1.00 50.65           O  \n",
      "HETATM 9254  O   HOH E 151      70.288 -39.462   7.995  1.00 33.78           O  \n",
      "HETATM 9255  O   HOH E 152      54.189 -60.945   0.851  1.00 42.04           O  \n",
      "HETATM 9256  O   HOH E 153      64.049 -29.558   1.503  1.00 46.31           O  \n",
      "HETATM 9257  O   HOH E 154      60.537 -53.733  25.115  1.00 39.64           O  \n",
      "HETATM 9258  O   HOH E 155      66.160 -35.722  -0.709  1.00 47.28           O  \n",
      "HETATM 9259  O   HOH E 156      40.992 -28.494  23.934  1.00 49.84           O  \n",
      "HETATM 9260  O   HOH E 157      59.328 -55.827  12.110  1.00 44.74           O  \n",
      "HETATM 9261  O   HOH E 158      63.776 -57.817  -6.695  1.00 47.37           O  \n",
      "HETATM 9262  O   HOH E 159      50.149 -22.921  14.981  1.00 49.76           O  \n",
      "HETATM 9263  O   HOH E 160      62.856 -32.211  -3.129  1.00 59.19           O  \n",
      "HETATM 9264  O   HOH E 161      66.140 -32.655  26.965  1.00 40.33           O  \n",
      "HETATM 9265  O   HOH E 162      59.629 -19.712   6.948  1.00 46.34           O  \n",
      "HETATM 9266  O   HOH E 163      66.175 -59.223  -7.159  1.00 43.82           O  \n",
      "HETATM 9267  O   HOH E 164      68.393 -58.190  -6.537  1.00 45.54           O  \n",
      "HETATM 9268  O   HOH E 165      52.171 -51.061  -7.146  1.00 43.33           O  \n",
      "HETATM 9269  O   HOH E 166      41.150 -26.602   9.140  1.00 50.72           O  \n",
      "HETATM 9270  O   HOH E 167      62.199 -41.332  -7.823  1.00 49.75           O  \n",
      "HETATM 9271  O   HOH E 168      46.380 -48.011  25.902  1.00 49.80           O  \n",
      "HETATM 9272  O   HOH E 169      42.854 -51.169   5.106  1.00 47.02           O  \n",
      "HETATM 9273  O   HOH E 170      50.018 -64.635   2.127  1.00 49.82           O  \n",
      "TER    9273      HOH E 170                                                       \n",
      "END\n",
      "\n"
     ]
    }
   ],
   "source": [
    "print(water_str)"
   ]
  },
  {
   "cell_type": "markdown",
   "id": "3fa59c57-307d-4d18-9131-f70d0c158e06",
   "metadata": {},
   "source": [
    "## Parent Entity is Stored as `parent` Attribute"
   ]
  },
  {
   "cell_type": "code",
   "execution_count": 33,
   "id": "049f296b-de66-4629-b767-f1191dca73df",
   "metadata": {},
   "outputs": [
    {
     "data": {
      "application/vnd.jupyter.widget-view+json": {
       "model_id": "1867aa81a85c4f14a2bc8198add6b59d",
       "version_major": 2,
       "version_minor": 0
      },
      "text/plain": [
       "NGLWidget()"
      ]
     },
     "metadata": {},
     "output_type": "display_data"
    },
    {
     "name": "stdout",
     "output_type": "stream",
     "text": [
      "<Residue ASN het=  resseq=13 icode= >\n"
     ]
    }
   ],
   "source": [
    "chain_atoms[0].parent"
   ]
  },
  {
   "cell_type": "code",
   "execution_count": 34,
   "id": "e98b9219-a87b-4afa-bc4f-6ecadfc0523b",
   "metadata": {},
   "outputs": [
    {
     "data": {
      "application/vnd.jupyter.widget-view+json": {
       "model_id": "6a6a54b3afc64be1bc8dcaf309d42d4f",
       "version_major": 2,
       "version_minor": 0
      },
      "text/plain": [
       "NGLWidget()"
      ]
     },
     "metadata": {},
     "output_type": "display_data"
    },
    {
     "name": "stdout",
     "output_type": "stream",
     "text": [
      "<Polypeptide(L) id=A Residues=764>\n",
      "  Description: myosin II heavy chain\n"
     ]
    }
   ],
   "source": [
    "chain_atoms[0].parent.parent"
   ]
  },
  {
   "cell_type": "markdown",
   "id": "b0257221-ee6b-433b-b7f5-26e4bb5185bc",
   "metadata": {},
   "source": [
    "## Additional Structural Information\n",
    "\n",
    "Below is the demonstrations of additional structure information that is available from RCSB MMCIF files. "
   ]
  },
  {
   "cell_type": "markdown",
   "id": "71269dcc-9b2f-48bb-95fd-496bbe84ff12",
   "metadata": {},
   "source": [
    "### Structure Level Properties"
   ]
  },
  {
   "cell_type": "code",
   "execution_count": 9,
   "id": "460bb653-a27d-41a6-b32b-e104c172d16e",
   "metadata": {},
   "outputs": [
    {
     "data": {
      "text/plain": [
       "{'name': '2AKA',\n",
       " 'keywords': {'entry_id': '2AKA',\n",
       "  'pdbx_keywords': 'CONTRACTILE PROTEIN',\n",
       "  'text': 'fusion protein, GTPase domain, dynamin, myosin, CONTRACTILE PROTEIN'},\n",
       " 'citation': {'id': ['primary', 1],\n",
       "  'title': ['Crystal structure of the GTPase domain of rat dynamin 1.',\n",
       "   'A structural model for actin-induced nucleotide release in myosin'],\n",
       "  'journal_abbrev': ['Proc.Natl.Acad.Sci.Usa', 'Nat.Struct.Mol.Biol.'],\n",
       "  'journal_volume': [102, 10],\n",
       "  'page_first': [13093, 826],\n",
       "  'page_last': [13098, 830],\n",
       "  'year': [2005, 2003],\n",
       "  'journal_id_ASTM': ['PNASA6', None],\n",
       "  'country': ['US', 'US'],\n",
       "  'journal_id_ISSN': ['0027-8424', '1545-9993'],\n",
       "  'journal_id_CSD': [40, None],\n",
       "  'book_publisher': [None, None],\n",
       "  'pdbx_database_id_PubMed': [16141317, None],\n",
       "  'pdbx_database_id_DOI': ['10.1073/pnas.0506491102', None]},\n",
       " 'idcode': {'entry_id': '2AKA',\n",
       "  'title': 'Structure of the nucleotide-free myosin II motor domain from Dictyostelium discoideum fused to the GTPase domain of dynamin 1 from Rattus norvegicus',\n",
       "  'pdbx_descriptor': 'myosin II heavy chain, LINKER, Dynamin-1 (E.C.3.6.5.5)'},\n",
       " 'deposition_date': '2005-08-03'}"
      ]
     },
     "execution_count": 9,
     "metadata": {},
     "output_type": "execute_result"
    }
   ],
   "source": [
    "structure.header"
   ]
  },
  {
   "cell_type": "code",
   "execution_count": 10,
   "id": "c58caf14-6d01-4882-9986-bd57c4f654a2",
   "metadata": {},
   "outputs": [
    {
     "data": {
      "text/plain": [
       "'X-RAY DIFFRACTION'"
      ]
     },
     "execution_count": 10,
     "metadata": {},
     "output_type": "execute_result"
    }
   ],
   "source": [
    "structure.method"
   ]
  },
  {
   "cell_type": "code",
   "execution_count": 11,
   "id": "1ab5d23f-6c71-4ff8-b2a7-59fed19045a5",
   "metadata": {},
   "outputs": [
    {
     "data": {
      "text/plain": [
       "1.9"
      ]
     },
     "execution_count": 11,
     "metadata": {},
     "output_type": "execute_result"
    }
   ],
   "source": [
    "structure.resolution # in angstrom"
   ]
  },
  {
   "cell_type": "markdown",
   "id": "bc32839b-ebea-4823-b1ba-ba0de3f345c5",
   "metadata": {},
   "source": [
    "### Model Level Properties\n",
    "Connection record such as *covalent bond between two chains*, *hydrogen bondings*, *disulfide bonds* are stored in the model level in the attribute `model.connect_dict` for text info, and `model.connect_atoms` for direct atom object handles"
   ]
  },
  {
   "cell_type": "code",
   "execution_count": 12,
   "id": "144fb8f6-0780-40ea-9d7d-af84a979ebf0",
   "metadata": {},
   "outputs": [
    {
     "name": "stdout",
     "output_type": "stream",
     "text": [
      "{'covale': [({'chain': 'A', 'resname': 'ILE', 'resseq': 776, 'atom_id': 'C', 'altloc': None}, {'chain': 'B', 'resname': 'THR', 'resseq': 1, 'atom_id': 'N', 'altloc': None})]}\n",
      "{'covale': [(<Atom C>, <Atom N>)]}\n"
     ]
    }
   ],
   "source": [
    "model = structure[1]\n",
    "print(model.connect_dict) # covale is for covalent bonds\n",
    "print(model.connect_atoms)"
   ]
  },
  {
   "cell_type": "code",
   "execution_count": 13,
   "id": "9a8b6e8a-a463-42a6-a1a1-913095614cd9",
   "metadata": {},
   "outputs": [
    {
     "data": {
      "text/plain": [
       "{'hydrog': [(<Atom N6>, <Atom O4>),\n",
       "  (<Atom N1>, <Atom N3>),\n",
       "  (<Atom N6>, <Atom O4>),\n",
       "  (<Atom N1>, <Atom N3>),\n",
       "  (<Atom N2>, <Atom O2>),\n",
       "  (<Atom O6>, <Atom N4>),\n",
       "  (<Atom N3>, <Atom N1>),\n",
       "  (<Atom O4>, <Atom N6>),\n",
       "  (<Atom N1>, <Atom N3>),\n",
       "  (<Atom N6>, <Atom O4>),\n",
       "  (<Atom N3>, <Atom N1>),\n",
       "  (<Atom N4>, <Atom O6>),\n",
       "  (<Atom O2>, <Atom N2>),\n",
       "  (<Atom N1>, <Atom N3>),\n",
       "  (<Atom N6>, <Atom O4>),\n",
       "  (<Atom N1>, <Atom N3>),\n",
       "  (<Atom N6>, <Atom O4>),\n",
       "  (<Atom N1>, <Atom N3>),\n",
       "  (<Atom N6>, <Atom O4>),\n",
       "  (<Atom N3>, <Atom N1>),\n",
       "  (<Atom N4>, <Atom O6>),\n",
       "  (<Atom O2>, <Atom N2>),\n",
       "  (<Atom N3>, <Atom N1>),\n",
       "  (<Atom O4>, <Atom N6>),\n",
       "  (<Atom N3>, <Atom N1>),\n",
       "  (<Atom O4>, <Atom N6>),\n",
       "  (<Atom N3>, <Atom N1>),\n",
       "  (<Atom O4>, <Atom N6>),\n",
       "  (<Atom N3>, <Atom N1>),\n",
       "  (<Atom N4>, <Atom O6>),\n",
       "  (<Atom N3>, <Atom N1>),\n",
       "  (<Atom O4>, <Atom N6>),\n",
       "  (<Atom N3>, <Atom N1>),\n",
       "  (<Atom O4>, <Atom N6>),\n",
       "  (<Atom N1>, <Atom N3>),\n",
       "  (<Atom N2>, <Atom O2>),\n",
       "  (<Atom O6>, <Atom N4>),\n",
       "  (<Atom N3>, <Atom N1>),\n",
       "  (<Atom O4>, <Atom N6>),\n",
       "  (<Atom N1>, <Atom N3>),\n",
       "  (<Atom N6>, <Atom O4>),\n",
       "  (<Atom N3>, <Atom N1>),\n",
       "  (<Atom O4>, <Atom N6>)]}"
      ]
     },
     "execution_count": 13,
     "metadata": {},
     "output_type": "execute_result"
    }
   ],
   "source": [
    "model = rcsb_fetched[1] # 2OR1\n",
    "model.connect_atoms # hydrog is for hydrogen bonds"
   ]
  },
  {
   "cell_type": "code",
   "execution_count": 14,
   "id": "ff716323-2e44-4aab-97ba-a02920e6f936",
   "metadata": {},
   "outputs": [
    {
     "data": {
      "text/plain": [
       "{'disulf': [({'chain': 'A',\n",
       "    'resname': 'CYS',\n",
       "    'resseq': 5,\n",
       "    'atom_id': 'SG',\n",
       "    'altloc': None},\n",
       "   {'chain': 'A',\n",
       "    'resname': 'CYS',\n",
       "    'resseq': 55,\n",
       "    'atom_id': 'SG',\n",
       "    'altloc': None}),\n",
       "  ({'chain': 'A',\n",
       "    'resname': 'CYS',\n",
       "    'resseq': 14,\n",
       "    'atom_id': 'SG',\n",
       "    'altloc': None},\n",
       "   {'chain': 'A',\n",
       "    'resname': 'CYS',\n",
       "    'resseq': 38,\n",
       "    'atom_id': 'SG',\n",
       "    'altloc': None}),\n",
       "  ({'chain': 'A',\n",
       "    'resname': 'CYS',\n",
       "    'resseq': 30,\n",
       "    'atom_id': 'SG',\n",
       "    'altloc': None},\n",
       "   {'chain': 'A',\n",
       "    'resname': 'CYS',\n",
       "    'resseq': 51,\n",
       "    'atom_id': 'SG',\n",
       "    'altloc': None})]}"
      ]
     },
     "execution_count": 14,
     "metadata": {},
     "output_type": "execute_result"
    }
   ],
   "source": [
    "bpti = fetch_rcsb('4pti') # bovine pancreatic trypsin inhibitor\n",
    "model = bpti.models[0]\n",
    "model.connect_dict # disulf for disulfide bonds"
   ]
  },
  {
   "cell_type": "markdown",
   "id": "0318b2e0-7f47-4672-a9c2-12d344682930",
   "metadata": {},
   "source": [
    "## Chain Properties"
   ]
  },
  {
   "cell_type": "markdown",
   "id": "731a47b6-3a66-427b-a7b8-4301249d1f51",
   "metadata": {},
   "source": [
    "Chain types are read from MMCIF and assign to the `PolymerChain` object, and much of the functions rely on this attribute to correctly process different types of polymers"
   ]
  },
  {
   "cell_type": "code",
   "execution_count": 15,
   "id": "e772fc4d-498c-4caa-a652-58ddd8b60bcc",
   "metadata": {},
   "outputs": [
    {
     "data": {
      "text/plain": [
       "'Polypeptide(L)'"
      ]
     },
     "execution_count": 15,
     "metadata": {},
     "output_type": "execute_result"
    }
   ],
   "source": [
    "chainA.chain_type"
   ]
  },
  {
   "cell_type": "markdown",
   "id": "20cdcc7e-53ec-49d8-b4a7-24ac41434e69",
   "metadata": {},
   "source": [
    "The attribute `can_seq` stands for **canonical sequence**, which is the sequence reported with the canonical 20 residues only. Any modified residue will be reported as the canonical amino acid it was modified from. Any *unknown* or *unclassifiable* type of residue will be reported as **X** in the sequence. This is also read from MMCIF files."
   ]
  },
  {
   "cell_type": "code",
   "execution_count": 16,
   "id": "5bb9fbd3-b847-4374-8035-33da00fa5098",
   "metadata": {},
   "outputs": [
    {
     "data": {
      "text/plain": [
       "Seq('MHHHHHHHDGTENPIHDRTSDYHKYLKVKQGDSDLFKLTVSDKRYIWYNPDPKE...SEI')"
      ]
     },
     "execution_count": 16,
     "metadata": {},
     "output_type": "execute_result"
    }
   ],
   "source": [
    "chainA.can_seq"
   ]
  },
  {
   "cell_type": "code",
   "execution_count": 19,
   "id": "b510e0b0-2028-425d-b60e-a680a8d6aefa",
   "metadata": {},
   "outputs": [
    {
     "name": "stdout",
     "output_type": "stream",
     "text": [
      "MHHHHHHHDGTENPIHDRTSDYHKYLKVKQGDSDLFKLTVSDKRYIWYNPDPKERDSYECGEIVSETSDSFTFKTVDGQDRQVKKDDANQRNPIKFDGVEDMSELSYLNEPAVFHNLRVRYNQDLIYTYSGLFLVAVNPFKRIPIYTQEMVDIFKGRRRNEVAPHIFAISDVAYRSMLDDRQNQSLLITGESGAGKTENTKKVIQYLASVAGRNQANGSGVLEQQILQANPILEAFGNAKTTRNNNSSRFGKFIEIQFNSAGFISGASIQSYLLEKSRVVFQSETERNYHIFYQLLAGATAEEKKALHLAGPESFNYLNQSGCVDIKGVSDSEEFKITRQAMDIVGFSQEEQMSIFKIIAGILHLGNIKFEKGAGEGAVLKDKTALNAASTVFGVNPSVLEKALMEPRILAGRDLVAQHLNVEKSSSSRDALVKALYGRLFLWLVKKINNVLCQERKAYFIGVLDISGFEIFKVNSFEQLCINYTNEKLQQFFNHHMFKLEQEEYLKEKINWTFIDFGLDSQATIDLIDGRQPPGILALLDEQSVFPNATDNTLITKLHSHFSKKNAKYEEPRFSKTEFGVTHYAGQVMYEIQDWLEKNKDPLQQDLELCFKDSSDNVVTKLFNDPNIASRAKKGANFITVAAQYKEQLASLMATLETTNPHFVRCIIPNNKQLPAKLEDKVVLDQLRCNGVLEGIRITRKGFPNRIIYADFVKRYYLLAPNVPRDAEDSQKATDAVLKHLNIDPEQYRFGITKIFFRAGQLARIEEAREQRISEI\n"
     ]
    }
   ],
   "source": [
    "# To show the entire sequence, print function should be used\n",
    "print(chainA.can_seq)"
   ]
  },
  {
   "cell_type": "markdown",
   "id": "9df23d14-ada6-4c3c-999e-db4c29c51cc7",
   "metadata": {},
   "source": [
    "`known_seq`, on the other hand, is the sequence that report any modified residue and the modified residue will be reported as 3-letter code enclosed in parentheses. The example below does not have any modified residue, but try it with **1A8I** and you can see the modified residue 680 is reported as **(LLP)**, which is modified from LYS. "
   ]
  },
  {
   "cell_type": "code",
   "execution_count": 23,
   "id": "33917b01-e472-4764-a301-59424234aa44",
   "metadata": {},
   "outputs": [
    {
     "data": {
      "text/plain": [
       "Seq('MHHHHHHHDGTENPIHDRTSDYHKYLKVKQGDSDLFKLTVSDKRYIWYNPDPKE...SEI')"
      ]
     },
     "execution_count": 23,
     "metadata": {},
     "output_type": "execute_result"
    }
   ],
   "source": [
    "chainA.known_seq"
   ]
  },
  {
   "cell_type": "markdown",
   "id": "f39c0f47-fca4-4b44-8fef-7b5006528bdf",
   "metadata": {},
   "source": [
    "Since we known what is present in the sequence, we can actually have the sequence masked with the missing residues in `'-'`. In the example below, we can see we are missing residues on N-terminal for the chain."
   ]
  },
  {
   "cell_type": "code",
   "execution_count": 24,
   "id": "ec5a24c0-6aca-433c-ac11-8a4959452b08",
   "metadata": {},
   "outputs": [
    {
     "data": {
      "text/plain": [
       "MaskedSeq('------------NPIHDRTSDYHKYLKVKQGDSDLFKLTVSDKRYIWYNPDPKE...SEI')"
      ]
     },
     "execution_count": 24,
     "metadata": {},
     "output_type": "execute_result"
    }
   ],
   "source": [
    "chainA.masked_seq"
   ]
  },
  {
   "cell_type": "markdown",
   "id": "e75aa27f-8ef8-4e28-8856-1f80b50b4856",
   "metadata": {},
   "source": [
    "There is a useful method for `masked_seq` to reveal the identity of the missing residues and highlight them in red."
   ]
  },
  {
   "cell_type": "code",
   "execution_count": 18,
   "id": "754e7dc8-6042-40e2-8acd-b4f491ee62fb",
   "metadata": {},
   "outputs": [
    {
     "name": "stdout",
     "output_type": "stream",
     "text": [
      "\u001b[91mM\u001b[0m\u001b[91mH\u001b[0m\u001b[91mH\u001b[0m\u001b[91mH\u001b[0m\u001b[91mH\u001b[0m\u001b[91mH\u001b[0m\u001b[91mH\u001b[0m\u001b[91mH\u001b[0m\u001b[91mD\u001b[0m\u001b[91mG\u001b[0m\u001b[91mT\u001b[0m\u001b[91mE\u001b[0mNPIHDRTSDYHKYLKVKQGDSDLFKLTVSDKRYIWYNPDPKERDSYECGEIVSETSDSFTFKTVDGQDRQVKKDDANQRNPIKFDGVEDMSELSYLNEPAVFHNLRVRYNQDLIYTYSGLFLVAVNPFKRIPIYTQEMVDIFKGRRRNEVAPHIFAISDVAYRSMLDDRQNQSLLITGESGAGKTENTKKVIQYLASVAGRNQANGSGVLEQQILQANPILEAFGNAKTTRNNNSSRFGKFIEIQFNSAGFISGASIQSYLLEKSRVVFQSETERNYHIFYQLLAGATAEEKKALHLAGPESFNYLNQSGCVDIKGVSDSEEFKITRQAMDIVGFSQEEQMSIFKIIAGILHLGNIKFEKGAGEGAVLKDKTALNAASTVFGVNPSVLEKALMEPRILAGRDLVAQHLNVEKSSSSRDALVKALYGRLFLWLVKKINNVLCQERKAYFIGVLDISGFEIFKVNSFEQLCINYTNEKLQQFFNHHMFKLEQEEYLKEKINWTFIDFGLDSQATIDLIDGRQPPGILALLDEQSVFPNATDNTLITKLHSHFSKKNAKYEEPRFSKTEFGVTHYAGQVMYEIQDWLEKNKDPLQQDLELCFKDSSDNVVTKLFNDPNIASRAKKGANFITVAAQYKEQLASLMATLETTNPHFVRCIIPNNKQLPAKLEDKVVLDQLRCNGVLEGIRITRKGFPNRIIYADFVKRYYLLAPNVPRDAEDSQKATDAVLKHLNIDPEQYRFGITKIFFRAGQLARIEEAREQRISEI\n"
     ]
    }
   ],
   "source": [
    "chainA.masked_seq.show()"
   ]
  },
  {
   "cell_type": "markdown",
   "id": "2864960b-3e69-49a5-bb61-52fed028a662",
   "metadata": {},
   "source": [
    "`missing_res` is an attribute that return the residue sequence number and the resname of the **current** missing residues. This list is dynamically constructed based on the canonical sequence and the current residues. "
   ]
  },
  {
   "cell_type": "code",
   "execution_count": 50,
   "id": "ec35cf60-fb3b-4973-b046-50c98e85ebf7",
   "metadata": {},
   "outputs": [
    {
     "data": {
      "text/plain": [
       "[(1, 'MET'),\n",
       " (2, 'HIS'),\n",
       " (3, 'HIS'),\n",
       " (4, 'HIS'),\n",
       " (5, 'HIS'),\n",
       " (6, 'HIS'),\n",
       " (7, 'HIS'),\n",
       " (8, 'HIS'),\n",
       " (9, 'ASP'),\n",
       " (10, 'GLY'),\n",
       " (11, 'THR'),\n",
       " (12, 'GLU')]"
      ]
     },
     "execution_count": 50,
     "metadata": {},
     "output_type": "execute_result"
    }
   ],
   "source": [
    "chainA.missing_res"
   ]
  },
  {
   "cell_type": "code",
   "execution_count": 51,
   "id": "f1a93e3c-ba70-4720-b627-aba74805af48",
   "metadata": {},
   "outputs": [
    {
     "data": {
      "text/plain": [
       "[{1, 2, 3, 4, 5, 6, 7, 8, 9, 10, 11, 12}]"
      ]
     },
     "execution_count": 51,
     "metadata": {},
     "output_type": "execute_result"
    }
   ],
   "source": [
    "chainA.gaps"
   ]
  },
  {
   "cell_type": "markdown",
   "id": "8c02db38-ff67-44cb-aead-991ab0d15bb8",
   "metadata": {},
   "source": [
    "Finally, there is a built-in method to determine if there is any gap in the chain. This `is_continuous` will return **True** if there is no gap in the middle of the chain; any missing termini will be ignored."
   ]
  },
  {
   "cell_type": "code",
   "execution_count": 52,
   "id": "808fe38d-ad94-4417-9048-5df046190d91",
   "metadata": {},
   "outputs": [
    {
     "data": {
      "text/plain": [
       "True"
      ]
     },
     "execution_count": 52,
     "metadata": {},
     "output_type": "execute_result"
    }
   ],
   "source": [
    "chainA.is_continuous()"
   ]
  }
 ],
 "metadata": {
  "kernelspec": {
   "display_name": "pcm-devel",
   "language": "python",
   "name": "pcm-devel"
  },
  "language_info": {
   "codemirror_mode": {
    "name": "ipython",
    "version": 3
   },
   "file_extension": ".py",
   "mimetype": "text/x-python",
   "name": "python",
   "nbconvert_exporter": "python",
   "pygments_lexer": "ipython3",
   "version": "3.10.6"
  }
 },
 "nbformat": 4,
 "nbformat_minor": 5
}

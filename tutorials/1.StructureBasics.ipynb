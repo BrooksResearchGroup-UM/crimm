{
 "cells": [
  {
   "cell_type": "code",
   "execution_count": 1,
   "id": "e2d532e8-d97b-40ff-9c4f-6653f48fd7dd",
   "metadata": {},
   "outputs": [
    {
     "data": {
      "application/vnd.jupyter.widget-view+json": {
       "model_id": "67e3a6e701c04cd4ab4254d4b4382ce1",
       "version_major": 2,
       "version_minor": 0
      },
      "text/plain": []
     },
     "metadata": {},
     "output_type": "display_data"
    }
   ],
   "source": [
    "from crimm import fetch_rcsb\n",
    "from crimm.IO import MMCIFParser, PDBParser\n",
    "from Bio.PDB import PDBParser as PPDBParser"
   ]
  },
  {
   "cell_type": "markdown",
   "id": "2aba44cd-730c-4de7-be9c-70d6b69bad9e",
   "metadata": {},
   "source": [
    "## From Local File Path\n",
    "For this tutorial, we will first download a MMCIF file and a PDB file on the current working directory using wget"
   ]
  },
  {
   "cell_type": "code",
   "execution_count": 4,
   "id": "d76d4ac3-eb9a-4122-9892-b85e315d1ae5",
   "metadata": {
    "collapsed": true,
    "jupyter": {
     "outputs_hidden": true
    },
    "tags": []
   },
   "outputs": [
    {
     "name": "stdout",
     "output_type": "stream",
     "text": [
      "--2023-05-10 11:20:30--  https://files.rcsb.org/download/2AKA.cif\n",
      "Resolving files.rcsb.org (files.rcsb.org)... 128.6.158.70\n",
      "Connecting to files.rcsb.org (files.rcsb.org)|128.6.158.70|:443... connected.\n",
      "HTTP request sent, awaiting response... 200 OK\n",
      "Length: unspecified [application/octet-stream]\n",
      "Saving to: ‘2AKA.cif.1’\n",
      "\n",
      "2AKA.cif.1              [ <=>                ] 940.29K  --.-KB/s    in 0.1s    \n",
      "\n",
      "2023-05-10 11:20:31 (6.13 MB/s) - ‘2AKA.cif.1’ saved [962859]\n",
      "\n",
      "--2023-05-10 11:20:31--  https://files.rcsb.org/download/2AKA.pdb\n",
      "Resolving files.rcsb.org (files.rcsb.org)... 128.6.158.70\n",
      "Connecting to files.rcsb.org (files.rcsb.org)|128.6.158.70|:443... connected.\n",
      "HTTP request sent, awaiting response... 200 OK\n",
      "Length: unspecified [application/octet-stream]\n",
      "Saving to: ‘2AKA.pdb’\n",
      "\n",
      "2AKA.pdb                [ <=>                ] 786.74K  --.-KB/s    in 0.1s    \n",
      "\n",
      "2023-05-10 11:20:31 (6.05 MB/s) - ‘2AKA.pdb’ saved [805626]\n",
      "\n"
     ]
    }
   ],
   "source": [
    "!wget https://files.rcsb.org/download/2AKA.cif\n",
    "!wget https://files.rcsb.org/download/2AKA.pdb"
   ]
  },
  {
   "cell_type": "markdown",
   "id": "91989a27-a102-4278-9120-2e588b8ea6e5",
   "metadata": {},
   "source": [
    "## MMCIF Parser\n",
    "For `crimm`, the preferred structure file format is **MMCIF**, since it has more rigorous file standard defined by wwPDB and the information contained is much more reliable and consistent.\n",
    "\n",
    "The `MMCIFParser` is a supercharged version of Biopython's `MMCIFParser`. It adds more information to the constructed structure for modeling purposes (such as identity and type of each chain, canonical sequence, disulfide bonds, etc) while still maintaining the Biopython's API compatibility.\n",
    "\n",
    "Cell below shows the default arguments to the parameters accepted in the `MMCIFParser`"
   ]
  },
  {
   "cell_type": "code",
   "execution_count": 2,
   "id": "f60ee9ce-ff30-4bfe-9894-3d92c3f5b605",
   "metadata": {},
   "outputs": [
    {
     "data": {
      "application/vnd.jupyter.widget-view+json": {
       "model_id": "210046db971b411d9b39178582ca0cd7",
       "version_major": 2,
       "version_minor": 0
      },
      "text/plain": [
       "NGLWidget()"
      ]
     },
     "metadata": {},
     "output_type": "display_data"
    },
    {
     "name": "stdout",
     "output_type": "stream",
     "text": [
      "<Structure id=2AKA Models=1>\n",
      "│\n",
      "├───<Model id=1 Chains=5>\n",
      "\t│\n",
      "\t├───<Polypeptide(L) id=A Residues=764>\n",
      "\t├──────Description: myosin II heavy chain\n",
      "\t│\n",
      "\t├───<Polypeptide(L) id=B Residues=6>\n",
      "\t├──────Description: LINKER\n",
      "\t│\n",
      "\t├───<Polypeptide(L) id=C Residues=299>\n",
      "\t├──────Description: Dynamin-1\n",
      "\t│\n",
      "\t├───<Solvent id=D Residues=584>\n",
      "\t├──────Description: water\n",
      "\t│\n",
      "\t├───<Solvent id=E Residues=170>\n",
      "\t├──────Description: water\n"
     ]
    }
   ],
   "source": [
    "path = './2AKA.cif'\n",
    "parser = MMCIFParser(\n",
    "    first_assembly_only=True,\n",
    "    first_model_only=True,\n",
    "    include_hydrogens=False,\n",
    "    include_solvent=True,\n",
    "    strict_parser = True,\n",
    "    QUIET = False\n",
    ")\n",
    "structure = parser.get_structure(path)\n",
    "structure"
   ]
  },
  {
   "cell_type": "markdown",
   "id": "b9dd9636-960c-48ed-83a6-0a336f873962",
   "metadata": {},
   "source": [
    "## PDBParser\n",
    "The `PDBParser` class provides limited information about a structure. The primary use of PDB parser is to accommodate structure sources from other software package/pipeline/webservices who does not produce MMCIF file. The PDBParser is built upon biopython's PDBParser with additonal functions to distinguish chain types and rename chain id to conform with MMCIF chain naming style.\n",
    "\n",
    "For the example below, we show the same structure parsed using pdb file format, notice the missing description and missing water chains (even though we specified `include_solvent=True`, the missing water is actually due to Biopython's PDBParser). \n",
    "\n",
    "Moreover, the information guaranteed in MMCIF structures such as identity and type of each chain, canonical sequence, disulfide bonds, etc will not be present here, since they are not required and likely missing in many pdb files."
   ]
  },
  {
   "cell_type": "code",
   "execution_count": 3,
   "id": "b8d1ac17-e485-4aac-8907-7f3a81b0af88",
   "metadata": {},
   "outputs": [
    {
     "name": "stderr",
     "output_type": "stream",
     "text": [
      "/home/truman/crimm/crimm/IO/StructureBuilder.py:109: ChainConstructionWarning: WARNING: Chain A is discontinuous at line 9189.\n",
      "  warnings.warn(\n",
      "/home/truman/crimm/crimm/IO/StructureBuilder.py:109: ChainConstructionWarning: WARNING: Chain B is discontinuous at line 9773.\n",
      "  warnings.warn(\n"
     ]
    },
    {
     "data": {
      "application/vnd.jupyter.widget-view+json": {
       "model_id": "35bdf50bbb3e4beebccfbde8ec17ff8b",
       "version_major": 2,
       "version_minor": 0
      },
      "text/plain": [
       "NGLWidget()"
      ]
     },
     "metadata": {},
     "output_type": "display_data"
    },
    {
     "name": "stdout",
     "output_type": "stream",
     "text": [
      "<Structure id=2AKA Models=1>\n",
      "│\n",
      "├───<Model id=0 Chains=3>\n",
      "\t│\n",
      "\t├───<Polypeptide(L) id=A Residues=764>\n",
      "\t│\n",
      "\t├───<Polypeptide(L) id=B Residues=6>\n",
      "\t│\n",
      "\t├───<Polypeptide(L) id=C Residues=299>\n"
     ]
    }
   ],
   "source": [
    "pdb_path = './2AKA.pdb'\n",
    "pdb_parser = PDBParser(\n",
    "    first_model_only=True,\n",
    "    include_solvent =True,\n",
    "    strict_parser=True, \n",
    "    get_header=False, \n",
    "    QUIET=False\n",
    ")\n",
    "pdb_structure = pdb_parser.get_structure(pdb_path)\n",
    "pdb_structure"
   ]
  },
  {
   "cell_type": "markdown",
   "id": "2d25cdfa-ec2c-4573-9b21-d2096cc96f4e",
   "metadata": {},
   "source": [
    "## Fetch directly from RCSB\n",
    "\n",
    "Since we recommend so strongly of using MMCIF file format, we provide the utility to download structures direcly from RCSB by PDB IDs. There are many more fetching utilities for other databases introduced in the `FetchStructures.ipynb` tutorial. All entity types should be parsed without problem from MMCIF (RNA, DNA, Macrolite, Oligosaccharide, small molecules)\n",
    "\n",
    "Note: unlike wget, this fetcher will not save any file to your local drive. You will need to save the structure explicitly if you want a local copy. Unfortunately, MMCIF wirter has not been implemented yet, and pickling on structure object also has a problem (pickle problem will be addressed very soon); the only support so far is, ironically, the pdb file format."
   ]
  },
  {
   "cell_type": "code",
   "execution_count": 4,
   "id": "56724a05-4529-496b-8c2e-f50b5ee51774",
   "metadata": {},
   "outputs": [
    {
     "data": {
      "application/vnd.jupyter.widget-view+json": {
       "model_id": "7b7975f8d847413c91a2453e1584344a",
       "version_major": 2,
       "version_minor": 0
      },
      "text/plain": [
       "NGLWidget()"
      ]
     },
     "metadata": {},
     "output_type": "display_data"
    },
    {
     "name": "stdout",
     "output_type": "stream",
     "text": [
      "<Structure id=2OR1 Models=1>\n",
      "│\n",
      "├───<Model id=1 Chains=4>\n",
      "\t│\n",
      "\t├───<Polydeoxyribonucleotide id=A Residues=20>\n",
      "\t├──────Description: DNA (5'-D(*AP*AP*GP*TP*AP*CP*AP*AP*AP*CP*TP*TP*TP*CP*TP*TP*G P*TP*AP*T)-3')\n",
      "\t│\n",
      "\t├───<Polydeoxyribonucleotide id=B Residues=20>\n",
      "\t├──────Description: DNA (5'-D(*TP*AP*TP*AP*CP*AP*AP*GP*AP*AP*AP*GP*TP*TP*TP*GP*T P*AP*CP*T)-3')\n",
      "\t│\n",
      "\t├───<Polypeptide(L) id=C Residues=63>\n",
      "\t├──────Description: 434 REPRESSOR\n",
      "\t│\n",
      "\t├───<Polypeptide(L) id=D Residues=63>\n",
      "\t├──────Description: 434 REPRESSOR\n"
     ]
    }
   ],
   "source": [
    "pdbid = '2or1' \n",
    "rcsb_fetched = fetch_rcsb(\n",
    "    pdbid,\n",
    "    first_assembly_only=True,\n",
    "    first_model_only=True,\n",
    "    include_hydrogens=False,\n",
    "    include_solvent=False\n",
    ")\n",
    "rcsb_fetched"
   ]
  },
  {
   "cell_type": "markdown",
   "id": "6d9cef7a-7518-4f9e-998f-9b28fdfd4995",
   "metadata": {},
   "source": [
    "## Object Getter and Handles for Entities\n",
    "To get a handle of chain in the structure, two types of getter methods can be used:\n",
    "\n",
    "1. Since we derive our structure classes from the respective [Biopython entities](https://github.com/biopython/biopython/blob/master/Bio/PDB/Entity.py), all Biopython getter method will work. That is, if you know their ids, you can use\n",
    "\n",
    "```python\n",
    "chain = structure[model_id][chain_id]\n",
    "# for example, model 1, chain A\n",
    "chainA = structure[1]['A']\n",
    "```\n",
    "\n",
    "2. Or we can use the list index of `child_list` from each entity level. Moreover, the `child_list` attributes are aliased as *models*, *chains*, *residues*, and *atoms* from their respective parent entities. e.g. the first chain of the first model would be\n",
    "\n",
    "```python\n",
    "chain = structure.models[0].chains[0]\n",
    "```\n",
    "\n",
    "3. Mismatch of the two method above is allowed. e.g. CA atom on the last residue of chain A from the first model\n",
    "\n",
    "```python\n",
    "atom = structure.models[0]['A'].residues[-1]['CA']\n",
    "```"
   ]
  },
  {
   "cell_type": "code",
   "execution_count": 5,
   "id": "a905c396-38e7-4638-b914-d33bab3d2d52",
   "metadata": {},
   "outputs": [],
   "source": [
    "chainA = structure[1]['A'] # the equivalent would be struct.models[0].chains[0]"
   ]
  },
  {
   "cell_type": "code",
   "execution_count": 6,
   "id": "4bc994ef-a938-4c6f-bd98-667dd50c5ff6",
   "metadata": {},
   "outputs": [
    {
     "data": {
      "application/vnd.jupyter.widget-view+json": {
       "model_id": "d6ff6915c9fd4414913d25b82c810528",
       "version_major": 2,
       "version_minor": 0
      },
      "text/plain": [
       "NGLWidget()"
      ]
     },
     "metadata": {},
     "output_type": "display_data"
    },
    {
     "name": "stdout",
     "output_type": "stream",
     "text": [
      "<Polypeptide(L) id=A Residues=764>\n",
      "  Description: myosin II heavy chain\n"
     ]
    }
   ],
   "source": [
    "chainA # notice only one polymer chain shows up in the window"
   ]
  },
  {
   "cell_type": "markdown",
   "id": "641e9fd2-00ba-428b-ae0c-8fe0597f9df3",
   "metadata": {},
   "source": [
    "## Get Residues and Atoms\n",
    "\n",
    "Residues are store as lists in chains, and atoms in residues. For a single residue, the `resseq` (residue sequence id, aka residue number) can be used to get the residue object in a chain."
   ]
  },
  {
   "cell_type": "code",
   "execution_count": 7,
   "id": "2b98ec8d-658a-4a91-8600-a1986d6eceb1",
   "metadata": {},
   "outputs": [
    {
     "data": {
      "application/vnd.jupyter.widget-view+json": {
       "model_id": "30fe269d974c449880072fc10e11cdb1",
       "version_major": 2,
       "version_minor": 0
      },
      "text/plain": [
       "NGLWidget()"
      ]
     },
     "metadata": {},
     "output_type": "display_data"
    },
    {
     "name": "stdout",
     "output_type": "stream",
     "text": [
      "<Residue TYR het=  resseq=22 icode= >\n"
     ]
    }
   ],
   "source": [
    "res = chainA[22]\n",
    "res"
   ]
  },
  {
   "cell_type": "code",
   "execution_count": 8,
   "id": "d5afd055-efd4-49ef-94e2-6433e21c8fca",
   "metadata": {},
   "outputs": [
    {
     "data": {
      "text/plain": [
       "<Atom CA>"
      ]
     },
     "execution_count": 8,
     "metadata": {},
     "output_type": "execute_result"
    }
   ],
   "source": [
    "# Get the CA carbon\n",
    "atom = res['CA']\n",
    "atom"
   ]
  },
  {
   "cell_type": "markdown",
   "id": "8cad3e74-3e03-4795-94b4-6ce7dbb41bde",
   "metadata": {},
   "source": [
    "## Iterating over Entities\n",
    "Iterations follows Biopython's convention, that is, at each level, for-loop will iterate on the `child_list` directly"
   ]
  },
  {
   "cell_type": "code",
   "execution_count": 31,
   "id": "e42b53be-8437-457a-8b1c-45e1620d2d7e",
   "metadata": {},
   "outputs": [
    {
     "name": "stdout",
     "output_type": "stream",
     "text": [
      "<Polypeptide(L) id=A Residues=764>\n",
      "<Polypeptide(L) id=B Residues=6>\n",
      "<Polypeptide(L) id=C Residues=299>\n",
      "<Solvent id=D Residues=584>\n",
      "<Solvent id=E Residues=170>\n"
     ]
    }
   ],
   "source": [
    "for model in structure:\n",
    "    for chain in model:\n",
    "        print(chain)"
   ]
  },
  {
   "cell_type": "markdown",
   "id": "9a4426b0-d043-48d4-a005-5a1e0cdd1fee",
   "metadata": {},
   "source": [
    "Additionally, each level also has a method called `get_atoms()` to get all the atoms belong to this entity. The `include_alt` flag will determine if all alternative locations of disordered residues or atoms will be expanded. The default is `include_alt=False`, which only return the first alternative location if any. "
   ]
  },
  {
   "cell_type": "code",
   "execution_count": 32,
   "id": "a2b194b6-fb3b-45da-9792-0b3e23902f2d",
   "metadata": {},
   "outputs": [
    {
     "name": "stdout",
     "output_type": "stream",
     "text": [
      "<Structure id=2AKA Models=1> has 9273 atoms\n",
      "<Polypeptide(L) id=A Residues=764> has 6139 atoms\n"
     ]
    }
   ],
   "source": [
    "# get_atom returns an iterator, explicit conversion is needed to get a list\n",
    "struct_atoms = list(structure.get_atoms(include_alt=False))\n",
    "print(f'{structure} has {len(struct_atoms)} atoms')\n",
    "\n",
    "first_chain = structure[1]['A']\n",
    "chain_atoms = list(first_chain.get_atoms())\n",
    "print(f'{first_chain} has {len(chain_atoms)} atoms')"
   ]
  },
  {
   "cell_type": "markdown",
   "id": "3fa59c57-307d-4d18-9131-f70d0c158e06",
   "metadata": {},
   "source": [
    "## Parent Entity is Stored as `parent` Attribute"
   ]
  },
  {
   "cell_type": "code",
   "execution_count": 33,
   "id": "049f296b-de66-4629-b767-f1191dca73df",
   "metadata": {},
   "outputs": [
    {
     "data": {
      "application/vnd.jupyter.widget-view+json": {
       "model_id": "1867aa81a85c4f14a2bc8198add6b59d",
       "version_major": 2,
       "version_minor": 0
      },
      "text/plain": [
       "NGLWidget()"
      ]
     },
     "metadata": {},
     "output_type": "display_data"
    },
    {
     "name": "stdout",
     "output_type": "stream",
     "text": [
      "<Residue ASN het=  resseq=13 icode= >\n"
     ]
    }
   ],
   "source": [
    "chain_atoms[0].parent"
   ]
  },
  {
   "cell_type": "code",
   "execution_count": 34,
   "id": "e98b9219-a87b-4afa-bc4f-6ecadfc0523b",
   "metadata": {},
   "outputs": [
    {
     "data": {
      "application/vnd.jupyter.widget-view+json": {
       "model_id": "6a6a54b3afc64be1bc8dcaf309d42d4f",
       "version_major": 2,
       "version_minor": 0
      },
      "text/plain": [
       "NGLWidget()"
      ]
     },
     "metadata": {},
     "output_type": "display_data"
    },
    {
     "name": "stdout",
     "output_type": "stream",
     "text": [
      "<Polypeptide(L) id=A Residues=764>\n",
      "  Description: myosin II heavy chain\n"
     ]
    }
   ],
   "source": [
    "chain_atoms[0].parent.parent"
   ]
  },
  {
   "cell_type": "markdown",
   "id": "b0257221-ee6b-433b-b7f5-26e4bb5185bc",
   "metadata": {},
   "source": [
    "## Additional Structural Information\n",
    "\n",
    "Below is the demonstrations of additional structure information that is available from RCSB MMCIF files. "
   ]
  },
  {
   "cell_type": "markdown",
   "id": "71269dcc-9b2f-48bb-95fd-496bbe84ff12",
   "metadata": {},
   "source": [
    "### Structure Level Properties"
   ]
  },
  {
   "cell_type": "code",
   "execution_count": 9,
   "id": "460bb653-a27d-41a6-b32b-e104c172d16e",
   "metadata": {},
   "outputs": [
    {
     "data": {
      "text/plain": [
       "{'name': '2AKA',\n",
       " 'keywords': {'entry_id': '2AKA',\n",
       "  'pdbx_keywords': 'CONTRACTILE PROTEIN',\n",
       "  'text': 'fusion protein, GTPase domain, dynamin, myosin, CONTRACTILE PROTEIN'},\n",
       " 'citation': {'id': ['primary', 1],\n",
       "  'title': ['Crystal structure of the GTPase domain of rat dynamin 1.',\n",
       "   'A structural model for actin-induced nucleotide release in myosin'],\n",
       "  'journal_abbrev': ['Proc.Natl.Acad.Sci.Usa', 'Nat.Struct.Mol.Biol.'],\n",
       "  'journal_volume': [102, 10],\n",
       "  'page_first': [13093, 826],\n",
       "  'page_last': [13098, 830],\n",
       "  'year': [2005, 2003],\n",
       "  'journal_id_ASTM': ['PNASA6', None],\n",
       "  'country': ['US', 'US'],\n",
       "  'journal_id_ISSN': ['0027-8424', '1545-9993'],\n",
       "  'journal_id_CSD': [40, None],\n",
       "  'book_publisher': [None, None],\n",
       "  'pdbx_database_id_PubMed': [16141317, None],\n",
       "  'pdbx_database_id_DOI': ['10.1073/pnas.0506491102', None]},\n",
       " 'idcode': {'entry_id': '2AKA',\n",
       "  'title': 'Structure of the nucleotide-free myosin II motor domain from Dictyostelium discoideum fused to the GTPase domain of dynamin 1 from Rattus norvegicus',\n",
       "  'pdbx_descriptor': 'myosin II heavy chain, LINKER, Dynamin-1 (E.C.3.6.5.5)'},\n",
       " 'deposition_date': '2005-08-03'}"
      ]
     },
     "execution_count": 9,
     "metadata": {},
     "output_type": "execute_result"
    }
   ],
   "source": [
    "structure.header"
   ]
  },
  {
   "cell_type": "code",
   "execution_count": 10,
   "id": "c58caf14-6d01-4882-9986-bd57c4f654a2",
   "metadata": {},
   "outputs": [
    {
     "data": {
      "text/plain": [
       "'X-RAY DIFFRACTION'"
      ]
     },
     "execution_count": 10,
     "metadata": {},
     "output_type": "execute_result"
    }
   ],
   "source": [
    "structure.method"
   ]
  },
  {
   "cell_type": "code",
   "execution_count": 11,
   "id": "1ab5d23f-6c71-4ff8-b2a7-59fed19045a5",
   "metadata": {},
   "outputs": [
    {
     "data": {
      "text/plain": [
       "1.9"
      ]
     },
     "execution_count": 11,
     "metadata": {},
     "output_type": "execute_result"
    }
   ],
   "source": [
    "structure.resolution # in angstrom"
   ]
  },
  {
   "cell_type": "markdown",
   "id": "bc32839b-ebea-4823-b1ba-ba0de3f345c5",
   "metadata": {},
   "source": [
    "### Model Level Properties\n",
    "Connection record such as *covalent bond between two chains*, *hydrogen bondings*, *disulfide bonds* are stored in the model level in the attribute `model.connect_dict` for text info, and `model.connect_atoms` for direct atom object handles"
   ]
  },
  {
   "cell_type": "code",
   "execution_count": 12,
   "id": "144fb8f6-0780-40ea-9d7d-af84a979ebf0",
   "metadata": {},
   "outputs": [
    {
     "name": "stdout",
     "output_type": "stream",
     "text": [
      "{'covale': [({'chain': 'A', 'resname': 'ILE', 'resseq': 776, 'atom_id': 'C', 'altloc': None}, {'chain': 'B', 'resname': 'THR', 'resseq': 1, 'atom_id': 'N', 'altloc': None})]}\n",
      "{'covale': [(<Atom C>, <Atom N>)]}\n"
     ]
    }
   ],
   "source": [
    "model = structure[1]\n",
    "print(model.connect_dict) # covale is for covalent bonds\n",
    "print(model.connect_atoms)"
   ]
  },
  {
   "cell_type": "code",
   "execution_count": 13,
   "id": "9a8b6e8a-a463-42a6-a1a1-913095614cd9",
   "metadata": {},
   "outputs": [
    {
     "data": {
      "text/plain": [
       "{'hydrog': [(<Atom N6>, <Atom O4>),\n",
       "  (<Atom N1>, <Atom N3>),\n",
       "  (<Atom N6>, <Atom O4>),\n",
       "  (<Atom N1>, <Atom N3>),\n",
       "  (<Atom N2>, <Atom O2>),\n",
       "  (<Atom O6>, <Atom N4>),\n",
       "  (<Atom N3>, <Atom N1>),\n",
       "  (<Atom O4>, <Atom N6>),\n",
       "  (<Atom N1>, <Atom N3>),\n",
       "  (<Atom N6>, <Atom O4>),\n",
       "  (<Atom N3>, <Atom N1>),\n",
       "  (<Atom N4>, <Atom O6>),\n",
       "  (<Atom O2>, <Atom N2>),\n",
       "  (<Atom N1>, <Atom N3>),\n",
       "  (<Atom N6>, <Atom O4>),\n",
       "  (<Atom N1>, <Atom N3>),\n",
       "  (<Atom N6>, <Atom O4>),\n",
       "  (<Atom N1>, <Atom N3>),\n",
       "  (<Atom N6>, <Atom O4>),\n",
       "  (<Atom N3>, <Atom N1>),\n",
       "  (<Atom N4>, <Atom O6>),\n",
       "  (<Atom O2>, <Atom N2>),\n",
       "  (<Atom N3>, <Atom N1>),\n",
       "  (<Atom O4>, <Atom N6>),\n",
       "  (<Atom N3>, <Atom N1>),\n",
       "  (<Atom O4>, <Atom N6>),\n",
       "  (<Atom N3>, <Atom N1>),\n",
       "  (<Atom O4>, <Atom N6>),\n",
       "  (<Atom N3>, <Atom N1>),\n",
       "  (<Atom N4>, <Atom O6>),\n",
       "  (<Atom N3>, <Atom N1>),\n",
       "  (<Atom O4>, <Atom N6>),\n",
       "  (<Atom N3>, <Atom N1>),\n",
       "  (<Atom O4>, <Atom N6>),\n",
       "  (<Atom N1>, <Atom N3>),\n",
       "  (<Atom N2>, <Atom O2>),\n",
       "  (<Atom O6>, <Atom N4>),\n",
       "  (<Atom N3>, <Atom N1>),\n",
       "  (<Atom O4>, <Atom N6>),\n",
       "  (<Atom N1>, <Atom N3>),\n",
       "  (<Atom N6>, <Atom O4>),\n",
       "  (<Atom N3>, <Atom N1>),\n",
       "  (<Atom O4>, <Atom N6>)]}"
      ]
     },
     "execution_count": 13,
     "metadata": {},
     "output_type": "execute_result"
    }
   ],
   "source": [
    "model = rcsb_fetched[1] # 2OR1\n",
    "model.connect_atoms # hydrog is for hydrogen bonds"
   ]
  },
  {
   "cell_type": "code",
   "execution_count": 14,
   "id": "ff716323-2e44-4aab-97ba-a02920e6f936",
   "metadata": {},
   "outputs": [
    {
     "data": {
      "text/plain": [
       "{'disulf': [({'chain': 'A',\n",
       "    'resname': 'CYS',\n",
       "    'resseq': 5,\n",
       "    'atom_id': 'SG',\n",
       "    'altloc': None},\n",
       "   {'chain': 'A',\n",
       "    'resname': 'CYS',\n",
       "    'resseq': 55,\n",
       "    'atom_id': 'SG',\n",
       "    'altloc': None}),\n",
       "  ({'chain': 'A',\n",
       "    'resname': 'CYS',\n",
       "    'resseq': 14,\n",
       "    'atom_id': 'SG',\n",
       "    'altloc': None},\n",
       "   {'chain': 'A',\n",
       "    'resname': 'CYS',\n",
       "    'resseq': 38,\n",
       "    'atom_id': 'SG',\n",
       "    'altloc': None}),\n",
       "  ({'chain': 'A',\n",
       "    'resname': 'CYS',\n",
       "    'resseq': 30,\n",
       "    'atom_id': 'SG',\n",
       "    'altloc': None},\n",
       "   {'chain': 'A',\n",
       "    'resname': 'CYS',\n",
       "    'resseq': 51,\n",
       "    'atom_id': 'SG',\n",
       "    'altloc': None})]}"
      ]
     },
     "execution_count": 14,
     "metadata": {},
     "output_type": "execute_result"
    }
   ],
   "source": [
    "bpti = fetch_rcsb('4pti') # bovine pancreatic trypsin inhibitor\n",
    "model = bpti.models[0]\n",
    "model.connect_dict # disulf for disulfide bonds"
   ]
  },
  {
   "cell_type": "markdown",
   "id": "0318b2e0-7f47-4672-a9c2-12d344682930",
   "metadata": {},
   "source": [
    "## Chain Properties"
   ]
  },
  {
   "cell_type": "markdown",
   "id": "731a47b6-3a66-427b-a7b8-4301249d1f51",
   "metadata": {},
   "source": [
    "Chain types are read from MMCIF and assign to the `PolymerChain` object, and much of the functions rely on this attribute to correctly process different types of polymers"
   ]
  },
  {
   "cell_type": "code",
   "execution_count": 15,
   "id": "e772fc4d-498c-4caa-a652-58ddd8b60bcc",
   "metadata": {},
   "outputs": [
    {
     "data": {
      "text/plain": [
       "'Polypeptide(L)'"
      ]
     },
     "execution_count": 15,
     "metadata": {},
     "output_type": "execute_result"
    }
   ],
   "source": [
    "chainA.chain_type"
   ]
  },
  {
   "cell_type": "markdown",
   "id": "20cdcc7e-53ec-49d8-b4a7-24ac41434e69",
   "metadata": {},
   "source": [
    "The attribute `can_seq` stands for **canonical sequence**, which is the sequence reported with the canonical 20 residues only. Any modified residue will be reported as the canonical amino acid it was modified from. Any *unknown* or *unclassifiable* type of residue will be reported as **X** in the sequence. This is also read from MMCIF files."
   ]
  },
  {
   "cell_type": "code",
   "execution_count": 16,
   "id": "5bb9fbd3-b847-4374-8035-33da00fa5098",
   "metadata": {},
   "outputs": [
    {
     "data": {
      "text/plain": [
       "Seq('MHHHHHHHDGTENPIHDRTSDYHKYLKVKQGDSDLFKLTVSDKRYIWYNPDPKE...SEI')"
      ]
     },
     "execution_count": 16,
     "metadata": {},
     "output_type": "execute_result"
    }
   ],
   "source": [
    "chainA.can_seq"
   ]
  },
  {
   "cell_type": "code",
   "execution_count": 19,
   "id": "b510e0b0-2028-425d-b60e-a680a8d6aefa",
   "metadata": {},
   "outputs": [
    {
     "name": "stdout",
     "output_type": "stream",
     "text": [
      "MHHHHHHHDGTENPIHDRTSDYHKYLKVKQGDSDLFKLTVSDKRYIWYNPDPKERDSYECGEIVSETSDSFTFKTVDGQDRQVKKDDANQRNPIKFDGVEDMSELSYLNEPAVFHNLRVRYNQDLIYTYSGLFLVAVNPFKRIPIYTQEMVDIFKGRRRNEVAPHIFAISDVAYRSMLDDRQNQSLLITGESGAGKTENTKKVIQYLASVAGRNQANGSGVLEQQILQANPILEAFGNAKTTRNNNSSRFGKFIEIQFNSAGFISGASIQSYLLEKSRVVFQSETERNYHIFYQLLAGATAEEKKALHLAGPESFNYLNQSGCVDIKGVSDSEEFKITRQAMDIVGFSQEEQMSIFKIIAGILHLGNIKFEKGAGEGAVLKDKTALNAASTVFGVNPSVLEKALMEPRILAGRDLVAQHLNVEKSSSSRDALVKALYGRLFLWLVKKINNVLCQERKAYFIGVLDISGFEIFKVNSFEQLCINYTNEKLQQFFNHHMFKLEQEEYLKEKINWTFIDFGLDSQATIDLIDGRQPPGILALLDEQSVFPNATDNTLITKLHSHFSKKNAKYEEPRFSKTEFGVTHYAGQVMYEIQDWLEKNKDPLQQDLELCFKDSSDNVVTKLFNDPNIASRAKKGANFITVAAQYKEQLASLMATLETTNPHFVRCIIPNNKQLPAKLEDKVVLDQLRCNGVLEGIRITRKGFPNRIIYADFVKRYYLLAPNVPRDAEDSQKATDAVLKHLNIDPEQYRFGITKIFFRAGQLARIEEAREQRISEI\n"
     ]
    }
   ],
   "source": [
    "# To show the entire sequence, print function should be used\n",
    "print(chainA.can_seq)"
   ]
  },
  {
   "cell_type": "markdown",
   "id": "9df23d14-ada6-4c3c-999e-db4c29c51cc7",
   "metadata": {},
   "source": [
    "`known_seq`, on the other hand, is the sequence that report any modified residue and the modified residue will be reported as 3-letter code enclosed in parentheses. The example below does not have any modified residue, but try it with **1A8I** and you can see the modified residue 680 is reported as **(LLP)**, which is modified from LYS. "
   ]
  },
  {
   "cell_type": "code",
   "execution_count": 23,
   "id": "33917b01-e472-4764-a301-59424234aa44",
   "metadata": {},
   "outputs": [
    {
     "data": {
      "text/plain": [
       "Seq('MHHHHHHHDGTENPIHDRTSDYHKYLKVKQGDSDLFKLTVSDKRYIWYNPDPKE...SEI')"
      ]
     },
     "execution_count": 23,
     "metadata": {},
     "output_type": "execute_result"
    }
   ],
   "source": [
    "chainA.known_seq"
   ]
  },
  {
   "cell_type": "markdown",
   "id": "f39c0f47-fca4-4b44-8fef-7b5006528bdf",
   "metadata": {},
   "source": [
    "Since we known what is present in the sequence, we can actually have the sequence masked with the missing residues in `'-'`. In the example below, we can see we are missing residues on N-terminal for the chain."
   ]
  },
  {
   "cell_type": "code",
   "execution_count": 24,
   "id": "ec5a24c0-6aca-433c-ac11-8a4959452b08",
   "metadata": {},
   "outputs": [
    {
     "data": {
      "text/plain": [
       "MaskedSeq('------------NPIHDRTSDYHKYLKVKQGDSDLFKLTVSDKRYIWYNPDPKE...SEI')"
      ]
     },
     "execution_count": 24,
     "metadata": {},
     "output_type": "execute_result"
    }
   ],
   "source": [
    "chainA.masked_seq"
   ]
  },
  {
   "cell_type": "markdown",
   "id": "e75aa27f-8ef8-4e28-8856-1f80b50b4856",
   "metadata": {},
   "source": [
    "There is a useful method for `masked_seq` to reveal the identity of the missing residues and highlight them in red."
   ]
  },
  {
   "cell_type": "code",
   "execution_count": 18,
   "id": "754e7dc8-6042-40e2-8acd-b4f491ee62fb",
   "metadata": {},
   "outputs": [
    {
     "name": "stdout",
     "output_type": "stream",
     "text": [
      "\u001b[91mM\u001b[0m\u001b[91mH\u001b[0m\u001b[91mH\u001b[0m\u001b[91mH\u001b[0m\u001b[91mH\u001b[0m\u001b[91mH\u001b[0m\u001b[91mH\u001b[0m\u001b[91mH\u001b[0m\u001b[91mD\u001b[0m\u001b[91mG\u001b[0m\u001b[91mT\u001b[0m\u001b[91mE\u001b[0mNPIHDRTSDYHKYLKVKQGDSDLFKLTVSDKRYIWYNPDPKERDSYECGEIVSETSDSFTFKTVDGQDRQVKKDDANQRNPIKFDGVEDMSELSYLNEPAVFHNLRVRYNQDLIYTYSGLFLVAVNPFKRIPIYTQEMVDIFKGRRRNEVAPHIFAISDVAYRSMLDDRQNQSLLITGESGAGKTENTKKVIQYLASVAGRNQANGSGVLEQQILQANPILEAFGNAKTTRNNNSSRFGKFIEIQFNSAGFISGASIQSYLLEKSRVVFQSETERNYHIFYQLLAGATAEEKKALHLAGPESFNYLNQSGCVDIKGVSDSEEFKITRQAMDIVGFSQEEQMSIFKIIAGILHLGNIKFEKGAGEGAVLKDKTALNAASTVFGVNPSVLEKALMEPRILAGRDLVAQHLNVEKSSSSRDALVKALYGRLFLWLVKKINNVLCQERKAYFIGVLDISGFEIFKVNSFEQLCINYTNEKLQQFFNHHMFKLEQEEYLKEKINWTFIDFGLDSQATIDLIDGRQPPGILALLDEQSVFPNATDNTLITKLHSHFSKKNAKYEEPRFSKTEFGVTHYAGQVMYEIQDWLEKNKDPLQQDLELCFKDSSDNVVTKLFNDPNIASRAKKGANFITVAAQYKEQLASLMATLETTNPHFVRCIIPNNKQLPAKLEDKVVLDQLRCNGVLEGIRITRKGFPNRIIYADFVKRYYLLAPNVPRDAEDSQKATDAVLKHLNIDPEQYRFGITKIFFRAGQLARIEEAREQRISEI\n"
     ]
    }
   ],
   "source": [
    "chainA.masked_seq.show()"
   ]
  },
  {
   "cell_type": "markdown",
   "id": "2864960b-3e69-49a5-bb61-52fed028a662",
   "metadata": {},
   "source": [
    "`missing_res` is an attribute that return the residue sequence number and the resname of the **current** missing residues. This list is dynamically constructed based on the canonical sequence and the current residues. "
   ]
  },
  {
   "cell_type": "code",
   "execution_count": 50,
   "id": "ec35cf60-fb3b-4973-b046-50c98e85ebf7",
   "metadata": {},
   "outputs": [
    {
     "data": {
      "text/plain": [
       "[(1, 'MET'),\n",
       " (2, 'HIS'),\n",
       " (3, 'HIS'),\n",
       " (4, 'HIS'),\n",
       " (5, 'HIS'),\n",
       " (6, 'HIS'),\n",
       " (7, 'HIS'),\n",
       " (8, 'HIS'),\n",
       " (9, 'ASP'),\n",
       " (10, 'GLY'),\n",
       " (11, 'THR'),\n",
       " (12, 'GLU')]"
      ]
     },
     "execution_count": 50,
     "metadata": {},
     "output_type": "execute_result"
    }
   ],
   "source": [
    "chainA.missing_res"
   ]
  },
  {
   "cell_type": "code",
   "execution_count": 51,
   "id": "f1a93e3c-ba70-4720-b627-aba74805af48",
   "metadata": {},
   "outputs": [
    {
     "data": {
      "text/plain": [
       "[{1, 2, 3, 4, 5, 6, 7, 8, 9, 10, 11, 12}]"
      ]
     },
     "execution_count": 51,
     "metadata": {},
     "output_type": "execute_result"
    }
   ],
   "source": [
    "chainA.gaps"
   ]
  },
  {
   "cell_type": "markdown",
   "id": "8c02db38-ff67-44cb-aead-991ab0d15bb8",
   "metadata": {},
   "source": [
    "Finally, there is a built-in method to determine if there is any gap in the chain. This `is_continuous` will return **True** if there is no gap in the middle of the chain; any missing termini will be ignored."
   ]
  },
  {
   "cell_type": "code",
   "execution_count": 52,
   "id": "808fe38d-ad94-4417-9048-5df046190d91",
   "metadata": {},
   "outputs": [
    {
     "data": {
      "text/plain": [
       "True"
      ]
     },
     "execution_count": 52,
     "metadata": {},
     "output_type": "execute_result"
    }
   ],
   "source": [
    "chainA.is_continuous()"
   ]
  }
 ],
 "metadata": {
  "kernelspec": {
   "display_name": "pcm-devel",
   "language": "python",
   "name": "pcm-devel"
  },
  "language_info": {
   "codemirror_mode": {
    "name": "ipython",
    "version": 3
   },
   "file_extension": ".py",
   "mimetype": "text/x-python",
   "name": "python",
   "nbconvert_exporter": "python",
   "pygments_lexer": "ipython3",
   "version": "3.10.6"
  }
 },
 "nbformat": 4,
 "nbformat_minor": 5
}

{
 "cells": [
  {
   "cell_type": "code",
   "execution_count": 1,
   "id": "e7fcf90a-5ee1-43ab-b81d-2499eb58e8cc",
   "metadata": {},
   "outputs": [
    {
     "data": {
      "application/vnd.jupyter.widget-view+json": {
       "model_id": "b74a0908b2e94ad8adffbaeeb87eb339",
       "version_major": 2,
       "version_minor": 0
      },
      "text/plain": []
     },
     "metadata": {},
     "output_type": "display_data"
    }
   ],
   "source": [
    "from crimm.Fetchers import (\n",
    "    fetch_rcsb, fetch_alphafold, fetch_swiss_model,\n",
    "    uniprot_id_query, fetch_alphafold_from_chain,\n",
    "    fetch_swiss_model_from_chain\n",
    " )\n",
    "from crimm.Superimpose import ChainSuperimposer\n",
    "from crimm.Visualization import show_nglview_multiple, View"
   ]
  },
  {
   "cell_type": "markdown",
   "id": "5a73aa76-878a-4a60-a7c4-96f02ea076e7",
   "metadata": {},
   "source": [
    "## Get Structure from RCSB with PDB ID\n",
    "\n",
    "The `fetch_rcsb` function will download the structure MMCIF file for the most accurate\n",
    "structure annotations. The function call below shows all the default options."
   ]
  },
  {
   "cell_type": "code",
   "execution_count": 2,
   "id": "cb39abaa-ad35-4564-9048-2eeac2d79733",
   "metadata": {},
   "outputs": [],
   "source": [
    "pdbid = '5IEV'\n",
    "struct = fetch_rcsb(\n",
    "    pdbid,\n",
    "    first_assembly_only=True,\n",
    "    first_model_only=True,\n",
    "    include_hydrogens=False,\n",
    "    include_solvent=True\n",
    ")"
   ]
  },
  {
   "cell_type": "code",
   "execution_count": 3,
   "id": "7434a6e4-5da3-4c7d-888b-95adbf227f3a",
   "metadata": {},
   "outputs": [
    {
     "data": {
      "application/vnd.jupyter.widget-view+json": {
       "model_id": "b9d2e9eb05434e098321e472832d079b",
       "version_major": 2,
       "version_minor": 0
      },
      "text/plain": [
       "NGLWidget()"
      ]
     },
     "metadata": {},
     "output_type": "display_data"
    },
    {
     "name": "stdout",
     "output_type": "stream",
     "text": [
      "<Structure id=5IEV Models=1>\n",
      "│\n",
      "├───<Model id=1 Chains=3>\n",
      "\t│\n",
      "\t├───<Polypeptide(L) id=A Residues=284>\n",
      "\t├──────Description: Cyclin-dependent kinase 2\n",
      "\t│\n",
      "\t├───<Heterogens id=B Molecules=1>\n",
      "\t├──────Description: Roniciclib\n",
      "\t│\n",
      "\t├───<Solvent id=C Residues=154>\n",
      "\t├──────Description: water\n"
     ]
    }
   ],
   "source": [
    "struct"
   ]
  },
  {
   "cell_type": "code",
   "execution_count": null,
   "id": "a905c396-38e7-4638-b914-d33bab3d2d52",
   "metadata": {},
   "outputs": [],
   "source": [
    "chainA = struct[1]['A'] # the equivalent would be struct.models[0].chains[0]"
   ]
  },
  {
   "cell_type": "code",
   "execution_count": null,
   "id": "4bc994ef-a938-4c6f-bd98-667dd50c5ff6",
   "metadata": {},
   "outputs": [
    {
     "data": {
      "application/vnd.jupyter.widget-view+json": {
       "model_id": "67919847a65645319720772847b8bc92",
       "version_major": 2,
       "version_minor": 0
      },
      "text/plain": [
       "NGLWidget()"
      ]
     },
     "metadata": {},
     "output_type": "display_data"
    },
    {
     "name": "stdout",
     "output_type": "stream",
     "text": [
      "<Polypeptide(L) id=A Residues=284>\n",
      "  Description: Cyclin-dependent kinase 2\n"
     ]
    }
   ],
   "source": [
    "chainA"
   ]
  },
  {
   "cell_type": "markdown",
   "id": "df002d6d-0bc1-4c19-80cf-8b5d2a85098a",
   "metadata": {},
   "source": [
    "## Query Uniprot IDs\n",
    "\n",
    "To find the Uniprot ID for a specific polypeptide chain from [RCSB](https://www.rcsb.org/), you will need to provide the **PDB ID** and the **Entity ID** for the chain. However, `entity_id` is stored as attribute to the **polymer** chains if you parse the structure from MMCIF file or fetch from RCSB directly."
   ]
  },
  {
   "cell_type": "code",
   "execution_count": 49,
   "id": "c4556fae-46bc-41cc-ad4c-41f86abc7b8b",
   "metadata": {},
   "outputs": [],
   "source": [
    "uniprot_id = uniprot_id_query(pdbid, chainA.entity_id)"
   ]
  },
  {
   "cell_type": "code",
   "execution_count": 50,
   "id": "0128c592-e5fc-4f09-8d9b-a35748ae3a50",
   "metadata": {},
   "outputs": [
    {
     "data": {
      "text/plain": [
       "('5IEV', 1, 'P24941')"
      ]
     },
     "execution_count": 50,
     "metadata": {},
     "output_type": "execute_result"
    }
   ],
   "source": [
    "pdbid, chainA.entity_id, uniprot_id"
   ]
  },
  {
   "cell_type": "markdown",
   "id": "fb31fd10-c7f8-49e4-adb8-5d9bae776a74",
   "metadata": {},
   "source": [
    "## Fetch AlphaFold Structure from AlphaFold DB\n",
    "\n",
    "Once we have the Uniprot ID, we can fetch the corresponding structure from [AlphaFold DB](https://alphafold.ebi.ac.uk/). The downloaded structure will contain only the polypeptide chain whose canonical sequence is folded by AlphaFold 2."
   ]
  },
  {
   "cell_type": "code",
   "execution_count": 7,
   "id": "216fe12f-df73-4aa9-afff-36cd21ceae97",
   "metadata": {},
   "outputs": [],
   "source": [
    "# We are fetching 5IEV chain A in this case\n",
    "af_struct = fetch_alphafold(uniprot_id)"
   ]
  },
  {
   "cell_type": "code",
   "execution_count": 8,
   "id": "8a7a279e-9e4b-41c0-8cf2-efc30363942e",
   "metadata": {},
   "outputs": [
    {
     "data": {
      "application/vnd.jupyter.widget-view+json": {
       "model_id": "0395628a68e94b29b43ead26f82f7d8c",
       "version_major": 2,
       "version_minor": 0
      },
      "text/plain": [
       "NGLWidget()"
      ]
     },
     "metadata": {},
     "output_type": "display_data"
    },
    {
     "name": "stdout",
     "output_type": "stream",
     "text": [
      "<Structure id=AF-P24941-F1 Models=1>\n",
      "│\n",
      "├───<Model id=1 Chains=1>\n",
      "\t│\n",
      "\t├───<Polypeptide(L) id=A Residues=298>\n",
      "\t├──────Description: Cyclin-dependent kinase 2\n"
     ]
    }
   ],
   "source": [
    "af_struct"
   ]
  },
  {
   "cell_type": "markdown",
   "id": "24d9feaf-08c5-4947-b1f7-28fbd743045a",
   "metadata": {},
   "source": [
    "Since we only have one model and one chain in the AlphaFold DB structures, the handle to the requested chain\n",
    "is always \n",
    "```python \n",
    "structure[1]['A']\n",
    "``` \n",
    "or equivalently, \n",
    "```python\n",
    "structure.models[0].chains[0]\n",
    "```"
   ]
  },
  {
   "cell_type": "code",
   "execution_count": 9,
   "id": "2f544ed3-bb80-4628-8434-1297474a7951",
   "metadata": {},
   "outputs": [],
   "source": [
    "af_chainA = af_struct[1]['A']"
   ]
  },
  {
   "cell_type": "code",
   "execution_count": 9,
   "id": "892a9084-3f26-420c-ab39-36ad1debb434",
   "metadata": {},
   "outputs": [
    {
     "data": {
      "application/vnd.jupyter.widget-view+json": {
       "model_id": "c7065c231b234adda82449719608540b",
       "version_major": 2,
       "version_minor": 0
      },
      "text/plain": [
       "NGLWidget()"
      ]
     },
     "metadata": {},
     "output_type": "display_data"
    },
    {
     "name": "stdout",
     "output_type": "stream",
     "text": [
      "<Polypeptide(L) id=A Residues=298>\n",
      "  Description: Cyclin-dependent kinase 2\n"
     ]
    }
   ],
   "source": [
    "af_chainA"
   ]
  },
  {
   "cell_type": "markdown",
   "id": "35b266ec-f08f-409d-8cbf-755e45a28a86",
   "metadata": {},
   "source": [
    "## Fetch Homology Models from SWISS-MODEL\n",
    "Similarly, homology models for a give PDB protein model can be obtained from [SWISS-MODEL](https://swissmodel.expasy.org/). However, the model downloaded will have other chains present (polymer and/or ligands). \n",
    "\n",
    "Unfortuantely, since SWISS-MODEL only provide PDB file format, the parsed structure has limited annotation and may need a closer inspection to identify the chain to be used.\n",
    "\n",
    "Moreover, since the template used could be from any of the homology models, the ligands that come with the SWISS-MODEL structure are likely not the same as the ones in the original chain"
   ]
  },
  {
   "cell_type": "code",
   "execution_count": 54,
   "id": "a08d505d-d083-4d7a-aa2f-e951a68a345c",
   "metadata": {},
   "outputs": [
    {
     "data": {
      "application/vnd.jupyter.widget-view+json": {
       "model_id": "c4501df2c1e941e2ae356a58e0699f50",
       "version_major": 2,
       "version_minor": 0
      },
      "text/plain": [
       "NGLWidget()"
      ]
     },
     "metadata": {},
     "output_type": "display_data"
    },
    {
     "name": "stdout",
     "output_type": "stream",
     "text": [
      "<Structure id=P24941-SwissModel Models=1>\n",
      "│\n",
      "├───<Model id=0 Chains=2>\n",
      "\t│\n",
      "\t├───<Polypeptide(L) id=A Residues=295>\n",
      "\t├──────Description: CELL DIVISION PROTEIN KINASE 2\n",
      "\t│\n",
      "\t├───<Heterogens id=B Molecules=1>\n"
     ]
    }
   ],
   "source": [
    "sm_struct = fetch_swiss_model(uniprot_id)\n",
    "sm_struct"
   ]
  },
  {
   "cell_type": "markdown",
   "id": "d8754ac7-237f-42ec-ba60-690682a01e53",
   "metadata": {},
   "source": [
    "Notice how we are using **model id 0** here, because of the unregulated PDB file format. Specifically, the *MODEL* keyword does not exist in single model structure (X-ray crystallography structures) in PDB files"
   ]
  },
  {
   "cell_type": "code",
   "execution_count": 53,
   "id": "c1a816e8-ea4f-4bd0-8620-5d9c8033c520",
   "metadata": {},
   "outputs": [
    {
     "data": {
      "application/vnd.jupyter.widget-view+json": {
       "model_id": "f59109fca09043dcb7564b6844d430fd",
       "version_major": 2,
       "version_minor": 0
      },
      "text/plain": [
       "NGLWidget()"
      ]
     },
     "metadata": {},
     "output_type": "display_data"
    },
    {
     "name": "stdout",
     "output_type": "stream",
     "text": [
      "<Polypeptide(L) id=A Residues=295>\n",
      "  Description: CELL DIVISION PROTEIN KINASE 2\n"
     ]
    }
   ],
   "source": [
    "sm_chainA = sm_struct[0]['A']\n",
    "sm_chainA"
   ]
  },
  {
   "cell_type": "markdown",
   "id": "e3140669-6715-4cc2-88e2-55c5ea0fd01a",
   "metadata": {},
   "source": [
    "## Superimposing Two Polymer Chains\n",
    "The `ChainSuperimposer` class is derived from Biopython's `Superimposer` class. It allows overall structure superimpositions for any chains (the original one only accept chains with identical residues). Sequence alignment will be performed based on the `can_seq` attribute (canonical sequence) of the chains. The aligned residues will then be used for superimposition."
   ]
  },
  {
   "cell_type": "code",
   "execution_count": 10,
   "id": "f0c94fa0-1665-4cbe-a768-159049458600",
   "metadata": {},
   "outputs": [
    {
     "name": "stdout",
     "output_type": "stream",
     "text": [
      "rmsd = 1.375\n"
     ]
    },
    {
     "data": {
      "application/vnd.jupyter.widget-view+json": {
       "model_id": "0918b9a197e04391bf3643588217492e",
       "version_major": 2,
       "version_minor": 0
      },
      "text/plain": [
       "NGLWidget()"
      ]
     },
     "metadata": {},
     "output_type": "display_data"
    }
   ],
   "source": [
    "imposer = ChainSuperimposer()\n",
    "# in this case, the canonical sequence should be identical\n",
    "imposer.set_chains(chainA, af_chainA)\n",
    "\n",
    "imposer.apply_transform(af_struct)\n",
    "print(f'rmsd = {imposer.rms:.3f}')\n",
    "imposer.show()"
   ]
  },
  {
   "cell_type": "markdown",
   "id": "3eae536c-ae7d-4dc2-8deb-5c11da9a39d2",
   "metadata": {},
   "source": [
    "## Simplified Workflow for Fetching AlphaFold Structures\n",
    "Additionally, the polypeptide chain object can be used directly to query and fetch AlphaFold or SWISS-MODEL strutures with functions `fetch_alphafold_from_chain` and `fetch_swiss_model_from_chain`. The downloaded structure will be automatically align to the given chain."
   ]
  },
  {
   "cell_type": "code",
   "execution_count": 25,
   "id": "5c9bcf24-41f6-420f-87e0-1cc1d83ebeca",
   "metadata": {},
   "outputs": [
    {
     "data": {
      "application/vnd.jupyter.widget-view+json": {
       "model_id": "52bf2f6da2894009befc2417e7956aaa",
       "version_major": 2,
       "version_minor": 0
      },
      "text/plain": [
       "NGLWidget()"
      ]
     },
     "metadata": {},
     "output_type": "display_data"
    }
   ],
   "source": [
    "af_struct = fetch_alphafold_from_chain(chainA)\n",
    "\n",
    "af_chainA = af_struct[1]['A']\n",
    "show_nglview_multiple([chainA, af_chainA])"
   ]
  },
  {
   "cell_type": "markdown",
   "id": "374cf7a4-7f4d-476b-8d42-52699b13d46e",
   "metadata": {},
   "source": [
    "## Special Cases on Uniprot ID and AlphaFold Structures\n",
    "Since uniprot ID refers to the polymer entity, and some strutures only contains partial or heavily modified structure, the structure downloaded from AlphaFold DB could be a suprise."
   ]
  },
  {
   "cell_type": "code",
   "execution_count": 11,
   "id": "216fceb2-693d-4d56-b14b-a99fce218bf7",
   "metadata": {},
   "outputs": [],
   "source": [
    "struct2 = fetch_rcsb('1CDL', include_solvent=False)"
   ]
  },
  {
   "cell_type": "code",
   "execution_count": 12,
   "id": "83d4f69e-63c4-4a9b-b4f6-462a38a61c0e",
   "metadata": {},
   "outputs": [
    {
     "data": {
      "application/vnd.jupyter.widget-view+json": {
       "model_id": "71066498d66f485c9d1a81c496ab0254",
       "version_major": 2,
       "version_minor": 0
      },
      "text/plain": [
       "NGLWidget()"
      ]
     },
     "metadata": {},
     "output_type": "display_data"
    },
    {
     "name": "stdout",
     "output_type": "stream",
     "text": [
      "<Structure id=1CDL Models=1>\n",
      "│\n",
      "├───<Model id=1 Chains=6>\n",
      "\t│\n",
      "\t├───<Polypeptide(L) id=A Residues=142>\n",
      "\t├──────Description: CALMODULIN\n",
      "\t│\n",
      "\t├───<Polypeptide(L) id=B Residues=19>\n",
      "\t├──────Description: CALCIUM/CALMODULIN-DEPENDENT PROTEIN KINASE TYPE II ALPHA CHAIN\n",
      "\t│\n",
      "\t├───<Heterogens id=I Molecules=1>\n",
      "\t├──────Description: CALCIUM ION\n",
      "\t│\n",
      "\t├───<Heterogens id=J Molecules=1>\n",
      "\t├──────Description: CALCIUM ION\n",
      "\t│\n",
      "\t├───<Heterogens id=K Molecules=1>\n",
      "\t├──────Description: CALCIUM ION\n",
      "\t│\n",
      "\t├───<Heterogens id=L Molecules=1>\n",
      "\t├──────Description: CALCIUM ION\n"
     ]
    }
   ],
   "source": [
    "struct2"
   ]
  },
  {
   "cell_type": "markdown",
   "id": "dda2995b-3105-4d2c-862a-d6acc27a2be5",
   "metadata": {},
   "source": [
    "Here, we are taking the *CALMODULIN-DEPENDENT PROTEIN KINASE TYPE II ALPHA CHAIN*,\n",
    "which only has 19 residues in this structure instance"
   ]
  },
  {
   "cell_type": "code",
   "execution_count": 36,
   "id": "ab786e5f-dfe5-4f19-a42f-9d916acbaa6e",
   "metadata": {},
   "outputs": [],
   "source": [
    "chainB = struct2[1]['B']\n",
    "af_struct2 = fetch_alphafold_from_chain(chainB)"
   ]
  },
  {
   "cell_type": "markdown",
   "id": "06d0931e-1b23-4def-85c8-448e26bb468d",
   "metadata": {},
   "source": [
    "Since the Uniprot ID deposited in PDB for `chainB` refers to the entire structure, the entire folded structure \n",
    "(with some crazy loops) will be downloaded"
   ]
  },
  {
   "cell_type": "code",
   "execution_count": 38,
   "id": "89a0a9ad-1207-4da6-a091-9f2abfd06e7b",
   "metadata": {},
   "outputs": [
    {
     "data": {
      "application/vnd.jupyter.widget-view+json": {
       "model_id": "39c2fee629d0495291f9411675e40bef",
       "version_major": 2,
       "version_minor": 0
      },
      "text/plain": [
       "NGLWidget()"
      ]
     },
     "metadata": {},
     "output_type": "display_data"
    },
    {
     "name": "stdout",
     "output_type": "stream",
     "text": [
      "<Polypeptide(L) id=A Residues=1906>\n",
      "  Description: Myosin light chain kinase, smooth muscle\n"
     ]
    }
   ],
   "source": [
    "af_chain2 = af_struct2.models[0].chains[0]\n",
    "af_chain2"
   ]
  },
  {
   "cell_type": "code",
   "execution_count": 18,
   "id": "41ea6a44-6dc6-4e62-81a1-b727768048f5",
   "metadata": {},
   "outputs": [
    {
     "data": {
      "application/vnd.jupyter.widget-view+json": {
       "model_id": "896f166eb1474247805295d012ff1bfe",
       "version_major": 2,
       "version_minor": 0
      },
      "text/plain": [
       "View()"
      ]
     },
     "metadata": {},
     "output_type": "display_data"
    }
   ],
   "source": [
    "# Visualization of where the segment locates on the entire chain\n",
    "view = View()\n",
    "\n",
    "view.load_entity(chainB)\n",
    "view.load_entity(af_chain2)\n",
    "view.highlight_chains([chainB])\n",
    "view"
   ]
  },
  {
   "cell_type": "markdown",
   "id": "892d33be-1b41-4a6e-89bd-d78a711550c4",
   "metadata": {},
   "source": [
    "## Sequence Alignment Procedure inside of ChainSuperimposer\n",
    "Continue from the above example, we want to find where `chainB` aligns to the AlphaFold counterpart. Also, I would like to illustrate what is happening in the `ChainSuperimposer` class when two chains with unidentical sequences are loaded, the Biopython's `PairwiseAligner` is demonstrated below is equivalent to what has been implemented in our superimposer."
   ]
  },
  {
   "cell_type": "code",
   "execution_count": 31,
   "id": "8cc928b5-886e-4316-94d4-7b6d0e12fca8",
   "metadata": {},
   "outputs": [],
   "source": [
    "from Bio.Align import PairwiseAligner"
   ]
  },
  {
   "cell_type": "code",
   "execution_count": 39,
   "id": "137308c2-287d-4813-8f07-ec7f613a22d6",
   "metadata": {},
   "outputs": [],
   "source": [
    "aligner = PairwiseAligner()"
   ]
  },
  {
   "cell_type": "markdown",
   "id": "670091e3-826a-48b5-8a31-dd24d8fff7fa",
   "metadata": {},
   "source": [
    "In our `ChainSuperimposer`, we applied heavy penalty internal gap opening to avoid highly-fragmented sequence alignments. Gap opening is only allowed in the middle of the sequence when 20% or more of the residues in the sequence is aligned as a result of that."
   ]
  },
  {
   "cell_type": "code",
   "execution_count": 40,
   "id": "66cae95b-3bb8-44dd-92fb-23a9885bec9e",
   "metadata": {},
   "outputs": [],
   "source": [
    "# floor division to get ~0.2 of seq length as penalty\n",
    "penalty_scores = -(len(chainB.can_seq))//5 \n",
    "aligner.target_internal_open_gap_score = penalty_scores\n",
    "aligner.query_internal_open_gap_score = penalty_scores"
   ]
  },
  {
   "cell_type": "code",
   "execution_count": 41,
   "id": "fb0a5685-befc-4b81-b005-b166aa36b6de",
   "metadata": {},
   "outputs": [],
   "source": [
    "alignments = aligner.align(chainB.can_seq, af_chain2.can_seq)"
   ]
  },
  {
   "cell_type": "markdown",
   "id": "55630917-e9d0-4375-9626-fa137d1304b2",
   "metadata": {},
   "source": [
    "We take the top alignment `alignments[0]` for superimposition of structures. From the example below, we can see the short `chainB` is aligned to the AlphaFold structure from residue sequence number 1730 to 1750"
   ]
  },
  {
   "cell_type": "code",
   "execution_count": 47,
   "id": "5cf2d647-1545-4e89-af92-b762da3a580d",
   "metadata": {},
   "outputs": [
    {
     "data": {
      "text/plain": [
       "array([[[   1,   21]],\n",
       "\n",
       "       [[1730, 1750]]])"
      ]
     },
     "execution_count": 47,
     "metadata": {},
     "output_type": "execute_result"
    }
   ],
   "source": [
    "alignments[0].aligned+1 # residue sequence id (resseq) is 1-indexed"
   ]
  },
  {
   "cell_type": "code",
   "execution_count": 56,
   "id": "c51db1ab-90c5-44a8-ab6c-d66a66e0696d",
   "metadata": {},
   "outputs": [
    {
     "name": "stdout",
     "output_type": "stream",
     "text": [
      "target            0 ------------------------------------------------------------\n",
      "                  0 ------------------------------------------------------------\n",
      "query             0 MGDVKLVTSTRVSKTSLTLSPSVPAEAPAFTLPPRNIRVQLGATARFEGKVRGYPEPQIT\n",
      "\n",
      "target            0 ------------------------------------------------------------\n",
      "                 60 ------------------------------------------------------------\n",
      "query            60 WYRNGHPLPEGDHYVVDHSIRGIFSLVIKGVQEGDSGKYTCEAANDGGVRQVTVELTVEG\n",
      "\n",
      "target            0 ------------------------------------------------------------\n",
      "                120 ------------------------------------------------------------\n",
      "query           120 NSLKKYSLPSSAKTPGGRLSVPPVEHRPSIWGESPPKFATKPNRVVVREGQTGRFSCKIT\n",
      "\n",
      "target            0 ------------------------------------------------------------\n",
      "                180 ------------------------------------------------------------\n",
      "query           180 GRPQPQVTWTKGDIHLQQNERFNMFEKTGIQYLEIQNVQLADAGIYTCTVVNSAGKASVS\n",
      "\n",
      "target            0 ------------------------------------------------------------\n",
      "                240 ------------------------------------------------------------\n",
      "query           240 AELTVQGPDKTDTHAQPLCMPPKPTTLATKAIENSDFKQATSNGIAKELKSTSTELMVET\n",
      "\n",
      "target            0 ------------------------------------------------------------\n",
      "                300 ------------------------------------------------------------\n",
      "query           300 KDRLSAKKETFYTSREAKDGKQGQNQEANAVPLQESRGTKGPQVLQKTSSTITLQAVKAQ\n",
      "\n",
      "target            0 ------------------------------------------------------------\n",
      "                360 ------------------------------------------------------------\n",
      "query           360 PEPKAEPQTTFIRQAEDRKRTVQPLMTTTTQENPSLTGQVSPRSRETENRAGVRKSVKEE\n",
      "\n",
      "target            0 ------------------------------------------------------------\n",
      "                420 ------------------------------------------------------------\n",
      "query           420 KREPLGIPPQFESRPQSLEASEGQEIKFKSKVSGKPKPDVEWFKEGVPIKTGEGIQIYEE\n",
      "\n",
      "target            0 ------------------------------------------------------------\n",
      "                480 ------------------------------------------------------------\n",
      "query           480 DGTHCLWLKKACLGDSGSYSCAAFNPRGQTSTSWLLTVKRPKVEEVAPCFSSVLKGCTVS\n",
      "\n",
      "target            0 ------------------------------------------------------------\n",
      "                540 ------------------------------------------------------------\n",
      "query           540 EGQDFVLQCYVGGVPVPEITWLLNEQPIQYAHSTFEAGVAKLTVQDALPEDDGIYTCLAE\n",
      "\n",
      "target            0 ------------------------------------------------------------\n",
      "                600 ------------------------------------------------------------\n",
      "query           600 NNAGRASCSAQVTVKEKKSSKKAEGTQAAKLNKTFAPIFLKGLTDLKVMDGSQVIMTVEV\n",
      "\n",
      "target            0 ------------------------------------------------------------\n",
      "                660 ------------------------------------------------------------\n",
      "query           660 SANPCPEIIWLHNGKEIQETEDFHFEKKGNEYSLYIQEVFPEDTGKYTCEAWNELGETQT\n",
      "\n",
      "target            0 ------------------------------------------------------------\n",
      "                720 ------------------------------------------------------------\n",
      "query           720 QATLTVQEPQDGIQPWFISKPRSVTAAAGQNVLISCAIAGDPFPTVHWFKDGQEITPGTG\n",
      "\n",
      "target            0 ------------------------------------------------------------\n",
      "                780 ------------------------------------------------------------\n",
      "query           780 CEILQNEDIFTLILRNVQSRHAGQYEIQLRNQVGECSCQVSLMLRESSASRAEMLRDGRE\n",
      "\n",
      "target            0 ------------------------------------------------------------\n",
      "                840 ------------------------------------------------------------\n",
      "query           840 SASSGERRDGGNYGALTFGRTSGFKKSSSETRAAEEEQEDVRGVLKRRVETREHTEESLR\n",
      "\n",
      "target            0 ------------------------------------------------------------\n",
      "                900 ------------------------------------------------------------\n",
      "query           900 QQEAEQLDFRDILGKKVSTKSFSEEDLKEIPAEQMDFRANLQRQVKPKTLSEEERKVHAP\n",
      "\n",
      "target            0 ------------------------------------------------------------\n",
      "                960 ------------------------------------------------------------\n",
      "query           960 QQVDFRSVLAKKGTPKTPLPEKVPPPKPAVTDFRSVLGAKKKPPAENGSASTPAPNARAG\n",
      "\n",
      "target            0 ------------------------------------------------------------\n",
      "               1020 ------------------------------------------------------------\n",
      "query          1020 SEAQNATPNSEAPAPKPVVKKEEKNDRKCEHGCAVVDGGIIGKKAENKPAASKPTPPPSK\n",
      "\n",
      "target            0 ------------------------------------------------------------\n",
      "               1080 ------------------------------------------------------------\n",
      "query          1080 GTAPSFTEKLQDAKVADGEKLVLQCRISSDPPASVSWTLDSKAIKSSKSIVISQEGTLCS\n",
      "\n",
      "target            0 ------------------------------------------------------------\n",
      "               1140 ------------------------------------------------------------\n",
      "query          1140 LTIEKVMPEDGGEYKCIAENAAGKAECACKVLVEDTSSTKAAKPAEKKTKKPKTTLPPVL\n",
      "\n",
      "target            0 ------------------------------------------------------------\n",
      "               1200 ------------------------------------------------------------\n",
      "query          1200 STESSEATVKKKPAPKTPPKAATPPQITQFPEDRKVRAGESVELFAKVVGTAPITCTWMK\n",
      "\n",
      "target            0 ------------------------------------------------------------\n",
      "               1260 ------------------------------------------------------------\n",
      "query          1260 FRKQIQENEYIKIENAENSSKLTISSTKQEHCGCYTLVVENKLGSRQAQVNLTVVDKPDP\n",
      "\n",
      "target            0 ------------------------------------------------------------\n",
      "               1320 ------------------------------------------------------------\n",
      "query          1320 PAGTPCASDIRSSSLTLSWYGSSYDGGSAVQSYTVEIWNSVDNKWTDLTTCRSTSFNVQD\n",
      "\n",
      "target            0 ------------------------------------------------------------\n",
      "               1380 ------------------------------------------------------------\n",
      "query          1380 LQADREYKFRVRAANVYGISEPSQESEVVKVGEKQEEELKEEEAELSDDEGKETEVNYRT\n",
      "\n",
      "target            0 ------------------------------------------------------------\n",
      "               1440 ------------------------------------------------------------\n",
      "query          1440 VTINTEQKVSDVYNIEERLGSGKFGQVFRLVEKKTGKVWAGKFFKAYSAKEKENIRDEIS\n",
      "\n",
      "target            0 ------------------------------------------------------------\n",
      "               1500 ------------------------------------------------------------\n",
      "query          1500 IMNCLHHPKLVQCVDAFEEKANIVMVLEMVSGGELFERIIDEDFELTERECIKYMRQISE\n",
      "\n",
      "target            0 ------------------------------------------------------------\n",
      "               1560 ------------------------------------------------------------\n",
      "query          1560 GVEYIHKQGIVHLDLKPENIMCVNKTGTSIKLIDFGLARRLESAGSLKVLFGTPEFVAPE\n",
      "\n",
      "target            0 ------------------------------------------------------------\n",
      "               1620 ------------------------------------------------------------\n",
      "query          1620 VINYEPIGYETDMWSIGVICYILVSGLSPFMGDNDNETLANVTSATWDFDDEAFDEISDD\n",
      "\n",
      "target            0 -------------------------------------------------ARRKWQKTGHA\n",
      "               1680 -------------------------------------------------|||||||||||\n",
      "query          1680 AKDFISNLLKKDMKSRLNCTQCLQHPWLQKDTKNMEAKKLSKDRMKKYMARRKWQKTGHA\n",
      "\n",
      "target           11 VRAIGRLSS---------------------------------------------------\n",
      "               1740 |||||||||---------------------------------------------------\n",
      "query          1740 VRAIGRLSSMAMISGMSGRKASGSSPTSPINADKVENEDAFLEEVAEEKPHVKPYFTKTI\n",
      "\n",
      "target           20 ------------------------------------------------------------\n",
      "               1800 ------------------------------------------------------------\n",
      "query          1800 LDMEVVEGSAARFDCKIEGYPDPEVMWYKDDQPVKESRHFQIDYDEEGNCSLTISEVCGD\n",
      "\n",
      "target           20 ----------------------------------------------   20\n",
      "               1860 ---------------------------------------------- 1906\n",
      "query          1860 DDAKYTCKAVNSLGEATCTAELLVETMGKEGEGEGEGEEDEEEEEE 1906\n",
      "\n"
     ]
    }
   ],
   "source": [
    "# To show all the aligned/mismatched residues\n",
    "print(alignments[0])"
   ]
  },
  {
   "cell_type": "code",
   "execution_count": null,
   "id": "5b33f7fd-ea3d-476d-9630-9b734f5d2693",
   "metadata": {},
   "outputs": [],
   "source": []
  }
 ],
 "metadata": {
  "kernelspec": {
   "display_name": "pcm-devel",
   "language": "python",
   "name": "pcm-devel"
  },
  "language_info": {
   "codemirror_mode": {
    "name": "ipython",
    "version": 3
   },
   "file_extension": ".py",
   "mimetype": "text/x-python",
   "name": "python",
   "nbconvert_exporter": "python",
   "pygments_lexer": "ipython3",
   "version": "3.10.6"
  }
 },
 "nbformat": 4,
 "nbformat_minor": 5
}

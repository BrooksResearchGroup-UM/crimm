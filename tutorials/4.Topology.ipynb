{
 "cells": [
  {
   "cell_type": "markdown",
   "id": "6200ba76-2dee-481d-9b5e-e995f3d68e10",
   "metadata": {},
   "source": [
    "# Topology Related Functions and Attributes\n",
    "\n",
    "In this tutorial, we are going to show how to generate topology for chains and the objects that associated with it."
   ]
  },
  {
   "cell_type": "code",
   "execution_count": 1,
   "id": "a0f314c5-b064-421b-9fd0-3c6dffbd09f4",
   "metadata": {},
   "outputs": [
    {
     "data": {
      "application/vnd.jupyter.widget-view+json": {
       "model_id": "fad33349fd684fadbd175aca55a23c2d",
       "version_major": 2,
       "version_minor": 0
      },
      "text/plain": []
     },
     "metadata": {},
     "output_type": "display_data"
    }
   ],
   "source": [
    "from crimm.Modeller import TopologyLoader, ParameterLoader\n",
    "from crimm.Modeller.TopoFixer import fix_chain, ResidueFixer\n",
    "from crimm.Visualization import View, show_nglview_multiple\n",
    "from crimm.Fetchers import fetch_rcsb"
   ]
  },
  {
   "cell_type": "code",
   "execution_count": 2,
   "id": "c2d9542c-34e4-4aa5-be67-8f43fec36005",
   "metadata": {},
   "outputs": [
    {
     "name": "stderr",
     "output_type": "stream",
     "text": [
      "/home/truman/.conda/envs/crimm-conda/lib/python3.9/site-packages/crimm/StructEntities/Model.py:87: UserWarning: Chain K not found in model 1\n",
      "  warnings.warn(\n",
      "/home/truman/.conda/envs/crimm-conda/lib/python3.9/site-packages/crimm/StructEntities/Model.py:72: UserWarning: Insufficient atoms for connect record metalc\n",
      "  warnings.warn(\n",
      "/home/truman/.conda/envs/crimm-conda/lib/python3.9/site-packages/crimm/StructEntities/Model.py:87: UserWarning: Chain I not found in model 1\n",
      "  warnings.warn(\n",
      "/home/truman/.conda/envs/crimm-conda/lib/python3.9/site-packages/crimm/StructEntities/Model.py:87: UserWarning: Chain J not found in model 1\n",
      "  warnings.warn(\n"
     ]
    }
   ],
   "source": [
    "structure = fetch_rcsb('1DFU', include_solvent=False) \n",
    "# The warnings are expected, since all connection record involving water will be skipped"
   ]
  },
  {
   "cell_type": "code",
   "execution_count": 3,
   "id": "b20e1dbc-5ebc-4a42-83d7-50e85c6e6bb7",
   "metadata": {},
   "outputs": [
    {
     "data": {
      "application/vnd.jupyter.widget-view+json": {
       "model_id": "2f873b66176d4c1688c6201a9da9c32c",
       "version_major": 2,
       "version_minor": 0
      },
      "text/plain": [
       "NGLWidget()"
      ]
     },
     "metadata": {},
     "output_type": "display_data"
    },
    {
     "name": "stdout",
     "output_type": "stream",
     "text": [
      "<Model id=1 Chains=8>\n",
      "\t│\n",
      "\t├───<Polyribonucleotide id=A Residues=19>\n",
      "\t├──────Description: 5S RRNA\n",
      "\t│\n",
      "\t├───<Polyribonucleotide id=B Residues=19>\n",
      "\t├──────Description: 5S RRNA\n",
      "\t│\n",
      "\t├───<Polypeptide(L) id=C Residues=94>\n",
      "\t├──────Description: RIBOSOMAL PROTEIN L25\n",
      "\t│\n",
      "\t├───<Heterogens id=D Molecules=1>\n",
      "\t├──────Description: MAGNESIUM ION\n",
      "\t│\n",
      "\t├───<Heterogens id=E Molecules=1>\n",
      "\t├──────Description: MAGNESIUM ION\n",
      "\t│\n",
      "\t├───<Heterogens id=F Molecules=1>\n",
      "\t├──────Description: MAGNESIUM ION\n",
      "\t│\n",
      "\t├───<Heterogens id=G Molecules=1>\n",
      "\t├──────Description: MAGNESIUM ION\n",
      "\t│\n",
      "\t├───<Heterogens id=H Molecules=1>\n",
      "\t├──────Description: MAGNESIUM ION\n"
     ]
    }
   ],
   "source": [
    "model = structure.models[0]\n",
    "model"
   ]
  },
  {
   "cell_type": "code",
   "execution_count": 4,
   "id": "3a1bb20e-9fb5-42f0-9986-bff3abbee29d",
   "metadata": {},
   "outputs": [],
   "source": [
    "# quick check if there is any fragmented chain\n",
    "for chain in model:\n",
    "    if not chain.is_continuous:\n",
    "        print(chain)"
   ]
  },
  {
   "cell_type": "markdown",
   "id": "50ac7b44-b9e0-48ba-b5b7-1edeac626f45",
   "metadata": {},
   "source": [
    "## Load Topology and Parameter\n",
    "\n",
    "The example below is the temporary workflow for generating topology and parameter. The process will be streamlined very soon. \n",
    "**NOTE**: DNA chains are not supported yet but will be supported in the future."
   ]
  },
  {
   "cell_type": "code",
   "execution_count": 5,
   "id": "1ca959d7-8b0f-4d16-83ad-5baf2c5005e3",
   "metadata": {},
   "outputs": [],
   "source": [
    "# get protein definitions\n",
    "topo_p = TopologyLoader('protein')\n",
    "param_p = ParameterLoader('protein')\n",
    "param_p.fill_ic(topo_p)\n",
    "\n",
    "# get RNA definitions\n",
    "topo_r = TopologyLoader('nucleic')\n",
    "param_r = ParameterLoader('nucleic')\n",
    "param_r.fill_ic(topo_r)"
   ]
  },
  {
   "cell_type": "markdown",
   "id": "a7796c8d-c0a0-45b2-9e34-6a7306b5dcd1",
   "metadata": {},
   "source": [
    "The main method from the `TopologyLoader` is `generate_chain_topology()` where the identity of the terminal patches are defined. The `coerce` flag is used to apply canonical residue topology definitions to any modified ones to convert them back later when fixing the residues."
   ]
  },
  {
   "cell_type": "code",
   "execution_count": 6,
   "id": "7aeec21d-a000-48ca-917e-a07911fc908f",
   "metadata": {},
   "outputs": [
    {
     "name": "stderr",
     "output_type": "stream",
     "text": [
      "/home/truman/.conda/envs/crimm-conda/lib/python3.9/site-packages/crimm/Modeller/TopoLoader.py:370: UserWarning: Atom OXT from (94, 'ALA') is not defined in the topology file!\n",
      "  warnings.warn(\n"
     ]
    }
   ],
   "source": [
    "protein_chains = []\n",
    "rna_chains = []\n",
    "for chain in model:\n",
    "    if chain.chain_type == 'Polypeptide(L)':\n",
    "        topo_p.generate_chain_topology(\n",
    "            chain, first_patch='ACE', last_patch='CT3', coerce=True\n",
    "        )\n",
    "        protein_chains.append(chain)\n",
    "    elif chain.chain_type == 'Polyribonucleotide':\n",
    "        topo_r.generate_chain_topology(chain)\n",
    "        rna_chains.append(chain)\n",
    "\n",
    "# fill ic again since we have generated patched residue definitions\n",
    "param_p.fill_ic(topo_p)\n",
    "param_r.fill_ic(topo_r)"
   ]
  },
  {
   "cell_type": "code",
   "execution_count": 7,
   "id": "b67d6da4-39b5-4d8b-ae5c-6f31a0873d8b",
   "metadata": {},
   "outputs": [
    {
     "data": {
      "application/vnd.jupyter.widget-view+json": {
       "model_id": "26731bcbcfab460c89ba9341e49cc9bf",
       "version_major": 2,
       "version_minor": 0
      },
      "text/plain": [
       "NGLWidget()"
      ]
     },
     "metadata": {},
     "output_type": "display_data"
    },
    {
     "name": "stdout",
     "output_type": "stream",
     "text": [
      "<Polypeptide(L) id=C Residues=94>\n",
      "  Description: RIBOSOMAL PROTEIN L25\n"
     ]
    }
   ],
   "source": [
    "protein_chains[0]"
   ]
  },
  {
   "cell_type": "markdown",
   "id": "cdde92f8-c696-4653-a825-9fc093c8c2f8",
   "metadata": {},
   "source": [
    "## Inspecting Individual Residues"
   ]
  },
  {
   "cell_type": "code",
   "execution_count": 8,
   "id": "b093de69-9bbf-4283-8587-e74f50e043d6",
   "metadata": {},
   "outputs": [
    {
     "data": {
      "application/vnd.jupyter.widget-view+json": {
       "model_id": "fd3b5a999a4e40cc921886dcf3e3b622",
       "version_major": 2,
       "version_minor": 0
      },
      "text/plain": [
       "NGLWidget()"
      ]
     },
     "metadata": {},
     "output_type": "display_data"
    },
    {
     "name": "stdout",
     "output_type": "stream",
     "text": [
      "<Residue MET het=  resseq=1 icode= >\n"
     ]
    }
   ],
   "source": [
    "first_res = protein_chains[0].residues[0]\n",
    "first_res"
   ]
  },
  {
   "cell_type": "markdown",
   "id": "864347c8-61ff-48cf-bee5-1a256b9d5c94",
   "metadata": {},
   "source": [
    "The `missing_atoms` show what is currently missing comparing to the residue topology definition loaded onto the residue. In the case below, the missing atoms to be built correspond to the N-terminal acetylation that we specified in `first_patch='ACE'` in the generation function. \n",
    "\n",
    "The `+N` and `+C` refers to missing neighbor atoms, since this is the first residue in the chain, these missing atoms are here for a placeholder purpose. Any neighbor atoms (starts with '+' or '-') will not be built based on the current residue definition, but they will be built in their owining residues if they exist."
   ]
  },
  {
   "cell_type": "code",
   "execution_count": 9,
   "id": "32911805-4c24-42cf-b508-5d7bb4dd26d8",
   "metadata": {},
   "outputs": [
    {
     "data": {
      "text/plain": [
       "{'CAY': <MissingAtom CAY>,\n",
       " 'CY': <MissingAtom CY>,\n",
       " 'OY': <MissingAtom OY>,\n",
       " '+N': None,\n",
       " '+CA': None}"
      ]
     },
     "execution_count": 9,
     "metadata": {},
     "output_type": "execute_result"
    }
   ],
   "source": [
    "first_res.missing_atoms"
   ]
  },
  {
   "cell_type": "markdown",
   "id": "2241ed35-59c4-4b11-9632-9d5cb9e35f1d",
   "metadata": {},
   "source": [
    "Hydrogen atoms can also be built from the residue topology definitons."
   ]
  },
  {
   "cell_type": "code",
   "execution_count": 10,
   "id": "75cf79b0-70e4-42f7-9b14-a5687cbbac91",
   "metadata": {},
   "outputs": [
    {
     "data": {
      "text/plain": [
       "{'HN': <MissingAtom HN>,\n",
       " 'HA': <MissingAtom HA>,\n",
       " 'HB1': <MissingAtom HB1>,\n",
       " 'HB2': <MissingAtom HB2>,\n",
       " 'HG1': <MissingAtom HG1>,\n",
       " 'HG2': <MissingAtom HG2>,\n",
       " 'HE1': <MissingAtom HE1>,\n",
       " 'HE2': <MissingAtom HE2>,\n",
       " 'HE3': <MissingAtom HE3>,\n",
       " 'HY1': <MissingAtom HY1>,\n",
       " 'HY2': <MissingAtom HY2>,\n",
       " 'HY3': <MissingAtom HY3>}"
      ]
     },
     "execution_count": 10,
     "metadata": {},
     "output_type": "execute_result"
    }
   ],
   "source": [
    "first_res.missing_hydrogens"
   ]
  },
  {
   "cell_type": "markdown",
   "id": "a69aa0e3-c01d-45e0-8ad6-44f18142e6a0",
   "metadata": {},
   "source": [
    "## Topology Elements\n",
    "\n",
    "By topology elements, we mean the geometry elements such as bond, angle, dihedral, impropers in the topology. They all have direct object handle in the `TopologyElementContainer`.\n",
    "\n",
    "**Note**: cmap (cross-term correction map) has not been fully implemented. The calculation for angle values for dihedral and improper have not been implemented and will be shown as 0.00."
   ]
  },
  {
   "cell_type": "code",
   "execution_count": 11,
   "id": "52b20088-234f-46bc-85fe-0ad7da215851",
   "metadata": {},
   "outputs": [
    {
     "data": {
      "text/plain": [
       "<TopologyElementContainer for <Polypeptide(L) id=C Residues=94> with bonds=1555, angles=2827, dihedrals=4114, impropers=270, cmap=0>"
      ]
     },
     "execution_count": 11,
     "metadata": {},
     "output_type": "execute_result"
    }
   ],
   "source": [
    "prot_chain = protein_chains[0]\n",
    "prot_chain.topo_elements"
   ]
  },
  {
   "cell_type": "markdown",
   "id": "c8909570-c873-4edb-83a8-9e3b6262cf69",
   "metadata": {},
   "source": [
    "The elements can be accessed as attributes `bonds`, `angles`, `dihedrals`, and `impropers`. Since they are enumerated from the molecular graph with topology definition, we know what bonds, angles, dihedrals, etc are supposed be here, if any atom is missing from the residue, the atom will be colored in red."
   ]
  },
  {
   "cell_type": "code",
   "execution_count": 12,
   "id": "1bdb55c6-22c3-43c0-9f07-bf1e3209f2bb",
   "metadata": {},
   "outputs": [
    {
     "data": {
      "text/plain": [
       "[<Bond(  CB,   CA) type=single length=1.52>,\n",
       " <Bond(  CG,   CB) type=single length=1.51>,\n",
       " <Bond(  SD,   CG) type=single length=1.78>,\n",
       " <Bond(  CE,   SD) type=single length=1.81>,\n",
       " <Bond(   N, \u001b[91m  HN\u001b[0m) type=single>]"
      ]
     },
     "execution_count": 12,
     "metadata": {},
     "output_type": "execute_result"
    }
   ],
   "source": [
    "prot_chain.topo_elements.bonds[:5]"
   ]
  },
  {
   "cell_type": "code",
   "execution_count": 13,
   "id": "cc3dff7d-e869-4b68-8bc3-c8ee9d132dd2",
   "metadata": {},
   "outputs": [
    {
     "data": {
      "text/plain": [
       "[<Angle(\u001b[91m HB1\u001b[0m,   CB, \u001b[91m HB3\u001b[0m)>,\n",
       " <Angle(  CB,   CG, \u001b[91m HG2\u001b[0m)>,\n",
       " <Angle(  CA,    C,    O) angle=120.68>,\n",
       " <Angle(\u001b[91m  HB\u001b[0m,   CB,  CG2)>,\n",
       " <Angle(\u001b[91mHG23\u001b[0m,  CG2, \u001b[91mHG21\u001b[0m)>,\n",
       " <Angle(  CB,  CG2, \u001b[91mHG23\u001b[0m)>,\n",
       " <Angle(  CE,   CD, \u001b[91m HD2\u001b[0m)>,\n",
       " <Angle(  CB,  CG1, \u001b[91mHG12\u001b[0m)>,\n",
       " <Angle(  CA,    C,    O) angle=120.41>,\n",
       " <Angle(  CD,   CE, \u001b[91m HE2\u001b[0m)>]"
      ]
     },
     "execution_count": 13,
     "metadata": {},
     "output_type": "execute_result"
    }
   ],
   "source": [
    "angles10 = prot_chain.topo_elements.angles[:10]\n",
    "angles10"
   ]
  },
  {
   "cell_type": "markdown",
   "id": "6fa91416-75d0-40eb-bc8c-67e9ce528f9c",
   "metadata": {},
   "source": [
    "The atoms in the element can be directly accessed"
   ]
  },
  {
   "cell_type": "code",
   "execution_count": 14,
   "id": "cc5f6f9a-7b9e-4913-9572-3f70749aa747",
   "metadata": {},
   "outputs": [
    {
     "name": "stdout",
     "output_type": "stream",
     "text": [
      "<Angle(\u001b[91m HB1\u001b[0m,   CB, \u001b[91m HB3\u001b[0m)>\n"
     ]
    },
    {
     "data": {
      "text/plain": [
       "('1DFU', 1, 'C', (' ', 28, ' '), ('HB1', ' '))"
      ]
     },
     "execution_count": 14,
     "metadata": {},
     "output_type": "execute_result"
    }
   ],
   "source": [
    "angle = angles10[0]\n",
    "print(angle)\n",
    "a1, a3, a3 = angle\n",
    "a1.get_full_id()"
   ]
  },
  {
   "cell_type": "code",
   "execution_count": 15,
   "id": "2223e7d9-f6f6-4cc3-8ba3-a02f9a12ee6e",
   "metadata": {},
   "outputs": [
    {
     "data": {
      "application/vnd.jupyter.widget-view+json": {
       "model_id": "49d7c8dc3bc74b5484229b098d4861d0",
       "version_major": 2,
       "version_minor": 0
      },
      "text/plain": [
       "NGLWidget()"
      ]
     },
     "metadata": {},
     "output_type": "display_data"
    },
    {
     "name": "stdout",
     "output_type": "stream",
     "text": [
      "<Residue ALA het=  resseq=28 icode= >\n"
     ]
    }
   ],
   "source": [
    "# The residue itself can be accessed\n",
    "a1.parent"
   ]
  },
  {
   "cell_type": "markdown",
   "id": "5cd298b6-7889-4ac8-bd91-4b9adfcb75f9",
   "metadata": {
    "tags": []
   },
   "source": [
    "## Residue Fixer\n",
    "\n",
    "The `ResidueFixer` class is designed to build missing atoms in residues. The residue will be fixed based on the loaded residue topology definition `ResidueDefinition` class. There are four main methods of fixing a residue in `ResidueFixer` class: \n",
    "1. `build_missing_atoms()` for building any missing heavy atoms\n",
    "2. `build_hydrogens()` for building the **missing** hydrogens only\n",
    "3. `rebuild_hydrogens()` to remove all hydrogens on the residue and rebuild them based on the residue topology definitions\n",
    "4. `remove_undefined_atoms()` to remove any atoms that is not in the definition"
   ]
  },
  {
   "cell_type": "code",
   "execution_count": 16,
   "id": "5ba1f1d0-c4a1-44b8-8da6-05fc860aede3",
   "metadata": {},
   "outputs": [],
   "source": [
    "fixer = ResidueFixer()\n",
    "fixer.load_residue(first_res)\n",
    "built_atoms = fixer.build_missing_atoms()\n",
    "built_hydrogens = fixer.build_hydrogens()"
   ]
  },
  {
   "cell_type": "code",
   "execution_count": 17,
   "id": "c1ccc7e0-748e-4bb1-b216-172a471ffd76",
   "metadata": {},
   "outputs": [
    {
     "data": {
      "application/vnd.jupyter.widget-view+json": {
       "model_id": "0890e8f049384060ab7402d6efd9f560",
       "version_major": 2,
       "version_minor": 0
      },
      "text/plain": [
       "NGLWidget()"
      ]
     },
     "metadata": {},
     "output_type": "display_data"
    },
    {
     "name": "stdout",
     "output_type": "stream",
     "text": [
      "<Residue MET het=  resseq=1 icode= >\n"
     ]
    }
   ],
   "source": [
    "first_res"
   ]
  },
  {
   "cell_type": "code",
   "execution_count": 18,
   "id": "fb4243e0-ce5f-4c7c-a89a-3c92748c02f7",
   "metadata": {},
   "outputs": [
    {
     "data": {
      "text/plain": [
       "[<Atom CY>, <Atom CAY>, <Atom OY>]"
      ]
     },
     "execution_count": 18,
     "metadata": {},
     "output_type": "execute_result"
    }
   ],
   "source": [
    "built_atoms"
   ]
  },
  {
   "cell_type": "code",
   "execution_count": 19,
   "id": "abd16db1-5a23-4cc8-8506-718b87890405",
   "metadata": {},
   "outputs": [
    {
     "data": {
      "text/plain": [
       "[<Atom HN>,\n",
       " <Atom HA>,\n",
       " <Atom HB1>,\n",
       " <Atom HB2>,\n",
       " <Atom HG1>,\n",
       " <Atom HG2>,\n",
       " <Atom HE1>,\n",
       " <Atom HE2>,\n",
       " <Atom HE3>,\n",
       " <Atom HY1>,\n",
       " <Atom HY2>,\n",
       " <Atom HY3>]"
      ]
     },
     "execution_count": 19,
     "metadata": {},
     "output_type": "execute_result"
    }
   ],
   "source": [
    "built_hydrogens"
   ]
  },
  {
   "cell_type": "markdown",
   "id": "2463b0f4-6781-4aa0-ab49-be728928f71c",
   "metadata": {},
   "source": [
    "## Building Missing Atoms on the Entire Chain\n",
    "\n",
    "The `fix_chain` is the temperory solution for repairing all the existing residues in a chain. By default, it will build missing atoms and missing hydrogens. However, a more robust and flexible `ChainFixer` class will be implemented shortly."
   ]
  },
  {
   "cell_type": "code",
   "execution_count": 20,
   "id": "1d23f589-de8e-40c6-bbb4-4bc3628545f4",
   "metadata": {},
   "outputs": [
    {
     "name": "stdout",
     "output_type": "stream",
     "text": [
      "<Polypeptide(L) id=C Residues=94> has 767 atoms BEFORE fix\n"
     ]
    }
   ],
   "source": [
    "print(f'{prot_chain} has {len(list(prot_chain.get_atoms()))} atoms BEFORE fix')"
   ]
  },
  {
   "cell_type": "code",
   "execution_count": 21,
   "id": "946665b7-d938-4c36-b79b-3f954cb13f82",
   "metadata": {},
   "outputs": [],
   "source": [
    "built_atoms = fix_chain(prot_chain)"
   ]
  },
  {
   "cell_type": "code",
   "execution_count": 22,
   "id": "883f611e-4791-46c7-b9d4-bb519579f938",
   "metadata": {},
   "outputs": [
    {
     "data": {
      "application/vnd.jupyter.widget-view+json": {
       "model_id": "2bea4618bea146cf918da9263fdc4a5c",
       "version_major": 2,
       "version_minor": 0
      },
      "text/plain": [
       "NGLWidget()"
      ]
     },
     "metadata": {},
     "output_type": "display_data"
    },
    {
     "name": "stdout",
     "output_type": "stream",
     "text": [
      "<Residue ALA het=  resseq=94 icode= >\n"
     ]
    }
   ],
   "source": [
    "prot_chain.residues[-1]"
   ]
  },
  {
   "cell_type": "code",
   "execution_count": 23,
   "id": "ce9a0d35-44cf-45f7-9ba6-fac075f590b1",
   "metadata": {},
   "outputs": [
    {
     "name": "stdout",
     "output_type": "stream",
     "text": [
      "<Polypeptide(L) id=C Residues=94> has 1542 atoms AFTER fix\n"
     ]
    }
   ],
   "source": [
    "print(f'{prot_chain} has {len(list(prot_chain.get_atoms()))} atoms AFTER fix')"
   ]
  },
  {
   "cell_type": "code",
   "execution_count": 24,
   "id": "d6996e21-4ddc-4c3e-893a-9b0fd64fe78c",
   "metadata": {},
   "outputs": [
    {
     "name": "stderr",
     "output_type": "stream",
     "text": [
      "/home/truman/.conda/envs/crimm-conda/lib/python3.9/site-packages/crimm/Modeller/TopoFixer.py:235: UserWarning: Missing atoms on terminal residues will be built without patching! Terminal patching is recommended before building missing atoms!\n",
      "  warnings.warn(\n"
     ]
    }
   ],
   "source": [
    "for chain in rna_chains:\n",
    "    fix_chain(chain)\n",
    "# since we did not specify any patch on the RNA chains, a warning will be given"
   ]
  },
  {
   "cell_type": "code",
   "execution_count": 25,
   "id": "5cebc299-694f-45aa-b74a-083964e4fd98",
   "metadata": {},
   "outputs": [
    {
     "data": {
      "application/vnd.jupyter.widget-view+json": {
       "model_id": "54a8e6e014cb4eaaa4996d9601782748",
       "version_major": 2,
       "version_minor": 0
      },
      "text/plain": [
       "NGLWidget()"
      ]
     },
     "metadata": {},
     "output_type": "display_data"
    },
    {
     "name": "stdout",
     "output_type": "stream",
     "text": [
      "<Residue C het=  resseq=1 icode= >\n"
     ]
    }
   ],
   "source": [
    "rna_chains[0].residues[0]"
   ]
  },
  {
   "cell_type": "markdown",
   "id": "97a29b08-2163-46c3-b6da-2ccd351d4228",
   "metadata": {},
   "source": [
    "## More on the `TopologyDefinition` Class\n",
    "\n",
    "We create a `TopologyDefinition` when we call `TopologyLoader` and a `ParameterDict` from `ParameterLoader`"
   ]
  },
  {
   "cell_type": "code",
   "execution_count": 26,
   "id": "9b8ec0f5-b876-487c-b560-9b3df78d1749",
   "metadata": {},
   "outputs": [
    {
     "data": {
      "text/plain": [
       "<TopologyLoader Ver=36.2 Contains 24 RESIDUE and 24 PATCH definitions>"
      ]
     },
     "execution_count": 26,
     "metadata": {},
     "output_type": "execute_result"
    }
   ],
   "source": [
    "topo_p"
   ]
  },
  {
   "cell_type": "code",
   "execution_count": 27,
   "id": "e0673bff-71d6-40f6-aa80-a64b958b42d2",
   "metadata": {},
   "outputs": [
    {
     "data": {
      "text/plain": [
       "<ParameterDict Bond: 132, Angle: 370, Urey Bradley: 113, Dihedral: 558, Improper: 35, CMAP: 6, Nonbond: 54, Nonbond14: 13, NBfix: 1>"
      ]
     },
     "execution_count": 27,
     "metadata": {},
     "output_type": "execute_result"
    }
   ],
   "source": [
    "param_p"
   ]
  },
  {
   "cell_type": "markdown",
   "id": "91a91130-852b-43dc-a33d-2425e6f1bf50",
   "metadata": {},
   "source": [
    "Each individual residue definition can be accessed by the three-letter code"
   ]
  },
  {
   "cell_type": "code",
   "execution_count": 28,
   "id": "959ce038-6f2f-4c5f-925c-13f394567c77",
   "metadata": {},
   "outputs": [
    {
     "data": {
      "text/plain": [
       "<Residue Definition name=ALA code=A atoms=10>"
      ]
     },
     "execution_count": 28,
     "metadata": {},
     "output_type": "execute_result"
    }
   ],
   "source": [
    "topo_p['ALA']"
   ]
  },
  {
   "cell_type": "code",
   "execution_count": 29,
   "id": "6d87e442-2b3e-412a-9789-4100d8d92ce4",
   "metadata": {},
   "outputs": [
    {
     "data": {
      "text/plain": [
       "<Residue Definition name=CYT  atoms=31>"
      ]
     },
     "execution_count": 29,
     "metadata": {},
     "output_type": "execute_result"
    }
   ],
   "source": [
    "topo_r['CYT'] # in case of nucleic acids, one-letter code also works. e.g. topo_r['C']"
   ]
  },
  {
   "cell_type": "markdown",
   "id": "9cc71b19-974c-41c4-80b9-f2afa9109ddf",
   "metadata": {},
   "source": [
    "Since the topology definition has internal coordinate (ic) table, a reference residue can be built directly from the `ResidueDefinition` object. As a matter of fact, the `SeqChainGenerator` uses this function to construct chain fro sequences"
   ]
  },
  {
   "cell_type": "code",
   "execution_count": 30,
   "id": "db8447b6-fa95-4e97-83cd-6e9813bf750c",
   "metadata": {},
   "outputs": [
    {
     "data": {
      "application/vnd.jupyter.widget-view+json": {
       "model_id": "7d3aff81348f42c2a10452c410d8d69e",
       "version_major": 2,
       "version_minor": 0
      },
      "text/plain": [
       "NGLWidget()"
      ]
     },
     "metadata": {},
     "output_type": "display_data"
    },
    {
     "name": "stdout",
     "output_type": "stream",
     "text": [
      "<Residue ALA het=  resseq=0 icode= >\n"
     ]
    }
   ],
   "source": [
    "ref_res = topo_p['ALA'].create_residue()\n",
    "ref_res"
   ]
  },
  {
   "cell_type": "markdown",
   "id": "51c987a3-dd32-460f-927f-ffe2e25a263f",
   "metadata": {},
   "source": [
    "### Other Topology Definitions\n",
    "\n",
    "Since CHARMM36 has a breadth of topology and parameter types. We try to implement and utilize these definitions as much as possible. We have varying level of supports for many definitions such as lipids, ethers, carbs, and we aim to support ***cgenff***  and ***water*** topology and parameter set for small molecule parameterization soon in the future."
   ]
  },
  {
   "cell_type": "code",
   "execution_count": 31,
   "id": "dac0f4bf-2c83-4efe-843b-9ed0153dfe63",
   "metadata": {},
   "outputs": [],
   "source": [
    "topo_lipids = TopologyLoader('lipid')\n",
    "param_lipids = ParameterLoader('lipid')\n",
    "param_lipids.fill_ic(topo_lipids)"
   ]
  },
  {
   "cell_type": "code",
   "execution_count": 32,
   "id": "f94dd700-46d7-4e3d-9c1e-f416973c01a0",
   "metadata": {},
   "outputs": [
    {
     "data": {
      "text/plain": [
       "[<Residue Definition name=LPPC  atoms=70>,\n",
       " <Residue Definition name=DLPC  atoms=106>,\n",
       " <Residue Definition name=DLPE  atoms=97>,\n",
       " <Residue Definition name=DLPS  atoms=99>,\n",
       " <Residue Definition name=DLPA  atoms=88>]"
      ]
     },
     "execution_count": 32,
     "metadata": {},
     "output_type": "execute_result"
    }
   ],
   "source": [
    "topo_lipids.residues[:5]"
   ]
  },
  {
   "cell_type": "code",
   "execution_count": 33,
   "id": "3874e920-5a34-4f85-8a8d-e6d7137d5193",
   "metadata": {},
   "outputs": [
    {
     "data": {
      "application/vnd.jupyter.widget-view+json": {
       "model_id": "08294659b2064068b347efbd2e084147",
       "version_major": 2,
       "version_minor": 0
      },
      "text/plain": [
       "NGLWidget()"
      ]
     },
     "metadata": {},
     "output_type": "display_data"
    },
    {
     "name": "stdout",
     "output_type": "stream",
     "text": [
      "<Residue LPPC het=  resseq=0 icode= >\n"
     ]
    }
   ],
   "source": [
    "topo_lipids['LPPC'].create_residue()"
   ]
  },
  {
   "cell_type": "markdown",
   "id": "7b73e104-8de7-4922-9c05-44b9c946c6de",
   "metadata": {},
   "source": [
    "## Parameters\n",
    "\n",
    "individual parameter values can be accessed from `ParameterDict`"
   ]
  },
  {
   "cell_type": "code",
   "execution_count": 34,
   "id": "0e51e20b-99df-4279-af80-5f2be2001464",
   "metadata": {
    "tags": []
   },
   "outputs": [
    {
     "data": {
      "text/plain": [
       "{'C': nonbond_param(epsilon=-0.11, rmin_half=2.0),\n",
       " 'CA': nonbond_param(epsilon=-0.07, rmin_half=1.9924),\n",
       " 'CC': nonbond_param(epsilon=-0.07, rmin_half=2.0),\n",
       " 'CD': nonbond_param(epsilon=-0.07, rmin_half=2.0),\n",
       " 'CE1': nonbond_param(epsilon=-0.068, rmin_half=2.09),\n",
       " 'CE2': nonbond_param(epsilon=-0.064, rmin_half=2.08),\n",
       " 'CP1': nonbond_param(epsilon=-0.02, rmin_half=2.275),\n",
       " 'CP2': nonbond_param(epsilon=-0.055, rmin_half=2.175),\n",
       " 'CP3': nonbond_param(epsilon=-0.055, rmin_half=2.175),\n",
       " 'CPH1': nonbond_param(epsilon=-0.05, rmin_half=1.8),\n",
       " 'CPH2': nonbond_param(epsilon=-0.05, rmin_half=1.8),\n",
       " 'CS': nonbond_param(epsilon=-0.11, rmin_half=2.2),\n",
       " 'CPT': nonbond_param(epsilon=-0.099, rmin_half=1.86),\n",
       " 'CY': nonbond_param(epsilon=-0.073, rmin_half=1.99),\n",
       " 'CAI': nonbond_param(epsilon=-0.073, rmin_half=1.99),\n",
       " 'CT': nonbond_param(epsilon=-0.02, rmin_half=2.275),\n",
       " 'CT1': nonbond_param(epsilon=-0.032, rmin_half=2.0),\n",
       " 'CT2': nonbond_param(epsilon=-0.056, rmin_half=2.01),\n",
       " 'CT2A': nonbond_param(epsilon=-0.056, rmin_half=2.01),\n",
       " 'CT3': nonbond_param(epsilon=-0.078, rmin_half=2.04),\n",
       " 'C3': nonbond_param(epsilon=-0.02, rmin_half=2.275),\n",
       " 'H': nonbond_param(epsilon=-0.046, rmin_half=0.2245),\n",
       " 'HA': nonbond_param(epsilon=-0.022, rmin_half=1.32),\n",
       " 'HB1': nonbond_param(epsilon=-0.022, rmin_half=1.32),\n",
       " 'HB2': nonbond_param(epsilon=-0.028, rmin_half=1.34),\n",
       " 'HE1': nonbond_param(epsilon=-0.031, rmin_half=1.25),\n",
       " 'HE2': nonbond_param(epsilon=-0.026, rmin_half=1.26),\n",
       " 'HC': nonbond_param(epsilon=-0.046, rmin_half=0.2245),\n",
       " 'HP': nonbond_param(epsilon=-0.03, rmin_half=1.3582),\n",
       " 'HR1': nonbond_param(epsilon=-0.046, rmin_half=0.9),\n",
       " 'HR2': nonbond_param(epsilon=-0.046, rmin_half=0.7),\n",
       " 'HR3': nonbond_param(epsilon=-0.0078, rmin_half=1.468),\n",
       " 'HS': nonbond_param(epsilon=-0.1, rmin_half=0.45),\n",
       " 'HA1': nonbond_param(epsilon=-0.045, rmin_half=1.34),\n",
       " 'HA2': nonbond_param(epsilon=-0.034, rmin_half=1.34),\n",
       " 'HA3': nonbond_param(epsilon=-0.024, rmin_half=1.34),\n",
       " 'N': nonbond_param(epsilon=-0.2, rmin_half=1.85),\n",
       " 'NC2': nonbond_param(epsilon=-0.2, rmin_half=1.85),\n",
       " 'NH1': nonbond_param(epsilon=-0.2, rmin_half=1.85),\n",
       " 'NH2': nonbond_param(epsilon=-0.2, rmin_half=1.85),\n",
       " 'NH3': nonbond_param(epsilon=-0.2, rmin_half=1.85),\n",
       " 'NP': nonbond_param(epsilon=-0.2, rmin_half=1.85),\n",
       " 'NR1': nonbond_param(epsilon=-0.2, rmin_half=1.85),\n",
       " 'NR2': nonbond_param(epsilon=-0.2, rmin_half=1.85),\n",
       " 'NR3': nonbond_param(epsilon=-0.2, rmin_half=1.85),\n",
       " 'NY': nonbond_param(epsilon=-0.2, rmin_half=1.85),\n",
       " 'O': nonbond_param(epsilon=-0.12, rmin_half=1.7),\n",
       " 'OB': nonbond_param(epsilon=-0.12, rmin_half=1.7),\n",
       " 'OC': nonbond_param(epsilon=-0.12, rmin_half=1.7),\n",
       " 'OH1': nonbond_param(epsilon=-0.1521, rmin_half=1.77),\n",
       " 'OS': nonbond_param(epsilon=-0.1521, rmin_half=1.77),\n",
       " 'S': nonbond_param(epsilon=-0.45, rmin_half=2.0),\n",
       " 'SM': nonbond_param(epsilon=-0.38, rmin_half=1.975),\n",
       " 'SS': nonbond_param(epsilon=-0.47, rmin_half=2.2)}"
      ]
     },
     "execution_count": 34,
     "metadata": {},
     "output_type": "execute_result"
    }
   ],
   "source": [
    "param_p['nonbonded']"
   ]
  },
  {
   "cell_type": "markdown",
   "id": "2b4a647a-ff29-4907-a91c-2950a61dc226",
   "metadata": {},
   "source": [
    "Parameters can be obtained by providing atom type names"
   ]
  },
  {
   "cell_type": "code",
   "execution_count": 35,
   "id": "e72e8f15-5fd1-4031-a7bc-5087baf8b735",
   "metadata": {},
   "outputs": [
    {
     "data": {
      "text/plain": [
       "bond_param(kb=240.0, b0=1.455)"
      ]
     },
     "execution_count": 35,
     "metadata": {},
     "output_type": "execute_result"
    }
   ],
   "source": [
    "param_p.get_bond(('NH2', 'CT1'))"
   ]
  },
  {
   "cell_type": "markdown",
   "id": "ef8f8f47-978e-4585-a07c-ce1142af7c33",
   "metadata": {},
   "source": [
    "Reversed ordering is also accepted"
   ]
  },
  {
   "cell_type": "code",
   "execution_count": 36,
   "id": "6551e4f4-77d3-4321-86a2-76eba22ed59a",
   "metadata": {},
   "outputs": [
    {
     "data": {
      "text/plain": [
       "bond_param(kb=240.0, b0=1.455)"
      ]
     },
     "execution_count": 36,
     "metadata": {},
     "output_type": "execute_result"
    }
   ],
   "source": [
    "param_p.get_bond(('CT1', 'NH2'))"
   ]
  },
  {
   "cell_type": "markdown",
   "id": "b523732c-d818-4e44-9c06-5fd82b249dea",
   "metadata": {},
   "source": [
    "Or we can get the values by providing the actual topology element"
   ]
  },
  {
   "cell_type": "code",
   "execution_count": 37,
   "id": "74b54ace-644b-4932-9179-768a2c385a3f",
   "metadata": {},
   "outputs": [
    {
     "name": "stdout",
     "output_type": "stream",
     "text": [
      "<Angle(\u001b[91m HB1\u001b[0m,   CB, \u001b[91m HB3\u001b[0m)>\n"
     ]
    },
    {
     "data": {
      "text/plain": [
       "angle_param(ktheta=35.5, theta0=108.4)"
      ]
     },
     "execution_count": 37,
     "metadata": {},
     "output_type": "execute_result"
    }
   ],
   "source": [
    "print(angle)\n",
    "param_p.get_from_topo_element(angle)"
   ]
  }
 ],
 "metadata": {
  "kernelspec": {
   "display_name": "crimm-test",
   "language": "python",
   "name": "crimm-conda"
  },
  "language_info": {
   "codemirror_mode": {
    "name": "ipython",
    "version": 3
   },
   "file_extension": ".py",
   "mimetype": "text/x-python",
   "name": "python",
   "nbconvert_exporter": "python",
   "pygments_lexer": "ipython3",
   "version": "3.9.16"
  }
 },
 "nbformat": 4,
 "nbformat_minor": 5
}

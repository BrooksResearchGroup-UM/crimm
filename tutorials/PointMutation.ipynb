{
 "cells": [
  {
   "cell_type": "markdown",
   "id": "5e01465e-472a-4667-859d-726a13aaf633",
   "metadata": {},
   "source": [
    "# Quick and Dirty Point Mutation on a Chain\n",
    "\n",
    "This is a temperory solution for point mutations on a chain. There will be dedicated module for this functionality for the future releases."
   ]
  },
  {
   "cell_type": "code",
   "execution_count": 1,
   "id": "6a330bdc-c025-4e5a-ab14-b70216c8ae52",
   "metadata": {
    "tags": []
   },
   "outputs": [
    {
     "data": {
      "application/vnd.jupyter.widget-view+json": {
       "model_id": "f789d53ab4124de7811905290497f7fc",
       "version_major": 2,
       "version_minor": 0
      },
      "text/plain": []
     },
     "metadata": {},
     "output_type": "display_data"
    }
   ],
   "source": [
    "from crimm.Modeller import ResidueFixer\n",
    "from crimm.Modeller.TopoFixer import fix_chain\n",
    "from crimm import TopologyLoader, ParameterLoader\n",
    "from crimm.Fetchers import fetch_rcsb\n",
    "from Bio.Seq import Seq\n",
    "from Bio.Data.PDBData import protein_letters_3to1, protein_letters_1to3"
   ]
  },
  {
   "cell_type": "markdown",
   "id": "4fc5845d-6336-4bd6-8f74-ea9085e56d0c",
   "metadata": {},
   "source": [
    "Function for removing non side chain atoms "
   ]
  },
  {
   "cell_type": "code",
   "execution_count": 2,
   "id": "b8bd0a84-60a0-4f17-aa8b-110d4806e1ec",
   "metadata": {
    "tags": []
   },
   "outputs": [],
   "source": [
    "def remove_nonbackbone_atoms(residue):\n",
    "    \"\"\"remove sidechain atoms and any hydrogen in a residue\"\"\"\n",
    "    nonbackbone_atoms = []\n",
    "    for atom in residue:\n",
    "        if atom.name not in ('CA', 'N', 'C', 'O'):\n",
    "            nonbackbone_atoms.append(atom)\n",
    "    for atom in nonbackbone_atoms:\n",
    "        residue.detach_child(atom.name)"
   ]
  },
  {
   "cell_type": "markdown",
   "id": "4fa2579d-3865-4211-a777-d1e0a9e01cbe",
   "metadata": {},
   "source": [
    "Load residue topology and ff parameter for protein"
   ]
  },
  {
   "cell_type": "code",
   "execution_count": 3,
   "id": "c01b37cd-4483-45cd-b517-d23680932f1a",
   "metadata": {
    "tags": []
   },
   "outputs": [],
   "source": [
    "topo = TopologyLoader('protein')\n",
    "param = ParameterLoader('protein')\n",
    "param.fill_ic(topo)"
   ]
  },
  {
   "cell_type": "code",
   "execution_count": 4,
   "id": "10b6497e-5209-4e9b-adb2-901178988b35",
   "metadata": {
    "tags": []
   },
   "outputs": [
    {
     "name": "stderr",
     "output_type": "stream",
     "text": [
      "/home/truman/crimm/crimm/StructEntities/Model.py:87: UserWarning: Chain F not found in model 1\n",
      "  warnings.warn(\n",
      "/home/truman/crimm/crimm/StructEntities/Model.py:72: UserWarning: Insufficient atoms for connect record metalc\n",
      "  warnings.warn(\n"
     ]
    }
   ],
   "source": [
    "structure = fetch_rcsb(\n",
    "    '5IGV',\n",
    "    include_solvent=False\n",
    ")"
   ]
  },
  {
   "cell_type": "markdown",
   "id": "da5e4121-c789-4125-b47e-84e3a23e6428",
   "metadata": {},
   "source": [
    "Get Chain A of Model 1"
   ]
  },
  {
   "cell_type": "code",
   "execution_count": 5,
   "id": "f5281f10-50d7-4804-b9be-5fb47308e3c0",
   "metadata": {
    "tags": []
   },
   "outputs": [
    {
     "data": {
      "application/vnd.jupyter.widget-view+json": {
       "model_id": "0ae4fbc417d34956bf78cfd9229da7e4",
       "version_major": 2,
       "version_minor": 0
      },
      "text/plain": [
       "NGLWidget()"
      ]
     },
     "metadata": {},
     "output_type": "display_data"
    },
    {
     "name": "stdout",
     "output_type": "stream",
     "text": [
      "<Polypeptide(L) id=A Residues=298>\n",
      "  Description: Macrolide 2'-phosphotransferase II\n"
     ]
    }
   ],
   "source": [
    "chain = structure[1]['A']\n",
    "chain"
   ]
  },
  {
   "cell_type": "markdown",
   "id": "67c72128-3edf-46e5-b24a-335fc27ca179",
   "metadata": {},
   "source": [
    "## Single Point Mutation\n",
    "In this example, we mutate Phe-18 to Tyr"
   ]
  },
  {
   "cell_type": "code",
   "execution_count": 6,
   "id": "f51f0bfc-627d-4975-877f-29c0bd15ab65",
   "metadata": {
    "tags": []
   },
   "outputs": [
    {
     "data": {
      "application/vnd.jupyter.widget-view+json": {
       "model_id": "bfadbc1d3ae842ba9d3b2714ce50b97b",
       "version_major": 2,
       "version_minor": 0
      },
      "text/plain": [
       "NGLWidget()"
      ]
     },
     "metadata": {},
     "output_type": "display_data"
    },
    {
     "name": "stdout",
     "output_type": "stream",
     "text": [
      "<Residue PHE het=  resseq=18 icode= >\n"
     ]
    }
   ],
   "source": [
    "mutate_18 = chain[18]\n",
    "mutate_18"
   ]
  },
  {
   "cell_type": "code",
   "execution_count": 7,
   "id": "f2beccc4-a73d-4e91-b0ee-1b3e0402ccc8",
   "metadata": {
    "tags": []
   },
   "outputs": [],
   "source": [
    "mutate_18.resname = 'TYR'\n",
    "remove_nonbackbone_atoms(mutate_18)"
   ]
  },
  {
   "cell_type": "markdown",
   "id": "f86d188f-f225-49ce-bc1f-a3a8e64ddb5a",
   "metadata": {},
   "source": [
    "As we can see, the side chain atoms are stripped"
   ]
  },
  {
   "cell_type": "code",
   "execution_count": 8,
   "id": "c9164400-1f8b-444d-9bd5-08d91ced65b0",
   "metadata": {
    "tags": []
   },
   "outputs": [
    {
     "data": {
      "application/vnd.jupyter.widget-view+json": {
       "model_id": "520b6375b2734ec886884c3132554ff8",
       "version_major": 2,
       "version_minor": 0
      },
      "text/plain": [
       "NGLWidget()"
      ]
     },
     "metadata": {},
     "output_type": "display_data"
    },
    {
     "name": "stdout",
     "output_type": "stream",
     "text": [
      "<Residue TYR het=  resseq=18 icode= >\n"
     ]
    }
   ],
   "source": [
    "mutate_18"
   ]
  },
  {
   "cell_type": "markdown",
   "id": "a34e5225-9ccf-4c63-a477-b6c64720a14a",
   "metadata": {
    "tags": []
   },
   "source": [
    "Now, we need to regenerate residue topology before build the residue. \n",
    "\n",
    "The function `topo.generate_residue_topology` will look up the `resname` attribute of a residue and generate the topology accordingly"
   ]
  },
  {
   "cell_type": "code",
   "execution_count": 9,
   "id": "c78b027f-c1b8-418f-ab2e-7d6fbc027430",
   "metadata": {
    "tags": []
   },
   "outputs": [],
   "source": [
    "topo.generate_residue_topology(mutate_18)\n",
    "# Routines for fixing residue from topology definition\n",
    "fixer = ResidueFixer()\n",
    "fixer.load_residue(mutate_18)\n",
    "fixer.remove_undefined_atoms()\n",
    "built_atoms = fixer.build_missing_atoms()"
   ]
  },
  {
   "cell_type": "markdown",
   "id": "c51e2054-dd0a-4c0f-8eed-029e27b7959d",
   "metadata": {},
   "source": [
    "At this point, the *Phe-18* becomes *Tyr-18*. Note, we did not build hydrogen here, but it can be done with `fixer.build_hydrogens()`"
   ]
  },
  {
   "cell_type": "code",
   "execution_count": 10,
   "id": "8344b989-9e06-413a-87d6-1ef64904714d",
   "metadata": {
    "tags": []
   },
   "outputs": [
    {
     "data": {
      "application/vnd.jupyter.widget-view+json": {
       "model_id": "00774c2216524cca9b618c8b39c9d215",
       "version_major": 2,
       "version_minor": 0
      },
      "text/plain": [
       "NGLWidget()"
      ]
     },
     "metadata": {},
     "output_type": "display_data"
    },
    {
     "name": "stdout",
     "output_type": "stream",
     "text": [
      "<Residue TYR het=  resseq=18 icode= >\n"
     ]
    }
   ],
   "source": [
    "mutate_18"
   ]
  },
  {
   "cell_type": "markdown",
   "id": "f0aa25f2-b6f2-46ae-9491-0974f465a79b",
   "metadata": {
    "tags": []
   },
   "source": [
    "## Update the Canonical Sequence\n",
    "Finally, we need to update the canonical sequence to match what we just mutated. \n",
    "\n",
    "As we can see from the `masked_seq` the *phe-18 (F)* is marked in red as missing because crimm still expects a *Phe* in that location.\n",
    "\n",
    "This is cumbersome, but we will wrap and automate these in the future releases"
   ]
  },
  {
   "cell_type": "code",
   "execution_count": 11,
   "id": "e11e4644-dc4c-4890-b251-282a5f05361b",
   "metadata": {
    "tags": []
   },
   "outputs": [
    {
     "name": "stdout",
     "output_type": "stream",
     "text": [
      "\u001b[91mM\u001b[0mSKDIKQVIEIAKKHNL\u001b[91mF\u001b[0mLKEETIQFNESGLDFQAVFAQDNNGIDWVLRLPRREDVMPRTKVEKQALDLVNKYAISFQAPNWIIYTEELIAYKKLDGVPAGTIDHNIGNYIWEIDINNVPELFHKSLGRVLAELHSIPSNKAAALDLVVHTPEEARMSMKQRMDAVRAKFGVGENLWNRWQAWLNDDDMWPKKTGLIHGDVHAGHTMIDKDANVTGLIDWTEAKVTDVSHDFIFNYRAFGEEGLEALILAYKEIGGYYWPKMKEHIIELNAAYPVSIAEFALVSGIEEYEQMAKEALEV\u001b[91mQ\u001b[0m\u001b[91mG\u001b[0m\u001b[91mS\u001b[0m\n"
     ]
    }
   ],
   "source": [
    "chain.masked_seq.show()"
   ]
  },
  {
   "cell_type": "code",
   "execution_count": 12,
   "id": "53b61084-02de-4650-8d7a-a52ed82119d4",
   "metadata": {
    "tags": []
   },
   "outputs": [
    {
     "name": "stdout",
     "output_type": "stream",
     "text": [
      "\u001b[91mM\u001b[0mSKDIKQVIEIAKKHNLYLKEETIQFNESGLDFQAVFAQDNNGIDWVLRLPRREDVMPRTKVEKQALDLVNKYAISFQAPNWIIYTEELIAYKKLDGVPAGTIDHNIGNYIWEIDINNVPELFHKSLGRVLAELHSIPSNKAAALDLVVHTPEEARMSMKQRMDAVRAKFGVGENLWNRWQAWLNDDDMWPKKTGLIHGDVHAGHTMIDKDANVTGLIDWTEAKVTDVSHDFIFNYRAFGEEGLEALILAYKEIGGYYWPKMKEHIIELNAAYPVSIAEFALVSGIEEYEQMAKEALEV\u001b[91mQ\u001b[0m\u001b[91mG\u001b[0m\u001b[91mS\u001b[0m\n"
     ]
    }
   ],
   "source": [
    "resseq = mutate_18.id[1]\n",
    "new_can_seq = ''\n",
    "for seq_num, code in enumerate(chain.can_seq, start=1):\n",
    "    # update the sequence with point mutation 'F' to 'Y' at seq num 18\n",
    "    if seq_num == resseq:\n",
    "        code = 'Y'\n",
    "    new_can_seq += code\n",
    "chain.can_seq = Seq(new_can_seq)\n",
    "# Also, the reported_res attr needs to be updated too\n",
    "chain.reported_res[resseq-1] = (resseq, mutate_18.resname)\n",
    "\n",
    "# at this point, everything in the chain is updated according to the point mutation\n",
    "chain.masked_seq.show()"
   ]
  },
  {
   "cell_type": "markdown",
   "id": "e02ee6a8-8ec9-46fe-aa3d-ab009b4dac3c",
   "metadata": {},
   "source": [
    "## Batch Mutation\n",
    "In the example below, we will mutate isoleucine to leucine in the first 100 residues in the chain"
   ]
  },
  {
   "cell_type": "code",
   "execution_count": 13,
   "id": "2ebc67b7-7a53-44c4-ab7f-7732c1021fc5",
   "metadata": {
    "tags": []
   },
   "outputs": [],
   "source": [
    "isoleucine_mutation = []\n",
    "for residue in chain.residues[:100]:\n",
    "    if residue.resname == 'ILE':\n",
    "        isoleucine_mutation.append(residue)\n",
    "\n",
    "for residue in isoleucine_mutation:\n",
    "    residue.resname = 'LEU'\n",
    "    remove_nonbackbone_atoms(residue)"
   ]
  },
  {
   "cell_type": "markdown",
   "id": "062a6976-041c-4e82-b214-f5e43b546d26",
   "metadata": {},
   "source": [
    "Generate all residue topology and fill any missing IC"
   ]
  },
  {
   "cell_type": "code",
   "execution_count": 14,
   "id": "09bf512f-aba7-466d-8077-bf2eefd5eebd",
   "metadata": {
    "tags": []
   },
   "outputs": [
    {
     "name": "stderr",
     "output_type": "stream",
     "text": [
      "/home/truman/crimm/crimm/Modeller/TopoLoader.py:343: UserWarning: Topology definition already exists! Overwriting...\n",
      "  warnings.warn(\"Topology definition already exists! Overwriting...\")\n"
     ]
    }
   ],
   "source": [
    "topo.generate_chain_topology(chain, first_patch='ACE', last_patch='CT3')\n",
    "param.fill_ic(topo)"
   ]
  },
  {
   "cell_type": "markdown",
   "id": "bffae3ca-10c7-4141-84ab-3a521601b7aa",
   "metadata": {},
   "source": [
    "## Rebuild Mutated Residues\n",
    "There is a utility function `fix_chain` that build all missing heavy atoms as well as hydrogens for a chain"
   ]
  },
  {
   "cell_type": "code",
   "execution_count": 15,
   "id": "8ea3720a-b9ea-4141-900f-6d69bb37b12b",
   "metadata": {
    "tags": []
   },
   "outputs": [],
   "source": [
    "built_atoms = fix_chain(chain)"
   ]
  },
  {
   "cell_type": "markdown",
   "id": "5e227abb-e8b7-4131-915b-302828611356",
   "metadata": {},
   "source": [
    "Same thing here, the isoleucines have not been updated in the sequence. We need to update the sequence information in the chain."
   ]
  },
  {
   "cell_type": "code",
   "execution_count": 16,
   "id": "bccf9bb4-1832-45b0-a4c7-4424183476b1",
   "metadata": {
    "tags": []
   },
   "outputs": [
    {
     "name": "stdout",
     "output_type": "stream",
     "text": [
      "\u001b[91mM\u001b[0mSKD\u001b[91mI\u001b[0mKQV\u001b[91mI\u001b[0mE\u001b[91mI\u001b[0mAKKHNLYLKEET\u001b[91mI\u001b[0mQFNESGLDFQAVFAQDNNG\u001b[91mI\u001b[0mDWVLRLPRREDVMPRTKVEKQALDLVNKYA\u001b[91mI\u001b[0mSFQAPNW\u001b[91mI\u001b[0m\u001b[91mI\u001b[0mYTEEL\u001b[91mI\u001b[0mAYKKLDGVPAGTIDHNIGNYIWEIDINNVPELFHKSLGRVLAELHSIPSNKAAALDLVVHTPEEARMSMKQRMDAVRAKFGVGENLWNRWQAWLNDDDMWPKKTGLIHGDVHAGHTMIDKDANVTGLIDWTEAKVTDVSHDFIFNYRAFGEEGLEALILAYKEIGGYYWPKMKEHIIELNAAYPVSIAEFALVSGIEEYEQMAKEALEV\u001b[91mQ\u001b[0m\u001b[91mG\u001b[0m\u001b[91mS\u001b[0m\n"
     ]
    }
   ],
   "source": [
    "chain.masked_seq.show()"
   ]
  },
  {
   "cell_type": "markdown",
   "id": "3ee90ef9-1fed-42a1-a4d1-403e15e9ec37",
   "metadata": {},
   "source": [
    "Function to batch update mutated residue on the sequence"
   ]
  },
  {
   "cell_type": "code",
   "execution_count": 17,
   "id": "b54c5716-2cce-4510-b8be-cefe2b772b6a",
   "metadata": {
    "tags": []
   },
   "outputs": [],
   "source": [
    "def update_chain_seq_info(mutated_res_list, chain):\n",
    "    # mutated residues dict keyed by seq number\n",
    "    mut_res_dict = {res.id[1]: res for res in mutated_res_list}\n",
    "    new_can_seq = ''\n",
    "    for seq_num, code in enumerate(chain.can_seq, start=1):\n",
    "        if seq_num in mut_res_dict:\n",
    "            res = mut_res_dict[seq_num]\n",
    "            code = protein_letters_3to1[res.resname]\n",
    "            chain.reported_res[seq_num-1] = (seq_num, res.resname)\n",
    "        new_can_seq += code\n",
    "    chain.can_seq = Seq(new_can_seq)"
   ]
  },
  {
   "cell_type": "code",
   "execution_count": 18,
   "id": "7e5ae468-9b70-4d58-9b85-178a663800cd",
   "metadata": {
    "tags": []
   },
   "outputs": [],
   "source": [
    "update_chain_seq_info(isoleucine_mutation, chain)"
   ]
  },
  {
   "cell_type": "code",
   "execution_count": 19,
   "id": "cb8585ef-900d-40ba-b469-866d15d1b4ea",
   "metadata": {
    "tags": []
   },
   "outputs": [
    {
     "name": "stdout",
     "output_type": "stream",
     "text": [
      "\u001b[91mM\u001b[0mSKDLKQVLELAKKHNLYLKEETLQFNESGLDFQAVFAQDNNGLDWVLRLPRREDVMPRTKVEKQALDLVNKYALSFQAPNWLLYTEELLAYKKLDGVPAGTIDHNIGNYIWEIDINNVPELFHKSLGRVLAELHSIPSNKAAALDLVVHTPEEARMSMKQRMDAVRAKFGVGENLWNRWQAWLNDDDMWPKKTGLIHGDVHAGHTMIDKDANVTGLIDWTEAKVTDVSHDFIFNYRAFGEEGLEALILAYKEIGGYYWPKMKEHIIELNAAYPVSIAEFALVSGIEEYEQMAKEALEV\u001b[91mQ\u001b[0m\u001b[91mG\u001b[0m\u001b[91mS\u001b[0m\n"
     ]
    }
   ],
   "source": [
    "chain.masked_seq.show()"
   ]
  },
  {
   "cell_type": "markdown",
   "id": "5b18912b-9ce6-45ed-9557-34390afc495d",
   "metadata": {},
   "source": [
    "## At this point, all point mutations has completed"
   ]
  },
  {
   "cell_type": "code",
   "execution_count": 20,
   "id": "5aa10e3c-6c6b-4e66-b4ed-f74c1f6e7f5b",
   "metadata": {
    "tags": []
   },
   "outputs": [
    {
     "data": {
      "text/plain": [
       "[<Residue LEU het=  resseq=5 icode= >,\n",
       " <Residue LEU het=  resseq=9 icode= >,\n",
       " <Residue LEU het=  resseq=11 icode= >,\n",
       " <Residue LEU het=  resseq=24 icode= >,\n",
       " <Residue LEU het=  resseq=44 icode= >,\n",
       " <Residue LEU het=  resseq=75 icode= >,\n",
       " <Residue LEU het=  resseq=83 icode= >,\n",
       " <Residue LEU het=  resseq=84 icode= >,\n",
       " <Residue LEU het=  resseq=90 icode= >]"
      ]
     },
     "execution_count": 20,
     "metadata": {},
     "output_type": "execute_result"
    }
   ],
   "source": [
    "isoleucine_mutation"
   ]
  },
  {
   "cell_type": "code",
   "execution_count": 21,
   "id": "a9d94466-8d35-42ab-ba9d-4b3ee6b4d2a9",
   "metadata": {
    "tags": []
   },
   "outputs": [
    {
     "data": {
      "application/vnd.jupyter.widget-view+json": {
       "model_id": "2ffd9098380a4f0fb0c08eb4036c5970",
       "version_major": 2,
       "version_minor": 0
      },
      "text/plain": [
       "NGLWidget()"
      ]
     },
     "metadata": {},
     "output_type": "display_data"
    },
    {
     "name": "stdout",
     "output_type": "stream",
     "text": [
      "<Residue LEU het=  resseq=5 icode= >\n"
     ]
    }
   ],
   "source": [
    "isoleucine_mutation[0]"
   ]
  },
  {
   "cell_type": "markdown",
   "id": "95f636e8-3873-4b49-a906-cd703114254d",
   "metadata": {},
   "source": [
    "## Point Mutation from a Given Dictionary\n",
    "In this example, we define the location and identity of the residue, and map it to the mutation"
   ]
  },
  {
   "cell_type": "code",
   "execution_count": 22,
   "id": "51f7f6b8-345c-4d2e-88f4-53e03ee6a12a",
   "metadata": {
    "tags": []
   },
   "outputs": [],
   "source": [
    "mutate_dict = {\n",
    "    (32, 'ASP'): 'ASN',\n",
    "    (93, 'LYS'): 'ARG'\n",
    "}"
   ]
  },
  {
   "cell_type": "code",
   "execution_count": 23,
   "id": "9aab5a58-dab8-40b8-9d55-0a64ff5def53",
   "metadata": {
    "tags": []
   },
   "outputs": [],
   "source": [
    "mutated_res = []\n",
    "for (resseq, org_resname), new_resname in mutate_dict.items():\n",
    "    residue = chain[resseq]\n",
    "    assert residue.resname == org_resname\n",
    "    residue.resname = new_resname\n",
    "    remove_nonbackbone_atoms(residue)\n",
    "    mutated_res.append(residue)"
   ]
  },
  {
   "cell_type": "code",
   "execution_count": 24,
   "id": "9dd1b5b8-302b-4459-8d4e-ca9132537e89",
   "metadata": {
    "tags": []
   },
   "outputs": [
    {
     "name": "stderr",
     "output_type": "stream",
     "text": [
      "/home/truman/crimm/crimm/Modeller/TopoLoader.py:370: UserWarning: Atom CY from (2, 'SER') is not defined in the topology file!\n",
      "  warnings.warn(\n",
      "/home/truman/crimm/crimm/Modeller/TopoLoader.py:370: UserWarning: Atom CAY from (2, 'SER') is not defined in the topology file!\n",
      "  warnings.warn(\n",
      "/home/truman/crimm/crimm/Modeller/TopoLoader.py:370: UserWarning: Atom OY from (2, 'SER') is not defined in the topology file!\n",
      "  warnings.warn(\n",
      "/home/truman/crimm/crimm/Modeller/TopoLoader.py:370: UserWarning: Atom HY1 from (2, 'SER') is not defined in the topology file!\n",
      "  warnings.warn(\n",
      "/home/truman/crimm/crimm/Modeller/TopoLoader.py:370: UserWarning: Atom HY2 from (2, 'SER') is not defined in the topology file!\n",
      "  warnings.warn(\n",
      "/home/truman/crimm/crimm/Modeller/TopoLoader.py:370: UserWarning: Atom HY3 from (2, 'SER') is not defined in the topology file!\n",
      "  warnings.warn(\n",
      "/home/truman/crimm/crimm/Modeller/TopoLoader.py:370: UserWarning: Atom NT from (299, 'VAL') is not defined in the topology file!\n",
      "  warnings.warn(\n",
      "/home/truman/crimm/crimm/Modeller/TopoLoader.py:370: UserWarning: Atom CAT from (299, 'VAL') is not defined in the topology file!\n",
      "  warnings.warn(\n",
      "/home/truman/crimm/crimm/Modeller/TopoLoader.py:370: UserWarning: Atom HNT from (299, 'VAL') is not defined in the topology file!\n",
      "  warnings.warn(\n",
      "/home/truman/crimm/crimm/Modeller/TopoLoader.py:370: UserWarning: Atom HT1 from (299, 'VAL') is not defined in the topology file!\n",
      "  warnings.warn(\n",
      "/home/truman/crimm/crimm/Modeller/TopoLoader.py:370: UserWarning: Atom HT2 from (299, 'VAL') is not defined in the topology file!\n",
      "  warnings.warn(\n",
      "/home/truman/crimm/crimm/Modeller/TopoLoader.py:370: UserWarning: Atom HT3 from (299, 'VAL') is not defined in the topology file!\n",
      "  warnings.warn(\n"
     ]
    }
   ],
   "source": [
    "topo.generate_chain_topology(chain, first_patch='ACE', last_patch='CT3')\n",
    "param.fill_ic(topo)"
   ]
  },
  {
   "cell_type": "code",
   "execution_count": 25,
   "id": "d0c33198-3faa-42cf-9ecb-044a4401bfc7",
   "metadata": {
    "tags": []
   },
   "outputs": [],
   "source": [
    "built_atoms = fix_chain(chain)\n",
    "update_chain_seq_info(mutated_res, chain)"
   ]
  },
  {
   "cell_type": "code",
   "execution_count": 29,
   "id": "023fa694-089d-4e5a-9f49-92f5ecfe7e87",
   "metadata": {
    "tags": []
   },
   "outputs": [
    {
     "data": {
      "text/plain": [
       "[<Residue ASN het=  resseq=32 icode= >, <Residue ARG het=  resseq=93 icode= >]"
      ]
     },
     "execution_count": 29,
     "metadata": {},
     "output_type": "execute_result"
    }
   ],
   "source": [
    "mutated_res"
   ]
  },
  {
   "cell_type": "code",
   "execution_count": 30,
   "id": "392998df-2a68-41bf-aee3-8ae891028b02",
   "metadata": {
    "tags": []
   },
   "outputs": [
    {
     "data": {
      "application/vnd.jupyter.widget-view+json": {
       "model_id": "dd2b415b438043b7a4f55faf656bc797",
       "version_major": 2,
       "version_minor": 0
      },
      "text/plain": [
       "NGLWidget()"
      ]
     },
     "metadata": {},
     "output_type": "display_data"
    },
    {
     "name": "stdout",
     "output_type": "stream",
     "text": [
      "<Residue ASN het=  resseq=32 icode= >\n"
     ]
    }
   ],
   "source": [
    "mutated_res[0]"
   ]
  },
  {
   "cell_type": "code",
   "execution_count": 31,
   "id": "d4ae41a4-3374-4ad9-923a-4d39be485abf",
   "metadata": {
    "tags": []
   },
   "outputs": [
    {
     "data": {
      "application/vnd.jupyter.widget-view+json": {
       "model_id": "bd0472ee3c074e3da503ca1a0ea71cc0",
       "version_major": 2,
       "version_minor": 0
      },
      "text/plain": [
       "NGLWidget()"
      ]
     },
     "metadata": {},
     "output_type": "display_data"
    },
    {
     "name": "stdout",
     "output_type": "stream",
     "text": [
      "<Residue ARG het=  resseq=93 icode= >\n"
     ]
    }
   ],
   "source": [
    "mutated_res[1]"
   ]
  },
  {
   "cell_type": "markdown",
   "id": "191d1d88-4155-408a-b65b-1c27a3096b43",
   "metadata": {},
   "source": [
    "## DON'T FORGET TO MINIMIZE THE STRUCTURE AFTER THIS!!"
   ]
  }
 ],
 "metadata": {
  "kernelspec": {
   "display_name": "pcm-devel",
   "language": "python",
   "name": "pcm-devel"
  },
  "language_info": {
   "codemirror_mode": {
    "name": "ipython",
    "version": 3
   },
   "file_extension": ".py",
   "mimetype": "text/x-python",
   "name": "python",
   "nbconvert_exporter": "python",
   "pygments_lexer": "ipython3",
   "version": "3.10.11"
  }
 },
 "nbformat": 4,
 "nbformat_minor": 5
}

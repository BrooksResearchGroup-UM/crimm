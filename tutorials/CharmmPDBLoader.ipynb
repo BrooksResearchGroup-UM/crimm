{
 "cells": [
  {
   "cell_type": "markdown",
   "id": "1eeb02da-61f7-4859-9e42-759a48945277",
   "metadata": {},
   "source": [
    "# Struture Preparation with `pyCHARMM` and `crimm`\n",
    "\n",
    "In this example, we are going to fetch a structure directly from RCSB by PDB ID. Use `crimm` to build any missing loop, set the protonation state on the protein residues, and load the structure into `CHARMM` directly.\n",
    "\n",
    "We are using **1A8I** as an example for showing the protonation state and loop building, but the routine works on any other protein or RNA structures. You can try **7ZAP** for loading a structure with both protein and RNA present and **4PTI** for disulfide bond patch."
   ]
  },
  {
   "cell_type": "code",
   "execution_count": 4,
   "id": "cbe3a9b6-c877-483b-be28-63a8b34c8670",
   "metadata": {},
   "outputs": [],
   "source": [
    "from crimm.Fetchers import fetch_rcsb\n",
    "from crimm.Modeller import ParameterLoader, TopologyLoader\n",
    "from crimm.Modeller.LoopBuilder import ChainLoopBuilder\n",
    "from crimm.Modeller.TopoFixer import fix_chain\n",
    "from crimm.StructEntities import Model\n",
    "import crimm.Adaptors.pyCHARMMAdaptors as pcm_interface\n",
    "from crimm.Adaptors.PropKaAdaptors import PropKaProtonator\n",
    "\n",
    "from pycharmm.psf import delete_atoms as pcm_del_atoms\n",
    "from pycharmm.psf import get_natom as pcm_get_natom\n",
    "from pycharmm.generate import patch as pcm_patch\n",
    "from pycharmm.settings import set_verbosity as pcm_set_verbosity"
   ]
  },
  {
   "cell_type": "code",
   "execution_count": 2,
   "id": "1f0fc350-805e-4971-90f0-b9eacf5da5cf",
   "metadata": {},
   "outputs": [],
   "source": [
    "def minimize_chain(chain, sd_nstep, abnr_nstep):\n",
    "    # load into CHARMM to minimize the structure\n",
    "    if pcm_get_natom() > 0:\n",
    "        pcm_del_atoms()\n",
    "    pcm_interface.load_chain(chain)\n",
    "    pcm_interface.minimize(sd_nstep=sd_nstep, abnr_nstep=abnr_nstep)\n",
    "    # Uodate the coordinate in crimm structure\n",
    "    pcm_interface.sync_coords(chain)\n",
    "\n",
    "def correct_prot_first_patch(chain, default):\n",
    "    # PRO and GLY need special treatment when patched at the N-terminus \n",
    "    first_resname = chain.residues[0].resname\n",
    "    if first_resname == 'PRO':\n",
    "        first_patch = 'PROP'\n",
    "    elif first_resname == 'GLY':\n",
    "        first_patch = 'GLYP'\n",
    "    else:\n",
    "        first_patch = default\n",
    "    return first_patch"
   ]
  },
  {
   "cell_type": "markdown",
   "id": "16bcaff2-ce93-4c62-a40f-e9d1fa43d6fe",
   "metadata": {},
   "source": [
    "## Parameter and Topology Loaders\n",
    "Choose the relavent `rtf` and `prm` loader for protein and RNA. The respective topology and parameter files will also be streamed into `CHARMM`"
   ]
  },
  {
   "cell_type": "code",
   "execution_count": 3,
   "id": "2140676d-88e0-4a41-b7ea-69ad9bf3d5e3",
   "metadata": {
    "tags": []
   },
   "outputs": [],
   "source": [
    "rtf_loader = {\n",
    "    'prot': TopologyLoader('protein'),\n",
    "    'na': TopologyLoader('nucleic')\n",
    "}\n",
    "param_loader = {\n",
    "    'prot': ParameterLoader('protein'),\n",
    "    'na': ParameterLoader('nucleic')\n",
    "}\n",
    "\n",
    "# fill the missing ic table values in the respective rtf\n",
    "for i, (chain_type, cur_rtf) in enumerate(rtf_loader.items()):\n",
    "    cur_param = param_loader[chain_type]\n",
    "    cur_param.fill_ic(cur_rtf)\n",
    "    # load the respective files into CHARMM as well\n",
    "    prev_level = pcm_set_verbosity(0)\n",
    "    pcm_interface.load_topology(cur_rtf, append=bool(i))\n",
    "    pcm_interface.load_parameters(cur_param, append=bool(i))\n",
    "    pcm_set_verbosity(prev_level)"
   ]
  },
  {
   "cell_type": "markdown",
   "id": "220f3311-27ef-48c3-9b5e-0ecaa0bf4d7b",
   "metadata": {},
   "source": [
    "## Parameters\n",
    "parameter used for the preparation routine"
   ]
  },
  {
   "cell_type": "code",
   "execution_count": 4,
   "id": "37efef15-9773-4079-b2b8-073e2d653515",
   "metadata": {},
   "outputs": [],
   "source": [
    "pdb_id = '1a8i'\n",
    "prot_first_patch = 'ACE'\n",
    "prot_last_patch = 'CT3'\n",
    "na_first_patch = '5TER'\n",
    "na_last_patch = '3PHO'\n",
    "sd_nstep = 300\n",
    "abnr_nstep = 0\n",
    "charmm_verbosity_level = 0\n",
    "pH = 7.4"
   ]
  },
  {
   "cell_type": "markdown",
   "id": "25599e8e-d34d-48b7-b107-a136a2f43edd",
   "metadata": {},
   "source": [
    "## Fetch structure from RCSB"
   ]
  },
  {
   "cell_type": "code",
   "execution_count": 5,
   "id": "c51251d5-5967-43d4-99b1-959087fd4c8f",
   "metadata": {
    "tags": []
   },
   "outputs": [
    {
     "data": {
      "application/vnd.jupyter.widget-view+json": {
       "model_id": "a8fb4f5ad4d64776882b572f8684f4d1",
       "version_major": 2,
       "version_minor": 0
      },
      "text/plain": [
       "NGLWidget()"
      ]
     },
     "metadata": {},
     "output_type": "display_data"
    },
    {
     "name": "stdout",
     "output_type": "stream",
     "text": [
      "<Structure id=1A8I Models=1>\n",
      "│\n",
      "├───<Model id=1 Chains=2>\n",
      "\t│\n",
      "\t├───<Polypeptide(L) id=A Residues=813>\n",
      "\t├──────Description: GLYCOGEN PHOSPHORYLASE B\n",
      "\t│\n",
      "\t├───<Heterogens id=B Molecules=1>\n",
      "\t├──────Description: BETA-D-GLUCOPYRANOSE SPIROHYDANTOIN\n"
     ]
    }
   ],
   "source": [
    "structure = fetch_rcsb(\n",
    "    pdb_id,\n",
    "    include_solvent=False,\n",
    "    # any existing hydrogen will be removed and rebuilt later\n",
    "    include_hydrogens=False,\n",
    "    first_model_only=True\n",
    ")\n",
    "# Show the structure\n",
    "structure"
   ]
  },
  {
   "cell_type": "markdown",
   "id": "e085b6fa-afe7-47c5-a209-3b16d724d356",
   "metadata": {},
   "source": [
    "As we can see below in the sequence, this structure has missing loops (shown in red). We are going to build the loop with `crimm`."
   ]
  },
  {
   "cell_type": "code",
   "execution_count": 6,
   "id": "b2fcd0e7-a5e0-4c4c-90f2-8fe46ee1f577",
   "metadata": {},
   "outputs": [
    {
     "name": "stdout",
     "output_type": "stream",
     "text": [
      "\u001b[91mS\u001b[0m\u001b[91mR\u001b[0m\u001b[91mP\u001b[0m\u001b[91mL\u001b[0m\u001b[91mS\u001b[0m\u001b[91mD\u001b[0mQEKRKQISVRGLAGVENVTELKKNFNRHLHFTLVKDRNVATPRDYYFALAHTVRDHLVGRWIRTQQHYYEKDPKRIYYLSLEFYMGRTLQNTMVNLALENACDEATYQLGLDMEELEEIEEDAGLGNGGLGRLAACFLDSMATLGLAAYGYGIRYEFGIFNQKICGGWQMEEADDWLRYGNPWEKARPEFTLPVHFYGRVEHTSQGAKWVDTQVVLAMPYDTPVPGYRNNVVNTMRLWSAKAPN\u001b[91mD\u001b[0m\u001b[91mF\u001b[0m\u001b[91mN\u001b[0m\u001b[91mL\u001b[0m\u001b[91mK\u001b[0m\u001b[91mD\u001b[0m\u001b[91mF\u001b[0m\u001b[91mN\u001b[0m\u001b[91mV\u001b[0m\u001b[91mG\u001b[0mGYIQAVLDRNLAENISRVLYPNDNFFEGKELRLKQEYFVVAATLQDIIRRFKSSKF\u001b[91mG\u001b[0m\u001b[91mC\u001b[0m\u001b[91mR\u001b[0m\u001b[91mD\u001b[0m\u001b[91mP\u001b[0m\u001b[91mV\u001b[0mRTNFDAFPDKVAIQLNDTHPSLAIPELMRVLVDLERLDWDKAWEVTVKTCAYTNHTVIPEALERWPVHLLETLLPRHLQIIYEINQRFLNRVAAAFPGDVDRLRRMSLVEEGAVKRINMAHLCIAGSHAVNGVARIHSEILKKTIFKDFYELEPHKFQNKTNGITPRRWLVLCNPGLAEIIAERIGEEYISDLDQLRKLLSYVDDEAFIRDVAKVKQENKLKFAAYLEREYKVHINPNSLFDVQVKRIHEYKRQLLNCLHVITLYNRIKKEPNKFVVPRTVMIGGKAAPGYHMAKMIIKLITAIGDVVNHDPVVGDRLRVIFLENYRVSLAEKVIPAADLSEQISTAGTEASGTGNMKFMLNGALTIGTMDGANVEMAEEAGEENFFIFGMRVEDVDRLDQRGYNAQEYYDRIPELRQIIEQLSSGFFSPKQPDLFKDIVNMLMHHDRFKVFADYEEYVKCQERVSALYKNPREWTRMVIRNIATSGKFSSDRTIAQYAREIWGVEPSRQRLP\u001b[91mA\u001b[0m\u001b[91mP\u001b[0m\u001b[91mD\u001b[0m\u001b[91mE\u001b[0m\u001b[91mK\u001b[0m\u001b[91mI\u001b[0m\u001b[91mP\u001b[0m\n"
     ]
    }
   ],
   "source": [
    "structure.models[0].chains[0].masked_seq.show()"
   ]
  },
  {
   "cell_type": "code",
   "execution_count": null,
   "id": "1df27fda-2d8d-4155-bdce-dd13c7186fe5",
   "metadata": {},
   "outputs": [],
   "source": []
  },
  {
   "cell_type": "markdown",
   "id": "185d7960-52fd-4183-8ef0-0d3b1fa9b58d",
   "metadata": {},
   "source": [
    "## Separate Chains by Chain Type\n",
    "First we need to separate the chain types. Although in this example, we do not have RNA chain, but this routine is built to accommodate both types."
   ]
  },
  {
   "cell_type": "code",
   "execution_count": 7,
   "id": "1007d510-c2b6-4842-b193-7ce697132f08",
   "metadata": {
    "tags": []
   },
   "outputs": [],
   "source": [
    "prot_chains = {}\n",
    "na_chains = {}\n",
    "# get the first model's id\n",
    "model_id = structure.models[0].id\n",
    "# create a new empty model to store chains of interests\n",
    "new_model = Model(model_id)\n",
    "for chain in structure[model_id].chains:\n",
    "    if chain.chain_type == 'Polypeptide(L)':\n",
    "        prot_chains[chain.id] = chain\n",
    "    elif chain.chain_type  in ('Polyribonucleotide', 'Polydeoxyribonucleotide'):\n",
    "        na_chains[chain.id] = chain"
   ]
  },
  {
   "cell_type": "markdown",
   "id": "31b4ce47-895f-4961-8e9a-17337707f3db",
   "metadata": {},
   "source": [
    "## Generate Topology and Loop Building with crimm First"
   ]
  },
  {
   "cell_type": "markdown",
   "id": "84414134-d35c-49ae-84a1-f5484882ac31",
   "metadata": {},
   "source": [
    "### Protein Chains"
   ]
  },
  {
   "cell_type": "code",
   "execution_count": 8,
   "id": "04ca636d-c639-4507-97d6-5092068b110e",
   "metadata": {
    "tags": []
   },
   "outputs": [
    {
     "name": "stderr",
     "output_type": "stream",
     "text": [
      "/home/truman/.conda/envs/crimm-conda/lib/python3.9/site-packages/crimm/Superimpose/ChainSuperimposer.py:68: UserWarning: Residues are not identical at model chain: ILE-380 and template chain: LEU-381\n",
      "  warnings.warn(\n",
      "/home/truman/.conda/envs/crimm-conda/lib/python3.9/site-packages/crimm/Superimpose/ChainSuperimposer.py:68: UserWarning: Residues are not identical at model chain: LLP-680 and template chain: LYS-681\n",
      "  warnings.warn(\n",
      "/home/truman/.conda/envs/crimm-conda/lib/python3.9/site-packages/crimm/Modeller/TopoLoader.py:331: UserWarning: Residue LLP is not defined in the topology file!\n",
      "  warnings.warn(\n",
      "/home/truman/.conda/envs/crimm-conda/lib/python3.9/site-packages/crimm/Modeller/TopoLoader.py:436: UserWarning: Coerced Residue LLP to LYS\n",
      "  warnings.warn(\n",
      "/home/truman/.conda/envs/crimm-conda/lib/python3.9/site-packages/crimm/Modeller/TopoLoader.py:370: UserWarning: Atom N1 from (680, 'LYS') is not defined in the topology file!\n",
      "  warnings.warn(\n",
      "/home/truman/.conda/envs/crimm-conda/lib/python3.9/site-packages/crimm/Modeller/TopoLoader.py:370: UserWarning: Atom C2 from (680, 'LYS') is not defined in the topology file!\n",
      "  warnings.warn(\n",
      "/home/truman/.conda/envs/crimm-conda/lib/python3.9/site-packages/crimm/Modeller/TopoLoader.py:370: UserWarning: Atom C2' from (680, 'LYS') is not defined in the topology file!\n",
      "  warnings.warn(\n",
      "/home/truman/.conda/envs/crimm-conda/lib/python3.9/site-packages/crimm/Modeller/TopoLoader.py:370: UserWarning: Atom C3 from (680, 'LYS') is not defined in the topology file!\n",
      "  warnings.warn(\n",
      "/home/truman/.conda/envs/crimm-conda/lib/python3.9/site-packages/crimm/Modeller/TopoLoader.py:370: UserWarning: Atom O3 from (680, 'LYS') is not defined in the topology file!\n",
      "  warnings.warn(\n",
      "/home/truman/.conda/envs/crimm-conda/lib/python3.9/site-packages/crimm/Modeller/TopoLoader.py:370: UserWarning: Atom C4 from (680, 'LYS') is not defined in the topology file!\n",
      "  warnings.warn(\n",
      "/home/truman/.conda/envs/crimm-conda/lib/python3.9/site-packages/crimm/Modeller/TopoLoader.py:370: UserWarning: Atom C4' from (680, 'LYS') is not defined in the topology file!\n",
      "  warnings.warn(\n",
      "/home/truman/.conda/envs/crimm-conda/lib/python3.9/site-packages/crimm/Modeller/TopoLoader.py:370: UserWarning: Atom C5 from (680, 'LYS') is not defined in the topology file!\n",
      "  warnings.warn(\n",
      "/home/truman/.conda/envs/crimm-conda/lib/python3.9/site-packages/crimm/Modeller/TopoLoader.py:370: UserWarning: Atom C6 from (680, 'LYS') is not defined in the topology file!\n",
      "  warnings.warn(\n",
      "/home/truman/.conda/envs/crimm-conda/lib/python3.9/site-packages/crimm/Modeller/TopoLoader.py:370: UserWarning: Atom C5' from (680, 'LYS') is not defined in the topology file!\n",
      "  warnings.warn(\n",
      "/home/truman/.conda/envs/crimm-conda/lib/python3.9/site-packages/crimm/Modeller/TopoLoader.py:370: UserWarning: Atom OP4 from (680, 'LYS') is not defined in the topology file!\n",
      "  warnings.warn(\n",
      "/home/truman/.conda/envs/crimm-conda/lib/python3.9/site-packages/crimm/Modeller/TopoLoader.py:370: UserWarning: Atom P from (680, 'LYS') is not defined in the topology file!\n",
      "  warnings.warn(\n",
      "/home/truman/.conda/envs/crimm-conda/lib/python3.9/site-packages/crimm/Modeller/TopoLoader.py:370: UserWarning: Atom OP1 from (680, 'LYS') is not defined in the topology file!\n",
      "  warnings.warn(\n",
      "/home/truman/.conda/envs/crimm-conda/lib/python3.9/site-packages/crimm/Modeller/TopoLoader.py:370: UserWarning: Atom OP2 from (680, 'LYS') is not defined in the topology file!\n",
      "  warnings.warn(\n",
      "/home/truman/.conda/envs/crimm-conda/lib/python3.9/site-packages/crimm/Modeller/TopoLoader.py:370: UserWarning: Atom OP3 from (680, 'LYS') is not defined in the topology file!\n",
      "  warnings.warn(\n",
      "/home/truman/.conda/envs/crimm-conda/lib/python3.9/site-packages/crimm/Modeller/ParamLoader.py:167: UserWarning: No cmap found in <Polypeptide(L) id=A Residues=829>.\n",
      "  warnings.warn(\n"
     ]
    },
    {
     "name": "stdout",
     "output_type": "stream",
     "text": [
      " ***** Message from SEQRDR ***** THE SYSTEM CONTAINS216 TITRATABLE GROUPS\n",
      " THE USER MUST PREDETERMINE THE PROTONATION STATE THROUGH THE SEQUENCE AND RTF\n",
      " HIS -  0  HSD - 22  HSE -  0  HSP -  0  ASP - 47  GLU - 64  LYS - 47  TYR - 36\n",
      " EPHI: WARNING. bent improper torsion angle is \n",
      "\n",
      "far from minimum for;\n",
      "    IPHI=  925  with deltaPHI=-163.6911 MIN=   0.0000 ATOMS: 5135 5133 5137 5136\n",
      " EPHI: WARNING. bent improper torsion angle is \n",
      "\n",
      "far from minimum for;\n",
      "    IPHI=  917  with deltaPHI= 156.3151 MIN=   0.0000 ATOMS: 5095 5083 5097 5096\n",
      " EPHI: WARNING. bent improper torsion angle is \n",
      "\n",
      "far from minimum for;\n",
      "    IPHI=  918  with deltaPHI=-123.1358 MIN=   0.0000 ATOMS: 5097 5095 5099 5098\n",
      " EPHI: WARNING. bent improper torsion angle is \n",
      "\n",
      "far from minimum for;\n",
      "    IPHI=  917  with deltaPHI=  90.0918 MIN=   0.0000 ATOMS: 5095 5083 5097 5096\n",
      " EPHI: WARNING. bent improper torsion angle is \n",
      "\n",
      "far from minimum for;\n",
      "    IPHI=  917  with deltaPHI=  92.9407 MIN=   0.0000 ATOMS: 5095 5083 5097 5096\n",
      " EPHI: WARNING. bent improper torsion angle is \n",
      "\n",
      "far from minimum for;\n",
      "    IPHI=  918  with deltaPHI=-175.9202 MIN=   0.0000 ATOMS: 5097 5095 5099 5098\n",
      " EPHI: WARNING. bent improper torsion angle is \n",
      "\n",
      "far from minimum for;\n",
      "    IPHI=  917  with deltaPHI= 149.1539 MIN=   0.0000 ATOMS: 5095 5083 5097 5096\n",
      " EPHI: WARNING. bent improper torsion angle is \n",
      "\n",
      "far from minimum for;\n",
      "    IPHI=  918  with deltaPHI= -88.8539 MIN=   0.0000 ATOMS: 5097 5095 5099 5098\n",
      " EPHI: WARNING. bent improper torsion angle is \n",
      "\n",
      "far from minimum for;\n",
      "    IPHI=  918  with deltaPHI=-162.7524 MIN=   0.0000 ATOMS: 5097 5095 5099 5098\n",
      " EPHI: WARNING. bent improper torsion angle is \n",
      "\n",
      "far from minimum for;\n",
      "    IPHI=  917  with deltaPHI=  84.3690 MIN=   0.0000 ATOMS: 5095 5083 5097 5096\n",
      " EPHI: WARNING. bent improper torsion angle is \n",
      "\n",
      "far from minimum for;\n",
      "    IPHI=  918  with deltaPHI=-134.5074 MIN=   0.0000 ATOMS: 5097 5095 5099 5098\n",
      "Adopted Basis Newton-Raphson minimization not performed\n",
      "Synchronized: <Polypeptide(L) id=A Residues=829>\n"
     ]
    }
   ],
   "source": [
    "for chain_id, chain in prot_chains.items():\n",
    "    need_minimization = False\n",
    "    # Missing loop in the chain\n",
    "    if not chain.is_continuous():\n",
    "        loop_builder = ChainLoopBuilder(chain)\n",
    "        # Coordinates of the missing residues will be copied from\n",
    "        # Alphafold structures\n",
    "        # only build the loop not the termini\n",
    "        loop_builder.build_from_alphafold(include_terminal = False)\n",
    "        chain = loop_builder.get_chain()\n",
    "        prot_chains[chain_id] = chain\n",
    "        need_minimization = True\n",
    "    prot_first_patch = correct_prot_first_patch(chain, default = prot_first_patch)\n",
    "    rtf_loader['prot'].generate_chain_topology(\n",
    "        chain,\n",
    "        first_patch=prot_first_patch, \n",
    "        last_patch=prot_last_patch,\n",
    "        # Coerce any modified residue to canonical residue that it is based on\n",
    "        coerce=True\n",
    "    )\n",
    "    param_loader['prot'].fill_ic(rtf_loader['prot'])\n",
    "    param_loader['prot'].apply(chain.topo_elements)\n",
    "    fix_chain(chain)\n",
    "    if need_minimization:\n",
    "        # load into CHARMM to minimize the structure\n",
    "        prev_level = pcm_set_verbosity(charmm_verbosity_level)\n",
    "        minimize_chain(chain, sd_nstep, abnr_nstep)\n",
    "        pcm_set_verbosity(prev_level)\n",
    "    new_model.add(chain)"
   ]
  },
  {
   "cell_type": "markdown",
   "id": "757d3a56-2a6c-4eea-a288-f16aebf5f8e4",
   "metadata": {},
   "source": [
    "### RNA Chains\n",
    "DNA chains are not yet supported but will be implemented soon"
   ]
  },
  {
   "cell_type": "code",
   "execution_count": 9,
   "id": "80371a6f-9c63-4357-a617-965badad5e8c",
   "metadata": {
    "tags": []
   },
   "outputs": [],
   "source": [
    "for chain_id, chain in na_chains.items():\n",
    "    # Missing loop is very unlikely in nucleotide chains on PDB\n",
    "    # but if it exsits, an error will be raise\n",
    "    if not chain.is_continuous():\n",
    "        raise ValueError(\n",
    "            f'Nucleotide chain {chain.id} is not continuous, '\n",
    "            'topology cannot be generated.'\n",
    "        )\n",
    "    rtf_loader['na'].generate_chain_topology(\n",
    "        chain, \n",
    "        first_patch=na_first_patch,\n",
    "        last_patch=na_last_patch,\n",
    "        coerce=True\n",
    "    )\n",
    "    param_loader['na'].fill_ic(rtf_loader['na'])\n",
    "    param_loader['na'].apply(chain.topo_elements)\n",
    "    fix_chain(chain)\n",
    "    new_model.add(chain)"
   ]
  },
  {
   "cell_type": "markdown",
   "id": "2499402e-682a-428c-bcec-5087a9ef71b9",
   "metadata": {
    "tags": []
   },
   "source": [
    "Finally, replace the model with the new model in the structure"
   ]
  },
  {
   "cell_type": "code",
   "execution_count": 10,
   "id": "8a472025-4c60-4fd1-b090-061e087f12bc",
   "metadata": {
    "tags": []
   },
   "outputs": [
    {
     "name": "stderr",
     "output_type": "stream",
     "text": [
      "/home/truman/.conda/envs/crimm-conda/lib/python3.9/site-packages/crimm/StructEntities/Model.py:112: UserWarning: Residue 680 in chain A has name LYS, not LLP\n",
      "  warnings.warn(\n",
      "/home/truman/.conda/envs/crimm-conda/lib/python3.9/site-packages/crimm/StructEntities/Model.py:72: UserWarning: Insufficient atoms for connect record covale\n",
      "  warnings.warn(\n"
     ]
    }
   ],
   "source": [
    "new_model.set_connect(structure.models[0].connect_dict)\n",
    "structure.detach_child(model_id)\n",
    "structure.add(new_model)"
   ]
  },
  {
   "cell_type": "markdown",
   "id": "64c64472-c605-4164-80c1-899576d00c32",
   "metadata": {},
   "source": [
    "The loops are built, and now it is ready for protonation state calculation."
   ]
  },
  {
   "cell_type": "code",
   "execution_count": 11,
   "id": "28940589-bcbe-43b2-9d5a-04a5461fa55f",
   "metadata": {},
   "outputs": [
    {
     "data": {
      "application/vnd.jupyter.widget-view+json": {
       "model_id": "ed7e0566b459447ab675838de59d4912",
       "version_major": 2,
       "version_minor": 0
      },
      "text/plain": [
       "NGLWidget()"
      ]
     },
     "metadata": {},
     "output_type": "display_data"
    },
    {
     "name": "stdout",
     "output_type": "stream",
     "text": [
      "<Structure id=1A8I Models=1>\n",
      "│\n",
      "├───<Model id=1 Chains=1>\n",
      "\t│\n",
      "\t├───<Polypeptide(L) id=A Residues=829>\n",
      "\t├──────Description: GLYCOGEN PHOSPHORYLASE B\n"
     ]
    }
   ],
   "source": [
    "structure"
   ]
  },
  {
   "cell_type": "markdown",
   "id": "9ef8f5bb-ad9d-4796-8778-056421be161e",
   "metadata": {},
   "source": [
    "## Get Protonation State from the specified pH Value\n",
    "Note that the protonator accept Model level entity not the structure itself"
   ]
  },
  {
   "cell_type": "code",
   "execution_count": 12,
   "id": "67ee5b90-9437-4b1a-a3e4-e058b26b0edb",
   "metadata": {},
   "outputs": [
    {
     "name": "stderr",
     "output_type": "stream",
     "text": [
      "Unexpected number (12) of atoms in residue GLN   7 A   in conformation 1A\n",
      "Unexpected number (9) of atoms in residue PRO 835 A   in conformation 1A\n",
      "/home/truman/.conda/envs/crimm-conda/lib/python3.9/site-packages/crimm/Modeller/TopoLoader.py:370: UserWarning: Atom HZ3 from (538, 'LYS') is not defined in the topology file!\n",
      "  warnings.warn(\n",
      "/home/truman/.conda/envs/crimm-conda/lib/python3.9/site-packages/crimm/Modeller/TopoLoader.py:370: UserWarning: Atom HZ3 from (608, 'LYS') is not defined in the topology file!\n",
      "  warnings.warn(\n"
     ]
    },
    {
     "name": "stdout",
     "output_type": "stream",
     "text": [
      "\n",
      " Message from MAPIC: Atom numbers are changed.\n",
      "\n",
      " Message from MAPIC:        829 residues deleted.\n",
      "\n",
      " Message from MAPIC:          1 segments deleted.\n",
      " DELTIC:     13622 bonds deleted\n",
      " DELTIC:     24586 angles deleted\n",
      " DELTIC:     36025 dihedrals deleted\n",
      " DELTIC:      2393 improper dihedrals deleted\n",
      " DELTIC:       829 crossterm maps deleted\n",
      " DELTIC:      1542 donors deleted\n",
      " DELTIC:      1249 acceptors deleted\n",
      "  \n",
      " CHARMM>     read sequence pdb -\n",
      " CHARMM>     name /tmp/tmplykx9pip\n",
      " VOPEN> Attempting to open::/tmp/tmplykx9pip::\n",
      " MAINIO> Sequence information being read from unit  91.\n",
      " TITLE>  *\n",
      "\n",
      "          RESIDUE SEQUENCE --   829 RESIDUES\n",
      "          GLN GLU LYS ARG LYS GLN ILE SER VAL ARG GLY LEU ALA GLY VAL GLU ASN VAL THR GLU \n",
      "          LEU LYS LYS ASN PHE ASN ARG HSD LEU HSD PHE THR LEU VAL LYS ASP ARG ASN VAL ALA \n",
      "          THR PRO ARG ASP TYR TYR PHE ALA LEU ALA HSD THR VAL ARG ASP HSD LEU VAL GLY ARG \n",
      "          TRP ILE ARG THR GLN GLN HSD TYR TYR GLU LYS ASP PRO LYS ARG ILE TYR TYR LEU SER \n",
      "          LEU GLU PHE TYR MET GLY ARG THR LEU GLN ASN THR MET VAL ASN LEU ALA LEU GLU ASN \n",
      "          ALA CYS ASP GLU ALA THR TYR GLN LEU GLY LEU ASP MET GLU GLU LEU GLU GLU ILE GLU \n",
      "          GLU ASP ALA GLY LEU GLY ASN GLY GLY LEU GLY ARG LEU ALA ALA CYS PHE LEU ASP SER \n",
      "          MET ALA THR LEU GLY LEU ALA ALA TYR GLY TYR GLY ILE ARG TYR GLU PHE GLY ILE PHE \n",
      "          ASN GLN LYS ILE CYS GLY GLY TRP GLN MET GLU GLU ALA ASP ASP TRP LEU ARG TYR GLY \n",
      "          ASN PRO TRP GLU LYS ALA ARG PRO GLU PHE THR LEU PRO VAL HSD PHE TYR GLY ARG VAL \n",
      "          GLU HSD THR SER GLN GLY ALA LYS TRP VAL ASP THR GLN VAL VAL LEU ALA MET PRO TYR \n",
      "          ASP THR PRO VAL PRO GLY TYR ARG ASN ASN VAL VAL ASN THR MET ARG LEU TRP SER ALA \n",
      "          LYS ALA PRO ASN ASP PHE ASN LEU LYS ASP PHE ASN VAL GLY GLY TYR ILE GLN ALA VAL \n",
      "          LEU ASP ARG ASN LEU ALA GLU ASN ILE SER ARG VAL LEU TYR PRO ASN ASP ASN PHE PHE \n",
      "          GLU GLY LYS GLU LEU ARG LEU LYS GLN GLU TYR PHE VAL VAL ALA ALA THR LEU GLN ASP \n",
      "          ILE ILE ARG ARG PHE LYS SER SER LYS PHE GLY CYS ARG ASP PRO VAL ARG THR ASN PHE \n",
      "          ASP ALA PHE PRO ASP LYS VAL ALA ILE GLN LEU ASN ASP THR HSD PRO SER LEU ALA ILE \n",
      "          PRO GLU LEU MET ARG VAL LEU VAL ASP LEU GLU ARG LEU ASP TRP ASP LYS ALA TRP GLU \n",
      "          VAL THR VAL LYS THR CYS ALA TYR THR ASN HSD THR VAL ILE PRO GLU ALA LEU GLU ARG \n",
      "          TRP PRO VAL HSD LEU LEU GLU THR LEU LEU PRO ARG HSD LEU GLN ILE ILE TYR GLU ILE \n",
      "          ASN GLN ARG PHE LEU ASN ARG VAL ALA ALA ALA PHE PRO GLY ASP VAL ASP ARG LEU ARG \n",
      "          ARG MET SER LEU VAL GLU GLU GLY ALA VAL LYS ARG ILE ASN MET ALA HSD LEU CYS ILE \n",
      "          ALA GLY SER HSD ALA VAL ASN GLY VAL ALA ARG ILE HSD SER GLU ILE LEU LYS LYS THR \n",
      "          ILE PHE LYS ASP PHE TYR GLU LEU GLU PRO HSD LYS PHE GLN ASN LYS THR ASN GLY ILE \n",
      "          THR PRO ARG ARG TRP LEU VAL LEU CYS ASN PRO GLY LEU ALA GLU ILE ILE ALA GLU ARG \n",
      "          ILE GLY GLU GLU TYR ILE SER ASP LEU ASP GLN LEU ARG LYS LEU LEU SER TYR VAL ASP \n",
      "          ASP GLU ALA PHE ILE ARG ASP VAL ALA LYS VAL LYS GLN GLU ASN LYS LEU LYS PHE ALA \n",
      "          ALA TYR LEU GLU ARG GLU TYR LYS VAL HSD ILE ASN PRO ASN SER LEU PHE ASP VAL GLN \n",
      "          VAL LYS ARG ILE HSD GLU TYR LYS ARG GLN LEU LEU ASN CYS LEU HSD VAL ILE THR LEU \n",
      "          TYR ASN ARG ILE LYS LYS GLU PRO ASN LYS PHE VAL VAL PRO ARG THR VAL MET ILE GLY \n",
      "          GLY LYS ALA ALA PRO GLY TYR HSD MET ALA LYS MET ILE ILE LYS LEU ILE THR ALA ILE \n",
      "          GLY ASP VAL VAL ASN HSD ASP PRO VAL VAL GLY ASP ARG LEU ARG VAL ILE PHE LEU GLU \n",
      "          ASN TYR ARG VAL SER LEU ALA GLU LYS VAL ILE PRO ALA ALA ASP LEU SER GLU GLN ILE \n",
      "          SER THR ALA GLY THR GLU ALA SER GLY THR GLY ASN MET LYS PHE MET LEU ASN GLY ALA \n",
      "          LEU THR ILE GLY THR MET ASP GLY ALA ASN VAL GLU MET ALA GLU GLU ALA GLY GLU GLU \n",
      "          ASN PHE PHE ILE PHE GLY MET ARG VAL GLU ASP VAL ASP ARG LEU ASP GLN ARG GLY TYR \n",
      "          ASN ALA GLN GLU TYR TYR ASP ARG ILE PRO GLU LEU ARG GLN ILE ILE GLU GLN LEU SER \n",
      "          SER GLY PHE PHE SER PRO LYS GLN PRO ASP LEU PHE LYS ASP ILE VAL ASN MET LEU MET \n",
      "          HSD HSD ASP ARG PHE LYS VAL PHE ALA ASP TYR GLU GLU TYR VAL LYS CYS GLN GLU ARG \n",
      "          VAL SER ALA LEU TYR LYS ASN PRO ARG GLU TRP THR ARG MET VAL ILE ARG ASN ILE ALA \n",
      "          THR SER GLY LYS PHE SER SER ASP ARG THR ILE ALA GLN TYR ALA ARG GLU ILE TRP GLY \n",
      "          VAL GLU PRO SER ARG GLN ARG LEU PRO \n",
      " ***** Message from SEQRDR ***** THE SYSTEM CONTAINS216 TITRATABLE GROUPS\n",
      " THE USER MUST PREDETERMINE THE PROTONATION STATE THROUGH THE SEQUENCE AND RTF\n",
      " HIS -  0  HSD - 22  HSE -  0  HSP -  0  ASP - 47  GLU - 64  LYS - 47  TYR - 36\n",
      " VCLOSE: Closing unit   91 with status \"KEEP\"\n",
      "  \n",
      " CHARMM>     \n",
      "  \n",
      " THE PATCH 'ACE' WILL BE USED FOR THE FIRST RESIDUE\n",
      " THE PATCH 'CT3' WILL BE USED FOR THE LAST  RESIDUE\n",
      " AUTGEN: Autogenerating specified angles and dihedrals.\n",
      " GENPSF> Segment   1 has been generated. Its identifier is PROA.\n",
      " PSFSUM> PSF modified: NONBOND lists and IMAGE atoms cleared.\n",
      " PSFSUM> Summary of the structure file counters :\n",
      "         Number of segments      =        1   Number of residues   =      829\n",
      "         Number of atoms         =    13470   Number of groups     =     4026\n",
      "         Number of bonds         =    13622   Number of angles     =    24586\n",
      "         Number of dihedrals     =    36025   Number of impropers  =     2393\n",
      "         Number of cross-terms   =      829   Number of autogens   =        0\n",
      "         Number of HB acceptors  =     1249   Number of HB donors  =     1542\n",
      "         Number of NB exclusions =        0   Total charge =   -2.00000\n",
      "  \n",
      " CHARMM>     read coor pdb -\n",
      " CHARMM>     name /tmp/tmplykx9pip -\n",
      " CHARMM>     resi\n",
      " VOPEN> Attempting to open::/tmp/tmplykx9pip::\n",
      "  read CHARMM-pdb format\n",
      "          SPATIAL COORDINATES BEING READ FROM UNIT 91\n",
      " TITLE>  *\n",
      "\n",
      " ** WARNING ** For atom in coordinate file, the corresponding residue in the PSF lacks that atom:\n",
      " INDEX= 1960 IRES=  117 RESID=123  RES=GLU  ATOM=HE2 \n",
      "\n",
      " ** WARNING ** For atom in coordinate file, the corresponding residue in the PSF lacks that atom:\n",
      " INDEX= 4667 IRES=  290 RESID=296  RES=GLU  ATOM=HE2 \n",
      "\n",
      " ** WARNING ** For atom in coordinate file, the corresponding residue in the PSF lacks that atom:\n",
      " INDEX=10740 IRES=  658 RESID=664  RES=GLU  ATOM=HE2 \n",
      " ** WARNING ** After reading, there are no coordinates for selected atom:  8640   532 LYS  HZ3 \n",
      " ** WARNING ** After reading, there are no coordinates for selected atom:  9858   602 LYS  HZ3 \n",
      "\n",
      " ** A total of     2 selected atoms have no coordinates\n",
      " *** LEVEL  2 WARNING *** BOMLEV IS    0\n",
      " VCLOSE: Closing unit   91 with status \"KEEP\"\n",
      "  \n",
      " CHARMM>     \n",
      "  \n"
     ]
    }
   ],
   "source": [
    "protonator = PropKaProtonator(rtf_loader['prot'], param_loader['prot'], pH = pH)\n",
    "protonator.load_model(new_model)\n",
    "protonator.apply_patches()\n",
    "if pcm_get_natom() > 0:\n",
    "    pcm_del_atoms()\n",
    "for chain in new_model:\n",
    "    if len(protonator.patches[chain.id]) > 0:\n",
    "        built_atoms = fix_chain(chain)\n",
    "    # Also load the chain into CHARMM\n",
    "    pcm_interface.load_chain(chain)"
   ]
  },
  {
   "cell_type": "markdown",
   "id": "638916f0-55d1-409e-b65a-f2156acd2939",
   "metadata": {},
   "source": [
    "These protonation patches are identified but not yet loaded into `CHARMM`"
   ]
  },
  {
   "cell_type": "code",
   "execution_count": 13,
   "id": "77d5705c-a17f-4a65-a38a-c98ee7ecd829",
   "metadata": {},
   "outputs": [
    {
     "data": {
      "text/plain": [
       "{'A': {123: 'GLUP', 296: 'GLUP', 538: 'LSN', 608: 'LSN', 664: 'GLUP'}}"
      ]
     },
     "execution_count": 13,
     "metadata": {},
     "output_type": "execute_result"
    }
   ],
   "source": [
    "protonator.patches"
   ]
  },
  {
   "cell_type": "markdown",
   "id": "d81b2083-7204-4ce3-997c-edd811066f8b",
   "metadata": {},
   "source": [
    "## Update CHARMM Residues with pyCHARMM patch Command"
   ]
  },
  {
   "cell_type": "code",
   "execution_count": 14,
   "id": "3177f68a-e9c2-40ef-9501-e6b5ef6deb71",
   "metadata": {
    "tags": []
   },
   "outputs": [
    {
     "name": "stdout",
     "output_type": "stream",
     "text": [
      "  \n",
      " CHARMM>     patch GLUP PROA 123\n",
      " ATOM  PROA GLU  123  HE2  ADDED.\n",
      "\n",
      " Message from MAPIC: Atom numbers are changed.\n",
      " AUTGEN: Autogenerating specified angles and dihedrals.\n",
      " AUTOGEN: 24586 angles are removed before regeneration for selected atoms.\n",
      " AUTOGEN: 36025 dihedrals are removed before regeneration for selected atoms.\n",
      " PATCH: Check angles and dihedrals autogenerated.\n",
      " PSFSUM> PSF modified: NONBOND lists and IMAGE atoms cleared.\n",
      " PSFSUM> Summary of the structure file counters :\n",
      "         Number of segments      =        1   Number of residues   =      829\n",
      "         Number of atoms         =    13471   Number of groups     =     4026\n",
      "         Number of bonds         =    13623   Number of angles     =    24587\n",
      "         Number of dihedrals     =    36027   Number of impropers  =     2393\n",
      "         Number of cross-terms   =      829   Number of autogens   =        0\n",
      "         Number of HB acceptors  =     1249   Number of HB donors  =     1543\n",
      "         Number of NB exclusions =        0   Total charge =   -1.00000\n",
      "  \n",
      "  \n",
      " CHARMM>     patch GLUP PROA 296\n",
      " ATOM  PROA GLU  296  HE2  ADDED.\n",
      "\n",
      " Message from MAPIC: Atom numbers are changed.\n",
      " AUTGEN: Autogenerating specified angles and dihedrals.\n",
      " AUTOGEN: 24587 angles are removed before regeneration for selected atoms.\n",
      " AUTOGEN: 36027 dihedrals are removed before regeneration for selected atoms.\n",
      " PATCH: Check angles and dihedrals autogenerated.\n",
      " PSFSUM> PSF modified: NONBOND lists and IMAGE atoms cleared.\n",
      " PSFSUM> Summary of the structure file counters :\n",
      "         Number of segments      =        1   Number of residues   =      829\n",
      "         Number of atoms         =    13472   Number of groups     =     4026\n",
      "         Number of bonds         =    13624   Number of angles     =    24588\n",
      "         Number of dihedrals     =    36029   Number of impropers  =     2393\n",
      "         Number of cross-terms   =      829   Number of autogens   =        0\n",
      "         Number of HB acceptors  =     1249   Number of HB donors  =     1544\n",
      "         Number of NB exclusions =        0   Total charge =   -0.00000\n",
      "  \n",
      "  \n",
      " CHARMM>     patch LSN PROA 538\n",
      " ATOM  PROA 538  LYS  HZ3  AND ALL REFERENCES TO IT DELETED.\n",
      "\n",
      " Message from MAPIC: Atom numbers are changed.\n",
      " DELTIC:         1 bonds deleted\n",
      " DELTIC:         3 angles deleted\n",
      " DELTIC:         3 dihedrals deleted\n",
      " DELTIC:         1 donors deleted\n",
      " AUTGEN: Autogenerating specified angles and dihedrals.\n",
      " AUTOGEN: 24585 angles are removed before regeneration for selected atoms.\n",
      " AUTOGEN: 36026 dihedrals are removed before regeneration for selected atoms.\n",
      " PATCH: Check angles and dihedrals autogenerated.\n",
      " PSFSUM> PSF modified: NONBOND lists and IMAGE atoms cleared.\n",
      " PSFSUM> Summary of the structure file counters :\n",
      "         Number of segments      =        1   Number of residues   =      829\n",
      "         Number of atoms         =    13471   Number of groups     =     4026\n",
      "         Number of bonds         =    13623   Number of angles     =    24585\n",
      "         Number of dihedrals     =    36026   Number of impropers  =     2393\n",
      "         Number of cross-terms   =      829   Number of autogens   =        0\n",
      "         Number of HB acceptors  =     1249   Number of HB donors  =     1543\n",
      "         Number of NB exclusions =        0   Total charge =   -1.00000\n",
      "  \n",
      "  \n",
      " CHARMM>     patch LSN PROA 608\n",
      " ATOM  PROA 608  LYS  HZ3  AND ALL REFERENCES TO IT DELETED.\n",
      "\n",
      " Message from MAPIC: Atom numbers are changed.\n",
      " DELTIC:         1 bonds deleted\n",
      " DELTIC:         3 angles deleted\n",
      " DELTIC:         3 dihedrals deleted\n",
      " DELTIC:         1 donors deleted\n",
      " AUTGEN: Autogenerating specified angles and dihedrals.\n",
      " AUTOGEN: 24582 angles are removed before regeneration for selected atoms.\n",
      " AUTOGEN: 36023 dihedrals are removed before regeneration for selected atoms.\n",
      " PATCH: Check angles and dihedrals autogenerated.\n",
      " PSFSUM> PSF modified: NONBOND lists and IMAGE atoms cleared.\n",
      " PSFSUM> Summary of the structure file counters :\n",
      "         Number of segments      =        1   Number of residues   =      829\n",
      "         Number of atoms         =    13470   Number of groups     =     4026\n",
      "         Number of bonds         =    13622   Number of angles     =    24582\n",
      "         Number of dihedrals     =    36023   Number of impropers  =     2393\n",
      "         Number of cross-terms   =      829   Number of autogens   =        0\n",
      "         Number of HB acceptors  =     1249   Number of HB donors  =     1542\n",
      "         Number of NB exclusions =        0   Total charge =   -2.00000\n",
      "  \n",
      "  \n",
      " CHARMM>     patch GLUP PROA 664\n",
      " ATOM  PROA GLU  664  HE2  ADDED.\n",
      "\n",
      " Message from MAPIC: Atom numbers are changed.\n",
      " AUTGEN: Autogenerating specified angles and dihedrals.\n",
      " AUTOGEN: 24582 angles are removed before regeneration for selected atoms.\n",
      " AUTOGEN: 36023 dihedrals are removed before regeneration for selected atoms.\n",
      " PATCH: Check angles and dihedrals autogenerated.\n",
      " PSFSUM> PSF modified: NONBOND lists and IMAGE atoms cleared.\n",
      " PSFSUM> Summary of the structure file counters :\n",
      "         Number of segments      =        1   Number of residues   =      829\n",
      "         Number of atoms         =    13471   Number of groups     =     4026\n",
      "         Number of bonds         =    13623   Number of angles     =    24583\n",
      "         Number of dihedrals     =    36025   Number of impropers  =     2393\n",
      "         Number of cross-terms   =      829   Number of autogens   =        0\n",
      "         Number of HB acceptors  =     1249   Number of HB donors  =     1543\n",
      "         Number of NB exclusions =        0   Total charge =   -1.00000\n",
      "  \n"
     ]
    }
   ],
   "source": [
    "for chain_id, patch_dict in protonator.patches.items():\n",
    "    for resid, patch_name in patch_dict.items():\n",
    "        pcm_patch(patch_name, f'PRO{chain_id} {resid}')"
   ]
  },
  {
   "cell_type": "markdown",
   "id": "4bbec131-baa8-4bb5-b1a0-a50a41086cfa",
   "metadata": {},
   "source": [
    "Check the generated bonds, angle, dihedrals, etc. They should match between CHARMM and crimm"
   ]
  },
  {
   "cell_type": "code",
   "execution_count": 15,
   "id": "7b67f3f3-b55c-4c15-aab0-e3e88cb82ec9",
   "metadata": {},
   "outputs": [
    {
     "data": {
      "text/plain": [
       "<TopologyElementContainer for <Polypeptide(L) id=A Residues=829> with bonds=13623, angles=24583, dihedrals=36025, impropers=2393, cmap=0>"
      ]
     },
     "execution_count": 15,
     "metadata": {},
     "output_type": "execute_result"
    }
   ],
   "source": [
    "new_model.chains[0].topo_elements"
   ]
  },
  {
   "cell_type": "markdown",
   "id": "4b6b2afa-c4f7-4ac3-9e09-906a8c4c2390",
   "metadata": {},
   "source": [
    "## Patch Disulfide Bond\n",
    "If any disulfide bond exists in the structure, we will patch them in the `CHARMM` structure. However, disulfide bonds have not been fully implemented in `crimm`."
   ]
  },
  {
   "cell_type": "code",
   "execution_count": 16,
   "id": "2a76de88-67da-4405-b536-2c56617a5ff5",
   "metadata": {},
   "outputs": [],
   "source": [
    "if 'disulf' in structure.models[0].connect_dict:\n",
    "    for res1, res2 in structure.models[0].connect_dict['disulf']:\n",
    "        seg1, seg2 = res1['chain'], res2['chain']\n",
    "        seq1, seq2 = res1['resseq'], res2['resseq']\n",
    "        patch_arg = f'PRO{seg1} {seq1} PRO{seg2} {seq2}'\n",
    "        print('DISU', patch_arg)\n",
    "        pcm_patch('DISU', patch_arg)"
   ]
  },
  {
   "cell_type": "markdown",
   "id": "bfc7f9cd-9f4e-4ecc-8e8a-4dc45f012316",
   "metadata": {},
   "source": [
    "## Save the structure as PDB and PSF files"
   ]
  },
  {
   "cell_type": "code",
   "execution_count": 17,
   "id": "4ce115d9-c924-48ae-ad66-34944444287a",
   "metadata": {},
   "outputs": [],
   "source": [
    "from pycharmm import write"
   ]
  },
  {
   "cell_type": "code",
   "execution_count": 18,
   "id": "3c3dab57-819a-4178-9df8-6e15db6889d1",
   "metadata": {},
   "outputs": [
    {
     "name": "stdout",
     "output_type": "stream",
     "text": [
      "  \n",
      " CHARMM>     write name 1a8i.pdb -\n",
      " CHARMM>     coor pdb\n",
      " VOPEN> Attempting to open::1a8i.pdb::\n",
      " RDTITL>  \n",
      " RDTITL> No title read.\n",
      "  Write CHARMM-pdb format\n",
      " VCLOSE: Closing unit   91 with status \"KEEP\"\n",
      "  \n",
      " CHARMM>     \n",
      "  \n",
      "  \n",
      " CHARMM>     write name 1a8i.psf -\n",
      " CHARMM>     psf card\n",
      " VOPEN> Attempting to open::1a8i.psf::\n",
      " RDTITL>  \n",
      " RDTITL> No title read.\n",
      " VCLOSE: Closing unit   91 with status \"KEEP\"\n",
      " VCLOSE: Closing unit   91 with status \"KEEP\"\n",
      "  \n",
      " CHARMM>     \n",
      "  \n"
     ]
    }
   ],
   "source": [
    "write.coor_pdb(f'{pdb_id}.pdb')\n",
    "write.psf_card(f'{pdb_id}.psf')"
   ]
  },
  {
   "cell_type": "markdown",
   "id": "2df4c100-e6c8-43fd-a709-7d10dd510a96",
   "metadata": {},
   "source": [
    "## Preperation Script with Command Line Interface\n",
    "The routine above is written as a function in the `load_pdbid_in_charmm.py`. It can also be invoke from command line with\n",
    "```bash\n",
    "python -m crimm.Adaptors.charmm_struct_prep 7zap\n",
    "```\n",
    "or use it as a function in any python script."
   ]
  },
  {
   "cell_type": "code",
   "execution_count": 1,
   "id": "d649ec52-5154-4339-8823-ff8e6403e4f3",
   "metadata": {},
   "outputs": [
    {
     "data": {
      "application/vnd.jupyter.widget-view+json": {
       "model_id": "722e88f99ac3491aba0943bef371da37",
       "version_major": 2,
       "version_minor": 0
      },
      "text/plain": []
     },
     "metadata": {},
     "output_type": "display_data"
    }
   ],
   "source": [
    "from crimm.Adaptors.charmm_struct_prep import load_pdbid_in_charmm"
   ]
  },
  {
   "cell_type": "code",
   "execution_count": 2,
   "id": "9b97adc4-7006-4cae-8051-45f333343894",
   "metadata": {},
   "outputs": [
    {
     "name": "stderr",
     "output_type": "stream",
     "text": [
      "/home/truman/crimm/crimm/Modeller/ParamLoader.py:167: UserWarning: No cmap found in <Polypeptide(L) id=A Residues=97>.\n",
      "  warnings.warn(\n",
      "/home/truman/crimm/crimm/Modeller/ParamLoader.py:167: UserWarning: No cmap found in <Polyribonucleotide id=B Residues=28>.\n",
      "  warnings.warn(\n",
      "Unexpected number (11) of atoms in residue MET   1 A   in conformation 1A\n",
      "Unexpected number (7) of atoms in residue ALA  97 A   in conformation 1A\n"
     ]
    },
    {
     "name": "stdout",
     "output_type": "stream",
     "text": [
      "  \n",
      " CHARMM>     read sequence pdb -\n",
      " CHARMM>     name /tmp/tmp125p9vvf\n",
      " VOPEN> Attempting to open::/tmp/tmp125p9vvf::\n",
      " MAINIO> Sequence information being read from unit  91.\n",
      " TITLE>  *\n",
      "\n",
      "          RESIDUE SEQUENCE --    97 RESIDUES\n",
      "          MET ILE ASP ASN LEU THR PRO GLU GLU ARG ASP ALA ARG THR VAL PHE CYS MET GLN LEU \n",
      "          ALA ALA ARG ILE ARG PRO ARG ASP LEU GLU GLU PHE PHE SER THR VAL GLY LYS VAL ARG \n",
      "          ASP VAL ARG MET ILE SER ASP ARG ASN SER ARG ARG SER LYS GLY ILE ALA TYR VAL GLU \n",
      "          PHE VAL ASP VAL SER SER VAL PRO LEU ALA ILE GLY LEU THR GLY GLN ARG VAL LEU GLY \n",
      "          VAL PRO ILE ILE VAL GLN ALA SER GLN ALA GLU LYS ASN ARG ALA ALA ALA \n",
      " ***** Message from SEQRDR ***** THE SYSTEM CONTAINS 16 TITRATABLE GROUPS\n",
      " THE USER MUST PREDETERMINE THE PROTONATION STATE THROUGH THE SEQUENCE AND RTF\n",
      " HIS -  0  HSD -  0  HSE -  0  HSP -  0  ASP -  6  GLU -  6  LYS -  3  TYR -  1\n",
      " VCLOSE: Closing unit   91 with status \"KEEP\"\n",
      "  \n",
      " CHARMM>     \n",
      "  \n",
      " THE PATCH 'ACE' WILL BE USED FOR THE FIRST RESIDUE\n",
      " THE PATCH 'CT3' WILL BE USED FOR THE LAST  RESIDUE\n",
      " AUTGEN: Autogenerating specified angles and dihedrals.\n",
      " GENPSF> Segment   1 has been generated. Its identifier is PROA.\n",
      " PSFSUM> PSF modified: NONBOND lists and IMAGE atoms cleared.\n",
      " PSFSUM> Summary of the structure file counters :\n",
      "         Number of segments      =        1   Number of residues   =       97\n",
      "         Number of atoms         =     1548   Number of groups     =      448\n",
      "         Number of bonds         =     1556   Number of angles     =     2812\n",
      "         Number of dihedrals     =     4082   Number of impropers  =      272\n",
      "         Number of cross-terms   =       97   Number of autogens   =        0\n",
      "         Number of HB acceptors  =      141   Number of HB donors  =      190\n",
      "         Number of NB exclusions =        0   Total charge =    3.00000\n",
      "  \n",
      " CHARMM>     read coor pdb -\n",
      " CHARMM>     name /tmp/tmp125p9vvf -\n",
      " CHARMM>     resi\n",
      " VOPEN> Attempting to open::/tmp/tmp125p9vvf::\n",
      "  read CHARMM-pdb format\n",
      "          SPATIAL COORDINATES BEING READ FROM UNIT 91\n",
      " TITLE>  *\n",
      " VCLOSE: Closing unit   91 with status \"KEEP\"\n",
      "  \n",
      " CHARMM>     \n",
      "  \n",
      "  \n",
      " CHARMM>     read sequence pdb -\n",
      " CHARMM>     name /tmp/tmps5oll_qp\n",
      " VOPEN> Attempting to open::/tmp/tmps5oll_qp::\n",
      " MAINIO> Sequence information being read from unit  91.\n",
      " TITLE>  *\n",
      "\n",
      "          RESIDUE SEQUENCE --    28 RESIDUES\n",
      "          GUA GUA GUA ADE URA URA URA CYT CYT CYT CYT ADE ADE ADE URA GUA URA GUA GUA GUA \n",
      "          ADE ADE ADE CYT URA CYT CYT CYT \n",
      " VCLOSE: Closing unit   91 with status \"KEEP\"\n",
      "  \n",
      " CHARMM>     \n",
      "  \n",
      " THE PATCH '5TER' WILL BE USED FOR THE FIRST RESIDUE\n",
      " THE PATCH '3PHO' WILL BE USED FOR THE LAST  RESIDUE\n",
      " AUTGEN: Autogenerating specified angles and dihedrals.\n",
      " GENPSF> Segment   2 has been generated. Its identifier is PROB.\n",
      " PSFSUM> PSF modified: NONBOND lists and IMAGE atoms cleared.\n",
      " PSFSUM> Summary of the structure file counters :\n",
      "         Number of segments      =        2   Number of residues   =      125\n",
      "         Number of atoms         =     2448   Number of groups     =      561\n",
      "         Number of bonds         =     2525   Number of angles     =     4543\n",
      "         Number of dihedrals     =     6658   Number of impropers  =      343\n",
      "         Number of cross-terms   =       97   Number of autogens   =        0\n",
      "         Number of HB acceptors  =      380   Number of HB donors  =      277\n",
      "         Number of NB exclusions =        0   Total charge =  -25.00000\n",
      "  \n",
      " CHARMM>     read coor pdb -\n",
      " CHARMM>     name /tmp/tmps5oll_qp -\n",
      " CHARMM>     resi\n",
      " VOPEN> Attempting to open::/tmp/tmps5oll_qp::\n",
      "  read CHARMM-pdb format\n",
      "          SPATIAL COORDINATES BEING READ FROM UNIT 91\n",
      " TITLE>  *\n",
      " VCLOSE: Closing unit   91 with status \"KEEP\"\n",
      "  \n",
      " CHARMM>     \n",
      "  \n"
     ]
    }
   ],
   "source": [
    "pdb_id = '7zap'\n",
    "structure = load_pdbid_in_charmm(\n",
    "        pdb_id,\n",
    "        pH = 7.4,\n",
    "        prot_first_patch = 'ACE',\n",
    "        prot_last_patch = 'CT3',\n",
    "        na_first_patch = '5TER',\n",
    "        na_last_patch = '3PHO',\n",
    "        sd_nstep = 300,\n",
    "        abnr_nstep = 0,\n",
    "        charmm_verbosity_level = 0,\n",
    "    )"
   ]
  },
  {
   "cell_type": "code",
   "execution_count": 3,
   "id": "47207601-95e7-4b0c-9a6a-70fcf6487712",
   "metadata": {},
   "outputs": [
    {
     "data": {
      "application/vnd.jupyter.widget-view+json": {
       "model_id": "51667c4188ee435b9a737f0bdd711fda",
       "version_major": 2,
       "version_minor": 0
      },
      "text/plain": [
       "NGLWidget()"
      ]
     },
     "metadata": {},
     "output_type": "display_data"
    },
    {
     "name": "stdout",
     "output_type": "stream",
     "text": [
      "<Structure id=7ZAP Models=1>\n",
      "│\n",
      "├───<Model id=1 Chains=2>\n",
      "\t│\n",
      "\t├───<Polypeptide(L) id=A Residues=97>\n",
      "\t├──────Description: RNA-binding protein 39\n",
      "\t│\n",
      "\t├───<Polyribonucleotide id=B Residues=28>\n",
      "\t├──────Description: U1 snRNA SL3\n"
     ]
    }
   ],
   "source": [
    "structure"
   ]
  },
  {
   "cell_type": "code",
   "execution_count": null,
   "id": "c9086b5f-3ea7-4294-bbb4-fde753faeb23",
   "metadata": {},
   "outputs": [],
   "source": []
  }
 ],
 "metadata": {
  "kernelspec": {
   "display_name": "pcm-devel",
   "language": "python",
   "name": "pcm-devel"
  },
  "language_info": {
   "codemirror_mode": {
    "name": "ipython",
    "version": 3
   },
   "file_extension": ".py",
   "mimetype": "text/x-python",
   "name": "python",
   "nbconvert_exporter": "python",
   "pygments_lexer": "ipython3",
   "version": "3.10.11"
  }
 },
 "nbformat": 4,
 "nbformat_minor": 5
}

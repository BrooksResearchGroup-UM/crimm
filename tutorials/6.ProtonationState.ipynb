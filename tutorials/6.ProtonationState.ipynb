{
 "cells": [
  {
   "cell_type": "code",
   "execution_count": 1,
   "id": "ce368a13-d22e-49d7-ad44-9653f7bec82e",
   "metadata": {},
   "outputs": [
    {
     "data": {
      "application/vnd.jupyter.widget-view+json": {
       "model_id": "ca3aa141df924fb99508200c5d11ee7e",
       "version_major": 2,
       "version_minor": 0
      },
      "text/plain": []
     },
     "metadata": {},
     "output_type": "display_data"
    }
   ],
   "source": [
    "from crimm.Adaptors.PropKaAdaptors import PropKaProtonator\n",
    "from crimm.Modeller import TopologyLoader, ParameterLoader\n",
    "from crimm.Modeller.TopoFixer import fix_chain\n",
    "from crimm import fetch_alphafold, fetch_rcsb"
   ]
  },
  {
   "cell_type": "markdown",
   "id": "55c277e8-234f-4a1d-bbc1-7b97dbb9c174",
   "metadata": {},
   "source": [
    "## Patch residues in chains based on propKa predicted protonation states\n",
    "In this example, we are going to predict protonation states on titratable residues from an AlphaFold structure"
   ]
  },
  {
   "cell_type": "code",
   "execution_count": 2,
   "id": "47bbebe9-6de1-45bc-8a02-a9d54f8b5515",
   "metadata": {},
   "outputs": [],
   "source": [
    "# load topology definitions and parameters for protein\n",
    "param = ParameterLoader('protein')\n",
    "topo = TopologyLoader('protein')"
   ]
  },
  {
   "cell_type": "code",
   "execution_count": 3,
   "id": "68c9e776-c0d9-4942-8382-c55721ff2d8d",
   "metadata": {},
   "outputs": [
    {
     "data": {
      "application/vnd.jupyter.widget-view+json": {
       "model_id": "2dafcd182e02439ba47a2df87257f231",
       "version_major": 2,
       "version_minor": 0
      },
      "text/plain": [
       "NGLWidget()"
      ]
     },
     "metadata": {},
     "output_type": "display_data"
    },
    {
     "name": "stdout",
     "output_type": "stream",
     "text": [
      "<Polypeptide(L) id=A Residues=843>\n",
      "  Description: Glycogen phosphorylase, muscle form\n"
     ]
    }
   ],
   "source": [
    "# fetch AlphaFold structure for 1A8I chain A\n",
    "structure = fetch_alphafold('P00489')\n",
    "chain = structure.models[0].chains[0]\n",
    "chain"
   ]
  },
  {
   "cell_type": "code",
   "execution_count": 4,
   "id": "323d88b2-c501-4da8-8ef5-775626143d8c",
   "metadata": {},
   "outputs": [
    {
     "name": "stderr",
     "output_type": "stream",
     "text": [
      "/home/truman/crimm/crimm/Modeller/TopoLoader.py:363: UserWarning: Atom OXT from (843, 'PRO') is not defined in the topology file!\n",
      "  warnings.warn(\n",
      "/home/truman/crimm/crimm/Modeller/ParamLoader.py:167: UserWarning: No cmap found in <Polypeptide(L) id=A Residues=843>.\n",
      "  warnings.warn(\n"
     ]
    }
   ],
   "source": [
    "# generate topology and define terminal patches\n",
    "topo.generate_chain_topology(chain, first_patch = 'ACE', last_patch = 'CT3', coerce=True)\n",
    "param.fill_ic(topo)\n",
    "param.apply(chain.topo_elements)\n",
    "# build patches\n",
    "built_atoms = fix_chain(chain)"
   ]
  },
  {
   "cell_type": "markdown",
   "id": "c4a3653c-d0c5-4da7-ae41-abcd1b99623f",
   "metadata": {},
   "source": [
    "## PropKa Protonation State Prediction\n",
    "The `PropKaProtonator` uses propKa as a backend for prediction but is intended to use as a module for scripting.\n",
    "\n",
    "The protonator requires 3 argments to instantiate: topology, parameter, and the pH value for residue protonation predictions."
   ]
  },
  {
   "cell_type": "code",
   "execution_count": 5,
   "id": "ed8e43b7-ee12-4fcc-b09b-9f89735b29c4",
   "metadata": {},
   "outputs": [],
   "source": [
    "protonator = PropKaProtonator(topo, param, pH=7.4)"
   ]
  },
  {
   "cell_type": "markdown",
   "id": "07235c3b-4462-4735-a443-032cdcd11d02",
   "metadata": {},
   "source": [
    "Use `load_model()` method to load a model object, and the protonation state prediction on each protein chain in the model will be done automatically. \n",
    "\n",
    "The `apply_patches()` method is design to use with CHARMM/pyCHARMM. Since CHARMM residue topology parameter files only has a subset of titratable residues defined, namely\n",
    "\n",
    "**Protonations**\n",
    "1. ASP -> ASPP\n",
    "2. GLU -> GLUP\n",
    "\n",
    "**Deprotonations**\n",
    "1. LYS -> LSN (neutral lysine)\n",
    "2. CYS -> CYSD\n",
    "3. SER -> SERD\n",
    "\n",
    "**Special Cases**\n",
    "1. HIS -> HSP Protonated histidine is actually a complete residue definition rather than a patched definition from CHARMM. \n",
    "\n",
    "The function `apply_patches()` will only modify or replace the residue topology definition from the above."
   ]
  },
  {
   "cell_type": "code",
   "execution_count": 6,
   "id": "74c7ebbb-582c-42d0-8d7e-cd3e6baae870",
   "metadata": {},
   "outputs": [
    {
     "name": "stderr",
     "output_type": "stream",
     "text": [
      "Unexpected number (11) of atoms in residue MET   1 A   in conformation 1A\n",
      "Unexpected number (9) of atoms in residue PRO 843 A   in conformation 1A\n",
      "/home/truman/crimm/crimm/Modeller/TopoLoader.py:363: UserWarning: Atom HZ3 from (681, 'LYS') is not defined in the topology file!\n",
      "  warnings.warn(\n"
     ]
    }
   ],
   "source": [
    "protonator.load_model(structure.models[0])\n",
    "protonator.apply_patches()\n",
    "# Currently, to reflect the changed residue definition on the structure\n",
    "# fix_chain() has to be called explicitly\n",
    "built_atoms = fix_chain(chain)"
   ]
  },
  {
   "cell_type": "markdown",
   "id": "a93603ed-fb35-4342-9be7-40845869f645",
   "metadata": {},
   "source": [
    "The residue definition patched/replaced can be accessed in `protonator.patches`"
   ]
  },
  {
   "cell_type": "code",
   "execution_count": 7,
   "id": "3c20b020-3b8e-453a-8bfa-38db03f7768e",
   "metadata": {},
   "outputs": [
    {
     "data": {
      "text/plain": [
       "{'A': {124: 'GLUP', 297: 'GLUP', 342: 'HSP', 665: 'GLUP', 681: 'LSN'}}"
      ]
     },
     "execution_count": 7,
     "metadata": {},
     "output_type": "execute_result"
    }
   ],
   "source": [
    "protonator.patches"
   ]
  },
  {
   "cell_type": "markdown",
   "id": "99bd13fc-ed51-438a-a544-6baa820e2f84",
   "metadata": {},
   "source": [
    "Alternatively, the `TopologyLoader` object has the attribute `patched_defs` for all the patched residues including terminal patches"
   ]
  },
  {
   "cell_type": "code",
   "execution_count": 8,
   "id": "db9d0450-557a-4aec-871c-564254fea76c",
   "metadata": {},
   "outputs": [
    {
     "data": {
      "text/plain": [
       "{'MET_ACE': <Residue Definition name=MET code=M atoms=23 Patched with ACE>,\n",
       " 'PRO_CT3': <Residue Definition name=PRO code=P atoms=20 Patched with CT3>,\n",
       " 'GLU_GLUP': <Residue Definition name=GLU code=E atoms=16 Patched with GLUP>,\n",
       " 'LYS_LSN': <Residue Definition name=LYS code=K atoms=21 Patched with LSN>}"
      ]
     },
     "execution_count": 8,
     "metadata": {},
     "output_type": "execute_result"
    }
   ],
   "source": [
    "topo.patched_defs"
   ]
  },
  {
   "cell_type": "markdown",
   "id": "8fadb716-bc4d-4976-b380-58cabae0acf5",
   "metadata": {},
   "source": [
    "## Report from propKa\n",
    "All other prediction made from propKa can be shown with `protonator.report()` or as a dictionary from `protonator.to_dict()` or if you have pandas installed, `protonator.to_dataframe()`"
   ]
  },
  {
   "cell_type": "code",
   "execution_count": 9,
   "id": "d4239b10-4a6e-4ae3-926f-2fd3c0fc70b9",
   "metadata": {},
   "outputs": [],
   "source": [
    "df = protonator.to_dataframe()"
   ]
  },
  {
   "cell_type": "code",
   "execution_count": 10,
   "id": "aa42231e-b4a0-49ae-86ea-15a1faf38568",
   "metadata": {},
   "outputs": [
    {
     "data": {
      "text/html": [
       "<div>\n",
       "<style scoped>\n",
       "    .dataframe tbody tr th:only-of-type {\n",
       "        vertical-align: middle;\n",
       "    }\n",
       "\n",
       "    .dataframe tbody tr th {\n",
       "        vertical-align: top;\n",
       "    }\n",
       "\n",
       "    .dataframe thead th {\n",
       "        text-align: right;\n",
       "    }\n",
       "</style>\n",
       "<table border=\"1\" class=\"dataframe\">\n",
       "  <thead>\n",
       "    <tr style=\"text-align: right;\">\n",
       "      <th></th>\n",
       "      <th>chain_id</th>\n",
       "      <th>resseq</th>\n",
       "      <th>resname</th>\n",
       "      <th>pka</th>\n",
       "      <th>model_pka</th>\n",
       "      <th>buriedness</th>\n",
       "    </tr>\n",
       "  </thead>\n",
       "  <tbody>\n",
       "    <tr>\n",
       "      <th>4</th>\n",
       "      <td>A</td>\n",
       "      <td>10</td>\n",
       "      <td>LYS</td>\n",
       "      <td>11.040684</td>\n",
       "      <td>10.5</td>\n",
       "      <td>0.0</td>\n",
       "    </tr>\n",
       "    <tr>\n",
       "      <th>6</th>\n",
       "      <td>A</td>\n",
       "      <td>12</td>\n",
       "      <td>LYS</td>\n",
       "      <td>10.353526</td>\n",
       "      <td>10.5</td>\n",
       "      <td>0.0</td>\n",
       "    </tr>\n",
       "    <tr>\n",
       "      <th>10</th>\n",
       "      <td>A</td>\n",
       "      <td>29</td>\n",
       "      <td>LYS</td>\n",
       "      <td>10.122493</td>\n",
       "      <td>10.5</td>\n",
       "      <td>0.0</td>\n",
       "    </tr>\n",
       "    <tr>\n",
       "      <th>11</th>\n",
       "      <td>A</td>\n",
       "      <td>30</td>\n",
       "      <td>LYS</td>\n",
       "      <td>11.319016</td>\n",
       "      <td>10.5</td>\n",
       "      <td>0.0</td>\n",
       "    </tr>\n",
       "    <tr>\n",
       "      <th>15</th>\n",
       "      <td>A</td>\n",
       "      <td>42</td>\n",
       "      <td>LYS</td>\n",
       "      <td>10.810584</td>\n",
       "      <td>10.5</td>\n",
       "      <td>0.0</td>\n",
       "    </tr>\n",
       "  </tbody>\n",
       "</table>\n",
       "</div>"
      ],
      "text/plain": [
       "   chain_id  resseq resname        pka  model_pka  buriedness\n",
       "4         A      10     LYS  11.040684       10.5         0.0\n",
       "6         A      12     LYS  10.353526       10.5         0.0\n",
       "10        A      29     LYS  10.122493       10.5         0.0\n",
       "11        A      30     LYS  11.319016       10.5         0.0\n",
       "15        A      42     LYS  10.810584       10.5         0.0"
      ]
     },
     "execution_count": 10,
     "metadata": {},
     "output_type": "execute_result"
    }
   ],
   "source": [
    "df[df['resname'] == 'LYS'].head()"
   ]
  },
  {
   "cell_type": "markdown",
   "id": "70051f00-20d9-4da6-8bb1-4b8d300e7d97",
   "metadata": {},
   "source": [
    "Finally, to apply these patches in pyCHARMM, the `patch` function from `pycharmm.generate` should be used "
   ]
  },
  {
   "cell_type": "code",
   "execution_count": 11,
   "id": "56f790c8-c685-4a20-9706-7b182a32c025",
   "metadata": {},
   "outputs": [],
   "source": [
    "from crimm.Adaptors.pyCHARMMAdaptors import load_chain, load_topology, load_parameters\n",
    "from pycharmm.generate import patch"
   ]
  },
  {
   "cell_type": "code",
   "execution_count": 12,
   "id": "3462a5e5-9be7-41d3-aa01-cff576a12e93",
   "metadata": {
    "tags": []
   },
   "outputs": [
    {
     "name": "stdout",
     "output_type": "stream",
     "text": [
      "  \n",
      " CHARMM>     read rtf card -\n",
      " CHARMM>     name /tmp/tmpyif5u1ry\n",
      " VOPEN> Attempting to open::/tmp/tmpyif5u1ry::\n",
      " MAINIO> Residue topology file being read from unit  91.\n",
      " TITLE> *RTF LOADED FROM CRIMM\n",
      " TITLE> 36  2\n",
      " VCLOSE: Closing unit   91 with status \"KEEP\"\n",
      "  \n",
      " CHARMM>     \n",
      "  \n",
      "  \n",
      " CHARMM>     read param card -\n",
      " CHARMM>     name /tmp/tmpyj_nr_ip -\n",
      " CHARMM>     flex\n",
      " VOPEN> Attempting to open::/tmp/tmpyj_nr_ip::\n",
      "\n",
      "          PARAMETER FILE BEING READ FROM UNIT 91\n",
      " TITLE> *PRM LOADED FROM CRIMM\n",
      " TITLE> *>>>> CHARMM36 ALL-HYDROGEN PARAMETER FILE FOR PROTEINS <<<<<<<<<<\n",
      " TITLE> *>>>>> INCLUDES PHI, PSI CROSS TERM MAP (CMAP) CORRECTION <<<<<<<<\n",
      " TITLE> *>>>>>>>>>>>>>>>>>>>>>>>>>> JAN. 2016 <<<<<<<<<<<<<<<<<<<<<<<<<<<<\n",
      " TITLE> * ALL COMMENTS TO THE CHARMM WEB SITE: WWW.CHARMM.ORG\n",
      " TITLE> *             PARAMETER SET DISCUSSION FORUM\n",
      " TITLE> *\n",
      " PARMIO> NONBOND, HBOND lists and IMAGE atoms cleared.\n",
      " VCLOSE: Closing unit   91 with status \"KEEP\"\n",
      "  \n",
      " CHARMM>     \n",
      "  \n",
      "  \n",
      " CHARMM>     read sequence pdb -\n",
      " CHARMM>     name /tmp/tmp6oxnimbl\n",
      " VOPEN> Attempting to open::/tmp/tmp6oxnimbl::\n",
      " MAINIO> Sequence information being read from unit  91.\n",
      " TITLE>  *\n",
      "\n",
      "          RESIDUE SEQUENCE --   843 RESIDUES\n",
      "          MET SER ARG PRO LEU SER ASP GLN GLU LYS ARG LYS GLN ILE SER VAL ARG GLY LEU ALA \n",
      "          GLY VAL GLU ASN VAL THR GLU LEU LYS LYS ASN PHE ASN ARG HSD LEU HSD PHE THR LEU \n",
      "          VAL LYS ASP ARG ASN VAL ALA THR PRO ARG ASP TYR TYR PHE ALA LEU ALA HSD THR VAL \n",
      "          ARG ASP HSD LEU VAL GLY ARG TRP ILE ARG THR GLN GLN HSD TYR TYR GLU LYS ASP PRO \n",
      "          LYS ARG ILE TYR TYR LEU SER LEU GLU PHE TYR MET GLY ARG THR LEU GLN ASN THR MET \n",
      "          VAL ASN LEU ALA LEU GLU ASN ALA CYS ASP GLU ALA THR TYR GLN LEU GLY LEU ASP MET \n",
      "          GLU GLU LEU GLU GLU ILE GLU GLU ASP ALA GLY LEU GLY ASN GLY GLY LEU GLY ARG LEU \n",
      "          ALA ALA CYS PHE LEU ASP SER MET ALA THR LEU GLY LEU ALA ALA TYR GLY TYR GLY ILE \n",
      "          ARG TYR GLU PHE GLY ILE PHE ASN GLN LYS ILE CYS GLY GLY TRP GLN MET GLU GLU ALA \n",
      "          ASP ASP TRP LEU ARG TYR GLY ASN PRO TRP GLU LYS ALA ARG PRO GLU PHE THR LEU PRO \n",
      "          VAL HSD PHE TYR GLY ARG VAL GLU HSD THR SER GLN GLY ALA LYS TRP VAL ASP THR GLN \n",
      "          VAL VAL LEU ALA MET PRO TYR ASP THR PRO VAL PRO GLY TYR ARG ASN ASN VAL VAL ASN \n",
      "          THR MET ARG LEU TRP SER ALA LYS ALA PRO ASN ASP PHE ASN LEU LYS ASP PHE ASN VAL \n",
      "          GLY GLY TYR ILE GLN ALA VAL LEU ASP ARG ASN LEU ALA GLU ASN ILE SER ARG VAL LEU \n",
      "          TYR PRO ASN ASP ASN PHE PHE GLU GLY LYS GLU LEU ARG LEU LYS GLN GLU TYR PHE VAL \n",
      "          VAL ALA ALA THR LEU GLN ASP ILE ILE ARG ARG PHE LYS SER SER LYS PHE GLY CYS ARG \n",
      "          ASP PRO VAL ARG THR ASN PHE ASP ALA PHE PRO ASP LYS VAL ALA ILE GLN LEU ASN ASP \n",
      "          THR HSP PRO SER LEU ALA ILE PRO GLU LEU MET ARG VAL LEU VAL ASP LEU GLU ARG LEU \n",
      "          ASP TRP ASP LYS ALA TRP GLU VAL THR VAL LYS THR CYS ALA TYR THR ASN HSD THR VAL \n",
      "          LEU PRO GLU ALA LEU GLU ARG TRP PRO VAL HSD LEU LEU GLU THR LEU LEU PRO ARG HSD \n",
      "          LEU GLN ILE ILE TYR GLU ILE ASN GLN ARG PHE LEU ASN ARG VAL ALA ALA ALA PHE PRO \n",
      "          GLY ASP VAL ASP ARG LEU ARG ARG MET SER LEU VAL GLU GLU GLY ALA VAL LYS ARG ILE \n",
      "          ASN MET ALA HSD LEU CYS ILE ALA GLY SER HSD ALA VAL ASN GLY VAL ALA ARG ILE HSD \n",
      "          SER GLU ILE LEU LYS LYS THR ILE PHE LYS ASP PHE TYR GLU LEU GLU PRO HSD LYS PHE \n",
      "          GLN ASN LYS THR ASN GLY ILE THR PRO ARG ARG TRP LEU VAL LEU CYS ASN PRO GLY LEU \n",
      "          ALA GLU ILE ILE ALA GLU ARG ILE GLY GLU GLU TYR ILE SER ASP LEU ASP GLN LEU ARG \n",
      "          LYS LEU LEU SER TYR VAL ASP ASP GLU ALA PHE ILE ARG ASP VAL ALA LYS VAL LYS GLN \n",
      "          GLU ASN LYS LEU LYS PHE ALA ALA TYR LEU GLU ARG GLU TYR LYS VAL HSD ILE ASN PRO \n",
      "          ASN SER LEU PHE ASP VAL GLN VAL LYS ARG ILE HSD GLU TYR LYS ARG GLN LEU LEU ASN \n",
      "          CYS LEU HSD VAL ILE THR LEU TYR ASN ARG ILE LYS LYS GLU PRO ASN LYS PHE VAL VAL \n",
      "          PRO ARG THR VAL MET ILE GLY GLY LYS ALA ALA PRO GLY TYR HSD MET ALA LYS MET ILE \n",
      "          ILE LYS LEU ILE THR ALA ILE GLY ASP VAL VAL ASN HSD ASP PRO VAL VAL GLY ASP ARG \n",
      "          LEU ARG VAL ILE PHE LEU GLU ASN TYR ARG VAL SER LEU ALA GLU LYS VAL ILE PRO ALA \n",
      "          ALA ASP LEU SER GLU GLN ILE SER THR ALA GLY THR GLU ALA SER GLY THR GLY ASN MET \n",
      "          LYS PHE MET LEU ASN GLY ALA LEU THR ILE GLY THR MET ASP GLY ALA ASN VAL GLU MET \n",
      "          ALA GLU GLU ALA GLY GLU GLU ASN PHE PHE ILE PHE GLY MET ARG VAL GLU ASP VAL ASP \n",
      "          ARG LEU ASP GLN ARG GLY TYR ASN ALA GLN GLU TYR TYR ASP ARG ILE PRO GLU LEU ARG \n",
      "          GLN ILE ILE GLU GLN LEU SER SER GLY PHE PHE SER PRO LYS GLN PRO ASP LEU PHE LYS \n",
      "          ASP ILE VAL ASN MET LEU MET HSD HSD ASP ARG PHE LYS VAL PHE ALA ASP TYR GLU GLU \n",
      "          TYR VAL LYS CYS GLN GLU ARG VAL SER ALA LEU TYR LYS ASN PRO ARG GLU TRP THR ARG \n",
      "          MET VAL ILE ARG ASN ILE ALA THR SER GLY LYS PHE SER SER ASP ARG THR ILE ALA GLN \n",
      "          TYR ALA ARG GLU ILE TRP GLY VAL GLU PRO SER ARG GLN ARG LEU PRO ALA PRO ASP GLU \n",
      "          LYS ILE PRO \n",
      " ***** Message from SEQRDR ***** THE SYSTEM CONTAINS220 TITRATABLE GROUPS\n",
      " THE USER MUST PREDETERMINE THE PROTONATION STATE THROUGH THE SEQUENCE AND RTF\n",
      " HIS -  0  HSD - 21  HSE -  0  HSP -  1  ASP - 49  GLU - 65  LYS - 48  TYR - 36\n",
      " VCLOSE: Closing unit   91 with status \"KEEP\"\n",
      "  \n",
      " CHARMM>     \n",
      "  \n",
      " THE PATCH 'ACE' WILL BE USED FOR THE FIRST RESIDUE\n",
      " THE PATCH 'CT3' WILL BE USED FOR THE LAST  RESIDUE\n",
      " AUTGEN: Autogenerating specified angles and dihedrals.\n",
      " GENPSF> Segment   1 has been generated. Its identifier is PROA.\n",
      " PSFSUM> PSF modified: NONBOND lists and IMAGE atoms cleared.\n",
      " PSFSUM> Summary of the structure file counters :\n",
      "         Number of segments      =        1   Number of residues   =      843\n",
      "         Number of atoms         =    13685   Number of groups     =     4084\n",
      "         Number of bonds         =    13840   Number of angles     =    24990\n",
      "         Number of dihedrals     =    36625   Number of impropers  =     2425\n",
      "         Number of cross-terms   =      843   Number of autogens   =        0\n",
      "         Number of HB acceptors  =     1270   Number of HB donors  =     1564\n",
      "         Number of NB exclusions =        0   Total charge =   -2.00000\n",
      "  \n",
      " CHARMM>     read coor pdb -\n",
      " CHARMM>     name /tmp/tmp6oxnimbl -\n",
      " CHARMM>     resi\n",
      " VOPEN> Attempting to open::/tmp/tmp6oxnimbl::\n",
      "  read CHARMM-pdb format\n",
      "          SPATIAL COORDINATES BEING READ FROM UNIT 91\n",
      " TITLE>  *\n",
      "\n",
      " ** WARNING ** For atom in coordinate file, the corresponding residue in the PSF lacks that atom:\n",
      " INDEX= 2068 IRES=  124 RESID=124  RES=GLU  ATOM=HE2 \n",
      "\n",
      " ** WARNING ** For atom in coordinate file, the corresponding residue in the PSF lacks that atom:\n",
      " INDEX= 4775 IRES=  297 RESID=297  RES=GLU  ATOM=HE2 \n",
      "\n",
      " ** WARNING ** For atom in coordinate file, the corresponding residue in the PSF lacks that atom:\n",
      " INDEX=10851 IRES=  665 RESID=665  RES=GLU  ATOM=HE2 \n",
      " ** WARNING ** After reading, there are no coordinates for selected atom: 11055   681 LYS  HZ3 \n",
      "\n",
      " ** A total of     1 selected atoms have no coordinates\n",
      " *** LEVEL  2 WARNING *** BOMLEV IS    0\n",
      " VCLOSE: Closing unit   91 with status \"KEEP\"\n",
      "  \n",
      " CHARMM>     \n",
      "  \n"
     ]
    }
   ],
   "source": [
    "load_topology(topo, append = False)\n",
    "load_parameters(param, append = False)\n",
    "load_chain(chain)"
   ]
  },
  {
   "cell_type": "code",
   "execution_count": 13,
   "id": "52e69396-e043-419c-9be1-a795dc67b478",
   "metadata": {},
   "outputs": [
    {
     "name": "stdout",
     "output_type": "stream",
     "text": [
      "  \n",
      " CHARMM>     patch GLUP PROA 124\n",
      " ATOM  PROA GLU  124  HE2  ADDED.\n",
      "\n",
      " Message from MAPIC: Atom numbers are changed.\n",
      " AUTGEN: Autogenerating specified angles and dihedrals.\n",
      " AUTOGEN: 24990 angles are removed before regeneration for selected atoms.\n",
      " AUTOGEN: 36625 dihedrals are removed before regeneration for selected atoms.\n",
      " PATCH: Check angles and dihedrals autogenerated.\n",
      " PSFSUM> PSF modified: NONBOND lists and IMAGE atoms cleared.\n",
      " PSFSUM> Summary of the structure file counters :\n",
      "         Number of segments      =        1   Number of residues   =      843\n",
      "         Number of atoms         =    13686   Number of groups     =     4084\n",
      "         Number of bonds         =    13841   Number of angles     =    24991\n",
      "         Number of dihedrals     =    36627   Number of impropers  =     2425\n",
      "         Number of cross-terms   =      843   Number of autogens   =        0\n",
      "         Number of HB acceptors  =     1270   Number of HB donors  =     1565\n",
      "         Number of NB exclusions =        0   Total charge =   -1.00000\n",
      "  \n",
      "  \n",
      " CHARMM>     patch GLUP PROA 297\n",
      " ATOM  PROA GLU  297  HE2  ADDED.\n",
      "\n",
      " Message from MAPIC: Atom numbers are changed.\n",
      " AUTGEN: Autogenerating specified angles and dihedrals.\n",
      " AUTOGEN: 24991 angles are removed before regeneration for selected atoms.\n",
      " AUTOGEN: 36627 dihedrals are removed before regeneration for selected atoms.\n",
      " PATCH: Check angles and dihedrals autogenerated.\n",
      " PSFSUM> PSF modified: NONBOND lists and IMAGE atoms cleared.\n",
      " PSFSUM> Summary of the structure file counters :\n",
      "         Number of segments      =        1   Number of residues   =      843\n",
      "         Number of atoms         =    13687   Number of groups     =     4084\n",
      "         Number of bonds         =    13842   Number of angles     =    24992\n",
      "         Number of dihedrals     =    36629   Number of impropers  =     2425\n",
      "         Number of cross-terms   =      843   Number of autogens   =        0\n",
      "         Number of HB acceptors  =     1270   Number of HB donors  =     1566\n",
      "         Number of NB exclusions =        0   Total charge =   -0.00000\n",
      "  \n",
      "  \n",
      " CHARMM>     patch GLUP PROA 665\n",
      " ATOM  PROA GLU  665  HE2  ADDED.\n",
      "\n",
      " Message from MAPIC: Atom numbers are changed.\n",
      " AUTGEN: Autogenerating specified angles and dihedrals.\n",
      " AUTOGEN: 24992 angles are removed before regeneration for selected atoms.\n",
      " AUTOGEN: 36629 dihedrals are removed before regeneration for selected atoms.\n",
      " PATCH: Check angles and dihedrals autogenerated.\n",
      " PSFSUM> PSF modified: NONBOND lists and IMAGE atoms cleared.\n",
      " PSFSUM> Summary of the structure file counters :\n",
      "         Number of segments      =        1   Number of residues   =      843\n",
      "         Number of atoms         =    13688   Number of groups     =     4084\n",
      "         Number of bonds         =    13843   Number of angles     =    24993\n",
      "         Number of dihedrals     =    36631   Number of impropers  =     2425\n",
      "         Number of cross-terms   =      843   Number of autogens   =        0\n",
      "         Number of HB acceptors  =     1270   Number of HB donors  =     1567\n",
      "         Number of NB exclusions =        0   Total charge =    1.00000\n",
      "  \n",
      "  \n",
      " CHARMM>     patch LSN PROA 681\n",
      " ATOM  PROA 681  LYS  HZ3  AND ALL REFERENCES TO IT DELETED.\n",
      "\n",
      " Message from MAPIC: Atom numbers are changed.\n",
      " DELTIC:         1 bonds deleted\n",
      " DELTIC:         3 angles deleted\n",
      " DELTIC:         3 dihedrals deleted\n",
      " DELTIC:         1 donors deleted\n",
      " AUTGEN: Autogenerating specified angles and dihedrals.\n",
      " AUTOGEN: 24990 angles are removed before regeneration for selected atoms.\n",
      " AUTOGEN: 36628 dihedrals are removed before regeneration for selected atoms.\n",
      " PATCH: Check angles and dihedrals autogenerated.\n",
      " PSFSUM> PSF modified: NONBOND lists and IMAGE atoms cleared.\n",
      " PSFSUM> Summary of the structure file counters :\n",
      "         Number of segments      =        1   Number of residues   =      843\n",
      "         Number of atoms         =    13687   Number of groups     =     4084\n",
      "         Number of bonds         =    13842   Number of angles     =    24990\n",
      "         Number of dihedrals     =    36628   Number of impropers  =     2425\n",
      "         Number of cross-terms   =      843   Number of autogens   =        0\n",
      "         Number of HB acceptors  =     1270   Number of HB donors  =     1566\n",
      "         Number of NB exclusions =        0   Total charge =   -0.00000\n",
      "  \n"
     ]
    }
   ],
   "source": [
    "for chain_id, patch_dict in protonator.patches.items():\n",
    "    segid = f'PRO{chain_id.upper()}'\n",
    "    for resid, patch_name in patch_dict.items():\n",
    "        if patch_name == 'HSP':\n",
    "            # 'HSP' is not a patch but an actual residue definition\n",
    "            # by using protonator.apply_patches() it is already redifined and\n",
    "            # when load_chain() is used to load in pyCHARMM\n",
    "            # it would recognize the residue definition\n",
    "            continue\n",
    "        patch(patch_name, ' '.join((segid, str(resid))))"
   ]
  },
  {
   "cell_type": "markdown",
   "id": "6ee98c14-ae4c-4f19-907f-c5b7590982ba",
   "metadata": {},
   "source": [
    "After appling the patches, the number of atoms and topology elements should match in pyCHARMM and crimm."
   ]
  },
  {
   "cell_type": "code",
   "execution_count": 14,
   "id": "223fc6b4-8bad-44c5-837e-6d16330982be",
   "metadata": {},
   "outputs": [
    {
     "name": "stdout",
     "output_type": "stream",
     "text": [
      "atoms=13687\n",
      "<TopologyElementContainer for <Polypeptide(L) id=A Residues=843> with bonds=13842, angles=24990, dihedrals=36628, impropers=2425, cmap=0>\n"
     ]
    }
   ],
   "source": [
    "print(f\"atoms={len(list(chain.get_atoms()))}\")\n",
    "print(chain.topo_elements)"
   ]
  }
 ],
 "metadata": {
  "kernelspec": {
   "display_name": "pcm-devel",
   "language": "python",
   "name": "pcm-devel"
  },
  "language_info": {
   "codemirror_mode": {
    "name": "ipython",
    "version": 3
   },
   "file_extension": ".py",
   "mimetype": "text/x-python",
   "name": "python",
   "nbconvert_exporter": "python",
   "pygments_lexer": "ipython3",
   "version": "3.10.6"
  }
 },
 "nbformat": 4,
 "nbformat_minor": 5
}

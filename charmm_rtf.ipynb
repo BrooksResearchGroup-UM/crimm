{
 "cells": [
  {
   "cell_type": "code",
   "execution_count": 1,
   "id": "740006c8-c4c3-478c-b9c5-858d1eb9fa9d",
   "metadata": {},
   "outputs": [
    {
     "data": {
      "application/vnd.jupyter.widget-view+json": {
       "model_id": "18359f000adb4e23b80126259ff766bc",
       "version_major": 2,
       "version_minor": 0
      },
      "text/plain": []
     },
     "metadata": {},
     "output_type": "display_data"
    }
   ],
   "source": [
    "import os\n",
    "from Bond import Bond\n",
    "from types import MappingProxyType\n",
    "from collections import namedtuple\n",
    "from Residue import Residue as Res\n",
    "from ChMMCIFParser import ChMMCIFParser as ChmParser\n",
    "from TopoDefinitions import ResidueDefinition"
   ]
  },
  {
   "cell_type": "code",
   "execution_count": 2,
   "id": "61f5a852-ddfd-4c8a-9a97-ae04a3ac4eb7",
   "metadata": {},
   "outputs": [],
   "source": [
    "import importlib\n",
    "import Residue\n",
    "import ChMMCIFParser\n",
    "importlib.reload(Residue)\n",
    "importlib.reload(ChMMCIFParser)\n",
    "from Residue import Residue as Res\n",
    "from ChMMCIFParser import ChMMCIFParser as ChmParser"
   ]
  },
  {
   "cell_type": "code",
   "execution_count": 3,
   "id": "44b8e42c-b5ca-4519-9f93-ee6847dd1c19",
   "metadata": {},
   "outputs": [],
   "source": [
    "def find_local_cif_path(pdb_id):\n",
    "    pdb_id = pdb_id.lower()\n",
    "    entry_point = '/mnt/backup/PDB/'\n",
    "    subdir = pdb_id[1:3]\n",
    "    file_path = os.path.join(entry_point, subdir, pdb_id+'.cif')\n",
    "    if os.path.exists(file_path):\n",
    "        return file_path"
   ]
  },
  {
   "cell_type": "code",
   "execution_count": 4,
   "id": "efa2e467-61f9-45a0-95b5-b055bd7e7fba",
   "metadata": {},
   "outputs": [],
   "source": [
    "def skip_line(x):\n",
    "    return (x.startswith('!') or x.startswith('*') or x.strip() == '')\n",
    "\n",
    "with open('../allosteric-miner/dock_probes/toppar/top_all36_prot.rtf','r') as f:\n",
    "    lines = [l for l in f.readlines() if not skip_line(l.strip())]"
   ]
  },
  {
   "cell_type": "code",
   "execution_count": 5,
   "id": "3eaad106-b278-40b6-96db-a6765aba2df5",
   "metadata": {},
   "outputs": [],
   "source": [
    "def comment_parser(line):\n",
    "    if line.find('!') == -1:\n",
    "        # line has no comments\n",
    "        return line, None\n",
    "    # return fields string, comments\n",
    "    line, desc = line.split('!', maxsplit = 1)[:2]\n",
    "    return line, desc.strip()\n",
    "\n",
    "def mass_parser(line):\n",
    "    # Parse line with keyword MASS\n",
    "    field_str, desc = comment_parser(line)\n",
    "    # fields: [key, deprecated_entry, atom_type, atomic_mass]\n",
    "    key, _, atom_type, mass = field_str.split()\n",
    "    return atom_type, mass, desc\n",
    "\n",
    "def decl_parser(line):\n",
    "    # Parse line with keyword DECLare\n",
    "    field_str = comment_parser(line)[0]\n",
    "    atom = field_str.split()[-1]\n",
    "    return atom\n",
    "\n",
    "def defa_parser(line):\n",
    "    # Parse default patch for residues\n",
    "    field_str = comment_parser(line)[0]\n",
    "    fields = field_str.split()\n",
    "    # find where these two keyword located in the list\n",
    "    first_i = fields.index('FIRS')\n",
    "    last_i = fields.index('LAST')\n",
    "    first_patch = fields[first_i+1]\n",
    "    last_patch = fields[last_i+1]\n",
    "    return first_patch, last_patch\n",
    "\n",
    "def auto_parser(line):\n",
    "    field_str = comment_parser(line)[0]\n",
    "    autogen_ops = field_str.split()[1:]\n",
    "    return autogen_ops\n",
    "\n",
    "def resi_parser(line):\n",
    "    field_str, desc = comment_parser(line)\n",
    "    # [key, residue_name, total_charge]\n",
    "    key, res_name, total_charge = field_str.split()\n",
    "    return res_name, total_charge, desc\n",
    "\n",
    "def atom_parser(line):\n",
    "    field_str = comment_parser(line)[0]\n",
    "    key, atom_name, atom_type, charge = field_str.split()\n",
    "    return atom_name, atom_type, charge\n",
    "\n",
    "def pairwise_parser(line):\n",
    "    # Parser for lines with pairwise atoms separated by space\n",
    "    field_str = comment_parser(line)[0]\n",
    "    # The first field is the keyword\n",
    "    # followed by atom type in pairs\n",
    "    fields = field_str.split()[1:]\n",
    "    # combine each pair into list of tuples\n",
    "    if len(fields) % 2 == 1:\n",
    "        raise ValueError('Odd number of atoms! Cannot group into pairs: {}'.format(line))\n",
    "    atom_pairs = list(zip(fields[::2], fields[1::2]))\n",
    "    return atom_pairs\n",
    "\n",
    "def quad_parser(line):\n",
    "    # Parse IMPR keyword for group of 4 atoms\n",
    "    field_str = comment_parser(line)[0]\n",
    "    fields = field_str.split()[1:]\n",
    "    # combine each pair into list of tuples\n",
    "    if len(fields) % 4 != 0:\n",
    "        raise ValueError('Invalid length of topology specification: {}\\n \\\n",
    "        Multiples  of 4 atoms required'.format(line))\n",
    "    quad = (tuple(fields[:4]), tuple(fields[4:]))\n",
    "    return quad\n",
    "\n",
    "def octa_parser(line):\n",
    "    # Parse CMAP keyword for a pair of 4 atoms\n",
    "    field_str = comment_parser(line)[0]\n",
    "    fields = field_str.split()[1:]\n",
    "    if len(fields) != 8:\n",
    "        raise ValueError('Invalid length of topology specification: {}\\n \\\n",
    "        8 atoms required'.format(line))\n",
    "    # combine into tuple of tuples with shape (2,4)\n",
    "    octa = (tuple(fields[:4]), tuple(fields[4:]))\n",
    "    return octa\n",
    "\n",
    "def ic_parser(line):\n",
    "    # Parse internal coordinate entries. 9 fields total\n",
    "    # fields: [key, I,J,K,L, R(I(J/K)), T(I(JK/KJ)), PHI, T(JKL), R(KL)]\n",
    "    # IJKL are atoms, star (*) on atom K indicate that it is an improper structure\n",
    "    # Strucutres specified for both chain and improper (branch)\n",
    "    # R(I(J/K)): dist of I-J/I-K, \n",
    "    # T(I(JK/KJ)): angle of I-J-K/I-K-J,\n",
    "    # PHI: Dihedral, \n",
    "    # T(JKL): angel of J-K-L, \n",
    "    # R(KL): dist of K-L,\n",
    "    field_str = comment_parser(line)[0]\n",
    "    fields = field_str.split()[1:]\n",
    "    if len(fields) != 9:\n",
    "        raise ValueError('Invalid length of topology specification: {}\\n \\\n",
    "        9 fields required'.format(line))\n",
    "    i, j, k, l, r_ij, t_ijk, phi, t_jkl, r_kl = fields\n",
    "    if k.startswith('*'):\n",
    "        # '*' indicates improper structure, and K is the center\n",
    "        sec_field = 'R(I-K)'\n",
    "        third_field = 'T(I-K-J)'\n",
    "    else:\n",
    "        sec_field = 'R(I-J)'\n",
    "        third_field = 'T(I-J-K)'\n",
    "    return {\n",
    "        'I': i, 'J': j, 'K': k, 'L': l,\n",
    "        sec_field: float(r_ij), \n",
    "        third_field: float(t_ijk),\n",
    "        'Phi': float(phi),\n",
    "        'T(J-K-L)': float(t_jkl),\n",
    "        'R(K-L)': float(r_kl)\n",
    "    }\n",
    "\n",
    "def delete_parser(line):\n",
    "    # Parse the keyword DELETE. Keyword has to be followed by the type\n",
    "    # of the data to be deleted and the value\n",
    "    field_str = comment_parser(line)[0]\n",
    "    fields = field_str.split()[1:]\n",
    "    if len(fields) != 2:\n",
    "        raise ValueError('Invalid length of topology specification: {}\\n \\\n",
    "        2 fields required: key, data'.format(line))\n",
    "    return {'key': fields[0], 'data': fields[1]}"
   ]
  },
  {
   "cell_type": "code",
   "execution_count": 6,
   "id": "ecf3d3de-075e-428b-8480-0e9cbaf21b22",
   "metadata": {},
   "outputs": [],
   "source": [
    "rtf_ver = '.'.join(lines[0].strip().split())\n",
    "mass_dict = dict()\n",
    "decl_peptide_atoms = []\n",
    "default_patchs = {'FIRST':None,'LAST':None}\n",
    "default_autogen = None\n",
    "residue_topo_dict = dict()\n",
    "unparsed_lines = []\n",
    "for l in lines[1:]:\n",
    "    if l.startswith('MASS'):\n",
    "        symbol, mass, desc = mass_parser(l)\n",
    "        mass_dict.update({symbol: (float(mass), desc)})\n",
    "    elif l.startswith('DECL'):\n",
    "        atom = decl_parser(l)\n",
    "        decl_peptide_atoms.append(atom)\n",
    "    elif l.startswith('DEFA'):\n",
    "        first_patch, last_patch = defa_parser(l)\n",
    "        default_patchs['FIRST'] = first_patch\n",
    "        default_patchs['LAST'] = last_patch\n",
    "    elif l.startswith('AUTO'):\n",
    "        default_autogen = auto_parser(l)\n",
    "    elif l.startswith('RESI') or l.startswith('PRES'):\n",
    "        res_name, total_charge, desc = resi_parser(l)\n",
    "        if res_name not in residue_topo_dict:\n",
    "            # index first group\n",
    "            cur_group_i = -1\n",
    "            cur_res = {\n",
    "                'desc': desc,\n",
    "                'total_charge': float(total_charge),\n",
    "                'atoms':{\n",
    "                },\n",
    "                'bonds':{\n",
    "                    'single':[],\n",
    "                    'double':[],\n",
    "                    'triple':[],\n",
    "                    'aromatic':[]\n",
    "                },\n",
    "                'impropers':[],\n",
    "                'cmap':[],\n",
    "                'ic':[],\n",
    "                'is_patch': l.startswith('PRES')\n",
    "            }\n",
    "        residue_topo_dict.update({res_name: cur_res})\n",
    "    elif l.startswith('GROUP'):\n",
    "        # Update group number\n",
    "        cur_group_i += 1\n",
    "        cur_atom_group = {cur_group_i: {}}\n",
    "        cur_res['atoms'].update(cur_atom_group)\n",
    "    elif l.startswith('ATOM'):\n",
    "        if cur_group_i == -1:\n",
    "            # if no GROUP keyword exist for patch, create a single group\n",
    "            cur_group_i = 0\n",
    "            cur_atom_group = {cur_group_i: {}}\n",
    "            cur_res['atoms'].update(cur_atom_group)\n",
    "        atom_name, atom_type, atom_charge = atom_parser(l)\n",
    "        cur_atom_dict = {\n",
    "            atom_name: \n",
    "            {\n",
    "                'atom_type': atom_type, \n",
    "                'charge': float(atom_charge), \n",
    "                'mass': mass_dict[atom_type][0],\n",
    "                'desc': mass_dict[atom_type][1]\n",
    "            }\n",
    "        }\n",
    "        cur_atom_group[cur_group_i].update(cur_atom_dict)\n",
    "    elif l.startswith('DONO'):\n",
    "        if 'H_donors' not in cur_res:\n",
    "            cur_res['H_donors'] = []\n",
    "        donors = tuple(l.split()[1:])\n",
    "        cur_res['H_donors'].append(donors)\n",
    "    elif l.startswith('ACCE'):\n",
    "        if 'H_acceptors' not in cur_res:\n",
    "            cur_res['H_acceptors'] = []\n",
    "        acceptors = tuple(l.split()[1:])\n",
    "        cur_res['H_acceptors'].append(acceptors)\n",
    "    elif l.startswith('BOND'):\n",
    "        single_bonds = pairwise_parser(l)\n",
    "        cur_res['bonds']['single'].extend(single_bonds)\n",
    "    elif l.startswith('DOUBLE'):\n",
    "        double_bonds = pairwise_parser(l)\n",
    "        cur_res['bonds']['double'].extend(double_bonds)\n",
    "    elif l.startswith('TRIPLE'):\n",
    "        triple_bonds = pairwise_parser(l)\n",
    "        cur_res['bonds']['triple'].extend(triple_bonds)\n",
    "    elif l.startswith('AROMATIC'):\n",
    "        aromatic_bonds = pairwise_parser(l)\n",
    "        cur_res['bonds']['triple'].extend(aromatic_bonds)\n",
    "    elif l.startswith('IMPR'):\n",
    "        # Improper (branching structures)\n",
    "        impropers = quad_parser(l)\n",
    "        cur_res['impropers'].append(impropers)\n",
    "    elif l.startswith('CMAP'):\n",
    "        # Dihedral crossterm energy correction map\n",
    "        cmap = octa_parser(l)\n",
    "        cur_res['cmap'].append(cmap)\n",
    "    elif l.startswith('IC') or l.startswith('ic'):\n",
    "        # Internal Coordinates\n",
    "        ic_dict = ic_parser(l)\n",
    "        cur_res['ic'].append(ic_dict)\n",
    "    elif l.startswith('DELETE'):\n",
    "        if 'delete' not in cur_res:\n",
    "            cur_res['delete'] = []\n",
    "        delete_entry = delete_parser(l)\n",
    "        cur_res['delete'].append(delete_entry)\n",
    "    elif l.startswith('DIHE'):\n",
    "        pass\n",
    "    elif l.startswith('ANGLE'):\n",
    "        pass\n",
    "    elif l.startswith('PATCH') or l.startswith('patch'):\n",
    "        pass\n",
    "    elif l.startswith('END') or l.startswith('end'):\n",
    "        break\n",
    "    else:\n",
    "        unparsed_lines.append(l)"
   ]
  },
  {
   "cell_type": "code",
   "execution_count": 14,
   "id": "5059c70c-5894-45c9-96d4-4187aae15f56",
   "metadata": {},
   "outputs": [],
   "source": [
    "Parser = ChmParser(\n",
    "    include_solvent=False\n",
    ")\n",
    "pdb_id = '1CDL'\n",
    "file_path = find_local_cif_path(pdb_id)\n",
    "structure = Parser.get_structure(file_path)"
   ]
  },
  {
   "cell_type": "code",
   "execution_count": 15,
   "id": "5455ebb4-88e4-48fc-859e-f5915fcd3874",
   "metadata": {},
   "outputs": [],
   "source": [
    "all_res_def = {}\n",
    "for resname, res_topo in residue_topo_dict.items():\n",
    "    res_def = ResidueDefinition(rtf_ver, resname, res_topo)\n",
    "    all_res_def[resname] = res_def\n",
    "# Map all histidines to HSE\n",
    "all_res_def['HIS'] = all_res_def['HSE']"
   ]
  },
  {
   "cell_type": "code",
   "execution_count": 16,
   "id": "2f190cf6-7490-4695-875b-4365c393992f",
   "metadata": {},
   "outputs": [],
   "source": [
    "chainA = structure[1]['A']"
   ]
  },
  {
   "cell_type": "code",
   "execution_count": 17,
   "id": "992454d9-bf14-47f8-939d-205985eea98b",
   "metadata": {},
   "outputs": [],
   "source": [
    "chainA.load_topo_definition(all_res_def)"
   ]
  },
  {
   "cell_type": "code",
   "execution_count": 19,
   "id": "b5772422-f6f0-4acf-9390-206598c095ee",
   "metadata": {},
   "outputs": [],
   "source": [
    "histidines = []\n",
    "for res in chainA:\n",
    "    if res.resname == 'HIS':\n",
    "        histidines.append(res)"
   ]
  },
  {
   "cell_type": "code",
   "execution_count": 30,
   "id": "b49a1c88-aeee-4213-875f-7a73f7e6c79e",
   "metadata": {},
   "outputs": [
    {
     "data": {
      "text/plain": [
       "{'parent_def': <Residue Definition name=HSE atoms=17>,\n",
       " 'name': 'CA',\n",
       " 'atom_type': 'CT1',\n",
       " 'is_donor': False,\n",
       " 'is_acceptor': False,\n",
       " 'charge': 0.07,\n",
       " 'mass': 12.011,\n",
       " 'desc': 'aliphatic sp3 C for CH'}"
      ]
     },
     "execution_count": 30,
     "metadata": {},
     "output_type": "execute_result"
    }
   ],
   "source": [
    "histidines[0]['CA'].topo_definition.__dict__"
   ]
  },
  {
   "cell_type": "code",
   "execution_count": 48,
   "id": "75a35118-eb79-4a4c-9365-2411735aea37",
   "metadata": {},
   "outputs": [
    {
     "data": {
      "text/plain": [
       "12.0107"
      ]
     },
     "execution_count": 48,
     "metadata": {},
     "output_type": "execute_result"
    }
   ],
   "source": [
    "histidines[0]['CA'].mass"
   ]
  },
  {
   "cell_type": "code",
   "execution_count": 50,
   "id": "ef67eda6-9c3c-482c-9e99-a9f686b7874d",
   "metadata": {},
   "outputs": [
    {
     "data": {
      "text/plain": [
       "14.0067"
      ]
     },
     "execution_count": 50,
     "metadata": {},
     "output_type": "execute_result"
    }
   ],
   "source": [
    "histidines[0]['N'].mass"
   ]
  },
  {
   "cell_type": "code",
   "execution_count": 22,
   "id": "a7060cc0-7e67-46fc-9a3d-69a4c9e75d1d",
   "metadata": {},
   "outputs": [],
   "source": [
    "res = structure[1]['A'][5]"
   ]
  },
  {
   "cell_type": "code",
   "execution_count": 39,
   "id": "e65b7559-1f6c-46fc-aafd-019c7cbfb5a3",
   "metadata": {},
   "outputs": [
    {
     "data": {
      "text/plain": [
       "<Residue THR het=  resseq=5 icode= >"
      ]
     },
     "execution_count": 39,
     "metadata": {},
     "output_type": "execute_result"
    }
   ],
   "source": [
    "res"
   ]
  },
  {
   "cell_type": "code",
   "execution_count": 24,
   "id": "cc635c77-80f0-4fa4-87a7-2e1218ea4a36",
   "metadata": {},
   "outputs": [
    {
     "data": {
      "text/plain": [
       "[Bond(<Atom CB>, <Atom CA>, type=single, order=1, length=1.522034),\n",
       " Bond(<Atom N>, <Atom CA>, type=single, order=1, length=1.481669),\n",
       " Bond(<Atom C>, <Atom CA>, type=single, order=1, length=1.521941),\n",
       " Bond(<Atom O>, <Atom C>, type=double, order=2, length=1.227294)]"
      ]
     },
     "execution_count": 24,
     "metadata": {},
     "output_type": "execute_result"
    }
   ],
   "source": [
    "res.bonds"
   ]
  },
  {
   "cell_type": "code",
   "execution_count": 26,
   "id": "17364cd6-f050-490b-8980-5d1c1eaf1238",
   "metadata": {},
   "outputs": [
    {
     "data": {
      "text/plain": [
       "['HN', 'HA', 'HB', 'OG1', 'HG1', 'CG2', 'HG21', 'HG22', 'HG23']"
      ]
     },
     "execution_count": 26,
     "metadata": {},
     "output_type": "execute_result"
    }
   ],
   "source": [
    "res.missing_atoms"
   ]
  },
  {
   "cell_type": "code",
   "execution_count": 43,
   "id": "0e43ab9a-dcd9-4c90-89c7-2e2b71edec7a",
   "metadata": {},
   "outputs": [
    {
     "data": {
      "text/plain": [
       "<Atom CA>"
      ]
     },
     "execution_count": 43,
     "metadata": {},
     "output_type": "execute_result"
    }
   ],
   "source": [
    "res['CA']"
   ]
  },
  {
   "cell_type": "code",
   "execution_count": 40,
   "id": "b0a0ac56-c4ec-426f-b750-8785275e7302",
   "metadata": {},
   "outputs": [],
   "source": [
    "thr_ic = chainA.topo_definitions['THR'].ic"
   ]
  },
  {
   "cell_type": "code",
   "execution_count": 41,
   "id": "f1d0b614-d25a-4238-991c-d7ad610936df",
   "metadata": {},
   "outputs": [
    {
     "data": {
      "text/plain": [
       "[{'I': '-C',\n",
       "  'J': 'CA',\n",
       "  'K': '*N',\n",
       "  'L': 'HN',\n",
       "  'R(I-K)': 1.3471,\n",
       "  'T(I-K-J)': 124.12,\n",
       "  'Phi': 180.0,\n",
       "  'T(J-K-L)': 114.26,\n",
       "  'R(K-L)': 0.9995},\n",
       " {'I': '-C',\n",
       "  'J': 'N',\n",
       "  'K': 'CA',\n",
       "  'L': 'C',\n",
       "  'R(I-J)': 1.3471,\n",
       "  'T(I-J-K)': 124.12,\n",
       "  'Phi': 180.0,\n",
       "  'T(J-K-L)': 106.09,\n",
       "  'R(K-L)': 1.5162},\n",
       " {'I': 'N',\n",
       "  'J': 'CA',\n",
       "  'K': 'C',\n",
       "  'L': '+N',\n",
       "  'R(I-J)': 1.4607,\n",
       "  'T(I-J-K)': 106.09,\n",
       "  'Phi': 180.0,\n",
       "  'T(J-K-L)': 117.69,\n",
       "  'R(K-L)': 1.3449},\n",
       " {'I': '+N',\n",
       "  'J': 'CA',\n",
       "  'K': '*C',\n",
       "  'L': 'O',\n",
       "  'R(I-K)': 1.3449,\n",
       "  'T(I-K-J)': 117.69,\n",
       "  'Phi': 180.0,\n",
       "  'T(J-K-L)': 120.3,\n",
       "  'R(K-L)': 1.2294},\n",
       " {'I': 'CA',\n",
       "  'J': 'C',\n",
       "  'K': '+N',\n",
       "  'L': '+CA',\n",
       "  'R(I-J)': 1.5162,\n",
       "  'T(I-J-K)': 117.69,\n",
       "  'Phi': 180.0,\n",
       "  'T(J-K-L)': 124.66,\n",
       "  'R(K-L)': 1.4525},\n",
       " {'I': 'N',\n",
       "  'J': 'C',\n",
       "  'K': '*CA',\n",
       "  'L': 'CB',\n",
       "  'R(I-K)': 1.4607,\n",
       "  'T(I-K-J)': 106.09,\n",
       "  'Phi': 126.46,\n",
       "  'T(J-K-L)': 112.74,\n",
       "  'R(K-L)': 1.5693},\n",
       " {'I': 'N',\n",
       "  'J': 'C',\n",
       "  'K': '*CA',\n",
       "  'L': 'HA',\n",
       "  'R(I-K)': 1.4607,\n",
       "  'T(I-K-J)': 106.09,\n",
       "  'Phi': -114.92,\n",
       "  'T(J-K-L)': 106.53,\n",
       "  'R(K-L)': 1.0817},\n",
       " {'I': 'N',\n",
       "  'J': 'CA',\n",
       "  'K': 'CB',\n",
       "  'L': 'OG1',\n",
       "  'R(I-J)': 1.4607,\n",
       "  'T(I-J-K)': 114.81,\n",
       "  'Phi': 180.0,\n",
       "  'T(J-K-L)': 112.16,\n",
       "  'R(K-L)': 1.4252},\n",
       " {'I': 'OG1',\n",
       "  'J': 'CA',\n",
       "  'K': '*CB',\n",
       "  'L': 'HB',\n",
       "  'R(I-K)': 1.4252,\n",
       "  'T(I-K-J)': 112.16,\n",
       "  'Phi': 116.39,\n",
       "  'T(J-K-L)': 106.11,\n",
       "  'R(K-L)': 1.1174},\n",
       " {'I': 'OG1',\n",
       "  'J': 'CA',\n",
       "  'K': '*CB',\n",
       "  'L': 'CG2',\n",
       "  'R(I-K)': 1.4252,\n",
       "  'T(I-K-J)': 112.16,\n",
       "  'Phi': -124.13,\n",
       "  'T(J-K-L)': 115.91,\n",
       "  'R(K-L)': 1.5324},\n",
       " {'I': 'CA',\n",
       "  'J': 'CB',\n",
       "  'K': 'OG1',\n",
       "  'L': 'HG1',\n",
       "  'R(I-J)': 1.5693,\n",
       "  'T(I-J-K)': 112.16,\n",
       "  'Phi': -179.28,\n",
       "  'T(J-K-L)': 105.45,\n",
       "  'R(K-L)': 0.9633},\n",
       " {'I': 'CA',\n",
       "  'J': 'CB',\n",
       "  'K': 'CG2',\n",
       "  'L': 'HG21',\n",
       "  'R(I-J)': 1.5693,\n",
       "  'T(I-J-K)': 115.91,\n",
       "  'Phi': -173.65,\n",
       "  'T(J-K-L)': 110.85,\n",
       "  'R(K-L)': 1.1104},\n",
       " {'I': 'HG21',\n",
       "  'J': 'CB',\n",
       "  'K': '*CG2',\n",
       "  'L': 'HG22',\n",
       "  'R(I-K)': 1.1104,\n",
       "  'T(I-K-J)': 110.85,\n",
       "  'Phi': 119.51,\n",
       "  'T(J-K-L)': 110.41,\n",
       "  'R(K-L)': 1.1109},\n",
       " {'I': 'HG21',\n",
       "  'J': 'CB',\n",
       "  'K': '*CG2',\n",
       "  'L': 'HG23',\n",
       "  'R(I-K)': 1.1104,\n",
       "  'T(I-K-J)': 110.85,\n",
       "  'Phi': -120.39,\n",
       "  'T(J-K-L)': 111.11,\n",
       "  'R(K-L)': 1.1113}]"
      ]
     },
     "execution_count": 41,
     "metadata": {},
     "output_type": "execute_result"
    }
   ],
   "source": [
    "thr_ic"
   ]
  },
  {
   "cell_type": "code",
   "execution_count": null,
   "id": "39c19d58-7e47-4f9c-9db9-52b1cdd2b73c",
   "metadata": {},
   "outputs": [],
   "source": []
  }
 ],
 "metadata": {
  "kernelspec": {
   "display_name": "pcm-devel",
   "language": "python",
   "name": "pcm-devel"
  },
  "language_info": {
   "codemirror_mode": {
    "name": "ipython",
    "version": 3
   },
   "file_extension": ".py",
   "mimetype": "text/x-python",
   "name": "python",
   "nbconvert_exporter": "python",
   "pygments_lexer": "ipython3",
   "version": "3.10.6"
  }
 },
 "nbformat": 4,
 "nbformat_minor": 5
}

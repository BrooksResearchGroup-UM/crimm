{
 "cells": [
  {
   "cell_type": "code",
   "execution_count": 1,
   "id": "740006c8-c4c3-478c-b9c5-858d1eb9fa9d",
   "metadata": {},
   "outputs": [
    {
     "data": {
      "application/vnd.jupyter.widget-view+json": {
       "model_id": "cf0fda98d48b4933a78731aa185d9f07",
       "version_major": 2,
       "version_minor": 0
      },
      "text/plain": []
     },
     "metadata": {},
     "output_type": "display_data"
    }
   ],
   "source": [
    "import os\n",
    "from itertools import combinations, permutations\n",
    "import numpy as np\n",
    "from Bond import Bond\n",
    "from types import MappingProxyType\n",
    "from collections import namedtuple, OrderedDict\n",
    "from Residue import Residue as Res\n",
    "from ChMMCIFParser import ChMMCIFParser as ChmParser\n",
    "from TopoDefinitions import ResidueDefinition\n",
    "from Atom import Atom\n",
    "from Residue import Residue\n",
    "from RTFParser import RTFParser\n",
    "from ICBuilder import ResidueFixer\n",
    "from scipy.spatial.transform import Rotation as R\n",
    "import numpy.linalg as LA\n",
    "\n",
    "from matplotlib import pyplot as plt"
   ]
  },
  {
   "cell_type": "code",
   "execution_count": 2,
   "id": "61f5a852-ddfd-4c8a-9a97-ae04a3ac4eb7",
   "metadata": {},
   "outputs": [],
   "source": [
    "import importlib\n",
    "import Residue\n",
    "import ChMMCIFParser\n",
    "importlib.reload(Residue)\n",
    "importlib.reload(ChMMCIFParser)\n",
    "from Residue import Residue as Res\n",
    "from ChMMCIFParser import ChMMCIFParser as ChmParser"
   ]
  },
  {
   "cell_type": "code",
   "execution_count": 3,
   "id": "44b8e42c-b5ca-4519-9f93-ee6847dd1c19",
   "metadata": {},
   "outputs": [],
   "source": [
    "def find_local_cif_path(pdb_id):\n",
    "    pdb_id = pdb_id.lower()\n",
    "    entry_point = '/mnt/backup/PDB/'\n",
    "    subdir = pdb_id[1:3]\n",
    "    file_path = os.path.join(entry_point, subdir, pdb_id+'.cif')\n",
    "    if os.path.exists(file_path):\n",
    "        return file_path"
   ]
  },
  {
   "cell_type": "code",
   "execution_count": 4,
   "id": "5352a1e7-dac7-4168-a810-555c535da772",
   "metadata": {
    "tags": []
   },
   "outputs": [
    {
     "name": "stderr",
     "output_type": "stream",
     "text": [
      "/home/truman/whaler/TopoDefinitions.py:147: UserWarning: Unknown Residue Type ALAD! Standard coord build from IC table is skipped.\n",
      "  warnings.warn(\n"
     ]
    }
   ],
   "source": [
    "rtf = RTFParser('./data/toppar/top_all36_2_prot.rtf')"
   ]
  },
  {
   "cell_type": "code",
   "execution_count": 38,
   "id": "5059c70c-5894-45c9-96d4-4187aae15f56",
   "metadata": {},
   "outputs": [],
   "source": [
    "Parser = ChmParser(\n",
    "    include_solvent=False\n",
    ")\n",
    "pdb_id = '1A8I'\n",
    "file_path = find_local_cif_path(pdb_id)\n",
    "structure = Parser.get_structure(file_path)"
   ]
  },
  {
   "cell_type": "code",
   "execution_count": 39,
   "id": "73ae3a4d-cc65-4ffc-9f4b-12eb21114c22",
   "metadata": {},
   "outputs": [
    {
     "name": "stderr",
     "output_type": "stream",
     "text": [
      "/home/truman/whaler/Chain.py:368: UserWarning: No topology definition for LLP!\n",
      "  warnings.warn(\n"
     ]
    }
   ],
   "source": [
    "chainA = structure[1]['A']\n",
    "chainA.load_topo_definition(rtf.residue_definitions)"
   ]
  },
  {
   "cell_type": "code",
   "execution_count": 43,
   "id": "ed2ffc54-a03a-4598-ac95-ba23ae0cd219",
   "metadata": {},
   "outputs": [],
   "source": [
    "if res.topo_definition:\n",
    "    print(1)"
   ]
  },
  {
   "cell_type": "code",
   "execution_count": 44,
   "id": "dbfc1793-38d7-48f5-a1ca-41a243075711",
   "metadata": {},
   "outputs": [
    {
     "name": "stdout",
     "output_type": "stream",
     "text": [
      "<Residue GLN het=  resseq=7 icode= >\n",
      "<Residue ASN het=  resseq=250 icode= >\n",
      "<Residue GLY het=  resseq=261 icode= >\n",
      "<Residue PHE het=  resseq=316 icode= >\n",
      "<Residue ARG het=  resseq=323 icode= >\n",
      "No topology definition <Residue LLP het=H_LLP resseq=680 icode= >\n",
      "<Residue PRO het=  resseq=835 icode= >\n"
     ]
    },
    {
     "name": "stderr",
     "output_type": "stream",
     "text": [
      "/home/truman/whaler/ICBuilder.py:200: UserWarning: Missing atoms on terminal residues will be built without patching! Terminal patching is recommended before building missing atoms!\n",
      "  warnings.warn(\n",
      "/home/truman/whaler/ICBuilder.py:210: UserWarning: Immediate neighbor residues missing! The temperary backbone atoms of the neigbor residues will be calculated as place holders.\n",
      "  warnings.warn(\n"
     ]
    }
   ],
   "source": [
    "res_builder = ResidueFixer()\n",
    "for res in chainA:\n",
    "    if res.topo_definition is None:\n",
    "        print(f'No topology definition on {res}')\n",
    "        continue\n",
    "    res_builder.load_residue(res)\n",
    "    if res.missing_atoms:\n",
    "        print(res)\n",
    "        res_builder.build_missing_atoms()\n",
    "    res_builder.build_hydrogens()"
   ]
  },
  {
   "cell_type": "code",
   "execution_count": 45,
   "id": "318b91e2-ed68-4174-8a5b-698d93e52896",
   "metadata": {},
   "outputs": [
    {
     "data": {
      "application/vnd.jupyter.widget-view+json": {
       "model_id": "9ca2edfffe7d4218a1349b4425b6acef",
       "version_major": 2,
       "version_minor": 0
      },
      "text/plain": [
       "NGLWidget()"
      ]
     },
     "metadata": {},
     "output_type": "display_data"
    },
    {
     "data": {
      "text/plain": [
       "<Polypeptide(L) id=A Residues/Molecules=813>"
      ]
     },
     "execution_count": 45,
     "metadata": {},
     "output_type": "execute_result"
    }
   ],
   "source": [
    "chainA"
   ]
  },
  {
   "cell_type": "code",
   "execution_count": 21,
   "id": "e05e9a80-4358-493a-b67c-3db17ce265a0",
   "metadata": {},
   "outputs": [],
   "source": [
    "with open('5IEV_chainA.pdb', 'w') as f:\n",
    "    f.write(chainA.get_pdb_str())\n",
    "    f.write('END\\n')"
   ]
  },
  {
   "cell_type": "code",
   "execution_count": 13,
   "id": "e6d55944-6761-494b-ad2a-65822ce86313",
   "metadata": {},
   "outputs": [],
   "source": [
    "res_builder.build_hydrogens()"
   ]
  },
  {
   "cell_type": "code",
   "execution_count": 12,
   "id": "a7060cc0-7e67-46fc-9a3d-69a4c9e75d1d",
   "metadata": {},
   "outputs": [],
   "source": [
    "res = structure[1]['A'][6]"
   ]
  },
  {
   "cell_type": "code",
   "execution_count": null,
   "id": "cc635c77-80f0-4fa4-87a7-2e1218ea4a36",
   "metadata": {},
   "outputs": [
    {
     "data": {
      "text/plain": [
       "[Bond(<Atom CB>, <Atom CA>, type=single, order=1, length=1.538493),\n",
       " Bond(<Atom OG1>, <Atom CB>, type=single, order=1, length=1.430227),\n",
       " Bond(<Atom CG2>, <Atom CB>, type=single, order=1, length=1.520044),\n",
       " Bond(<Atom N>, <Atom CA>, type=single, order=1, length=1.447242),\n",
       " Bond(<Atom C>, <Atom CA>, type=single, order=1, length=1.532867),\n",
       " Bond(<Atom O>, <Atom C>, type=double, order=2, length=1.258037)]"
      ]
     },
     "execution_count": 28,
     "metadata": {},
     "output_type": "execute_result"
    }
   ],
   "source": [
    "res.bonds"
   ]
  },
  {
   "cell_type": "code",
   "execution_count": 17,
   "id": "15fbef78-a808-4f45-8ff5-09e0ed44cf39",
   "metadata": {},
   "outputs": [],
   "source": [
    "missing_atoms, missing_hydrogens = sep_by_priorities(res.missing_atoms)\n",
    "\n",
    "thr_ic = chainA.topo_definitions['THR'].ic"
   ]
  },
  {
   "cell_type": "code",
   "execution_count": 18,
   "id": "1cf02ad5-9510-45e4-b5ea-81bbe861e86f",
   "metadata": {},
   "outputs": [],
   "source": [
    "def reassign_ic_keys(keys, ic_dict_values):\n",
    "    cur_dict = {\n",
    "        k:v for k,v in zip(keys, ic_dict_values)\n",
    "    }\n",
    "    return cur_dict\n",
    "\n",
    "def organize_ic_dict(ic_dicts):\n",
    "    organized_ic = {\n",
    "        'improper':{}, 'chain':{}\n",
    "    }\n",
    "    for ic_dict in ic_dicts:\n",
    "        i,j,k,l = ic_dict['IJKL']\n",
    "\n",
    "        ic_dict_values = list(ic_dict.values())[-5:]\n",
    "        if k.startswith('*'):\n",
    "            k_star = k\n",
    "            k = k_star.lstrip('*')\n",
    "            keys = [(i,k),(i,k,j),(i,j,k_star,l),(j,k,l),(k,l)]\n",
    "            struct_type = 'improper'\n",
    "        else:\n",
    "            keys = [(i,j),(i,j,k),(i,j,k,l),(j,k,l),(k,l)]\n",
    "            struct_type = 'chain'\n",
    "        \n",
    "        reassigned = reassign_ic_keys(keys, ic_dict_values)\n",
    "        organized_ic[struct_type].update(reassigned)\n",
    "\n",
    "    return organized_ic"
   ]
  },
  {
   "cell_type": "code",
   "execution_count": 101,
   "id": "92102693-a516-4b35-9318-ab47bb72e7dd",
   "metadata": {
    "collapsed": true,
    "jupyter": {
     "outputs_hidden": true
    },
    "tags": []
   },
   "outputs": [
    {
     "name": "stdout",
     "output_type": "stream",
     "text": [
      "ALA\n",
      "C ('-C', 'N', 'CA', 'C')\n",
      "+N ('N', 'CA', 'C', '+N')\n",
      "O ('+N', 'CA', 'C', 'O')\n",
      "+CA ('CA', 'C', '+N', '+CA')\n",
      "CB ('N', 'C', 'CA', 'CB')\n",
      "HA ('N', 'C', 'CA', 'HA')\n",
      "HB1 ('C', 'CA', 'CB', 'HB1')\n",
      "HB2 ('HB1', 'CA', 'CB', 'HB2')\n",
      "HB3 ('HB1', 'CA', 'CB', 'HB3')\n",
      "HN ('-C', 'CA', 'N', 'HN')\n",
      "\n",
      "\n",
      "ARG\n",
      "C ('-C', 'N', 'CA', 'C')\n",
      "+N ('N', 'CA', 'C', '+N')\n",
      "O ('+N', 'CA', 'C', 'O')\n",
      "+CA ('CA', 'C', '+N', '+CA')\n",
      "CB ('N', 'C', 'CA', 'CB')\n",
      "CG ('N', 'CA', 'CB', 'CG')\n",
      "CD ('CA', 'CB', 'CG', 'CD')\n",
      "NE ('CB', 'CG', 'CD', 'NE')\n",
      "CZ ('CG', 'CD', 'NE', 'CZ')\n",
      "NH1 ('CD', 'NE', 'CZ', 'NH1')\n",
      "NH2 ('NH1', 'NE', 'CZ', 'NH2')\n",
      "HH21 ('NE', 'CZ', 'NH2', 'HH21')\n",
      "HH22 ('HH21', 'CZ', 'NH2', 'HH22')\n",
      "HN ('-C', 'CA', 'N', 'HN')\n",
      "HA ('N', 'C', 'CA', 'HA')\n",
      "HB1 ('CG', 'CA', 'CB', 'HB1')\n",
      "HB2 ('CG', 'CA', 'CB', 'HB2')\n",
      "HG1 ('CD', 'CB', 'CG', 'HG1')\n",
      "HG2 ('CD', 'CB', 'CG', 'HG2')\n",
      "HD1 ('NE', 'CG', 'CD', 'HD1')\n",
      "HD2 ('NE', 'CG', 'CD', 'HD2')\n",
      "HE ('CZ', 'CD', 'NE', 'HE')\n",
      "HH11 ('NE', 'CZ', 'NH1', 'HH11')\n",
      "HH12 ('HH11', 'CZ', 'NH1', 'HH12')\n",
      "\n",
      "\n",
      "ASN\n",
      "C ('-C', 'N', 'CA', 'C')\n",
      "+N ('N', 'CA', 'C', '+N')\n",
      "O ('+N', 'CA', 'C', 'O')\n",
      "+CA ('CA', 'C', '+N', '+CA')\n",
      "CB ('N', 'C', 'CA', 'CB')\n",
      "CG ('N', 'CA', 'CB', 'CG')\n",
      "OD1 ('CA', 'CB', 'CG', 'OD1')\n",
      "ND2 ('OD1', 'CB', 'CG', 'ND2')\n",
      "HD21 ('CB', 'CG', 'ND2', 'HD21')\n",
      "HD22 ('HD21', 'CG', 'ND2', 'HD22')\n",
      "HN ('-C', 'CA', 'N', 'HN')\n",
      "HA ('N', 'C', 'CA', 'HA')\n",
      "HB1 ('CG', 'CA', 'CB', 'HB1')\n",
      "HB2 ('CG', 'CA', 'CB', 'HB2')\n",
      "\n",
      "\n",
      "ASP\n",
      "C ('-C', 'N', 'CA', 'C')\n",
      "+N ('N', 'CA', 'C', '+N')\n",
      "O ('+N', 'CA', 'C', 'O')\n",
      "+CA ('CA', 'C', '+N', '+CA')\n",
      "CB ('N', 'C', 'CA', 'CB')\n",
      "CG ('N', 'CA', 'CB', 'CG')\n",
      "OD1 ('CA', 'CB', 'CG', 'OD1')\n",
      "OD2 ('OD1', 'CB', 'CG', 'OD2')\n",
      "HN ('-C', 'CA', 'N', 'HN')\n",
      "HA ('N', 'C', 'CA', 'HA')\n",
      "HB1 ('CG', 'CA', 'CB', 'HB1')\n",
      "HB2 ('CG', 'CA', 'CB', 'HB2')\n",
      "\n",
      "\n",
      "CYS\n",
      "C ('-C', 'N', 'CA', 'C')\n",
      "+N ('N', 'CA', 'C', '+N')\n",
      "O ('+N', 'CA', 'C', 'O')\n",
      "+CA ('CA', 'C', '+N', '+CA')\n",
      "CB ('N', 'C', 'CA', 'CB')\n",
      "SG ('N', 'CA', 'CB', 'SG')\n",
      "HB1 ('SG', 'CA', 'CB', 'HB1')\n",
      "HB2 ('SG', 'CA', 'CB', 'HB2')\n",
      "HG1 ('CA', 'CB', 'SG', 'HG1')\n",
      "HN ('-C', 'CA', 'N', 'HN')\n",
      "HA ('N', 'C', 'CA', 'HA')\n",
      "\n",
      "\n",
      "GLN\n",
      "C ('-C', 'N', 'CA', 'C')\n",
      "+N ('N', 'CA', 'C', '+N')\n",
      "O ('+N', 'CA', 'C', 'O')\n",
      "+CA ('CA', 'C', '+N', '+CA')\n",
      "CB ('N', 'C', 'CA', 'CB')\n",
      "CG ('N', 'CA', 'CB', 'CG')\n",
      "CD ('CA', 'CB', 'CG', 'CD')\n",
      "OE1 ('CB', 'CG', 'CD', 'OE1')\n",
      "NE2 ('OE1', 'CG', 'CD', 'NE2')\n",
      "HE21 ('CG', 'CD', 'NE2', 'HE21')\n",
      "HE22 ('HE21', 'CD', 'NE2', 'HE22')\n",
      "HN ('-C', 'CA', 'N', 'HN')\n",
      "HA ('N', 'C', 'CA', 'HA')\n",
      "HB1 ('CG', 'CA', 'CB', 'HB1')\n",
      "HB2 ('CG', 'CA', 'CB', 'HB2')\n",
      "HG1 ('CD', 'CB', 'CG', 'HG1')\n",
      "HG2 ('CD', 'CB', 'CG', 'HG2')\n",
      "\n",
      "\n",
      "GLU\n",
      "C ('-C', 'N', 'CA', 'C')\n",
      "+N ('N', 'CA', 'C', '+N')\n",
      "O ('+N', 'CA', 'C', 'O')\n",
      "+CA ('CA', 'C', '+N', '+CA')\n",
      "CB ('N', 'C', 'CA', 'CB')\n",
      "CG ('N', 'CA', 'CB', 'CG')\n",
      "CD ('CA', 'CB', 'CG', 'CD')\n",
      "OE1 ('CB', 'CG', 'CD', 'OE1')\n",
      "OE2 ('OE1', 'CG', 'CD', 'OE2')\n",
      "HN ('-C', 'CA', 'N', 'HN')\n",
      "HA ('N', 'C', 'CA', 'HA')\n",
      "HB1 ('CG', 'CA', 'CB', 'HB1')\n",
      "HB2 ('CG', 'CA', 'CB', 'HB2')\n",
      "HG1 ('CD', 'CB', 'CG', 'HG1')\n",
      "HG2 ('CD', 'CB', 'CG', 'HG2')\n",
      "\n",
      "\n",
      "GLY\n",
      "C ('-C', 'N', 'CA', 'C')\n",
      "+N ('N', 'CA', 'C', '+N')\n",
      "O ('+N', 'CA', 'C', 'O')\n",
      "+CA ('CA', 'C', '+N', '+CA')\n",
      "HA1 ('N', 'C', 'CA', 'HA1')\n",
      "HA2 ('N', 'C', 'CA', 'HA2')\n",
      "HN ('-C', 'CA', 'N', 'HN')\n",
      "\n",
      "\n",
      "HSD\n",
      "C ('-C', 'N', 'CA', 'C')\n",
      "+N ('N', 'CA', 'C', '+N')\n",
      "O ('+N', 'CA', 'C', 'O')\n",
      "+CA ('CA', 'C', '+N', '+CA')\n",
      "CB ('N', 'C', 'CA', 'CB')\n",
      "CG ('N', 'CA', 'CB', 'CG')\n",
      "ND1 ('CA', 'CB', 'CG', 'ND1')\n",
      "CD2 ('ND1', 'CB', 'CG', 'CD2')\n",
      "CE1 ('CB', 'CG', 'ND1', 'CE1')\n",
      "NE2 ('CB', 'CG', 'CD2', 'NE2')\n",
      "HE1 ('NE2', 'ND1', 'CE1', 'HE1')\n",
      "HD1 ('CE1', 'CG', 'ND1', 'HD1')\n",
      "HD2 ('NE2', 'CG', 'CD2', 'HD2')\n",
      "HN ('-C', 'CA', 'N', 'HN')\n",
      "HA ('N', 'C', 'CA', 'HA')\n",
      "HB1 ('CG', 'CA', 'CB', 'HB1')\n",
      "HB2 ('CG', 'CA', 'CB', 'HB2')\n",
      "\n",
      "\n",
      "HSE\n",
      "C ('-C', 'N', 'CA', 'C')\n",
      "+N ('N', 'CA', 'C', '+N')\n",
      "O ('+N', 'CA', 'C', 'O')\n",
      "+CA ('CA', 'C', '+N', '+CA')\n",
      "CB ('N', 'C', 'CA', 'CB')\n",
      "CG ('N', 'CA', 'CB', 'CG')\n",
      "ND1 ('CA', 'CB', 'CG', 'ND1')\n",
      "CD2 ('ND1', 'CB', 'CG', 'CD2')\n",
      "CE1 ('CB', 'CG', 'ND1', 'CE1')\n",
      "NE2 ('CB', 'CG', 'CD2', 'NE2')\n",
      "HE1 ('NE2', 'ND1', 'CE1', 'HE1')\n",
      "HE2 ('CE1', 'CD2', 'NE2', 'HE2')\n",
      "HD2 ('NE2', 'CG', 'CD2', 'HD2')\n",
      "HN ('-C', 'CA', 'N', 'HN')\n",
      "HA ('N', 'C', 'CA', 'HA')\n",
      "HB1 ('CG', 'CA', 'CB', 'HB1')\n",
      "HB2 ('CG', 'CA', 'CB', 'HB2')\n",
      "\n",
      "\n",
      "HSP\n",
      "C ('-C', 'N', 'CA', 'C')\n",
      "+N ('N', 'CA', 'C', '+N')\n",
      "O ('+N', 'CA', 'C', 'O')\n",
      "+CA ('CA', 'C', '+N', '+CA')\n",
      "CB ('N', 'C', 'CA', 'CB')\n",
      "CG ('N', 'CA', 'CB', 'CG')\n",
      "ND1 ('CA', 'CB', 'CG', 'ND1')\n",
      "CD2 ('ND1', 'CB', 'CG', 'CD2')\n",
      "CE1 ('CB', 'CG', 'ND1', 'CE1')\n",
      "NE2 ('CB', 'CG', 'CD2', 'NE2')\n",
      "HE1 ('NE2', 'ND1', 'CE1', 'HE1')\n",
      "HE2 ('CE1', 'CD2', 'NE2', 'HE2')\n",
      "HD1 ('CE1', 'CG', 'ND1', 'HD1')\n",
      "HD2 ('NE2', 'CG', 'CD2', 'HD2')\n",
      "HN ('-C', 'CA', 'N', 'HN')\n",
      "HA ('N', 'C', 'CA', 'HA')\n",
      "HB1 ('CG', 'CA', 'CB', 'HB1')\n",
      "HB2 ('CG', 'CA', 'CB', 'HB2')\n",
      "\n",
      "\n",
      "ILE\n",
      "C ('-C', 'N', 'CA', 'C')\n",
      "+N ('N', 'CA', 'C', '+N')\n",
      "O ('+N', 'CA', 'C', 'O')\n",
      "+CA ('CA', 'C', '+N', '+CA')\n",
      "CB ('N', 'C', 'CA', 'CB')\n",
      "CG1 ('N', 'CA', 'CB', 'CG1')\n",
      "CG2 ('CG1', 'CA', 'CB', 'CG2')\n",
      "CD ('CA', 'CB', 'CG1', 'CD')\n",
      "HG11 ('CD', 'CB', 'CG1', 'HG11')\n",
      "HG12 ('CD', 'CB', 'CG1', 'HG12')\n",
      "HD1 ('CB', 'CG1', 'CD', 'HD1')\n",
      "HD2 ('HD1', 'CG1', 'CD', 'HD2')\n",
      "HD3 ('HD1', 'CG1', 'CD', 'HD3')\n",
      "HN ('-C', 'CA', 'N', 'HN')\n",
      "HA ('N', 'C', 'CA', 'HA')\n",
      "HB ('CG1', 'CA', 'CB', 'HB')\n",
      "HG21 ('CA', 'CB', 'CG2', 'HG21')\n",
      "HG22 ('HG21', 'CB', 'CG2', 'HG22')\n",
      "HG23 ('HG21', 'CB', 'CG2', 'HG23')\n",
      "\n",
      "\n",
      "LEU\n",
      "C ('-C', 'N', 'CA', 'C')\n",
      "+N ('N', 'CA', 'C', '+N')\n",
      "O ('+N', 'CA', 'C', 'O')\n",
      "+CA ('CA', 'C', '+N', '+CA')\n",
      "CB ('N', 'C', 'CA', 'CB')\n",
      "CG ('N', 'CA', 'CB', 'CG')\n",
      "CD1 ('CA', 'CB', 'CG', 'CD1')\n",
      "CD2 ('CD1', 'CB', 'CG', 'CD2')\n",
      "HG ('CD1', 'CD2', 'CG', 'HG')\n",
      "HD11 ('CB', 'CG', 'CD1', 'HD11')\n",
      "HD12 ('HD11', 'CG', 'CD1', 'HD12')\n",
      "HD13 ('HD11', 'CG', 'CD1', 'HD13')\n",
      "HD21 ('CB', 'CG', 'CD2', 'HD21')\n",
      "HD22 ('HD21', 'CG', 'CD2', 'HD22')\n",
      "HD23 ('HD21', 'CG', 'CD2', 'HD23')\n",
      "HN ('-C', 'CA', 'N', 'HN')\n",
      "HA ('N', 'C', 'CA', 'HA')\n",
      "HB1 ('CG', 'CA', 'CB', 'HB1')\n",
      "HB2 ('CG', 'CA', 'CB', 'HB2')\n",
      "\n",
      "\n",
      "LYS\n",
      "C ('-C', 'N', 'CA', 'C')\n",
      "+N ('N', 'CA', 'C', '+N')\n",
      "O ('+N', 'CA', 'C', 'O')\n",
      "+CA ('CA', 'C', '+N', '+CA')\n",
      "CB ('N', 'C', 'CA', 'CB')\n",
      "CG ('N', 'CA', 'CB', 'CG')\n",
      "CD ('CA', 'CB', 'CG', 'CD')\n",
      "CE ('CB', 'CG', 'CD', 'CE')\n",
      "NZ ('CG', 'CD', 'CE', 'NZ')\n",
      "HE1 ('NZ', 'CD', 'CE', 'HE1')\n",
      "HE2 ('NZ', 'CD', 'CE', 'HE2')\n",
      "HZ1 ('CD', 'CE', 'NZ', 'HZ1')\n",
      "HZ2 ('HZ1', 'CE', 'NZ', 'HZ2')\n",
      "HZ3 ('HZ1', 'CE', 'NZ', 'HZ3')\n",
      "HN ('-C', 'CA', 'N', 'HN')\n",
      "HA ('N', 'C', 'CA', 'HA')\n",
      "HB1 ('CG', 'CA', 'CB', 'HB1')\n",
      "HB2 ('CG', 'CA', 'CB', 'HB2')\n",
      "HG1 ('CD', 'CB', 'CG', 'HG1')\n",
      "HG2 ('CD', 'CB', 'CG', 'HG2')\n",
      "HD1 ('CE', 'CG', 'CD', 'HD1')\n",
      "HD2 ('CE', 'CG', 'CD', 'HD2')\n",
      "\n",
      "\n",
      "MET\n",
      "C ('-C', 'N', 'CA', 'C')\n",
      "+N ('N', 'CA', 'C', '+N')\n",
      "O ('+N', 'CA', 'C', 'O')\n",
      "+CA ('CA', 'C', '+N', '+CA')\n",
      "CB ('N', 'C', 'CA', 'CB')\n",
      "CG ('N', 'CA', 'CB', 'CG')\n",
      "SD ('CA', 'CB', 'CG', 'SD')\n",
      "CE ('CB', 'CG', 'SD', 'CE')\n",
      "HE1 ('CG', 'SD', 'CE', 'HE1')\n",
      "HE2 ('HE1', 'SD', 'CE', 'HE2')\n",
      "HE3 ('HE1', 'SD', 'CE', 'HE3')\n",
      "HN ('-C', 'CA', 'N', 'HN')\n",
      "HA ('N', 'C', 'CA', 'HA')\n",
      "HB1 ('CG', 'CA', 'CB', 'HB1')\n",
      "HB2 ('CG', 'CA', 'CB', 'HB2')\n",
      "HG1 ('SD', 'CB', 'CG', 'HG1')\n",
      "HG2 ('SD', 'CB', 'CG', 'HG2')\n",
      "\n",
      "\n",
      "PHE\n",
      "C ('-C', 'N', 'CA', 'C')\n",
      "+N ('N', 'CA', 'C', '+N')\n",
      "O ('+N', 'CA', 'C', 'O')\n",
      "+CA ('CA', 'C', '+N', '+CA')\n",
      "CB ('N', 'C', 'CA', 'CB')\n",
      "CG ('N', 'CA', 'CB', 'CG')\n",
      "CD1 ('CA', 'CB', 'CG', 'CD1')\n",
      "CD2 ('CD1', 'CB', 'CG', 'CD2')\n",
      "CE1 ('CB', 'CG', 'CD1', 'CE1')\n",
      "CE2 ('CB', 'CG', 'CD2', 'CE2')\n",
      "CZ ('CG', 'CD1', 'CE1', 'CZ')\n",
      "HE1 ('CZ', 'CD1', 'CE1', 'HE1')\n",
      "HE2 ('CZ', 'CD2', 'CE2', 'HE2')\n",
      "HZ ('CE1', 'CE2', 'CZ', 'HZ')\n",
      "HN ('-C', 'CA', 'N', 'HN')\n",
      "HA ('N', 'C', 'CA', 'HA')\n",
      "HB1 ('CG', 'CA', 'CB', 'HB1')\n",
      "HB2 ('CG', 'CA', 'CB', 'HB2')\n",
      "HD1 ('CE1', 'CG', 'CD1', 'HD1')\n",
      "HD2 ('CE2', 'CG', 'CD2', 'HD2')\n",
      "\n",
      "\n",
      "PRO\n",
      "CD ('-C', 'CA', 'N', 'CD')\n",
      "C ('-C', 'N', 'CA', 'C')\n",
      "+N ('N', 'CA', 'C', '+N')\n",
      "O ('+N', 'CA', 'C', 'O')\n",
      "+CA ('CA', 'C', '+N', '+CA')\n",
      "CB ('N', 'C', 'CA', 'CB')\n",
      "CG ('N', 'CA', 'CB', 'CG')\n",
      "HB1 ('CA', 'CG', 'CB', 'HB1')\n",
      "HB2 ('CA', 'CG', 'CB', 'HB2')\n",
      "HG1 ('CB', 'CD', 'CG', 'HG1')\n",
      "HG2 ('CB', 'CD', 'CG', 'HG2')\n",
      "HD1 ('N', 'CG', 'CD', 'HD1')\n",
      "HD2 ('N', 'CG', 'CD', 'HD2')\n",
      "HA ('N', 'C', 'CA', 'HA')\n",
      "\n",
      "\n",
      "SER\n",
      "C ('-C', 'N', 'CA', 'C')\n",
      "+N ('N', 'CA', 'C', '+N')\n",
      "O ('+N', 'CA', 'C', 'O')\n",
      "+CA ('CA', 'C', '+N', '+CA')\n",
      "CB ('N', 'C', 'CA', 'CB')\n",
      "OG ('N', 'CA', 'CB', 'OG')\n",
      "HB1 ('OG', 'CA', 'CB', 'HB1')\n",
      "HB2 ('OG', 'CA', 'CB', 'HB2')\n",
      "HG1 ('CA', 'CB', 'OG', 'HG1')\n",
      "HN ('-C', 'CA', 'N', 'HN')\n",
      "HA ('N', 'C', 'CA', 'HA')\n",
      "\n",
      "\n",
      "THR\n",
      "C ('-C', 'N', 'CA', 'C')\n",
      "+N ('N', 'CA', 'C', '+N')\n",
      "O ('+N', 'CA', 'C', 'O')\n",
      "+CA ('CA', 'C', '+N', '+CA')\n",
      "CB ('N', 'C', 'CA', 'CB')\n",
      "OG1 ('N', 'CA', 'CB', 'OG1')\n",
      "CG2 ('OG1', 'CA', 'CB', 'CG2')\n",
      "HG1 ('CA', 'CB', 'OG1', 'HG1')\n",
      "HG21 ('CA', 'CB', 'CG2', 'HG21')\n",
      "HG22 ('HG21', 'CB', 'CG2', 'HG22')\n",
      "HG23 ('HG21', 'CB', 'CG2', 'HG23')\n",
      "HN ('-C', 'CA', 'N', 'HN')\n",
      "HA ('N', 'C', 'CA', 'HA')\n",
      "HB ('OG1', 'CA', 'CB', 'HB')\n",
      "\n",
      "\n",
      "TRP\n",
      "C ('-C', 'N', 'CA', 'C')\n",
      "+N ('N', 'CA', 'C', '+N')\n",
      "O ('+N', 'CA', 'C', 'O')\n",
      "+CA ('CA', 'C', '+N', '+CA')\n",
      "CB ('N', 'C', 'CA', 'CB')\n",
      "CG ('N', 'CA', 'CB', 'CG')\n",
      "CD2 ('CA', 'CB', 'CG', 'CD2')\n",
      "CD1 ('CD2', 'CB', 'CG', 'CD1')\n",
      "CE2 ('CD1', 'CG', 'CD2', 'CE2')\n",
      "NE1 ('CG', 'CD2', 'CE2', 'NE1')\n",
      "CE3 ('CE2', 'CG', 'CD2', 'CE3')\n",
      "CZ3 ('CE2', 'CD2', 'CE3', 'CZ3')\n",
      "CH2 ('CD2', 'CE3', 'CZ3', 'CH2')\n",
      "CZ2 ('CE3', 'CZ3', 'CH2', 'CZ2')\n",
      "HE3 ('CZ3', 'CD2', 'CE3', 'HE3')\n",
      "HZ3 ('CH2', 'CE3', 'CZ3', 'HZ3')\n",
      "HH2 ('CZ2', 'CZ3', 'CH2', 'HH2')\n",
      "HZ2 ('CE2', 'CH2', 'CZ2', 'HZ2')\n",
      "HE1 ('CD1', 'CE2', 'NE1', 'HE1')\n",
      "HD1 ('CG', 'NE1', 'CD1', 'HD1')\n",
      "HN ('-C', 'CA', 'N', 'HN')\n",
      "HA ('N', 'C', 'CA', 'HA')\n",
      "HB1 ('CG', 'CA', 'CB', 'HB1')\n",
      "HB2 ('CG', 'CA', 'CB', 'HB2')\n",
      "\n",
      "\n",
      "TYR\n",
      "C ('-C', 'N', 'CA', 'C')\n",
      "+N ('N', 'CA', 'C', '+N')\n",
      "O ('+N', 'CA', 'C', 'O')\n",
      "+CA ('CA', 'C', '+N', '+CA')\n",
      "CB ('N', 'C', 'CA', 'CB')\n",
      "CG ('N', 'CA', 'CB', 'CG')\n",
      "CD1 ('CA', 'CB', 'CG', 'CD1')\n",
      "CD2 ('CD1', 'CB', 'CG', 'CD2')\n",
      "CE1 ('CB', 'CG', 'CD1', 'CE1')\n",
      "CE2 ('CB', 'CG', 'CD2', 'CE2')\n",
      "CZ ('CG', 'CD1', 'CE1', 'CZ')\n",
      "OH ('CE1', 'CE2', 'CZ', 'OH')\n",
      "HH ('CE1', 'CZ', 'OH', 'HH')\n",
      "HN ('-C', 'CA', 'N', 'HN')\n",
      "HA ('N', 'C', 'CA', 'HA')\n",
      "HB1 ('CG', 'CA', 'CB', 'HB1')\n",
      "HB2 ('CG', 'CA', 'CB', 'HB2')\n",
      "HD1 ('CE1', 'CG', 'CD1', 'HD1')\n",
      "HD2 ('CE2', 'CG', 'CD2', 'HD2')\n",
      "HE1 ('CZ', 'CD1', 'CE1', 'HE1')\n",
      "HE2 ('CZ', 'CD2', 'CE2', 'HE2')\n",
      "\n",
      "\n",
      "VAL\n",
      "C ('-C', 'N', 'CA', 'C')\n",
      "+N ('N', 'CA', 'C', '+N')\n",
      "O ('+N', 'CA', 'C', 'O')\n",
      "+CA ('CA', 'C', '+N', '+CA')\n",
      "CB ('N', 'C', 'CA', 'CB')\n",
      "CG1 ('N', 'CA', 'CB', 'CG1')\n",
      "CG2 ('CG1', 'CA', 'CB', 'CG2')\n",
      "HB ('CG1', 'CA', 'CB', 'HB')\n",
      "HG11 ('CA', 'CB', 'CG1', 'HG11')\n",
      "HG12 ('HG11', 'CB', 'CG1', 'HG12')\n",
      "HG13 ('HG11', 'CB', 'CG1', 'HG13')\n",
      "HG21 ('CA', 'CB', 'CG2', 'HG21')\n",
      "HG22 ('HG21', 'CB', 'CG2', 'HG22')\n",
      "HG23 ('HG21', 'CB', 'CG2', 'HG23')\n",
      "HN ('-C', 'CA', 'N', 'HN')\n",
      "HA ('N', 'C', 'CA', 'HA')\n",
      "\n",
      "\n"
     ]
    }
   ],
   "source": [
    "resnames = [\n",
    "    'ALA', 'ARG', 'ASN', 'ASP', 'CYS', 'GLN', 'GLU', \n",
    "    'GLY', 'HSD', 'HSE', 'HSP', 'ILE', 'LEU', 'LYS', \n",
    "    'MET', 'PHE', 'PRO', 'SER', 'THR', 'TRP', 'TYR', 'VAL'\n",
    "]\n",
    "\n",
    "for resname in resnames:\n",
    "    print(resname)\n",
    "    cur_topo_def = chainA.topo_definitions[resname]\n",
    "    lookup_dict = cur_topo_def.atom_lookup_dict\n",
    "    all_atoms = [k for k in lookup_dict.keys() if k not in ('-C','CA','N')]\n",
    "    all_heavy, all_hydrogen = sep_by_priorities(all_atoms)\n",
    "    running_dict = OrderedDict({k: lookup_dict[k] for k in all_atoms})\n",
    "\n",
    "    build_seqs = find_build_seq(cur_topo_def, all_atoms)\n",
    "    for build_seq in build_seqs:\n",
    "        for atom_name, ic in build_seq:\n",
    "            print(atom_name, ic)\n",
    "    print('\\n')"
   ]
  },
  {
   "cell_type": "code",
   "execution_count": 80,
   "id": "374f64b4-3c57-4a31-adf8-481daa95da68",
   "metadata": {},
   "outputs": [],
   "source": [
    "cur_topo_def = chainA.topo_definitions['PRO']\n",
    "lookup_dict = cur_topo_def.atom_lookup_dict\n",
    "all_atoms = [k for k in lookup_dict.keys() if k not in ('-C','CA','N')]\n",
    "all_heavy, all_hydrogen = sep_by_priorities(all_atoms)\n",
    "running_dict = OrderedDict({k: lookup_dict[k] for k in all_atoms})\n",
    "\n",
    "build_seqs = find_build_seq(cur_topo_def, all_atoms)"
   ]
  },
  {
   "cell_type": "code",
   "execution_count": 83,
   "id": "80aba884-5a33-4172-9d44-c23d02347a57",
   "metadata": {},
   "outputs": [
    {
     "data": {
      "text/plain": [
       "[('CD', ('-C', 'CA', 'N', 'CD')),\n",
       " ('C', ('-C', 'N', 'CA', 'C')),\n",
       " ('+N', ('N', 'CA', 'C', '+N')),\n",
       " ('O', ('+N', 'CA', 'C', 'O')),\n",
       " ('+CA', ('CA', 'C', '+N', '+CA')),\n",
       " ('CB', ('N', 'C', 'CA', 'CB')),\n",
       " ('CG', ('N', 'CA', 'CB', 'CG'))]"
      ]
     },
     "execution_count": 83,
     "metadata": {},
     "output_type": "execute_result"
    }
   ],
   "source": [
    "build_seqs[0]"
   ]
  },
  {
   "cell_type": "code",
   "execution_count": 102,
   "id": "969411aa-4348-4368-aa99-eb2bca290711",
   "metadata": {},
   "outputs": [],
   "source": [
    "def save_ic_coord_pdb(resname, coord_dict, path):\n",
    "    residue = Res((' ', 0, ' '), resname, segid = \" \")\n",
    "    for i, (atom_name, coord) in enumerate(coord_dict.items()):\n",
    "        if atom_name.startswith('-') or atom_name.startswith('+'):\n",
    "            continue\n",
    "        element = atom_name[0]\n",
    "        new_atom = Atom(\n",
    "            name = atom_name,\n",
    "            coord = coord,\n",
    "            bfactor = 0.0,\n",
    "            occupancy = 1.0,\n",
    "            altloc = ' ',\n",
    "            fullname = atom_name,\n",
    "            serial_number = i+1,\n",
    "            element = element\n",
    "        )\n",
    "        residue.add(new_atom)\n",
    "\n",
    "    with open(f\"{path}/{resname}.pdb\", 'w') as f:\n",
    "        f.write(residue.get_pdb_str())\n",
    "        f.write('TER\\nEND')"
   ]
  },
  {
   "cell_type": "code",
   "execution_count": 109,
   "id": "00a9698e-b862-4e78-9ba6-de8e48058f47",
   "metadata": {},
   "outputs": [],
   "source": [
    "all_res_ic_coords = {}\n",
    "for resname in resnames:\n",
    "    topo_def = rtf.residue_definitions[resname]\n",
    "    coord_dict = ab_initio_ic_build(topo_def)\n",
    "    all_res_ic_coords[resname] = coord_dict"
   ]
  },
  {
   "cell_type": "code",
   "execution_count": 110,
   "id": "37da9c65-a60c-4588-a4fd-471e7cb0033c",
   "metadata": {
    "tags": []
   },
   "outputs": [],
   "source": [
    "for resname, coord_dict in all_res_ic_coords.items():\n",
    "    save_ic_coord_pdb(resname, coord_dict, './ic_test_pdb')"
   ]
  },
  {
   "cell_type": "code",
   "execution_count": 1229,
   "id": "bd90831f-b10a-4de8-bae5-924f7c5a08b8",
   "metadata": {},
   "outputs": [
    {
     "data": {
      "text/plain": [
       "['C', '+N', 'O', '+CA', 'CB', 'CG', 'CD1', 'CD2', 'CE1', 'CE2', 'CZ']"
      ]
     },
     "execution_count": 1229,
     "metadata": {},
     "output_type": "execute_result"
    }
   ],
   "source": [
    "computed_heavy_coords"
   ]
  },
  {
   "cell_type": "code",
   "execution_count": 1230,
   "id": "95ffc034-6d3f-4c88-911e-bbc269df55b6",
   "metadata": {},
   "outputs": [
    {
     "data": {
      "text/plain": [
       "['HE1', 'HE2', 'HZ', 'HN', 'HA', 'HB1', 'HB2', 'HD1', 'HD2']"
      ]
     },
     "execution_count": 1230,
     "metadata": {},
     "output_type": "execute_result"
    }
   ],
   "source": [
    "computed_hydrogen_coords"
   ]
  },
  {
   "cell_type": "code",
   "execution_count": 1154,
   "id": "bbdf411a-1762-42b3-ab34-d1f158a7520d",
   "metadata": {},
   "outputs": [
    {
     "data": {
      "text/plain": [
       "{'improper': False,\n",
       " 'R(I-J)': 1.4607,\n",
       " 'T(I-J-K)': 106.09,\n",
       " 'Phi': 180.0,\n",
       " 'T(J-K-L)': 117.69,\n",
       " 'R(K-L)': 1.3449}"
      ]
     },
     "execution_count": 1154,
     "metadata": {},
     "output_type": "execute_result"
    }
   ],
   "source": [
    "thr_ic[heavy_seq[1][1]]"
   ]
  },
  {
   "cell_type": "code",
   "execution_count": 99,
   "id": "fd422e95-d6c0-4af6-9297-249eb4cc43e5",
   "metadata": {},
   "outputs": [],
   "source": [
    "rtf.residue_definitions['PRO'].ic[('N','C','CA','CB')]['Phi'] = -122.4\n",
    "rtf.residue_definitions['PRO'].ic[('N','C','CA','HA')]['Phi'] = 113.74"
   ]
  },
  {
   "cell_type": "code",
   "execution_count": 114,
   "id": "cc3f5852-f895-4e12-b117-c8f7df6ec250",
   "metadata": {},
   "outputs": [
    {
     "data": {
      "text/plain": [
       "{'-C': array([1.3366, 0.    , 0.    ]),\n",
       " 'N': array([0., 0., 0.]),\n",
       " 'CA': array([-0.79307466,  1.2240322 ,  0.        ]),\n",
       " 'CD': array([-0.82392864, -1.20769434, -0.03506763]),\n",
       " 'C': array([-0.80153919,  1.87192008,  1.39694726]),\n",
       " '+N': array([-1.51913526,  3.02006958,  1.48631299]),\n",
       " 'O': array([-0.14719197,  1.38019198,  2.31720361]),\n",
       " '+CA': array([-1.67517616,  3.80986932,  2.6943281 ]),\n",
       " 'CB': array([-2.21828151,  0.91199157, -0.49265412]),\n",
       " 'CG': array([-2.47668634, -0.52424134, -0.02564362]),\n",
       " 'HB1': array([-2.97734816,  1.58467513, -0.03406252]),\n",
       " 'HB2': array([-2.29681994,  0.95231909, -1.6022473 ]),\n",
       " 'HG1': array([-2.95071979, -0.55407541,  0.97505689]),\n",
       " 'HG2': array([-3.11878945, -1.10742391, -0.72511927]),\n",
       " 'HD1': array([-0.66689579, -1.81347445, -0.95631615]),\n",
       " 'HD2': array([-0.67625814, -1.86029877,  0.85610476]),\n",
       " 'HA': array([-0.26640632,  1.87395457, -0.68893182])}"
      ]
     },
     "execution_count": 114,
     "metadata": {},
     "output_type": "execute_result"
    }
   ],
   "source": [
    "all_res_ic_coords['PRO']"
   ]
  },
  {
   "cell_type": "code",
   "execution_count": 1155,
   "id": "4a57ceaf-f551-48cc-aa89-37bf6547abe0",
   "metadata": {},
   "outputs": [],
   "source": [
    "neighbor_atoms = {\n",
    "    '-C': chainA[5]['C'].coord,\n",
    "    '+N': chainA[7]['N'].coord,\n",
    "    '+CA': chainA[7]['CA'].coord,\n",
    "}"
   ]
  },
  {
   "cell_type": "code",
   "execution_count": 1156,
   "id": "ec22c39a-97fe-4dde-ab5e-9ba13df83c53",
   "metadata": {},
   "outputs": [],
   "source": [
    "coord_dict = {atom.name:atom.coord for atom in res}"
   ]
  },
  {
   "cell_type": "code",
   "execution_count": 976,
   "id": "8b0d33fb-f5b1-46a7-822b-01dd8424d43c",
   "metadata": {},
   "outputs": [],
   "source": [
    "coord_dict.update(neighbor_atoms)"
   ]
  },
  {
   "cell_type": "code",
   "execution_count": 1187,
   "id": "14985ac0-594e-4e61-9799-b7d587356009",
   "metadata": {},
   "outputs": [
    {
     "data": {
      "text/plain": [
       "{'-C': array([1.3482, 0.    , 0.    ]),\n",
       " 'N': array([0., 0., 0.]),\n",
       " 'CA': array([-0.80200645,  1.20848906,  0.        ]),\n",
       " 'C': array([-2.25981145e+00,  7.82749376e-01, -1.77582852e-16]),\n",
       " '+N': array([-3.18842856e+00,  1.75959895e+00,  4.72544476e-16]),\n",
       " 'O': array([-2.56741042e+00, -4.05791814e-01, -2.89454953e-16]),\n",
       " '+CA': array([-4.62068834e+00,  1.54196714e+00,  8.02873294e-16]),\n",
       " 'CB': array([-0.47447809,  2.10968089,  1.22646023]),\n",
       " 'CG': array([-1.27434363,  3.42613345,  1.32423562]),\n",
       " 'CD': array([-0.90561725,  4.27210885,  2.55673007]),\n",
       " 'CE': array([-1.71327804,  5.57524837,  2.63246945]),\n",
       " 'NZ': array([-1.33193365,  6.34424351,  3.81399012]),\n",
       " 'HE1': array([-2.80253559,  5.35586931,  2.69341757]),\n",
       " 'HE2': array([-1.53038986,  6.20130866,  1.73146351]),\n",
       " 'HZ1': array([-1.8821697 ,  7.2261444 ,  3.85784524]),\n",
       " 'HZ2': array([-0.31792316,  6.57157123,  3.76793724]),\n",
       " 'HZ3': array([-1.51694086,  5.78003039,  4.6679479 ]),\n",
       " 'HN': array([-5.19193562e-01, -8.53252299e-01, -1.10758055e-16]),\n",
       " 'HA': array([-0.62278581,  1.74783116, -0.92224127]),\n",
       " 'HB1': array([0.60956669, 2.36212735, 1.16771627]),\n",
       " 'HB2': array([-0.60690422,  1.51538757,  2.1582705 ]),\n",
       " 'HG1': array([-2.36147184,  3.18916612,  1.37472488]),\n",
       " 'HG2': array([-1.10694822,  4.02180454,  0.39751062]),\n",
       " 'HD1': array([0.18556773, 4.49351975, 2.51785378]),\n",
       " 'HD2': array([-1.08878625,  3.65627634,  3.46751687])}"
      ]
     },
     "execution_count": 1187,
     "metadata": {},
     "output_type": "execute_result"
    }
   ],
   "source": [
    "coord_dict"
   ]
  },
  {
   "cell_type": "code",
   "execution_count": 1030,
   "id": "cb52611c-cf0d-4f2c-858b-21f51c27efbb",
   "metadata": {},
   "outputs": [
    {
     "data": {
      "text/plain": [
       "{'parent_def': <Residue Definition name=GLU atoms=15>,\n",
       " 'name': 'CA',\n",
       " 'atom_type': 'CT1',\n",
       " 'is_donor': False,\n",
       " 'is_acceptor': False,\n",
       " 'charge': 0.07,\n",
       " 'mass': 12.011,\n",
       " 'desc': 'aliphatic sp3 C for CH'}"
      ]
     },
     "execution_count": 1030,
     "metadata": {},
     "output_type": "execute_result"
    }
   ],
   "source": [
    "topo_def['CA'].__dict__"
   ]
  },
  {
   "cell_type": "code",
   "execution_count": null,
   "id": "70560633-9e3d-41dd-af8e-623ab54c3f08",
   "metadata": {},
   "outputs": [],
   "source": []
  }
 ],
 "metadata": {
  "kernelspec": {
   "display_name": "pcm-devel",
   "language": "python",
   "name": "pcm-devel"
  },
  "language_info": {
   "codemirror_mode": {
    "name": "ipython",
    "version": 3
   },
   "file_extension": ".py",
   "mimetype": "text/x-python",
   "name": "python",
   "nbconvert_exporter": "python",
   "pygments_lexer": "ipython3",
   "version": "3.10.6"
  }
 },
 "nbformat": 4,
 "nbformat_minor": 5
}

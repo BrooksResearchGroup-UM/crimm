{
 "cells": [
  {
   "cell_type": "code",
   "execution_count": 1,
   "id": "740006c8-c4c3-478c-b9c5-858d1eb9fa9d",
   "metadata": {},
   "outputs": [
    {
     "data": {
      "application/vnd.jupyter.widget-view+json": {
       "model_id": "7c75db05199349dca6c5728648de6fc2",
       "version_major": 2,
       "version_minor": 0
      },
      "text/plain": []
     },
     "metadata": {},
     "output_type": "display_data"
    }
   ],
   "source": [
    "import os\n",
    "from itertools import combinations, permutations\n",
    "import numpy as np\n",
    "from Bond import Bond\n",
    "from types import MappingProxyType\n",
    "from collections import namedtuple, OrderedDict\n",
    "from Residue import Residue as Res\n",
    "from ChMMCIFParser import ChMMCIFParser as ChmParser\n",
    "from TopoDefinitions import ResidueDefinition\n",
    "from Atom import Atom\n",
    "from Residue import Residue\n",
    "from RTFParser import RTFParser\n",
    "from ICBuilder import ResidueFixer\n",
    "from scipy.spatial.transform import Rotation as R\n",
    "import numpy.linalg as LA\n",
    "\n",
    "from matplotlib import pyplot as plt"
   ]
  },
  {
   "cell_type": "code",
   "execution_count": 2,
   "id": "61f5a852-ddfd-4c8a-9a97-ae04a3ac4eb7",
   "metadata": {},
   "outputs": [],
   "source": [
    "import importlib\n",
    "import Residue\n",
    "import ChMMCIFParser\n",
    "importlib.reload(Residue)\n",
    "importlib.reload(ChMMCIFParser)\n",
    "from Residue import Residue as Res\n",
    "from ChMMCIFParser import ChMMCIFParser as ChmParser"
   ]
  },
  {
   "cell_type": "code",
   "execution_count": 2,
   "id": "44b8e42c-b5ca-4519-9f93-ee6847dd1c19",
   "metadata": {},
   "outputs": [],
   "source": [
    "def find_local_cif_path(pdb_id):\n",
    "    pdb_id = pdb_id.lower()\n",
    "    entry_point = '/mnt/backup/PDB/'\n",
    "    subdir = pdb_id[1:3]\n",
    "    file_path = os.path.join(entry_point, subdir, pdb_id+'.cif')\n",
    "    if os.path.exists(file_path):\n",
    "        return file_path"
   ]
  },
  {
   "cell_type": "code",
   "execution_count": 3,
   "id": "5352a1e7-dac7-4168-a810-555c535da772",
   "metadata": {
    "tags": []
   },
   "outputs": [
    {
     "name": "stderr",
     "output_type": "stream",
     "text": [
      "/home/truman/whaler/TopoDefinitions.py:163: UserWarning: Unknown Residue Type ALAD! Standard coord build from IC table is skipped.\n",
      "  warnings.warn(\n",
      "/home/truman/whaler/TopoDefinitions.py:199: UserWarning: No standard coordinates available. Skipped construction of new residue: ALAD\n",
      "  warnings.warn(\n"
     ]
    }
   ],
   "source": [
    "rtf = RTFParser('./data/toppar/top_all36_2_prot.rtf')"
   ]
  },
  {
   "cell_type": "code",
   "execution_count": 4,
   "id": "5059c70c-5894-45c9-96d4-4187aae15f56",
   "metadata": {},
   "outputs": [],
   "source": [
    "Parser = ChmParser(\n",
    "    include_solvent=False\n",
    ")\n",
    "pdb_id = '5IGV'\n",
    "file_path = find_local_cif_path(pdb_id)\n",
    "structure = Parser.get_structure(file_path)"
   ]
  },
  {
   "cell_type": "code",
   "execution_count": 5,
   "id": "73ae3a4d-cc65-4ffc-9f4b-12eb21114c22",
   "metadata": {},
   "outputs": [],
   "source": [
    "chainA = structure[1]['A']\n",
    "chainA.load_topo_definition(rtf.residue_definitions)"
   ]
  },
  {
   "cell_type": "code",
   "execution_count": 6,
   "id": "dbfc1793-38d7-48f5-a1ca-41a243075711",
   "metadata": {},
   "outputs": [
    {
     "name": "stderr",
     "output_type": "stream",
     "text": [
      "/home/truman/whaler/ICBuilder.py:199: UserWarning: Missing atoms on terminal residues will be built without patching! Terminal patching is recommended before building missing atoms!\n",
      "  warnings.warn(\n"
     ]
    }
   ],
   "source": [
    "res_builder = ResidueFixer()\n",
    "for res in chainA:\n",
    "    if res.topo_definition is None:\n",
    "        print(f'No topology definition on {res}')\n",
    "        continue\n",
    "    res_builder.load_residue(res)\n",
    "    if res.missing_atoms:\n",
    "        res_builder.build_missing_atoms()\n",
    "    res_builder.build_hydrogens()"
   ]
  },
  {
   "cell_type": "code",
   "execution_count": 7,
   "id": "462c2ab3-518d-4db8-b91f-2c98e2cb44f6",
   "metadata": {},
   "outputs": [
    {
     "data": {
      "application/vnd.jupyter.widget-view+json": {
       "model_id": "1f9cc043892940dfa2c3e1cf507a97b1",
       "version_major": 2,
       "version_minor": 0
      },
      "text/plain": [
       "NGLWidget()"
      ]
     },
     "metadata": {},
     "output_type": "display_data"
    },
    {
     "data": {
      "text/plain": [
       "<Polypeptide(L) id=A Residues/Molecules=298>\n",
       "  Description: Macrolide 2'-phosphotransferase II"
      ]
     },
     "execution_count": 7,
     "metadata": {},
     "output_type": "execute_result"
    }
   ],
   "source": [
    "chainA"
   ]
  },
  {
   "cell_type": "code",
   "execution_count": 8,
   "id": "17ef6d3f-6cd6-46b4-9030-19f827e9c629",
   "metadata": {},
   "outputs": [
    {
     "data": {
      "application/vnd.jupyter.widget-view+json": {
       "model_id": "29fb6ae18d29465db85b376e9bae5688",
       "version_major": 2,
       "version_minor": 0
      },
      "text/plain": [
       "NGLWidget()"
      ]
     },
     "metadata": {},
     "output_type": "display_data"
    },
    {
     "data": {
      "text/plain": [
       "<Heterogens id=D Residues/Molecules=1>\n",
       "  Description: GUANOSINE-5'-DIPHOSPHATE"
      ]
     },
     "execution_count": 8,
     "metadata": {},
     "output_type": "execute_result"
    }
   ],
   "source": [
    "structure[1]['D']"
   ]
  },
  {
   "cell_type": "code",
   "execution_count": 45,
   "id": "d0f6fbb7-7584-49e0-9d07-cc90e9b95316",
   "metadata": {},
   "outputs": [
    {
     "name": "stderr",
     "output_type": "stream",
     "text": [
      "[11:40:00] WARNING: More than one matching pattern found - picking one\n",
      "\n"
     ]
    }
   ],
   "source": [
    "gdp = structure[1]['D'].to_rdkit_mols()[0]"
   ]
  },
  {
   "cell_type": "code",
   "execution_count": 46,
   "id": "79fdb997-0feb-4317-9439-731024a1bc11",
   "metadata": {},
   "outputs": [
    {
     "data": {
      "image/png": "[encoded data removed]",
      "text/html": [
       "<table><tr><td colspan=2 style=\"text-align:center\"><image src=\"data:image/png;base64,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\"></td></tr>\n",
       "<tr><th style=\"text-align:right\">Description</th><td style=\"text-align:left\">GUANOSINE-5'-DIPHOSPHATE</td></tr></table>"
      ],
      "text/plain": [
       "<rdkit.Chem.rdchem.Mol at 0x7f4af1820680>"
      ]
     },
     "execution_count": 46,
     "metadata": {},
     "output_type": "execute_result"
    }
   ],
   "source": [
    "gdp"
   ]
  },
  {
   "cell_type": "code",
   "execution_count": 9,
   "id": "56bbc99d-1e46-4e27-8bf8-442a056354d8",
   "metadata": {
    "tags": []
   },
   "outputs": [],
   "source": [
    "resnames = [\n",
    "    'ALA', 'ARG', 'ASN', 'ASP', 'CYS', 'GLN', 'GLU', \n",
    "    'GLY', 'HSD', 'HSE', 'HSP', 'ILE', 'LEU', 'LYS', \n",
    "    'MET', 'PHE', 'PRO', 'SER', 'THR', 'TRP', 'TYR', 'VAL'\n",
    "]"
   ]
  },
  {
   "cell_type": "code",
   "execution_count": 25,
   "id": "969411aa-4348-4368-aa99-eb2bca290711",
   "metadata": {},
   "outputs": [],
   "source": [
    "def save_ic_coord_pdb(resname, coord_dict, path):\n",
    "    residue = Res((' ', 0, ' '), resname, segid = \" \")\n",
    "    for i, (atom_name, coord) in enumerate(coord_dict.items()):\n",
    "        if atom_name.startswith('-') or atom_name.startswith('+'):\n",
    "            continue\n",
    "        element = atom_name[0]\n",
    "        new_atom = Atom(\n",
    "            name = atom_name,\n",
    "            coord = coord,\n",
    "            bfactor = 0.0,\n",
    "            occupancy = 1.0,\n",
    "            altloc = ' ',\n",
    "            fullname = atom_name,\n",
    "            serial_number = i+1,\n",
    "            element = element\n",
    "        )\n",
    "        residue.add(new_atom)\n",
    "\n",
    "    with open(f\"{path}/{resname}.pdb\", 'w') as f:\n",
    "        f.write(residue.get_pdb_str())\n",
    "        f.write('TER\\nEND')"
   ]
  },
  {
   "cell_type": "code",
   "execution_count": 26,
   "id": "00a9698e-b862-4e78-9ba6-de8e48058f47",
   "metadata": {},
   "outputs": [],
   "source": [
    "for resname in resnames:\n",
    "    coord_dict = rtf.residue_definitions[resname].standard_coord_dict\n",
    "    save_ic_coord_pdb(resname, coord_dict, './ic_test_pdb')"
   ]
  },
  {
   "cell_type": "code",
   "execution_count": 4,
   "id": "102920d8-ca80-4f0b-a0b4-6adbd753e64a",
   "metadata": {},
   "outputs": [
    {
     "data": {
      "application/vnd.jupyter.widget-view+json": {
       "model_id": "9e50f52c634d488485100cfd8fe939be",
       "version_major": 2,
       "version_minor": 0
      },
      "text/plain": [
       "NGLWidget()"
      ]
     },
     "metadata": {},
     "output_type": "display_data"
    },
    {
     "data": {
      "text/plain": [
       "<Residue THR het=  resseq=0 icode= >"
      ]
     },
     "execution_count": 4,
     "metadata": {},
     "output_type": "execute_result"
    }
   ],
   "source": [
    "rtf.residue_definitions['THR'].create_residue()"
   ]
  },
  {
   "cell_type": "code",
   "execution_count": 4,
   "id": "26291e23-218e-4807-bd87-5978b3a1ffa8",
   "metadata": {},
   "outputs": [
    {
     "data": {
      "text/plain": [
       "{'ALA': <Residue Definition name=ALA code=A atoms=10>,\n",
       " 'ARG': <Residue Definition name=ARG code=R atoms=24>,\n",
       " 'ASN': <Residue Definition name=ASN code=N atoms=14>,\n",
       " 'ASP': <Residue Definition name=ASP code=D atoms=12>,\n",
       " 'CYS': <Residue Definition name=CYS code=C atoms=11>,\n",
       " 'GLN': <Residue Definition name=GLN code=Q atoms=17>,\n",
       " 'GLU': <Residue Definition name=GLU code=E atoms=15>,\n",
       " 'GLY': <Residue Definition name=GLY code=G atoms=7>,\n",
       " 'HSD': <Residue Definition name=HSD code=H atoms=17>,\n",
       " 'HSE': <Residue Definition name=HSE code=H atoms=17>,\n",
       " 'HSP': <Residue Definition name=HSP code=H atoms=18>,\n",
       " 'ILE': <Residue Definition name=ILE code=I atoms=19>,\n",
       " 'LEU': <Residue Definition name=LEU code=L atoms=19>,\n",
       " 'LYS': <Residue Definition name=LYS code=K atoms=22>,\n",
       " 'MET': <Residue Definition name=MET code=M atoms=17>,\n",
       " 'PHE': <Residue Definition name=PHE code=F atoms=20>,\n",
       " 'PRO': <Residue Definition name=PRO code=P atoms=14>,\n",
       " 'SER': <Residue Definition name=SER code=S atoms=11>,\n",
       " 'THR': <Residue Definition name=THR code=T atoms=14>,\n",
       " 'TRP': <Residue Definition name=TRP code=W atoms=24>,\n",
       " 'TYR': <Residue Definition name=TYR code=Y atoms=21>,\n",
       " 'VAL': <Residue Definition name=VAL code=V atoms=16>,\n",
       " 'ALAD': <Residue Definition name=ALAD  atoms=22>,\n",
       " 'NTER': <Patch Definition name=NTER  atoms=6>,\n",
       " 'GLYP': <Patch Definition name=GLYP  atoms=7>,\n",
       " 'PROP': <Patch Definition name=PROP  atoms=8>,\n",
       " 'ACE': <Patch Definition name=ACE  atoms=6>,\n",
       " 'ACED': <Patch Definition name=ACED  atoms=6>,\n",
       " 'ACP': <Patch Definition name=ACP  atoms=6>,\n",
       " 'ACPD': <Patch Definition name=ACPD  atoms=6>,\n",
       " 'NNEU': <Patch Definition name=NNEU  atoms=5>,\n",
       " 'NGNE': <Patch Definition name=NGNE  atoms=6>,\n",
       " 'CTER': <Patch Definition name=CTER  atoms=3>,\n",
       " 'CNEU': <Patch Definition name=CNEU  atoms=4>,\n",
       " 'PCTE': <Patch Definition name=PCTE  atoms=4>,\n",
       " 'CT1': <Patch Definition name=CT1  atoms=11>,\n",
       " 'CT2': <Patch Definition name=CT2  atoms=5>,\n",
       " 'CT3': <Patch Definition name=CT3  atoms=8>,\n",
       " 'ASPP': <Patch Definition name=ASPP  atoms=7>,\n",
       " 'GLUP': <Patch Definition name=GLUP  atoms=7>,\n",
       " 'LSN': <Patch Definition name=LSN  atoms=6>,\n",
       " 'CYM': <Residue Definition name=CYM code=C atoms=10>,\n",
       " 'CYSD': <Patch Definition name=CYSD  atoms=4>,\n",
       " 'SERD': <Patch Definition name=SERD  atoms=4>,\n",
       " 'DISU': <Patch Definition name=DISU  atoms=4>,\n",
       " 'HS2': <Patch Definition name=HS2  atoms=11>,\n",
       " 'LIG1': <Patch Definition name=LIG1  atoms=0>,\n",
       " 'LINK': <Patch Definition name=LINK  atoms=0>,\n",
       " 'HIS': <Residue Definition name=HSE code=H atoms=17>}"
      ]
     },
     "execution_count": 4,
     "metadata": {},
     "output_type": "execute_result"
    }
   ],
   "source": [
    "rtf.residue_definitions"
   ]
  },
  {
   "cell_type": "code",
   "execution_count": null,
   "id": "42cc7411-eeb0-4c59-b986-28ca934e6254",
   "metadata": {},
   "outputs": [],
   "source": []
  }
 ],
 "metadata": {
  "kernelspec": {
   "display_name": "pcm-devel",
   "language": "python",
   "name": "pcm-devel"
  },
  "language_info": {
   "codemirror_mode": {
    "name": "ipython",
    "version": 3
   },
   "file_extension": ".py",
   "mimetype": "text/x-python",
   "name": "python",
   "nbconvert_exporter": "python",
   "pygments_lexer": "ipython3",
   "version": "3.10.6"
  }
 },
 "nbformat": 4,
 "nbformat_minor": 5
}

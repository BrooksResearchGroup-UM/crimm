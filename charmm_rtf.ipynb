{
 "cells": [
  {
   "cell_type": "code",
   "execution_count": 1,
   "id": "740006c8-c4c3-478c-b9c5-858d1eb9fa9d",
   "metadata": {},
   "outputs": [
    {
     "data": {
      "application/vnd.jupyter.widget-view+json": {
       "model_id": "93be2f4370014763a2aaca85a7053b6a",
       "version_major": 2,
       "version_minor": 0
      },
      "text/plain": []
     },
     "metadata": {},
     "output_type": "display_data"
    }
   ],
   "source": [
    "import os\n",
    "from itertools import combinations, permutations\n",
    "import numpy as np\n",
    "from Bond import Bond\n",
    "from types import MappingProxyType\n",
    "from collections import namedtuple, OrderedDict\n",
    "from Residue import Residue as Res\n",
    "from ChMMCIFParser import ChMMCIFParser as ChmParser\n",
    "from TopoDefinitions import ResidueDefinition\n",
    "from Atom import Atom\n",
    "from Residue import Residue\n",
    "from RTFParser import RTFParser\n",
    "from ICBuilder import ResidueFixer\n",
    "from scipy.spatial.transform import Rotation as R\n",
    "import numpy.linalg as LA\n",
    "\n",
    "from matplotlib import pyplot as plt"
   ]
  },
  {
   "cell_type": "code",
   "execution_count": 2,
   "id": "a0ba14f4-180e-4a24-8a88-ac329b41c563",
   "metadata": {},
   "outputs": [],
   "source": [
    "from rdkit.Chem import AllChem"
   ]
  },
  {
   "cell_type": "code",
   "execution_count": 2,
   "id": "61f5a852-ddfd-4c8a-9a97-ae04a3ac4eb7",
   "metadata": {},
   "outputs": [],
   "source": [
    "import importlib\n",
    "import Residue\n",
    "import ChMMCIFParser\n",
    "importlib.reload(Residue)\n",
    "importlib.reload(ChMMCIFParser)\n",
    "from Residue import Residue as Res\n",
    "from ChMMCIFParser import ChMMCIFParser as ChmParser"
   ]
  },
  {
   "cell_type": "code",
   "execution_count": 3,
   "id": "44b8e42c-b5ca-4519-9f93-ee6847dd1c19",
   "metadata": {},
   "outputs": [],
   "source": [
    "def find_local_cif_path(pdb_id):\n",
    "    pdb_id = pdb_id.lower()\n",
    "    entry_point = '/mnt/backup/PDB/'\n",
    "    subdir = pdb_id[1:3]\n",
    "    file_path = os.path.join(entry_point, subdir, pdb_id+'.cif')\n",
    "    if os.path.exists(file_path):\n",
    "        return file_path"
   ]
  },
  {
   "cell_type": "code",
   "execution_count": 4,
   "id": "5352a1e7-dac7-4168-a810-555c535da772",
   "metadata": {
    "tags": []
   },
   "outputs": [
    {
     "name": "stderr",
     "output_type": "stream",
     "text": [
      "/home/truman/whaler/TopoDefinitions.py:164: UserWarning: Unknown Residue Type ALAD! Standard coord build from IC table is skipped.\n",
      "  warnings.warn(\n",
      "/home/truman/whaler/TopoDefinitions.py:200: UserWarning: No standard coordinates available. Skipped construction of new residue: ALAD\n",
      "  warnings.warn(\n"
     ]
    }
   ],
   "source": [
    "rtf = RTFParser('./data/toppar/top_all36_2_prot.rtf')"
   ]
  },
  {
   "cell_type": "code",
   "execution_count": 28,
   "id": "5059c70c-5894-45c9-96d4-4187aae15f56",
   "metadata": {},
   "outputs": [],
   "source": [
    "Parser = ChmParser(\n",
    "    include_solvent=False\n",
    ")\n",
    "pdb_id = '1XBP'\n",
    "file_path = find_local_cif_path(pdb_id)\n",
    "structure = Parser.get_structure(file_path)"
   ]
  },
  {
   "cell_type": "code",
   "execution_count": 19,
   "id": "41d00447-177a-46f5-a697-20612cc0ee0d",
   "metadata": {},
   "outputs": [],
   "source": [
    "structure = Parser.get_structure('./3sd3.cif')"
   ]
  },
  {
   "cell_type": "code",
   "execution_count": 35,
   "id": "ba7d9605-13c1-45b9-906e-fa5698cb1300",
   "metadata": {},
   "outputs": [
    {
     "name": "stdout",
     "output_type": "stream",
     "text": [
      "Object `structure.model` not found.\n"
     ]
    }
   ],
   "source": [
    "structure.model?"
   ]
  },
  {
   "cell_type": "code",
   "execution_count": 11,
   "id": "73ae3a4d-cc65-4ffc-9f4b-12eb21114c22",
   "metadata": {},
   "outputs": [],
   "source": [
    "chainA = structure[1]['A']\n",
    "chainA.load_topo_definition(rtf.residue_definitions)"
   ]
  },
  {
   "cell_type": "code",
   "execution_count": 15,
   "id": "dbfc1793-38d7-48f5-a1ca-41a243075711",
   "metadata": {},
   "outputs": [
    {
     "name": "stderr",
     "output_type": "stream",
     "text": [
      "/home/truman/whaler/ICBuilder.py:199: UserWarning: Missing atoms on terminal residues will be built without patching! Terminal patching is recommended before building missing atoms!\n",
      "  warnings.warn(\n"
     ]
    }
   ],
   "source": [
    "res_builder = ResidueFixer()\n",
    "for res in chainA:\n",
    "    if res.topo_definition is None:\n",
    "        print(f'No topology definition on {res}')\n",
    "        continue\n",
    "    res_builder.load_residue(res)\n",
    "    if res.missing_atoms:\n",
    "        res_builder.build_missing_atoms()\n",
    "    res_builder.build_hydrogens()"
   ]
  },
  {
   "cell_type": "code",
   "execution_count": 16,
   "id": "4bd1d444-5db0-42cb-970d-e3d86533b75e",
   "metadata": {},
   "outputs": [
    {
     "data": {
      "text/plain": [
       "[<Atom N>,\n",
       " <Atom CA>,\n",
       " <Atom C>,\n",
       " <Atom O>,\n",
       " <Atom CB>,\n",
       " <Atom CG>,\n",
       " <Atom OD1>,\n",
       " <Atom OD2>,\n",
       " <Atom HN>,\n",
       " <Atom HA>,\n",
       " <Atom HB1>,\n",
       " <Atom HB2>]"
      ]
     },
     "execution_count": 16,
     "metadata": {},
     "output_type": "execute_result"
    }
   ],
   "source": [
    "chainA[4].child_list"
   ]
  },
  {
   "cell_type": "code",
   "execution_count": 17,
   "id": "8c60f009-bb48-4d41-bad7-69f8523e34af",
   "metadata": {},
   "outputs": [
    {
     "data": {
      "application/vnd.jupyter.widget-view+json": {
       "model_id": "7349c1e9bf3c432a816a0bb374c246e3",
       "version_major": 2,
       "version_minor": 0
      },
      "text/plain": [
       "NGLWidget()"
      ]
     },
     "metadata": {},
     "output_type": "display_data"
    },
    {
     "data": {
      "text/plain": [
       "<Residue ILE het=  resseq=5 icode= >"
      ]
     },
     "execution_count": 17,
     "metadata": {},
     "output_type": "execute_result"
    }
   ],
   "source": [
    "chainA[5]"
   ]
  },
  {
   "cell_type": "code",
   "execution_count": 31,
   "id": "17ef6d3f-6cd6-46b4-9030-19f827e9c629",
   "metadata": {},
   "outputs": [
    {
     "data": {
      "application/vnd.jupyter.widget-view+json": {
       "model_id": "2620c6f48fa04af497c624c76a02f8b7",
       "version_major": 2,
       "version_minor": 0
      },
      "text/plain": [
       "NGLWidget()"
      ]
     },
     "metadata": {},
     "output_type": "display_data"
    },
    {
     "data": {
      "text/plain": [
       "<Heterogens id=FA Residues/Molecules=1>\n",
       "  Description: TIAMULIN"
      ]
     },
     "execution_count": 31,
     "metadata": {},
     "output_type": "execute_result"
    }
   ],
   "source": [
    "structure[1]['FA']"
   ]
  },
  {
   "cell_type": "code",
   "execution_count": 34,
   "id": "d0f6fbb7-7584-49e0-9d07-cc90e9b95316",
   "metadata": {},
   "outputs": [
    {
     "name": "stdout",
     "output_type": "stream",
     "text": [
      "Unexpected exception formatting exception. Falling back to standard exception\n"
     ]
    },
    {
     "name": "stderr",
     "output_type": "stream",
     "text": [
      "Traceback (most recent call last):\n",
      "  File \"/home/truman/.conda/envs/pcm-devel/lib/python3.10/site-packages/IPython/core/interactiveshell.py\", line 3433, in run_code\n",
      "    exec(code_obj, self.user_global_ns, self.user_ns)\n",
      "  File \"/tmp/ipykernel_2602496/292891023.py\", line 1, in <module>\n",
      "    azi = structure[1]['FA'].to_rdkit_mols()[0]\n",
      "  File \"/home/truman/whaler/Chain.py\", line 384, in to_rdkit_mols\n",
      "    self.child_list[0].pdbx_description = self.pdbx_description\n",
      "  File \"/home/truman/whaler/Chain.py\", line 384, in <listcomp>\n",
      "    self.child_list[0].pdbx_description = self.pdbx_description\n",
      "  File \"/home/truman/whaler/Residue.py\", line 271, in to_rdkit\n",
      "  File \"/home/truman/whaler/Residue.py\", line 84, in get_pdb_str\n",
      "    for atom in self._get_child(self, include_alt):\n",
      "  File \"/home/truman/.conda/envs/pcm-devel/lib/python3.10/site-packages/Bio/PDB/PDBIO.py\", line 249, in _get_atom_line\n",
      "    return _ATOM_FORMAT_STRING % args\n",
      "TypeError: %c requires int or char\n",
      "\n",
      "During handling of the above exception, another exception occurred:\n",
      "\n",
      "Traceback (most recent call last):\n",
      "  File \"/home/truman/.conda/envs/pcm-devel/lib/python3.10/site-packages/IPython/core/interactiveshell.py\", line 2052, in showtraceback\n",
      "    stb = self.InteractiveTB.structured_traceback(\n",
      "  File \"/home/truman/.conda/envs/pcm-devel/lib/python3.10/site-packages/IPython/core/ultratb.py\", line 1112, in structured_traceback\n",
      "    return FormattedTB.structured_traceback(\n",
      "  File \"/home/truman/.conda/envs/pcm-devel/lib/python3.10/site-packages/IPython/core/ultratb.py\", line 1006, in structured_traceback\n",
      "    return VerboseTB.structured_traceback(\n",
      "  File \"/home/truman/.conda/envs/pcm-devel/lib/python3.10/site-packages/IPython/core/ultratb.py\", line 859, in structured_traceback\n",
      "    formatted_exception = self.format_exception_as_a_whole(etype, evalue, etb, number_of_lines_of_context,\n",
      "  File \"/home/truman/.conda/envs/pcm-devel/lib/python3.10/site-packages/IPython/core/ultratb.py\", line 812, in format_exception_as_a_whole\n",
      "    frames.append(self.format_record(r))\n",
      "  File \"/home/truman/.conda/envs/pcm-devel/lib/python3.10/site-packages/IPython/core/ultratb.py\", line 730, in format_record\n",
      "    result += ''.join(_format_traceback_lines(frame_info.lines, Colors, self.has_colors, lvals))\n",
      "  File \"/home/truman/.conda/envs/pcm-devel/lib/python3.10/site-packages/stack_data/utils.py\", line 144, in cached_property_wrapper\n",
      "    value = obj.__dict__[self.func.__name__] = self.func(obj)\n",
      "  File \"/home/truman/.conda/envs/pcm-devel/lib/python3.10/site-packages/stack_data/core.py\", line 720, in lines\n",
      "    pieces = self.included_pieces\n",
      "  File \"/home/truman/.conda/envs/pcm-devel/lib/python3.10/site-packages/stack_data/utils.py\", line 144, in cached_property_wrapper\n",
      "    value = obj.__dict__[self.func.__name__] = self.func(obj)\n",
      "  File \"/home/truman/.conda/envs/pcm-devel/lib/python3.10/site-packages/stack_data/core.py\", line 667, in included_pieces\n",
      "    pos = scope_pieces.index(self.executing_piece)\n",
      "  File \"/home/truman/.conda/envs/pcm-devel/lib/python3.10/site-packages/stack_data/utils.py\", line 144, in cached_property_wrapper\n",
      "    value = obj.__dict__[self.func.__name__] = self.func(obj)\n",
      "  File \"/home/truman/.conda/envs/pcm-devel/lib/python3.10/site-packages/stack_data/core.py\", line 646, in executing_piece\n",
      "    return only(\n",
      "  File \"/home/truman/.conda/envs/pcm-devel/lib/python3.10/site-packages/executing/executing.py\", line 190, in only\n",
      "    raise NotOneValueFound('Expected one value, found 0')\n",
      "executing.executing.NotOneValueFound: Expected one value, found 0\n"
     ]
    }
   ],
   "source": [
    "azi = structure[1]['FA'].to_rdkit_mols()[0]"
   ]
  },
  {
   "cell_type": "code",
   "execution_count": 38,
   "id": "0d82ed73-4f5e-4214-92f3-2a3bbaf9d540",
   "metadata": {},
   "outputs": [],
   "source": [
    "from copy import copy"
   ]
  },
  {
   "cell_type": "code",
   "execution_count": 39,
   "id": "0d0ed5cd-a3d6-4cf7-83e7-2edc6159def2",
   "metadata": {},
   "outputs": [],
   "source": [
    "azi_2d = copy(azi)"
   ]
  },
  {
   "cell_type": "code",
   "execution_count": 40,
   "id": "79fdb997-0feb-4317-9439-731024a1bc11",
   "metadata": {},
   "outputs": [
    {
     "data": {
      "text/plain": [
       "0"
      ]
     },
     "execution_count": 40,
     "metadata": {},
     "output_type": "execute_result"
    }
   ],
   "source": [
    "AllChem.Compute2DCoords(azi_2d)"
   ]
  },
  {
   "cell_type": "code",
   "execution_count": 41,
   "id": "f899225a-3e8d-4b27-a2dd-19d2293b6440",
   "metadata": {},
   "outputs": [
    {
     "data": {
      "image/png": "[encoded data removed]",
      "text/html": [
       "<table><tr><td colspan=2 style=\"text-align:center\"><image src=\"data:image/png;base64,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\"></td></tr>\n",
       "<tr><th style=\"text-align:right\">Description</th><td style=\"text-align:left\">AZITHROMYCIN</td></tr></table>"
      ],
      "text/plain": [
       "<rdkit.Chem.rdchem.Mol at 0x7fe34e79b830>"
      ]
     },
     "execution_count": 41,
     "metadata": {},
     "output_type": "execute_result"
    }
   ],
   "source": [
    "azi"
   ]
  },
  {
   "cell_type": "code",
   "execution_count": 42,
   "id": "f7737810-92bb-478e-8da2-ff275f2a7532",
   "metadata": {},
   "outputs": [
    {
     "data": {
      "image/png": "[encoded data removed]",
      "text/html": [
       "<table><tr><td colspan=2 style=\"text-align:center\"><image src=\"data:image/png;base64,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\"></td></tr>\n",
       "<tr><th style=\"text-align:right\">Description</th><td style=\"text-align:left\">AZITHROMYCIN</td></tr></table>"
      ],
      "text/plain": [
       "<rdkit.Chem.rdchem.Mol at 0x7fe3305069e0>"
      ]
     },
     "execution_count": 42,
     "metadata": {},
     "output_type": "execute_result"
    }
   ],
   "source": [
    "azi_2d"
   ]
  },
  {
   "cell_type": "code",
   "execution_count": 9,
   "id": "7c290217-fbb7-4ca6-990a-f62c590b56b0",
   "metadata": {
    "tags": []
   },
   "outputs": [],
   "source": [
    "resnames = [\n",
    "    'ALA', 'ARG', 'ASN', 'ASP', 'CYS', 'GLN', 'GLU', \n",
    "    'GLY', 'HSD', 'HSE', 'HSP', 'ILE', 'LEU', 'LYS', \n",
    "    'MET', 'PHE', 'PRO', 'SER', 'THR', 'TRP', 'TYR', 'VAL'\n",
    "]\n",
    "\n",
    "for resname in resnames:\n",
    "    residue = rtf.residue_definitions[resname].create_residue()\n",
    "    with open(f\"./ic_test_pdb/{resname}.pdb\", 'w') as f:\n",
    "        f.write(residue.get_pdb_str())\n",
    "        f.write('TER\\nEND')"
   ]
  },
  {
   "cell_type": "code",
   "execution_count": 9,
   "id": "102920d8-ca80-4f0b-a0b4-6adbd753e64a",
   "metadata": {},
   "outputs": [
    {
     "data": {
      "application/vnd.jupyter.widget-view+json": {
       "model_id": "5c42bfeda7b046db80fbc8fd1cccf16f",
       "version_major": 2,
       "version_minor": 0
      },
      "text/plain": [
       "NGLWidget()"
      ]
     },
     "metadata": {},
     "output_type": "display_data"
    },
    {
     "data": {
      "text/plain": [
       "<Residue THR het=  resseq=0 icode= >"
      ]
     },
     "execution_count": 9,
     "metadata": {},
     "output_type": "execute_result"
    }
   ],
   "source": [
    "rtf.residue_definitions['THR'].create_residue()"
   ]
  },
  {
   "cell_type": "code",
   "execution_count": 30,
   "id": "26291e23-218e-4807-bd87-5978b3a1ffa8",
   "metadata": {},
   "outputs": [
    {
     "data": {
      "text/plain": [
       "{'ALA': <Residue Definition name=ALA code=A atoms=10>,\n",
       " 'ARG': <Residue Definition name=ARG code=R atoms=24>,\n",
       " 'ASN': <Residue Definition name=ASN code=N atoms=14>,\n",
       " 'ASP': <Residue Definition name=ASP code=D atoms=12>,\n",
       " 'CYS': <Residue Definition name=CYS code=C atoms=11>,\n",
       " 'GLN': <Residue Definition name=GLN code=Q atoms=17>,\n",
       " 'GLU': <Residue Definition name=GLU code=E atoms=15>,\n",
       " 'GLY': <Residue Definition name=GLY code=G atoms=7>,\n",
       " 'HSD': <Residue Definition name=HSD code=H atoms=17>,\n",
       " 'HSE': <Residue Definition name=HSE code=H atoms=17>,\n",
       " 'HSP': <Residue Definition name=HSP code=H atoms=18>,\n",
       " 'ILE': <Residue Definition name=ILE code=I atoms=19>,\n",
       " 'LEU': <Residue Definition name=LEU code=L atoms=19>,\n",
       " 'LYS': <Residue Definition name=LYS code=K atoms=22>,\n",
       " 'MET': <Residue Definition name=MET code=M atoms=17>,\n",
       " 'PHE': <Residue Definition name=PHE code=F atoms=20>,\n",
       " 'PRO': <Residue Definition name=PRO code=P atoms=14>,\n",
       " 'SER': <Residue Definition name=SER code=S atoms=11>,\n",
       " 'THR': <Residue Definition name=THR code=T atoms=14>,\n",
       " 'TRP': <Residue Definition name=TRP code=W atoms=24>,\n",
       " 'TYR': <Residue Definition name=TYR code=Y atoms=21>,\n",
       " 'VAL': <Residue Definition name=VAL code=V atoms=16>,\n",
       " 'ALAD': <Residue Definition name=ALAD  atoms=22>,\n",
       " 'NTER': <Patch Definition name=NTER  atoms=6>,\n",
       " 'GLYP': <Patch Definition name=GLYP  atoms=7>,\n",
       " 'PROP': <Patch Definition name=PROP  atoms=8>,\n",
       " 'ACE': <Patch Definition name=ACE  atoms=6>,\n",
       " 'ACED': <Patch Definition name=ACED  atoms=6>,\n",
       " 'ACP': <Patch Definition name=ACP  atoms=6>,\n",
       " 'ACPD': <Patch Definition name=ACPD  atoms=6>,\n",
       " 'NNEU': <Patch Definition name=NNEU  atoms=5>,\n",
       " 'NGNE': <Patch Definition name=NGNE  atoms=6>,\n",
       " 'CTER': <Patch Definition name=CTER  atoms=3>,\n",
       " 'CNEU': <Patch Definition name=CNEU  atoms=4>,\n",
       " 'PCTE': <Patch Definition name=PCTE  atoms=4>,\n",
       " 'CT1': <Patch Definition name=CT1  atoms=11>,\n",
       " 'CT2': <Patch Definition name=CT2  atoms=5>,\n",
       " 'CT3': <Patch Definition name=CT3  atoms=8>,\n",
       " 'ASPP': <Patch Definition name=ASPP  atoms=7>,\n",
       " 'GLUP': <Patch Definition name=GLUP  atoms=7>,\n",
       " 'LSN': <Patch Definition name=LSN  atoms=6>,\n",
       " 'CYM': <Residue Definition name=CYM code=C atoms=10>,\n",
       " 'CYSD': <Patch Definition name=CYSD  atoms=4>,\n",
       " 'SERD': <Patch Definition name=SERD  atoms=4>,\n",
       " 'DISU': <Patch Definition name=DISU  atoms=4>,\n",
       " 'HS2': <Patch Definition name=HS2  atoms=11>,\n",
       " 'LIG1': <Patch Definition name=LIG1  atoms=0>,\n",
       " 'LINK': <Patch Definition name=LINK  atoms=0>,\n",
       " 'HIS': <Residue Definition name=HSD code=H atoms=17>}"
      ]
     },
     "execution_count": 30,
     "metadata": {},
     "output_type": "execute_result"
    }
   ],
   "source": [
    "rtf.residue_definitions"
   ]
  },
  {
   "cell_type": "code",
   "execution_count": null,
   "id": "42cc7411-eeb0-4c59-b986-28ca934e6254",
   "metadata": {},
   "outputs": [],
   "source": []
  }
 ],
 "metadata": {
  "kernelspec": {
   "display_name": "pcm-devel",
   "language": "python",
   "name": "pcm-devel"
  },
  "language_info": {
   "codemirror_mode": {
    "name": "ipython",
    "version": 3
   },
   "file_extension": ".py",
   "mimetype": "text/x-python",
   "name": "python",
   "nbconvert_exporter": "python",
   "pygments_lexer": "ipython3",
   "version": "3.10.6"
  }
 },
 "nbformat": 4,
 "nbformat_minor": 5
}

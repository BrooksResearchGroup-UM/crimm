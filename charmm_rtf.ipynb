{
 "cells": [
  {
   "cell_type": "code",
   "execution_count": 49,
   "id": "740006c8-c4c3-478c-b9c5-858d1eb9fa9d",
   "metadata": {},
   "outputs": [],
   "source": [
    "import os\n",
    "from itertools import combinations, permutations\n",
    "import numpy as np\n",
    "from Bond import Bond\n",
    "from types import MappingProxyType\n",
    "from collections import namedtuple, OrderedDict\n",
    "from Residue import Residue as Res\n",
    "from ChMMCIFParser import ChMMCIFParser as ChmParser\n",
    "from TopoDefinitions import ResidueDefinition\n",
    "from Atom import Atom\n",
    "from Residue import Residue\n",
    "from RTFParser import RTFParser\n",
    "\n",
    "from scipy.spatial.transform import Rotation as R\n",
    "import numpy.linalg as LA\n",
    "\n",
    "from matplotlib import pyplot as plt"
   ]
  },
  {
   "cell_type": "code",
   "execution_count": 1044,
   "id": "61f5a852-ddfd-4c8a-9a97-ae04a3ac4eb7",
   "metadata": {},
   "outputs": [],
   "source": [
    "import importlib\n",
    "import Residue\n",
    "import ChMMCIFParser\n",
    "importlib.reload(Residue)\n",
    "importlib.reload(ChMMCIFParser)\n",
    "from Residue import Residue as Res\n",
    "from ChMMCIFParser import ChMMCIFParser as ChmParser"
   ]
  },
  {
   "cell_type": "code",
   "execution_count": 2,
   "id": "44b8e42c-b5ca-4519-9f93-ee6847dd1c19",
   "metadata": {},
   "outputs": [],
   "source": [
    "def find_local_cif_path(pdb_id):\n",
    "    pdb_id = pdb_id.lower()\n",
    "    entry_point = '/mnt/backup/PDB/'\n",
    "    subdir = pdb_id[1:3]\n",
    "    file_path = os.path.join(entry_point, subdir, pdb_id+'.cif')\n",
    "    if os.path.exists(file_path):\n",
    "        return file_path "
   ]
  },
  {
   "cell_type": "code",
   "execution_count": 4,
   "id": "5352a1e7-dac7-4168-a810-555c535da772",
   "metadata": {
    "collapsed": true,
    "jupyter": {
     "outputs_hidden": true
    },
    "tags": []
   },
   "outputs": [
    {
     "data": {
      "text/plain": [
       "{'ALA': <Residue Definition name=ALA atoms=10>,\n",
       " 'ARG': <Residue Definition name=ARG atoms=24>,\n",
       " 'ASN': <Residue Definition name=ASN atoms=14>,\n",
       " 'ASP': <Residue Definition name=ASP atoms=12>,\n",
       " 'CYS': <Residue Definition name=CYS atoms=11>,\n",
       " 'GLN': <Residue Definition name=GLN atoms=17>,\n",
       " 'GLU': <Residue Definition name=GLU atoms=15>,\n",
       " 'GLY': <Residue Definition name=GLY atoms=7>,\n",
       " 'HSD': <Residue Definition name=HSD atoms=17>,\n",
       " 'HSE': <Residue Definition name=HSE atoms=17>,\n",
       " 'HSP': <Residue Definition name=HSP atoms=18>,\n",
       " 'ILE': <Residue Definition name=ILE atoms=19>,\n",
       " 'LEU': <Residue Definition name=LEU atoms=19>,\n",
       " 'LYS': <Residue Definition name=LYS atoms=22>,\n",
       " 'MET': <Residue Definition name=MET atoms=17>,\n",
       " 'PHE': <Residue Definition name=PHE atoms=20>,\n",
       " 'PRO': <Residue Definition name=PRO atoms=14>,\n",
       " 'SER': <Residue Definition name=SER atoms=11>,\n",
       " 'THR': <Residue Definition name=THR atoms=14>,\n",
       " 'TRP': <Residue Definition name=TRP atoms=24>,\n",
       " 'TYR': <Residue Definition name=TYR atoms=21>,\n",
       " 'VAL': <Residue Definition name=VAL atoms=16>,\n",
       " 'ALAD': <Residue Definition name=ALAD atoms=22>,\n",
       " 'NTER': <Residue Definition name=NTER atoms=6>,\n",
       " 'GLYP': <Residue Definition name=GLYP atoms=7>,\n",
       " 'PROP': <Residue Definition name=PROP atoms=8>,\n",
       " 'ACE': <Residue Definition name=ACE atoms=6>,\n",
       " 'ACED': <Residue Definition name=ACED atoms=6>,\n",
       " 'ACP': <Residue Definition name=ACP atoms=6>,\n",
       " 'ACPD': <Residue Definition name=ACPD atoms=6>,\n",
       " 'NNEU': <Residue Definition name=NNEU atoms=5>,\n",
       " 'NGNE': <Residue Definition name=NGNE atoms=6>,\n",
       " 'CTER': <Residue Definition name=CTER atoms=3>,\n",
       " 'CNEU': <Residue Definition name=CNEU atoms=4>,\n",
       " 'PCTE': <Residue Definition name=PCTE atoms=4>,\n",
       " 'CT1': <Residue Definition name=CT1 atoms=11>,\n",
       " 'CT2': <Residue Definition name=CT2 atoms=5>,\n",
       " 'CT3': <Residue Definition name=CT3 atoms=8>,\n",
       " 'ASPP': <Residue Definition name=ASPP atoms=7>,\n",
       " 'GLUP': <Residue Definition name=GLUP atoms=7>,\n",
       " 'LSN': <Residue Definition name=LSN atoms=6>,\n",
       " 'CYM': <Residue Definition name=CYM atoms=10>,\n",
       " 'CYSD': <Residue Definition name=CYSD atoms=4>,\n",
       " 'SERD': <Residue Definition name=SERD atoms=4>,\n",
       " 'DISU': <Residue Definition name=DISU atoms=4>,\n",
       " 'HS2': <Residue Definition name=HS2 atoms=11>,\n",
       " 'LIG1': <Residue Definition name=LIG1 atoms=0>,\n",
       " 'LINK': <Residue Definition name=LINK atoms=0>,\n",
       " 'HIS': <Residue Definition name=HSE atoms=17>}"
      ]
     },
     "execution_count": 4,
     "metadata": {},
     "output_type": "execute_result"
    }
   ],
   "source": [
    "rtf = RTFParser('../allosteric-miner/dock_probes/toppar/top_all36_prot.rtf')\n",
    "rtf.residue_definitions"
   ]
  },
  {
   "cell_type": "code",
   "execution_count": 20,
   "id": "5059c70c-5894-45c9-96d4-4187aae15f56",
   "metadata": {},
   "outputs": [],
   "source": [
    "Parser = ChmParser(\n",
    "    include_solvent=False\n",
    ")\n",
    "pdb_id = '1CDL'\n",
    "file_path = find_local_cif_path(pdb_id)\n",
    "structure = Parser.get_structure(file_path)"
   ]
  },
  {
   "cell_type": "code",
   "execution_count": 21,
   "id": "73ae3a4d-cc65-4ffc-9f4b-12eb21114c22",
   "metadata": {},
   "outputs": [],
   "source": [
    "chainA = structure[1]['A']\n",
    "chainA.load_topo_definition(rtf.residue_definitions)"
   ]
  },
  {
   "cell_type": "code",
   "execution_count": 22,
   "id": "b5772422-f6f0-4acf-9390-206598c095ee",
   "metadata": {},
   "outputs": [],
   "source": [
    "histidines = []\n",
    "for res in chainA:\n",
    "    if res.resname == 'HIS':\n",
    "        histidines.append(res)"
   ]
  },
  {
   "cell_type": "code",
   "execution_count": 23,
   "id": "b49a1c88-aeee-4213-875f-7a73f7e6c79e",
   "metadata": {},
   "outputs": [
    {
     "data": {
      "text/plain": [
       "{'parent_def': <Residue Definition name=HSE atoms=17>,\n",
       " 'name': 'CA',\n",
       " 'atom_type': 'CT1',\n",
       " 'is_donor': False,\n",
       " 'is_acceptor': False,\n",
       " 'charge': 0.07,\n",
       " 'mass': 12.011,\n",
       " 'desc': 'aliphatic sp3 C for CH'}"
      ]
     },
     "execution_count": 23,
     "metadata": {},
     "output_type": "execute_result"
    }
   ],
   "source": [
    "histidines[0]['CA'].topo_definition.__dict__"
   ]
  },
  {
   "cell_type": "code",
   "execution_count": 12,
   "id": "a7060cc0-7e67-46fc-9a3d-69a4c9e75d1d",
   "metadata": {},
   "outputs": [],
   "source": [
    "res = structure[1]['A'][6]"
   ]
  },
  {
   "cell_type": "code",
   "execution_count": 13,
   "id": "e65b7559-1f6c-46fc-aafd-019c7cbfb5a3",
   "metadata": {},
   "outputs": [
    {
     "data": {
      "text/plain": [
       "<Residue GLU het=  resseq=6 icode= >"
      ]
     },
     "execution_count": 13,
     "metadata": {},
     "output_type": "execute_result"
    }
   ],
   "source": [
    "res"
   ]
  },
  {
   "cell_type": "code",
   "execution_count": 28,
   "id": "cc635c77-80f0-4fa4-87a7-2e1218ea4a36",
   "metadata": {},
   "outputs": [
    {
     "data": {
      "text/plain": [
       "[Bond(<Atom CB>, <Atom CA>, type=single, order=1, length=1.538493),\n",
       " Bond(<Atom OG1>, <Atom CB>, type=single, order=1, length=1.430227),\n",
       " Bond(<Atom CG2>, <Atom CB>, type=single, order=1, length=1.520044),\n",
       " Bond(<Atom N>, <Atom CA>, type=single, order=1, length=1.447242),\n",
       " Bond(<Atom C>, <Atom CA>, type=single, order=1, length=1.532867),\n",
       " Bond(<Atom O>, <Atom C>, type=double, order=2, length=1.258037)]"
      ]
     },
     "execution_count": 28,
     "metadata": {},
     "output_type": "execute_result"
    }
   ],
   "source": [
    "res.bonds"
   ]
  },
  {
   "cell_type": "code",
   "execution_count": 17,
   "id": "15fbef78-a808-4f45-8ff5-09e0ed44cf39",
   "metadata": {},
   "outputs": [],
   "source": [
    "missing_atoms, missing_hydrogens = sep_by_priorities(res.missing_atoms)\n",
    "\n",
    "thr_ic = chainA.topo_definitions['THR'].ic"
   ]
  },
  {
   "cell_type": "code",
   "execution_count": 16,
   "id": "e43310eb-78de-4c16-b97d-d4af4698f0d9",
   "metadata": {},
   "outputs": [],
   "source": [
    "def sep_by_priorities(atom_list):\n",
    "    # we create a 2-tier priotity list to separate\n",
    "    # heavy atoms and hydrogen atoms\n",
    "    missing_atoms, missing_hydrogens = [],[]\n",
    "    for atom in atom_list:\n",
    "        if atom.startswith('H'):\n",
    "            missing_hydrogens.append(atom)\n",
    "        else:\n",
    "            missing_atoms.append(atom)\n",
    "    return missing_atoms, missing_hydrogens"
   ]
  },
  {
   "cell_type": "code",
   "execution_count": 18,
   "id": "1cf02ad5-9510-45e4-b5ea-81bbe861e86f",
   "metadata": {},
   "outputs": [],
   "source": [
    "def reassign_ic_keys(keys, ic_dict_values):\n",
    "    cur_dict = {\n",
    "        k:v for k,v in zip(keys,ic_dict_values)\n",
    "    }\n",
    "    return cur_dict\n",
    "        \n",
    "def organize_ic_dict(ic_dicts):\n",
    "    organized_ic = {\n",
    "        'improper':{}, 'chain':{}\n",
    "    }\n",
    "    for ic_dict in ic_dicts:\n",
    "        i,j,k,l = ic_dict['IJKL']\n",
    "\n",
    "        ic_dict_values = list(ic_dict.values())[-5:]\n",
    "        if k.startswith('*'):\n",
    "            k_star = k\n",
    "            k = k_star.lstrip('*')\n",
    "            keys = [(i,k),(i,k,j),(i,j,k_star,l),(j,k,l),(k,l)]\n",
    "            struct_type = 'improper'\n",
    "        else:\n",
    "            keys = [(i,j),(i,j,k),(i,j,k,l),(j,k,l),(k,l)]\n",
    "            struct_type = 'chain'\n",
    "        \n",
    "        reassigned = reassign_ic_keys(keys, ic_dict_values)\n",
    "        organized_ic[struct_type].update(reassigned)\n",
    "\n",
    "    return organized_ic"
   ]
  },
  {
   "cell_type": "code",
   "execution_count": 1217,
   "id": "76f419c6-b667-4824-8a41-0b9cc55ccb5f",
   "metadata": {},
   "outputs": [],
   "source": [
    "def create_atom_lookup_dict(res_ic_dicts: dict):\n",
    "    atom_lookup_dict = {}\n",
    "    for (i, j, k, l), ic_dict in res_ic_dicts.items():\n",
    "        for atom_name in (i, l):\n",
    "            if atom_name not in atom_lookup_dict:\n",
    "                atom_lookup_dict[atom_name] = []\n",
    "            atom_lookup_dict[atom_name].append((i, j, k, l))\n",
    "\n",
    "    return atom_lookup_dict"
   ]
  },
  {
   "cell_type": "code",
   "execution_count": 37,
   "id": "c2e62b15-e215-4649-a3be-063ab1c2acab",
   "metadata": {},
   "outputs": [],
   "source": [
    "def recur_find_build_seq(\n",
    "    running_dict: OrderedDict, missing_atoms, build_seq, exclude_list\n",
    "):\n",
    "    \n",
    "    if len(missing_atoms) == 0:\n",
    "        return build_seq\n",
    "    \n",
    "    atom_name, ic_list = running_dict.popitem(last=False)\n",
    "    for ic_keys in ic_list:\n",
    "        cur_ic_set = set(ic_keys)\n",
    "        if (len(cur_ic_set.intersection(missing_atoms)) > 1) or (\n",
    "            cur_ic_set.intersection(exclude_list)\n",
    "        ):\n",
    "            continue\n",
    "\n",
    "        missing_atoms.remove(atom_name)\n",
    "        build_seq.append((atom_name, ic_keys))\n",
    "        return recur_find_build_seq(\n",
    "            running_dict, missing_atoms, build_seq, exclude_list\n",
    "        )\n",
    "        \n",
    "    running_dict[atom_name] = ic_list\n",
    "    return recur_find_build_seq(\n",
    "        running_dict, missing_atoms, build_seq, exclude_list\n",
    "    )\n",
    "\n",
    "def find_build_seq(topo_def, missing_atoms):\n",
    "    lookup_dict = topo_def.atom_lookup_dict\n",
    "    missing_heavy, missing_hydrogen = sep_by_priorities(missing_atoms)\n",
    "    running_dict = OrderedDict({k: lookup_dict[k] for k in missing_atoms})\n",
    "    \n",
    "    heavy_build_seq = recur_find_build_seq(\n",
    "        running_dict, missing_heavy, build_seq = [], exclude_list = missing_hydrogen\n",
    "    )\n",
    "    \n",
    "    hydrogen_build_seq = recur_find_build_seq(\n",
    "        running_dict, missing_hydrogen, build_seq = [], exclude_list = []\n",
    "    )\n",
    "\n",
    "    return heavy_build_seq, hydrogen_build_seq"
   ]
  },
  {
   "cell_type": "code",
   "execution_count": 38,
   "id": "b35aced7-fdcb-48e0-ba67-4d6f184d2a09",
   "metadata": {},
   "outputs": [],
   "source": [
    "def get_coord_from_chain_ic(i_coord, j_coord, k_coord, phi, t_jkl, r_kl):\n",
    "    origin = j_coord\n",
    "    a1 = i_coord - origin\n",
    "    a2 = k_coord - origin\n",
    "    r1 = R.from_rotvec(phi * a2/LA.norm(a2), degrees=True)\n",
    "    n1 = np.cross(a1, a2)\n",
    "    n2 = r1.apply(n1)\n",
    "    m = np.cross(a2, n2)\n",
    "    r2 = R.from_rotvec((t_jkl-90) * n2/LA.norm(n2), degrees=True)\n",
    "    a3 = r2.apply(m)\n",
    "    a3 = a3/LA.norm(a3)*r_kl\n",
    "\n",
    "    l_coord = origin+a2+a3\n",
    "    return l_coord\n",
    "\n",
    "\n",
    "def get_coord_from_improper_ic(i_coord, j_coord, k_coord, phi, t_jkl, r_kl):\n",
    "    origin = k_coord\n",
    "    a1 = i_coord - origin\n",
    "    a2 = j_coord - origin\n",
    "    r1 = R.from_rotvec(phi * a2/LA.norm(a2), degrees=True)\n",
    "    n1 = np.cross(a2, a1)\n",
    "    n2 = r1.apply(n1)\n",
    "    m = np.cross(n2, a2)\n",
    "    r2 = R.from_rotvec((t_jkl-90) * n2/LA.norm(n2), degrees=True)\n",
    "    a3 = r2.apply(m)\n",
    "    a3 = a3/LA.norm(a3)*r_kl\n",
    "    \n",
    "    l_coord = origin+a3\n",
    "    return l_coord"
   ]
  },
  {
   "cell_type": "code",
   "execution_count": 54,
   "id": "44c6ec3e-2a55-4ae7-9fe8-0d3aa5b91686",
   "metadata": {},
   "outputs": [],
   "source": [
    "def find_coords_by_ic(build_sequence, ic_dicts, coord_dict):\n",
    "    computed_coords = []\n",
    "    for atom_name, ic_key in build_sequence:\n",
    "        i, j, k, l = ic_key\n",
    "        ic_param_dict = ic_dicts[ic_key]\n",
    "        is_improper = ic_param_dict['improper']\n",
    "        phi = ic_param_dict['Phi']\n",
    "        if atom_name == i:\n",
    "            # the atom is i\n",
    "            a1, a2, a3 = coord_dict[l], coord_dict[k], coord_dict[j]\n",
    "            if is_improper:\n",
    "                bond_len = ic_param_dict['R(I-K)']\n",
    "                bond_angle = ic_param_dict['T(I-K-J)']\n",
    "                coord = get_coord_from_improper_ic(a1, a2, a3, phi, bond_angle, bond_len)\n",
    "            else:\n",
    "                bond_len = ic_param_dict['R(I-J)']\n",
    "                bond_angle = ic_param_dict['T(I-J-K)']\n",
    "                coord = get_coord_from_chain_ic(a1, a2, a3, phi, bond_angle, bond_len)\n",
    "        else:\n",
    "            # the atom is l\n",
    "            a1, a2, a3 = coord_dict[i], coord_dict[j], coord_dict[k]\n",
    "            bond_len = ic_param_dict['R(K-L)']\n",
    "            bond_angle = ic_param_dict['T(J-K-L)']\n",
    "            if is_improper:\n",
    "                coord = get_coord_from_improper_ic(a1, a2, a3, phi, bond_angle, bond_len)\n",
    "            else:\n",
    "                coord = get_coord_from_chain_ic(a1, a2, a3, phi, bond_angle, bond_len)\n",
    "        computed_coords.append(atom_name)\n",
    "        coord_dict[atom_name] = coord\n",
    "        \n",
    "    return computed_coords\n",
    "\n",
    "def ab_initio_ic_build(topo_def):\n",
    "    ic_dicts = topo_def.ic\n",
    "    lookup_dict = topo_def.atom_lookup_dict\n",
    "    all_atoms = [k for k in lookup_dict.keys() if k not in ('-C','CA','N')]\n",
    "    all_heavy, all_hydrogen = sep_by_priorities(all_atoms)\n",
    "    running_dict = OrderedDict({k: lookup_dict[k] for k in all_atoms})\n",
    "\n",
    "    heavy_seq, hydrogen_seq = find_build_seq(topo_def, all_atoms)\n",
    "\n",
    "    base_ic1 = ic_dicts[('-C', 'N', 'CA', 'C')]\n",
    "    base_ic2 = ic_dicts[('N', 'CA', 'C', '+N')]\n",
    "    r_CN = base_ic1['R(I-J)']\n",
    "    t_CNCA = np.deg2rad(base_ic1['T(I-J-K)'])\n",
    "    r_NCA = base_ic2['R(I-J)']\n",
    "\n",
    "    x_N = np.cos(t_CNCA)*r_NCA\n",
    "    y_N = np.sin(t_CNCA)*r_NCA\n",
    "\n",
    "    coord_dict = {\n",
    "        '-C': np.array([r_CN,0,0], dtype=float),\n",
    "        'N': np.array([0, 0, 0], dtype=float),\n",
    "        'CA':np.array([x_N, y_N, 0])\n",
    "    }\n",
    "    computed_heavy_coords = find_coords_by_ic(heavy_seq, ic_dicts, coord_dict)\n",
    "    computed_hydrogen_coords = find_coords_by_ic(hydrogen_seq, ic_dicts, coord_dict)\n",
    "    return coord_dict"
   ]
  },
  {
   "cell_type": "code",
   "execution_count": 42,
   "id": "92102693-a516-4b35-9318-ab47bb72e7dd",
   "metadata": {
    "collapsed": true,
    "jupyter": {
     "outputs_hidden": true
    },
    "tags": []
   },
   "outputs": [
    {
     "name": "stdout",
     "output_type": "stream",
     "text": [
      "ALA\n",
      "C ('-C', 'N', 'CA', 'C')\n",
      "+N ('N', 'CA', 'C', '+N')\n",
      "O ('+N', 'CA', 'C', 'O')\n",
      "+CA ('CA', 'C', '+N', '+CA')\n",
      "CB ('N', 'C', 'CA', 'CB')\n",
      "HA ('N', 'C', 'CA', 'HA')\n",
      "HB1 ('C', 'CA', 'CB', 'HB1')\n",
      "HB2 ('HB1', 'CA', 'CB', 'HB2')\n",
      "HB3 ('HB1', 'CA', 'CB', 'HB3')\n",
      "HN ('-C', 'CA', 'N', 'HN')\n",
      "\n",
      "\n",
      "ARG\n",
      "C ('-C', 'N', 'CA', 'C')\n",
      "+N ('N', 'CA', 'C', '+N')\n",
      "O ('+N', 'CA', 'C', 'O')\n",
      "+CA ('CA', 'C', '+N', '+CA')\n",
      "CB ('N', 'C', 'CA', 'CB')\n",
      "CG ('N', 'CA', 'CB', 'CG')\n",
      "CD ('CA', 'CB', 'CG', 'CD')\n",
      "NE ('CB', 'CG', 'CD', 'NE')\n",
      "CZ ('CG', 'CD', 'NE', 'CZ')\n",
      "NH1 ('CD', 'NE', 'CZ', 'NH1')\n",
      "NH2 ('NH1', 'NE', 'CZ', 'NH2')\n",
      "HH21 ('NE', 'CZ', 'NH2', 'HH21')\n",
      "HH22 ('HH21', 'CZ', 'NH2', 'HH22')\n",
      "HN ('-C', 'CA', 'N', 'HN')\n",
      "HA ('N', 'C', 'CA', 'HA')\n",
      "HB1 ('CG', 'CA', 'CB', 'HB1')\n",
      "HB2 ('CG', 'CA', 'CB', 'HB2')\n",
      "HG1 ('CD', 'CB', 'CG', 'HG1')\n",
      "HG2 ('CD', 'CB', 'CG', 'HG2')\n",
      "HD1 ('NE', 'CG', 'CD', 'HD1')\n",
      "HD2 ('NE', 'CG', 'CD', 'HD2')\n",
      "HE ('CZ', 'CD', 'NE', 'HE')\n",
      "HH11 ('NE', 'CZ', 'NH1', 'HH11')\n",
      "HH12 ('HH11', 'CZ', 'NH1', 'HH12')\n",
      "\n",
      "\n",
      "ASN\n",
      "C ('-C', 'N', 'CA', 'C')\n",
      "+N ('N', 'CA', 'C', '+N')\n",
      "O ('+N', 'CA', 'C', 'O')\n",
      "+CA ('CA', 'C', '+N', '+CA')\n",
      "CB ('N', 'C', 'CA', 'CB')\n",
      "CG ('N', 'CA', 'CB', 'CG')\n",
      "OD1 ('CA', 'CB', 'CG', 'OD1')\n",
      "ND2 ('OD1', 'CB', 'CG', 'ND2')\n",
      "HD21 ('CB', 'CG', 'ND2', 'HD21')\n",
      "HD22 ('HD21', 'CG', 'ND2', 'HD22')\n",
      "HN ('-C', 'CA', 'N', 'HN')\n",
      "HA ('N', 'C', 'CA', 'HA')\n",
      "HB1 ('CG', 'CA', 'CB', 'HB1')\n",
      "HB2 ('CG', 'CA', 'CB', 'HB2')\n",
      "\n",
      "\n",
      "ASP\n",
      "C ('-C', 'N', 'CA', 'C')\n",
      "+N ('N', 'CA', 'C', '+N')\n",
      "O ('+N', 'CA', 'C', 'O')\n",
      "+CA ('CA', 'C', '+N', '+CA')\n",
      "CB ('N', 'C', 'CA', 'CB')\n",
      "CG ('N', 'CA', 'CB', 'CG')\n",
      "OD1 ('CA', 'CB', 'CG', 'OD1')\n",
      "OD2 ('OD1', 'CB', 'CG', 'OD2')\n",
      "HN ('-C', 'CA', 'N', 'HN')\n",
      "HA ('N', 'C', 'CA', 'HA')\n",
      "HB1 ('CG', 'CA', 'CB', 'HB1')\n",
      "HB2 ('CG', 'CA', 'CB', 'HB2')\n",
      "\n",
      "\n",
      "CYS\n",
      "C ('-C', 'N', 'CA', 'C')\n",
      "+N ('N', 'CA', 'C', '+N')\n",
      "O ('+N', 'CA', 'C', 'O')\n",
      "+CA ('CA', 'C', '+N', '+CA')\n",
      "CB ('N', 'C', 'CA', 'CB')\n",
      "SG ('N', 'CA', 'CB', 'SG')\n",
      "HB1 ('SG', 'CA', 'CB', 'HB1')\n",
      "HB2 ('SG', 'CA', 'CB', 'HB2')\n",
      "HG1 ('CA', 'CB', 'SG', 'HG1')\n",
      "HN ('-C', 'CA', 'N', 'HN')\n",
      "HA ('N', 'C', 'CA', 'HA')\n",
      "\n",
      "\n",
      "GLN\n",
      "C ('-C', 'N', 'CA', 'C')\n",
      "+N ('N', 'CA', 'C', '+N')\n",
      "O ('+N', 'CA', 'C', 'O')\n",
      "+CA ('CA', 'C', '+N', '+CA')\n",
      "CB ('N', 'C', 'CA', 'CB')\n",
      "CG ('N', 'CA', 'CB', 'CG')\n",
      "CD ('CA', 'CB', 'CG', 'CD')\n",
      "OE1 ('CB', 'CG', 'CD', 'OE1')\n",
      "NE2 ('OE1', 'CG', 'CD', 'NE2')\n",
      "HE21 ('CG', 'CD', 'NE2', 'HE21')\n",
      "HE22 ('HE21', 'CD', 'NE2', 'HE22')\n",
      "HN ('-C', 'CA', 'N', 'HN')\n",
      "HA ('N', 'C', 'CA', 'HA')\n",
      "HB1 ('CG', 'CA', 'CB', 'HB1')\n",
      "HB2 ('CG', 'CA', 'CB', 'HB2')\n",
      "HG1 ('CD', 'CB', 'CG', 'HG1')\n",
      "HG2 ('CD', 'CB', 'CG', 'HG2')\n",
      "\n",
      "\n",
      "GLU\n",
      "C ('-C', 'N', 'CA', 'C')\n",
      "+N ('N', 'CA', 'C', '+N')\n",
      "O ('+N', 'CA', 'C', 'O')\n",
      "+CA ('CA', 'C', '+N', '+CA')\n",
      "CB ('N', 'C', 'CA', 'CB')\n",
      "CG ('N', 'CA', 'CB', 'CG')\n",
      "CD ('CA', 'CB', 'CG', 'CD')\n",
      "OE1 ('CB', 'CG', 'CD', 'OE1')\n",
      "OE2 ('OE1', 'CG', 'CD', 'OE2')\n",
      "HN ('-C', 'CA', 'N', 'HN')\n",
      "HA ('N', 'C', 'CA', 'HA')\n",
      "HB1 ('CG', 'CA', 'CB', 'HB1')\n",
      "HB2 ('CG', 'CA', 'CB', 'HB2')\n",
      "HG1 ('CD', 'CB', 'CG', 'HG1')\n",
      "HG2 ('CD', 'CB', 'CG', 'HG2')\n",
      "\n",
      "\n",
      "GLY\n",
      "C ('-C', 'N', 'CA', 'C')\n",
      "+N ('N', 'CA', 'C', '+N')\n",
      "O ('+N', 'CA', 'C', 'O')\n",
      "+CA ('CA', 'C', '+N', '+CA')\n",
      "HA1 ('N', 'C', 'CA', 'HA1')\n",
      "HA2 ('N', 'C', 'CA', 'HA2')\n",
      "HN ('-C', 'CA', 'N', 'HN')\n",
      "\n",
      "\n",
      "HSD\n",
      "C ('-C', 'N', 'CA', 'C')\n",
      "+N ('N', 'CA', 'C', '+N')\n",
      "O ('+N', 'CA', 'C', 'O')\n",
      "+CA ('CA', 'C', '+N', '+CA')\n",
      "CB ('N', 'C', 'CA', 'CB')\n",
      "CG ('N', 'CA', 'CB', 'CG')\n",
      "ND1 ('CA', 'CB', 'CG', 'ND1')\n",
      "CD2 ('ND1', 'CB', 'CG', 'CD2')\n",
      "CE1 ('CB', 'CG', 'ND1', 'CE1')\n",
      "NE2 ('CB', 'CG', 'CD2', 'NE2')\n",
      "HE1 ('NE2', 'ND1', 'CE1', 'HE1')\n",
      "HD1 ('CE1', 'CG', 'ND1', 'HD1')\n",
      "HD2 ('NE2', 'CG', 'CD2', 'HD2')\n",
      "HN ('-C', 'CA', 'N', 'HN')\n",
      "HA ('N', 'C', 'CA', 'HA')\n",
      "HB1 ('CG', 'CA', 'CB', 'HB1')\n",
      "HB2 ('CG', 'CA', 'CB', 'HB2')\n",
      "\n",
      "\n",
      "HSE\n",
      "C ('-C', 'N', 'CA', 'C')\n",
      "+N ('N', 'CA', 'C', '+N')\n",
      "O ('+N', 'CA', 'C', 'O')\n",
      "+CA ('CA', 'C', '+N', '+CA')\n",
      "CB ('N', 'C', 'CA', 'CB')\n",
      "CG ('N', 'CA', 'CB', 'CG')\n",
      "ND1 ('CA', 'CB', 'CG', 'ND1')\n",
      "CD2 ('ND1', 'CB', 'CG', 'CD2')\n",
      "CE1 ('CB', 'CG', 'ND1', 'CE1')\n",
      "NE2 ('CB', 'CG', 'CD2', 'NE2')\n",
      "HE1 ('NE2', 'ND1', 'CE1', 'HE1')\n",
      "HE2 ('CE1', 'CD2', 'NE2', 'HE2')\n",
      "HD2 ('NE2', 'CG', 'CD2', 'HD2')\n",
      "HN ('-C', 'CA', 'N', 'HN')\n",
      "HA ('N', 'C', 'CA', 'HA')\n",
      "HB1 ('CG', 'CA', 'CB', 'HB1')\n",
      "HB2 ('CG', 'CA', 'CB', 'HB2')\n",
      "\n",
      "\n",
      "HSP\n",
      "C ('-C', 'N', 'CA', 'C')\n",
      "+N ('N', 'CA', 'C', '+N')\n",
      "O ('+N', 'CA', 'C', 'O')\n",
      "+CA ('CA', 'C', '+N', '+CA')\n",
      "CB ('N', 'C', 'CA', 'CB')\n",
      "CG ('N', 'CA', 'CB', 'CG')\n",
      "ND1 ('CA', 'CB', 'CG', 'ND1')\n",
      "CD2 ('ND1', 'CB', 'CG', 'CD2')\n",
      "CE1 ('CB', 'CG', 'ND1', 'CE1')\n",
      "NE2 ('CB', 'CG', 'CD2', 'NE2')\n",
      "HE1 ('NE2', 'ND1', 'CE1', 'HE1')\n",
      "HE2 ('CE1', 'CD2', 'NE2', 'HE2')\n",
      "HD1 ('CE1', 'CG', 'ND1', 'HD1')\n",
      "HD2 ('NE2', 'CG', 'CD2', 'HD2')\n",
      "HN ('-C', 'CA', 'N', 'HN')\n",
      "HA ('N', 'C', 'CA', 'HA')\n",
      "HB1 ('CG', 'CA', 'CB', 'HB1')\n",
      "HB2 ('CG', 'CA', 'CB', 'HB2')\n",
      "\n",
      "\n",
      "ILE\n",
      "C ('-C', 'N', 'CA', 'C')\n",
      "+N ('N', 'CA', 'C', '+N')\n",
      "O ('+N', 'CA', 'C', 'O')\n",
      "+CA ('CA', 'C', '+N', '+CA')\n",
      "CB ('N', 'C', 'CA', 'CB')\n",
      "CG1 ('N', 'CA', 'CB', 'CG1')\n",
      "CG2 ('CG1', 'CA', 'CB', 'CG2')\n",
      "CD ('CA', 'CB', 'CG1', 'CD')\n",
      "HG11 ('CD', 'CB', 'CG1', 'HG11')\n",
      "HG12 ('CD', 'CB', 'CG1', 'HG12')\n",
      "HD1 ('CB', 'CG1', 'CD', 'HD1')\n",
      "HD2 ('HD1', 'CG1', 'CD', 'HD2')\n",
      "HD3 ('HD1', 'CG1', 'CD', 'HD3')\n",
      "HN ('-C', 'CA', 'N', 'HN')\n",
      "HA ('N', 'C', 'CA', 'HA')\n",
      "HB ('CG1', 'CA', 'CB', 'HB')\n",
      "HG21 ('CA', 'CB', 'CG2', 'HG21')\n",
      "HG22 ('HG21', 'CB', 'CG2', 'HG22')\n",
      "HG23 ('HG21', 'CB', 'CG2', 'HG23')\n",
      "\n",
      "\n",
      "LEU\n",
      "C ('-C', 'N', 'CA', 'C')\n",
      "+N ('N', 'CA', 'C', '+N')\n",
      "O ('+N', 'CA', 'C', 'O')\n",
      "+CA ('CA', 'C', '+N', '+CA')\n",
      "CB ('N', 'C', 'CA', 'CB')\n",
      "CG ('N', 'CA', 'CB', 'CG')\n",
      "CD1 ('CA', 'CB', 'CG', 'CD1')\n",
      "CD2 ('CD1', 'CB', 'CG', 'CD2')\n",
      "HG ('CD1', 'CD2', 'CG', 'HG')\n",
      "HD11 ('CB', 'CG', 'CD1', 'HD11')\n",
      "HD12 ('HD11', 'CG', 'CD1', 'HD12')\n",
      "HD13 ('HD11', 'CG', 'CD1', 'HD13')\n",
      "HD21 ('CB', 'CG', 'CD2', 'HD21')\n",
      "HD22 ('HD21', 'CG', 'CD2', 'HD22')\n",
      "HD23 ('HD21', 'CG', 'CD2', 'HD23')\n",
      "HN ('-C', 'CA', 'N', 'HN')\n",
      "HA ('N', 'C', 'CA', 'HA')\n",
      "HB1 ('CG', 'CA', 'CB', 'HB1')\n",
      "HB2 ('CG', 'CA', 'CB', 'HB2')\n",
      "\n",
      "\n",
      "LYS\n",
      "C ('-C', 'N', 'CA', 'C')\n",
      "+N ('N', 'CA', 'C', '+N')\n",
      "O ('+N', 'CA', 'C', 'O')\n",
      "+CA ('CA', 'C', '+N', '+CA')\n",
      "CB ('N', 'C', 'CA', 'CB')\n",
      "CG ('N', 'CA', 'CB', 'CG')\n",
      "CD ('CA', 'CB', 'CG', 'CD')\n",
      "CE ('CB', 'CG', 'CD', 'CE')\n",
      "NZ ('CG', 'CD', 'CE', 'NZ')\n",
      "HE1 ('NZ', 'CD', 'CE', 'HE1')\n",
      "HE2 ('NZ', 'CD', 'CE', 'HE2')\n",
      "HZ1 ('CD', 'CE', 'NZ', 'HZ1')\n",
      "HZ2 ('HZ1', 'CE', 'NZ', 'HZ2')\n",
      "HZ3 ('HZ1', 'CE', 'NZ', 'HZ3')\n",
      "HN ('-C', 'CA', 'N', 'HN')\n",
      "HA ('N', 'C', 'CA', 'HA')\n",
      "HB1 ('CG', 'CA', 'CB', 'HB1')\n",
      "HB2 ('CG', 'CA', 'CB', 'HB2')\n",
      "HG1 ('CD', 'CB', 'CG', 'HG1')\n",
      "HG2 ('CD', 'CB', 'CG', 'HG2')\n",
      "HD1 ('CE', 'CG', 'CD', 'HD1')\n",
      "HD2 ('CE', 'CG', 'CD', 'HD2')\n",
      "\n",
      "\n",
      "MET\n",
      "C ('-C', 'N', 'CA', 'C')\n",
      "+N ('N', 'CA', 'C', '+N')\n",
      "O ('+N', 'CA', 'C', 'O')\n",
      "+CA ('CA', 'C', '+N', '+CA')\n",
      "CB ('N', 'C', 'CA', 'CB')\n",
      "CG ('N', 'CA', 'CB', 'CG')\n",
      "SD ('CA', 'CB', 'CG', 'SD')\n",
      "CE ('CB', 'CG', 'SD', 'CE')\n",
      "HE1 ('CG', 'SD', 'CE', 'HE1')\n",
      "HE2 ('HE1', 'SD', 'CE', 'HE2')\n",
      "HE3 ('HE1', 'SD', 'CE', 'HE3')\n",
      "HN ('-C', 'CA', 'N', 'HN')\n",
      "HA ('N', 'C', 'CA', 'HA')\n",
      "HB1 ('CG', 'CA', 'CB', 'HB1')\n",
      "HB2 ('CG', 'CA', 'CB', 'HB2')\n",
      "HG1 ('SD', 'CB', 'CG', 'HG1')\n",
      "HG2 ('SD', 'CB', 'CG', 'HG2')\n",
      "\n",
      "\n",
      "PHE\n",
      "C ('-C', 'N', 'CA', 'C')\n",
      "+N ('N', 'CA', 'C', '+N')\n",
      "O ('+N', 'CA', 'C', 'O')\n",
      "+CA ('CA', 'C', '+N', '+CA')\n",
      "CB ('N', 'C', 'CA', 'CB')\n",
      "CG ('N', 'CA', 'CB', 'CG')\n",
      "CD1 ('CA', 'CB', 'CG', 'CD1')\n",
      "CD2 ('CD1', 'CB', 'CG', 'CD2')\n",
      "CE1 ('CB', 'CG', 'CD1', 'CE1')\n",
      "CE2 ('CB', 'CG', 'CD2', 'CE2')\n",
      "CZ ('CG', 'CD1', 'CE1', 'CZ')\n",
      "HE1 ('CZ', 'CD1', 'CE1', 'HE1')\n",
      "HE2 ('CZ', 'CD2', 'CE2', 'HE2')\n",
      "HZ ('CE1', 'CE2', 'CZ', 'HZ')\n",
      "HN ('-C', 'CA', 'N', 'HN')\n",
      "HA ('N', 'C', 'CA', 'HA')\n",
      "HB1 ('CG', 'CA', 'CB', 'HB1')\n",
      "HB2 ('CG', 'CA', 'CB', 'HB2')\n",
      "HD1 ('CE1', 'CG', 'CD1', 'HD1')\n",
      "HD2 ('CE2', 'CG', 'CD2', 'HD2')\n",
      "\n",
      "\n",
      "PRO\n",
      "CD ('-C', 'CA', 'N', 'CD')\n",
      "C ('-C', 'N', 'CA', 'C')\n",
      "+N ('N', 'CA', 'C', '+N')\n",
      "O ('+N', 'CA', 'C', 'O')\n",
      "+CA ('CA', 'C', '+N', '+CA')\n",
      "CB ('N', 'C', 'CA', 'CB')\n",
      "CG ('N', 'CA', 'CB', 'CG')\n",
      "HB1 ('CA', 'CG', 'CB', 'HB1')\n",
      "HB2 ('CA', 'CG', 'CB', 'HB2')\n",
      "HG1 ('CB', 'CD', 'CG', 'HG1')\n",
      "HG2 ('CB', 'CD', 'CG', 'HG2')\n",
      "HD1 ('N', 'CG', 'CD', 'HD1')\n",
      "HD2 ('N', 'CG', 'CD', 'HD2')\n",
      "HA ('N', 'C', 'CA', 'HA')\n",
      "\n",
      "\n",
      "SER\n",
      "C ('-C', 'N', 'CA', 'C')\n",
      "+N ('N', 'CA', 'C', '+N')\n",
      "O ('+N', 'CA', 'C', 'O')\n",
      "+CA ('CA', 'C', '+N', '+CA')\n",
      "CB ('N', 'C', 'CA', 'CB')\n",
      "OG ('N', 'CA', 'CB', 'OG')\n",
      "HB1 ('OG', 'CA', 'CB', 'HB1')\n",
      "HB2 ('OG', 'CA', 'CB', 'HB2')\n",
      "HG1 ('CA', 'CB', 'OG', 'HG1')\n",
      "HN ('-C', 'CA', 'N', 'HN')\n",
      "HA ('N', 'C', 'CA', 'HA')\n",
      "\n",
      "\n",
      "THR\n",
      "C ('-C', 'N', 'CA', 'C')\n",
      "+N ('N', 'CA', 'C', '+N')\n",
      "O ('+N', 'CA', 'C', 'O')\n",
      "+CA ('CA', 'C', '+N', '+CA')\n",
      "CB ('N', 'C', 'CA', 'CB')\n",
      "OG1 ('N', 'CA', 'CB', 'OG1')\n",
      "CG2 ('OG1', 'CA', 'CB', 'CG2')\n",
      "HG1 ('CA', 'CB', 'OG1', 'HG1')\n",
      "HG21 ('CA', 'CB', 'CG2', 'HG21')\n",
      "HG22 ('HG21', 'CB', 'CG2', 'HG22')\n",
      "HG23 ('HG21', 'CB', 'CG2', 'HG23')\n",
      "HN ('-C', 'CA', 'N', 'HN')\n",
      "HA ('N', 'C', 'CA', 'HA')\n",
      "HB ('OG1', 'CA', 'CB', 'HB')\n",
      "\n",
      "\n",
      "TRP\n",
      "C ('-C', 'N', 'CA', 'C')\n",
      "+N ('N', 'CA', 'C', '+N')\n",
      "O ('+N', 'CA', 'C', 'O')\n",
      "+CA ('CA', 'C', '+N', '+CA')\n",
      "CB ('N', 'C', 'CA', 'CB')\n",
      "CG ('N', 'CA', 'CB', 'CG')\n",
      "CD2 ('CA', 'CB', 'CG', 'CD2')\n",
      "CD1 ('CD2', 'CB', 'CG', 'CD1')\n",
      "CE2 ('CD1', 'CG', 'CD2', 'CE2')\n",
      "NE1 ('CG', 'CD2', 'CE2', 'NE1')\n",
      "CE3 ('CE2', 'CG', 'CD2', 'CE3')\n",
      "CZ3 ('CE2', 'CD2', 'CE3', 'CZ3')\n",
      "CH2 ('CD2', 'CE3', 'CZ3', 'CH2')\n",
      "CZ2 ('CE3', 'CZ3', 'CH2', 'CZ2')\n",
      "HE3 ('CZ3', 'CD2', 'CE3', 'HE3')\n",
      "HZ3 ('CH2', 'CE3', 'CZ3', 'HZ3')\n",
      "HH2 ('CZ2', 'CZ3', 'CH2', 'HH2')\n",
      "HZ2 ('CE2', 'CH2', 'CZ2', 'HZ2')\n",
      "HE1 ('CD1', 'CE2', 'NE1', 'HE1')\n",
      "HD1 ('CG', 'NE1', 'CD1', 'HD1')\n",
      "HN ('-C', 'CA', 'N', 'HN')\n",
      "HA ('N', 'C', 'CA', 'HA')\n",
      "HB1 ('CG', 'CA', 'CB', 'HB1')\n",
      "HB2 ('CG', 'CA', 'CB', 'HB2')\n",
      "\n",
      "\n",
      "TYR\n",
      "C ('-C', 'N', 'CA', 'C')\n",
      "+N ('N', 'CA', 'C', '+N')\n",
      "O ('+N', 'CA', 'C', 'O')\n",
      "+CA ('CA', 'C', '+N', '+CA')\n",
      "CB ('N', 'C', 'CA', 'CB')\n",
      "CG ('N', 'CA', 'CB', 'CG')\n",
      "CD1 ('CA', 'CB', 'CG', 'CD1')\n",
      "CD2 ('CD1', 'CB', 'CG', 'CD2')\n",
      "CE1 ('CB', 'CG', 'CD1', 'CE1')\n",
      "CE2 ('CB', 'CG', 'CD2', 'CE2')\n",
      "CZ ('CG', 'CD1', 'CE1', 'CZ')\n",
      "OH ('CE1', 'CE2', 'CZ', 'OH')\n",
      "HH ('CE1', 'CZ', 'OH', 'HH')\n",
      "HN ('-C', 'CA', 'N', 'HN')\n",
      "HA ('N', 'C', 'CA', 'HA')\n",
      "HB1 ('CG', 'CA', 'CB', 'HB1')\n",
      "HB2 ('CG', 'CA', 'CB', 'HB2')\n",
      "HD1 ('CE1', 'CG', 'CD1', 'HD1')\n",
      "HD2 ('CE2', 'CG', 'CD2', 'HD2')\n",
      "HE1 ('CZ', 'CD1', 'CE1', 'HE1')\n",
      "HE2 ('CZ', 'CD2', 'CE2', 'HE2')\n",
      "\n",
      "\n",
      "VAL\n",
      "C ('-C', 'N', 'CA', 'C')\n",
      "+N ('N', 'CA', 'C', '+N')\n",
      "O ('+N', 'CA', 'C', 'O')\n",
      "+CA ('CA', 'C', '+N', '+CA')\n",
      "CB ('N', 'C', 'CA', 'CB')\n",
      "CG1 ('N', 'CA', 'CB', 'CG1')\n",
      "CG2 ('CG1', 'CA', 'CB', 'CG2')\n",
      "HB ('CG1', 'CA', 'CB', 'HB')\n",
      "HG11 ('CA', 'CB', 'CG1', 'HG11')\n",
      "HG12 ('HG11', 'CB', 'CG1', 'HG12')\n",
      "HG13 ('HG11', 'CB', 'CG1', 'HG13')\n",
      "HG21 ('CA', 'CB', 'CG2', 'HG21')\n",
      "HG22 ('HG21', 'CB', 'CG2', 'HG22')\n",
      "HG23 ('HG21', 'CB', 'CG2', 'HG23')\n",
      "HN ('-C', 'CA', 'N', 'HN')\n",
      "HA ('N', 'C', 'CA', 'HA')\n",
      "\n",
      "\n"
     ]
    }
   ],
   "source": [
    "resnames = [\n",
    "    'ALA', 'ARG', 'ASN', 'ASP', 'CYS', 'GLN', 'GLU', \n",
    "    'GLY', 'HSD', 'HSE', 'HSP', 'ILE', 'LEU', 'LYS', \n",
    "    'MET', 'PHE', 'PRO', 'SER', 'THR', 'TRP', 'TYR', 'VAL'\n",
    "]\n",
    "\n",
    "for resname in resnames:\n",
    "    print(resname)\n",
    "    cur_topo_def = chainA.topo_definitions[resname]\n",
    "    lookup_dict = cur_topo_def.atom_lookup_dict\n",
    "    all_atoms = [k for k in lookup_dict.keys() if k not in ('-C','CA','N')]\n",
    "    all_heavy, all_hydrogen = sep_by_priorities(all_atoms)\n",
    "    running_dict = OrderedDict({k: lookup_dict[k] for k in all_atoms})\n",
    "\n",
    "    build_seqs = find_build_seq(cur_topo_def, all_atoms)\n",
    "    for build_seq in build_seqs:\n",
    "        for atom_name, ic in build_seq:\n",
    "            print(atom_name, ic)\n",
    "    print('\\n')"
   ]
  },
  {
   "cell_type": "code",
   "execution_count": 66,
   "id": "969411aa-4348-4368-aa99-eb2bca290711",
   "metadata": {},
   "outputs": [],
   "source": [
    "def save_ic_coord_pdb(resname, coord_dict, path):\n",
    "    residue = Res((' ', 0, ' '), resname, segid = \" \")\n",
    "    for i, (atom_name, coord) in enumerate(coord_dict.items()):\n",
    "        if atom_name.startswith('-') or atom_name.startswith('+'):\n",
    "            continue\n",
    "        element = atom_name[0]\n",
    "        new_atom = Atom(\n",
    "            name = atom_name,\n",
    "            coord = coord,\n",
    "            bfactor = 0.0,\n",
    "            occupancy = 1.0,\n",
    "            altloc = ' ',\n",
    "            fullname = atom_name,\n",
    "            serial_number = i+1,\n",
    "            element = element\n",
    "        )\n",
    "        residue.add(new_atom)\n",
    "    \n",
    "    with open(f\"{path}/{resname}.pdb\", 'w') as f:\n",
    "        f.write(residue.get_pdb_str())\n",
    "        f.write('TER\\nEND')"
   ]
  },
  {
   "cell_type": "code",
   "execution_count": 67,
   "id": "00a9698e-b862-4e78-9ba6-de8e48058f47",
   "metadata": {},
   "outputs": [],
   "source": [
    "all_res_ic_coords = {}\n",
    "for resname in resnames:\n",
    "    topo_def = rtf.residue_definitions[resname]\n",
    "    coord_dict = ab_initio_ic_build(topo_def)\n",
    "    all_res_ic_coords[resname] = coord_dict"
   ]
  },
  {
   "cell_type": "code",
   "execution_count": 68,
   "id": "37da9c65-a60c-4588-a4fd-471e7cb0033c",
   "metadata": {
    "tags": []
   },
   "outputs": [],
   "source": [
    "for resname, coord_dict in all_res_ic_coords.items():\n",
    "    save_ic_coord_pdb(resname, coord_dict, './ic_test_pdb')"
   ]
  },
  {
   "cell_type": "code",
   "execution_count": 1229,
   "id": "bd90831f-b10a-4de8-bae5-924f7c5a08b8",
   "metadata": {},
   "outputs": [
    {
     "data": {
      "text/plain": [
       "['C', '+N', 'O', '+CA', 'CB', 'CG', 'CD1', 'CD2', 'CE1', 'CE2', 'CZ']"
      ]
     },
     "execution_count": 1229,
     "metadata": {},
     "output_type": "execute_result"
    }
   ],
   "source": [
    "computed_heavy_coords"
   ]
  },
  {
   "cell_type": "code",
   "execution_count": 1230,
   "id": "95ffc034-6d3f-4c88-911e-bbc269df55b6",
   "metadata": {},
   "outputs": [
    {
     "data": {
      "text/plain": [
       "['HE1', 'HE2', 'HZ', 'HN', 'HA', 'HB1', 'HB2', 'HD1', 'HD2']"
      ]
     },
     "execution_count": 1230,
     "metadata": {},
     "output_type": "execute_result"
    }
   ],
   "source": [
    "computed_hydrogen_coords"
   ]
  },
  {
   "cell_type": "code",
   "execution_count": 1154,
   "id": "bbdf411a-1762-42b3-ab34-d1f158a7520d",
   "metadata": {},
   "outputs": [
    {
     "data": {
      "text/plain": [
       "{'improper': False,\n",
       " 'R(I-J)': 1.4607,\n",
       " 'T(I-J-K)': 106.09,\n",
       " 'Phi': 180.0,\n",
       " 'T(J-K-L)': 117.69,\n",
       " 'R(K-L)': 1.3449}"
      ]
     },
     "execution_count": 1154,
     "metadata": {},
     "output_type": "execute_result"
    }
   ],
   "source": [
    "thr_ic[heavy_seq[1][1]]"
   ]
  },
  {
   "cell_type": "code",
   "execution_count": 1155,
   "id": "4a57ceaf-f551-48cc-aa89-37bf6547abe0",
   "metadata": {},
   "outputs": [],
   "source": [
    "neighbor_atoms = {\n",
    "    '-C': chainA[5]['C'].coord,\n",
    "    '+N': chainA[7]['N'].coord,\n",
    "    '+CA': chainA[7]['CA'].coord,\n",
    "}"
   ]
  },
  {
   "cell_type": "code",
   "execution_count": 1156,
   "id": "ec22c39a-97fe-4dde-ab5e-9ba13df83c53",
   "metadata": {},
   "outputs": [],
   "source": [
    "coord_dict = {atom.name:atom.coord for atom in res}"
   ]
  },
  {
   "cell_type": "code",
   "execution_count": 976,
   "id": "8b0d33fb-f5b1-46a7-822b-01dd8424d43c",
   "metadata": {},
   "outputs": [],
   "source": [
    "coord_dict.update(neighbor_atoms)"
   ]
  },
  {
   "cell_type": "code",
   "execution_count": 1187,
   "id": "14985ac0-594e-4e61-9799-b7d587356009",
   "metadata": {},
   "outputs": [
    {
     "data": {
      "text/plain": [
       "{'-C': array([1.3482, 0.    , 0.    ]),\n",
       " 'N': array([0., 0., 0.]),\n",
       " 'CA': array([-0.80200645,  1.20848906,  0.        ]),\n",
       " 'C': array([-2.25981145e+00,  7.82749376e-01, -1.77582852e-16]),\n",
       " '+N': array([-3.18842856e+00,  1.75959895e+00,  4.72544476e-16]),\n",
       " 'O': array([-2.56741042e+00, -4.05791814e-01, -2.89454953e-16]),\n",
       " '+CA': array([-4.62068834e+00,  1.54196714e+00,  8.02873294e-16]),\n",
       " 'CB': array([-0.47447809,  2.10968089,  1.22646023]),\n",
       " 'CG': array([-1.27434363,  3.42613345,  1.32423562]),\n",
       " 'CD': array([-0.90561725,  4.27210885,  2.55673007]),\n",
       " 'CE': array([-1.71327804,  5.57524837,  2.63246945]),\n",
       " 'NZ': array([-1.33193365,  6.34424351,  3.81399012]),\n",
       " 'HE1': array([-2.80253559,  5.35586931,  2.69341757]),\n",
       " 'HE2': array([-1.53038986,  6.20130866,  1.73146351]),\n",
       " 'HZ1': array([-1.8821697 ,  7.2261444 ,  3.85784524]),\n",
       " 'HZ2': array([-0.31792316,  6.57157123,  3.76793724]),\n",
       " 'HZ3': array([-1.51694086,  5.78003039,  4.6679479 ]),\n",
       " 'HN': array([-5.19193562e-01, -8.53252299e-01, -1.10758055e-16]),\n",
       " 'HA': array([-0.62278581,  1.74783116, -0.92224127]),\n",
       " 'HB1': array([0.60956669, 2.36212735, 1.16771627]),\n",
       " 'HB2': array([-0.60690422,  1.51538757,  2.1582705 ]),\n",
       " 'HG1': array([-2.36147184,  3.18916612,  1.37472488]),\n",
       " 'HG2': array([-1.10694822,  4.02180454,  0.39751062]),\n",
       " 'HD1': array([0.18556773, 4.49351975, 2.51785378]),\n",
       " 'HD2': array([-1.08878625,  3.65627634,  3.46751687])}"
      ]
     },
     "execution_count": 1187,
     "metadata": {},
     "output_type": "execute_result"
    }
   ],
   "source": [
    "coord_dict"
   ]
  },
  {
   "cell_type": "code",
   "execution_count": 1030,
   "id": "cb52611c-cf0d-4f2c-858b-21f51c27efbb",
   "metadata": {},
   "outputs": [
    {
     "data": {
      "text/plain": [
       "{'parent_def': <Residue Definition name=GLU atoms=15>,\n",
       " 'name': 'CA',\n",
       " 'atom_type': 'CT1',\n",
       " 'is_donor': False,\n",
       " 'is_acceptor': False,\n",
       " 'charge': 0.07,\n",
       " 'mass': 12.011,\n",
       " 'desc': 'aliphatic sp3 C for CH'}"
      ]
     },
     "execution_count": 1030,
     "metadata": {},
     "output_type": "execute_result"
    }
   ],
   "source": [
    "topo_def['CA'].__dict__"
   ]
  },
  {
   "cell_type": "code",
   "execution_count": 1231,
   "id": "3245a8b6-6baa-4b76-8b0f-cb77baf09d9c",
   "metadata": {},
   "outputs": [],
   "source": [
    "atoms = []\n",
    "for i, (atom_name, coord) in enumerate(coord_dict.items()):\n",
    "    if atom_name.startswith('-') or atom_name.startswith('+'):\n",
    "        continue\n",
    "    element = atom_name[0]\n",
    "    new_atom = Atom(\n",
    "        name = atom_name,\n",
    "        coord = coord,\n",
    "        bfactor = 0.0,\n",
    "        occupancy = 1.0,\n",
    "        altloc = ' ',\n",
    "        fullname = atom_name,\n",
    "        serial_number = i+1,\n",
    "        element = element\n",
    "    )\n",
    "    atoms.append(new_atom)"
   ]
  },
  {
   "cell_type": "code",
   "execution_count": 1232,
   "id": "6c0b2e30-83e0-4db6-81f8-84014e64efc6",
   "metadata": {},
   "outputs": [
    {
     "data": {
      "text/plain": [
       "[<Atom N>,\n",
       " <Atom CA>,\n",
       " <Atom C>,\n",
       " <Atom O>,\n",
       " <Atom CB>,\n",
       " <Atom CG>,\n",
       " <Atom CD1>,\n",
       " <Atom CD2>,\n",
       " <Atom CE1>,\n",
       " <Atom CE2>,\n",
       " <Atom CZ>,\n",
       " <Atom HE1>,\n",
       " <Atom HE2>,\n",
       " <Atom HZ>,\n",
       " <Atom HN>,\n",
       " <Atom HA>,\n",
       " <Atom HB1>,\n",
       " <Atom HB2>,\n",
       " <Atom HD1>,\n",
       " <Atom HD2>]"
      ]
     },
     "execution_count": 1232,
     "metadata": {},
     "output_type": "execute_result"
    }
   ],
   "source": [
    "atoms"
   ]
  },
  {
   "cell_type": "code",
   "execution_count": 1233,
   "id": "38c79e1d-df9d-4b7b-a8df-79e32c9a87d1",
   "metadata": {},
   "outputs": [
    {
     "data": {
      "text/plain": [
       "'PHE'"
      ]
     },
     "execution_count": 1233,
     "metadata": {},
     "output_type": "execute_result"
    }
   ],
   "source": [
    "topo_def.resname"
   ]
  },
  {
   "cell_type": "code",
   "execution_count": 1234,
   "id": "5e41c4d9-24a5-411f-96ba-9ec3a83b558f",
   "metadata": {},
   "outputs": [],
   "source": [
    "residue = Res((' ', 0, ' '), topo_def.resname, segid = \" \")\n",
    "\n",
    "for atom in atoms:\n",
    "    residue.add(atom)"
   ]
  },
  {
   "cell_type": "code",
   "execution_count": 1236,
   "id": "bbd621d8-7f87-4448-8d5e-feeae1fd33f7",
   "metadata": {},
   "outputs": [
    {
     "name": "stdout",
     "output_type": "stream",
     "text": [
      "ATOM      1  N   PHE X   0       0.000   0.000   0.000  1.00  0.00           N  \n",
      "ATOM      2  CA  PHE X   0      -0.809   1.204   0.000  1.00  0.00           C  \n",
      "ATOM      3  C   PHE X   0      -2.261   0.746  -0.000  1.00  0.00           C  \n",
      "ATOM      4  O   PHE X   0      -2.537  -0.452  -0.000  1.00  0.00           O  \n",
      "ATOM      5  CB  PHE X   0      -0.474   2.121   1.216  1.00  0.00           C  \n",
      "ATOM      6  CG  PHE X   0      -1.303   3.384   1.241  1.00  0.00           C  \n",
      "ATOM      7  CD1 PHE X   0      -2.537   3.410   1.913  1.00  0.00           C  \n",
      "ATOM      8  CD2 PHE X   0      -0.837   4.563   0.631  1.00  0.00           C  \n",
      "ATOM      9  CE1 PHE X   0      -3.336   4.560   1.895  1.00  0.00           C  \n",
      "ATOM     10  CE2 PHE X   0      -1.632   5.715   0.605  1.00  0.00           C  \n",
      "ATOM     11  CZ  PHE X   0      -2.905   5.699   1.203  1.00  0.00           C  \n",
      "ATOM     12  HE1 PHE X   0      -4.286   4.567   2.410  1.00  0.00           H  \n",
      "ATOM     13  HE2 PHE X   0      -1.264   6.612   0.127  1.00  0.00           H  \n",
      "ATOM     14  HZ  PHE X   0      -3.551   6.562   1.121  1.00  0.00           H  \n",
      "ATOM     15  HN  PHE X   0      -0.524  -0.850  -0.000  1.00  0.00           H  \n",
      "ATOM     16  HA  PHE X   0      -0.641   1.727  -0.934  1.00  0.00           H  \n",
      "ATOM     17  HB1 PHE X   0       0.589   2.440   1.149  1.00  0.00           H  \n",
      "ATOM     18  HB2 PHE X   0      -0.592   1.573   2.175  1.00  0.00           H  \n",
      "ATOM     19  HD1 PHE X   0      -2.870   2.535   2.454  1.00  0.00           H  \n",
      "ATOM     20  HD2 PHE X   0       0.152   4.591   0.195  1.00  0.00           H  \n",
      "\n"
     ]
    }
   ],
   "source": [
    "print(residue.get_pdb_str())"
   ]
  },
  {
   "cell_type": "code",
   "execution_count": 1049,
   "id": "9872c73e-a2df-4505-8929-1841adccc89e",
   "metadata": {},
   "outputs": [
    {
     "data": {
      "text/plain": [
       "1"
      ]
     },
     "execution_count": 1049,
     "metadata": {},
     "output_type": "execute_result"
    }
   ],
   "source": [
    "residue.id"
   ]
  },
  {
   "cell_type": "code",
   "execution_count": 1043,
   "id": "b1ca74f2-c0f8-470a-96e0-4687df05af7a",
   "metadata": {},
   "outputs": [],
   "source": [
    "residue.parent"
   ]
  },
  {
   "cell_type": "code",
   "execution_count": 1023,
   "id": "33d5928b-458f-47f3-bf1e-559949c36126",
   "metadata": {},
   "outputs": [],
   "source": [
    "x, y, z = np.vstack(list(coord_dict.values())).T"
   ]
  },
  {
   "cell_type": "code",
   "execution_count": null,
   "id": "0bbed1a4-70ba-4461-b6c0-8dd52a72ae3d",
   "metadata": {},
   "outputs": [],
   "source": []
  },
  {
   "cell_type": "code",
   "execution_count": 1024,
   "id": "f871d902-6c6b-40de-957a-1cc61175fdcc",
   "metadata": {},
   "outputs": [
    {
     "data": {
      "application/vnd.jupyter.widget-view+json": {
       "model_id": "76a7d4623ff3408da47ef55b7efc4160",
       "version_major": 2,
       "version_minor": 0
      },
      "image/png": "[encoded data removed]",
      "text/html": [
       "\n",
       "            <div style=\"display: inline-block;\">\n",
       "                <div class=\"jupyter-widgets widget-label\" style=\"text-align: center;\">\n",
       "                    Figure\n",
       "                </div>\n",
       "                <img src='data:image/png;base64,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' width=640.0/>\n",
       "            </div>\n",
       "        "
      ],
      "text/plain": [
       "Canvas(toolbar=Toolbar(toolitems=[('Home', 'Reset original view', 'home', 'home'), ('Back', 'Back to previous …"
      ]
     },
     "metadata": {},
     "output_type": "display_data"
    }
   ],
   "source": [
    "\n",
    "%matplotlib widget\n",
    "fig, ax = plt.subplots(subplot_kw={\"projection\": \"3d\"})\n",
    "# ax.plot(*np.vstack([a1,np.zeros(3),a2, n1]).T)\n",
    "# ax.plot(*np.vstack([a1,np.zeros(3),a2, n2]).T)\n",
    "ax.scatter(x,y,z)\n",
    "ax.set_aspect('equal', 'box')\n",
    "plt.show()"
   ]
  },
  {
   "cell_type": "code",
   "execution_count": 980,
   "id": "ba781aff-f484-4650-a552-6436ff144ef4",
   "metadata": {},
   "outputs": [
    {
     "data": {
      "text/plain": [
       "['HN', 'HA', 'HB1', 'HB2', 'HG1', 'HG2']"
      ]
     },
     "execution_count": 980,
     "metadata": {},
     "output_type": "execute_result"
    }
   ],
   "source": [
    "res.missing_atoms"
   ]
  },
  {
   "cell_type": "code",
   "execution_count": 1015,
   "id": "0ca22b17-50be-4e82-82e1-421d0afd8c4f",
   "metadata": {},
   "outputs": [
    {
     "data": {
      "text/plain": [
       "[('HN', ('-C', 'CA', 'N', 'HN')),\n",
       " ('HA', ('N', 'C', 'CA', 'HA')),\n",
       " ('HB1', ('CG', 'CA', 'CB', 'HB1')),\n",
       " ('HB2', ('CG', 'CA', 'CB', 'HB2')),\n",
       " ('HG1', ('CD', 'CB', 'CG', 'HG1')),\n",
       " ('HG2', ('CD', 'CB', 'CG', 'HG2'))]"
      ]
     },
     "execution_count": 1015,
     "metadata": {},
     "output_type": "execute_result"
    }
   ],
   "source": [
    "hydrogen_seq"
   ]
  },
  {
   "cell_type": "code",
   "execution_count": 1017,
   "id": "128a926e-f7f3-471e-bc38-32d19cb57516",
   "metadata": {},
   "outputs": [
    {
     "data": {
      "text/plain": [
       "{'HN': array([ 1.75209154e+00, -9.10053329e-01,  5.60467207e-16]),\n",
       " 'HA': array([2.66897408, 1.21904804, 0.73964641]),\n",
       " 'HB1': array([ 2.06010874,  2.45869174, -0.87187482]),\n",
       " 'HB2': array([ 2.3628279 ,  1.37939871, -2.07275694]),\n",
       " 'HG1': array([ 4.87622447,  1.61062696, -1.69571516]),\n",
       " 'HG2': array([ 4.58791746,  2.73263479, -0.40125037])}"
      ]
     },
     "execution_count": 1017,
     "metadata": {},
     "output_type": "execute_result"
    }
   ],
   "source": [
    "find_coords_by_ic(hydrogen_seq, ic_dicts, coord_dict)"
   ]
  },
  {
   "cell_type": "code",
   "execution_count": 1016,
   "id": "91919d7e-e533-4dc3-8893-c80a77d650cb",
   "metadata": {},
   "outputs": [
    {
     "data": {
      "text/plain": [
       "[('C', ('-C', 'N', 'CA', 'C')),\n",
       " ('+N', ('N', 'CA', 'C', '+N')),\n",
       " ('O', ('+N', 'CA', 'C', 'O')),\n",
       " ('+CA', ('CA', 'C', '+N', '+CA')),\n",
       " ('CB', ('N', 'C', 'CA', 'CB')),\n",
       " ('CG', ('N', 'CA', 'CB', 'CG')),\n",
       " ('CD', ('CA', 'CB', 'CG', 'CD')),\n",
       " ('OE1', ('CB', 'CG', 'CD', 'OE1')),\n",
       " ('OE2', ('OE1', 'CG', 'CD', 'OE2'))]"
      ]
     },
     "execution_count": 1016,
     "metadata": {},
     "output_type": "execute_result"
    }
   ],
   "source": [
    "heavy_seq"
   ]
  },
  {
   "cell_type": "code",
   "execution_count": 607,
   "id": "a89bd1fb-27e8-4241-9b09-48cd94b6ca89",
   "metadata": {},
   "outputs": [],
   "source": [
    "all_ic_ids = []\n",
    "for atom_name in all_atoms:\n",
    "    all_ic_ids.extend(lookup_dict[atom_name])"
   ]
  },
  {
   "cell_type": "code",
   "execution_count": 545,
   "id": "50b25606-0fa3-4f17-a6bc-d69d80662966",
   "metadata": {},
   "outputs": [],
   "source": [
    "H_ic = []\n",
    "for atom_name in all_hydrogen:\n",
    "    H_ic.extend(lookup_dict[atom_name])"
   ]
  },
  {
   "cell_type": "code",
   "execution_count": 535,
   "id": "502e49a6-096d-4cdc-b36b-c08d69fbde2d",
   "metadata": {},
   "outputs": [],
   "source": [
    "heavy_ic = []\n",
    "for atom_name in all_heavy:\n",
    "    heavy_ic.extend(lookup_dict[atom_name])"
   ]
  },
  {
   "cell_type": "code",
   "execution_count": 609,
   "id": "a8a8e90a-4ebb-4a47-a7ce-a5234d5aa60e",
   "metadata": {},
   "outputs": [
    {
     "data": {
      "text/plain": [
       "[0, 1, 0, 2, 3, 3, 4, 5, 12, 13, 6, 7, 8, 9, 8, 9, 10, 11, 12, 13, 12, 13]"
      ]
     },
     "execution_count": 609,
     "metadata": {},
     "output_type": "execute_result"
    }
   ],
   "source": [
    "all_ic_ids"
   ]
  },
  {
   "cell_type": "code",
   "execution_count": 140,
   "id": "dfb08acb-7deb-4d54-be83-f9e2c3cfd985",
   "metadata": {},
   "outputs": [],
   "source": [
    "coords = np.empty((4,3))"
   ]
  },
  {
   "cell_type": "code",
   "execution_count": 142,
   "id": "206cd544-75da-49d5-94a0-4c41e4c7dd8a",
   "metadata": {},
   "outputs": [],
   "source": [
    "coords[0] = np.zeros(3)"
   ]
  },
  {
   "cell_type": "code",
   "execution_count": 143,
   "id": "2f9e5e0a-50ad-4931-8ab9-83ff2aff849d",
   "metadata": {},
   "outputs": [
    {
     "data": {
      "text/plain": [
       "array([[0.00000000e+000, 0.00000000e+000, 0.00000000e+000],\n",
       "       [0.00000000e+000, 1.03977794e-312, 1.09751558e-071],\n",
       "       [5.40030824e-062, 4.85197398e-033, 6.23749263e-042],\n",
       "       [8.67638422e-067, 4.04188538e-037, 8.60641666e-043]])"
      ]
     },
     "execution_count": 143,
     "metadata": {},
     "output_type": "execute_result"
    }
   ],
   "source": [
    "coords[1] = "
   ]
  },
  {
   "cell_type": "code",
   "execution_count": 153,
   "id": "ca3bd590-c93e-441d-b567-1c85294a8a98",
   "metadata": {},
   "outputs": [
    {
     "data": {
      "text/plain": [
       "0.4636476090008061"
      ]
     },
     "execution_count": 153,
     "metadata": {},
     "output_type": "execute_result"
    }
   ],
   "source": [
    "np.arctan2(1,2)"
   ]
  },
  {
   "cell_type": "code",
   "execution_count": 262,
   "id": "ed8680fd-0531-4ae5-b5dd-daa8779d76e7",
   "metadata": {},
   "outputs": [
    {
     "name": "stdout",
     "output_type": "stream",
     "text": [
      "N [ 87.515  33.367 -10.906]\n",
      "CA [ 87.998  34.689 -10.443]\n",
      "C [87.888 34.743 -8.926]\n",
      "O [87.341 33.822 -8.327]\n",
      "CB [ 87.137  35.787 -11.051]\n"
     ]
    }
   ],
   "source": [
    "for atom in res:\n",
    "    print(atom.name, atom.coord)"
   ]
  },
  {
   "cell_type": "code",
   "execution_count": 178,
   "id": "ce9421c8-a056-41b7-84a8-54ae6e0480df",
   "metadata": {},
   "outputs": [],
   "source": [
    "x, y, z = np.vstack([res['N'].coord, res['CA'].coord, res['CB'].coord]).T"
   ]
  },
  {
   "cell_type": "code",
   "execution_count": 192,
   "id": "d204503f-962d-450c-8b33-184278c44b5e",
   "metadata": {},
   "outputs": [],
   "source": []
  },
  {
   "cell_type": "code",
   "execution_count": 358,
   "id": "cdbad84d-11e8-478d-b56f-90ddf71c03ec",
   "metadata": {},
   "outputs": [],
   "source": [
    "CG2 = get_coord_from_improper_ic(OG1,res['CA'].coord,res['CB'].coord,thr_ic[9])"
   ]
  },
  {
   "cell_type": "code",
   "execution_count": 359,
   "id": "0686ea89-fd57-498b-8093-4365f7605c7e",
   "metadata": {},
   "outputs": [
    {
     "data": {
      "text/plain": [
       "array([ 87.00470614,  35.83937633, -12.57678007])"
      ]
     },
     "execution_count": 359,
     "metadata": {},
     "output_type": "execute_result"
    }
   ],
   "source": [
    "CG2"
   ]
  },
  {
   "cell_type": "code",
   "execution_count": 345,
   "id": "a8de7c29-7c93-495c-8e3d-2c3bce6d4dcf",
   "metadata": {},
   "outputs": [
    {
     "data": {
      "text/plain": [
       "{'I': 'OG1',\n",
       " 'J': 'CA',\n",
       " 'K': '*CB',\n",
       " 'L': 'CG2',\n",
       " 'R(I-K)': 1.4252,\n",
       " 'T(I-K-J)': 112.16,\n",
       " 'Phi': -124.13,\n",
       " 'T(J-K-L)': 115.91,\n",
       " 'R(K-L)': 1.5324}"
      ]
     },
     "execution_count": 345,
     "metadata": {},
     "output_type": "execute_result"
    }
   ],
   "source": [
    "thr_ic[9]"
   ]
  },
  {
   "cell_type": "code",
   "execution_count": 353,
   "id": "2c977d04-48e2-4e85-bcb5-cb1a02308995",
   "metadata": {},
   "outputs": [],
   "source": [
    "OG1 = get_coord_from_chain_ic(\n",
    "    res['N'].coord, res['CA'].coord, res['CB'].coord, thr_ic[7]\n",
    ")"
   ]
  },
  {
   "cell_type": "code",
   "execution_count": 341,
   "id": "dcbb3331-7bee-4151-86c5-09365d5c1d78",
   "metadata": {},
   "outputs": [],
   "source": [
    "HG1 = get_coord_from_chain_ic(\n",
    "    res['CA'].coord, res['CB'].coord, OG1, thr_ic[10]\n",
    ")"
   ]
  },
  {
   "cell_type": "code",
   "execution_count": 343,
   "id": "e117271c-3151-45e7-a871-f56b3b69834e",
   "metadata": {},
   "outputs": [
    {
     "data": {
      "application/vnd.jupyter.widget-view+json": {
       "model_id": "7b43b057a50643d298edf623f8d7c659",
       "version_major": 2,
       "version_minor": 0
      },
      "image/png": "[encoded data removed]",
      "text/html": [
       "\n",
       "            <div style=\"display: inline-block;\">\n",
       "                <div class=\"jupyter-widgets widget-label\" style=\"text-align: center;\">\n",
       "                    Figure\n",
       "                </div>\n",
       "                <img src='data:image/png;base64,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' width=640.0/>\n",
       "            </div>\n",
       "        "
      ],
      "text/plain": [
       "Canvas(toolbar=Toolbar(toolitems=[('Home', 'Reset original view', 'home', 'home'), ('Back', 'Back to previous …"
      ]
     },
     "metadata": {},
     "output_type": "display_data"
    }
   ],
   "source": [
    "x, y, z = np.vstack([res['N'].coord, res['CA'].coord, res['CB'].coord, result_coord, HG1]).T\n",
    "\n",
    "%matplotlib widget\n",
    "fig, ax = plt.subplots(subplot_kw={\"projection\": \"3d\"})\n",
    "# ax.plot(*np.vstack([a1,np.zeros(3),a2, n1]).T)\n",
    "# ax.plot(*np.vstack([a1,np.zeros(3),a2, n2]).T)\n",
    "ax.plot(x,y,z)\n",
    "ax.set_aspect('equal', 'box')\n",
    "plt.show()"
   ]
  },
  {
   "cell_type": "code",
   "execution_count": null,
   "id": "aab55e3a-26a7-45db-bf9c-2b4227ef7e3c",
   "metadata": {},
   "outputs": [],
   "source": []
  }
 ],
 "metadata": {
  "kernelspec": {
   "display_name": "pcm-devel",
   "language": "python",
   "name": "pcm-devel"
  },
  "language_info": {
   "codemirror_mode": {
    "name": "ipython",
    "version": 3
   },
   "file_extension": ".py",
   "mimetype": "text/x-python",
   "name": "python",
   "nbconvert_exporter": "python",
   "pygments_lexer": "ipython3",
   "version": "3.10.6"
  }
 },
 "nbformat": 4,
 "nbformat_minor": 5
}
